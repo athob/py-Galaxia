{
 "cells": [
  {
   "cell_type": "code",
   "execution_count": 1,
   "id": "f130bf6c",
   "metadata": {},
   "outputs": [],
   "source": [
    "import numpy as np\n",
    "import Galaxia_ananke"
   ]
  },
  {
   "cell_type": "code",
   "execution_count": 2,
   "id": "fa0e3b78",
   "metadata": {},
   "outputs": [],
   "source": [
    "np.random.seed(0)\n",
    "n_parts = 100000\n",
    "el_list = ['helium', 'carbon', 'nitrogen', 'oxygen', 'neon', 'magnesium', 'silicon', 'sulphur', 'calcium']\n",
    "\n",
    "p = {}\n",
    "p['pos3'] = 30*np.random.randn(n_parts, 3)  # position in kpc\n",
    "p['vel3'] = 50*np.random.randn(n_parts, 3)  # velocity in km/s\n",
    "p['mass'] = 5500 + 700*np.random.randn(n_parts)  # mass in solar masses\n",
    "p['age'] = 9.7 + 0.4*np.random.randn(n_parts)  # log age in Gyr (also needed for isochrone sampling)\n",
    "p['feh'] = -0.7 + 0.4*np.random.randn(n_parts)  # [Fe/H]\n",
    "for el in el_list:  # other abundances in the list as [X/H]\n",
    "    p[el] = -0.6 + 0.4*np.random.randn(n_parts)\n",
    "p['alpha'] = p['magnesium'] - p['feh']  # [Mg/Fe]\n",
    "\n",
    "p['parentid'] = np.arange(n_parts)  # indices of parent particles in snapshot\n",
    "p['dform'] = np.zeros(n_parts, dtype='float32')  # dummy variable for now\n",
    "\n",
    "\n",
    "rho = {'pos': np.exp(-2.9 + 1.1*np.random.randn(n_parts)), 'vel': np.exp(-4.4 + 1.1*np.random.randn(n_parts))}"
   ]
  },
  {
   "attachments": {},
   "cell_type": "markdown",
   "id": "44249eee",
   "metadata": {},
   "source": [
    "Using default photometric system"
   ]
  },
  {
   "cell_type": "code",
   "execution_count": 3,
   "id": "1c60e7b4",
   "metadata": {},
   "outputs": [
    {
     "name": "stdout",
     "output_type": "stream",
     "text": [
      "/home/altair/miniconda3/.cache/Galaxia_ananke/bin/galaxia -r --hdim=6 --nfile=sim /home/altair/Software/repos/py-ananke/py-Galaxia/jupyter/survey_params\n",
      "CODEDATAPATH=/home/altair/miniconda3/.cache/Galaxia_ananke/GalaxiaData/\n",
      "Reading Parameter file-             /home/altair/Software/repos/py-ananke/py-Galaxia/jupyter/survey_params\n",
      "--------------------------------------------------------\n",
      "outputFile               survey                  \n",
      "outputDir                /home/altair/Software/repos/py-ananke/py-Galaxia/jupyter\n",
      "photoCateg               padova                  \n",
      "photoSys                 WFIRST-HST              \n",
      "magcolorNames            F814W,F555W-F814W       \n",
      "appMagLimits[0]          -1000                   \n",
      "appMagLimits[1]          1000                    \n",
      "absMagLimits[0]          -1000                   \n",
      "absMagLimits[1]          5                       \n",
      "colorLimits[0]           -1000                   \n",
      "colorLimits[1]           1000                    \n",
      "geometryOption           0                       \n",
      "surveyArea               207.455                 \n",
      "fSample                  0.01                    \n",
      "popID                    10                      \n",
      "warpFlareOn              0                       \n",
      "longitude                76.273                  \n",
      "latitude                 13.4725                 \n",
      "starType                 0                       \n",
      "photoError               0                       \n",
      "seed                     17052                   \n",
      "r_max                    500                     \n",
      "r_min                    0                       \n",
      "nres                     64                      \n",
      "nstart                   0                       \n",
      "rSun[0]                  0.0                     \n",
      "rSun[1]                  0.0                     \n",
      "rSun[2]                  0.0                     \n",
      "vSun[0]                  0.0                     \n",
      "vSun[1]                  0.0                     \n",
      "vSun[2]                  0.0                     \n",
      "--------------------------------------------------------\n",
      "Reading Halo Sat File=/home/altair/miniconda3/.cache/Galaxia_ananke/GalaxiaData/nbody1/filenames/sim.txt\n",
      "Halo 1 Sat 0 fname nbody1/sim/sim.ebf 0\n",
      "nbody1/sim/sim.ebf 0\n",
      "No of Satellites   =1\n",
      "Generating catalog. Max allowed stars is 18446744073709551615\n",
      "Source numbering will start at 0\n",
      "Writing to /home/altair/Software/repos/py-ananke/py-Galaxia/jupyter/survey.sim.ebf\n",
      "Using geometry:                     All Sky\n",
      "setting center to 0 0 0 0 0 0\n",
      "Reading Isochrones from dir-        /home/altair/miniconda3/.cache/Galaxia_ananke/GalaxiaData/Isochrones/padova/WFIRST-HST\n"
     ]
    },
    {
     "name": "stderr",
     "output_type": "stream",
     "text": [
      "nbody1/sim/\n",
      "\n",
      "\t1\t1\n",
      "\n",
      "path nbody1/sim/ sats 1 x[0] 1\n"
     ]
    },
    {
     "name": "stdout",
     "output_type": "stream",
     "text": [
      "Isochrone Grid Size:                (Age bins=177,Feh bins=34,Alpha bins=1)\n",
      "Time Isochrone Reading              16.4594     \n",
      "------------------------------\n",
      "nbody1/sim/sim.ebf  Sat No=0\n",
      "Particles=100000\n",
      "Satellite Info\n",
      "Particles=100000 Mass=5.49989e+08 0.379706\n",
      "Total Stars=620200 accepted=403383 rejected=216817\n",
      "-----------Done---------------\n",
      "Total stars written                 403383                  \n",
      "30\n",
      "File written-                       /home/altair/Software/repos/py-ananke/py-Galaxia/jupyter/survey.sim.ebf\n",
      "Calculating magnitudes in WFIRST-HST system................\n",
      "initializing isochrone data\n",
      "interpolating on isochrone tables\n",
      "Appending spherical coordinates................\n",
      "Total Time=                         18.4784     \n",
      "Exported the following quantities to /home/altair/Software/repos/py-ananke/py-Galaxia/jupyter/survey.sim.h5\n",
      "['age', 'alpha', 'dec', 'dmod', 'feh', 'glat', 'glon', 'grav', 'lum', 'mact', 'mtip', 'parentid', 'partid', 'px', 'py', 'pz', 'ra', 'rad', 'smass', 'teff', 'vx', 'vy', 'vz', 'wfirst-hst_f110w', 'wfirst-hst_f160w', 'wfirst-hst_f184', 'wfirst-hst_f475w', 'wfirst-hst_f555w', 'wfirst-hst_f606w', 'wfirst-hst_f814w', 'wfirst-hst_h158', 'wfirst-hst_j129', 'wfirst-hst_w149', 'wfirst-hst_y106', 'wfirst-hst_z087']\n"
     ]
    },
    {
     "data": {
      "text/html": [
       "<style>.vaex-description pre {\n",
       "          max-width : 450px;\n",
       "          white-space : nowrap;\n",
       "          overflow : hidden;\n",
       "          text-overflow: ellipsis;\n",
       "        }\n",
       "\n",
       "        .vex-description pre:hover {\n",
       "          max-width : initial;\n",
       "          white-space: pre;\n",
       "        }</style>"
      ],
      "text/plain": [
       "<IPython.core.display.HTML object>"
      ]
     },
     "metadata": {},
     "output_type": "display_data"
    },
    {
     "data": {
      "text/html": [
       "<table>\n",
       "<thead>\n",
       "<tr><th>#                                  </th><th>age               </th><th>alpha              </th><th>dec       </th><th>dmod              </th><th>feh                </th><th>glat      </th><th>glon     </th><th>grav     </th><th>lum        </th><th>mact      </th><th>mtip      </th><th>parentid  </th><th>partid  </th><th>px                </th><th>py                 </th><th>pz                 </th><th>ra        </th><th>rad               </th><th>smass             </th><th>teff     </th><th>vx                </th><th>vy                 </th><th>vz                 </th><th>wfirst-hst_f110w  </th><th>wfirst-hst_f160w  </th><th>wfirst-hst_f184  </th><th>wfirst-hst_f475w  </th><th>wfirst-hst_f555w  </th><th>wfirst-hst_f606w  </th><th>wfirst-hst_f814w  </th><th>wfirst-hst_h158  </th><th>wfirst-hst_j129  </th><th>wfirst-hst_w149  </th><th>wfirst-hst_y106  </th><th>wfirst-hst_z087  </th></tr>\n",
       "</thead>\n",
       "<tbody>\n",
       "<tr><td><i style='opacity: 0.6'>0</i>      </td><td>10.016325950622559</td><td>0.3380742371082306 </td><td>-3.0187845</td><td>18.951440350826058</td><td>-0.8867433071136475</td><td>28.416826 </td><td>12.78068 </td><td>4.37291  </td><td>0.075766705</td><td>0.7925086 </td><td>0.8734659 </td><td>0         </td><td>0       </td><td>52.92156982421875 </td><td>12.004715919494629 </td><td>29.362138748168945 </td><td>248.63284 </td><td>61.70041287409796 </td><td>0.7931275422613656</td><td>3.7899408</td><td>80.28685760498047 </td><td>-54.7354850769043  </td><td>62.91861343383789  </td><td>4.5347953         </td><td>4.669083          </td><td>4.9027276        </td><td>4.8559985         </td><td>4.679609          </td><td>4.6055746         </td><td>4.473829          </td><td>4.695083         </td><td>4.5531173        </td><td>4.638439         </td><td>4.480473         </td><td>4.516541         </td></tr>\n",
       "<tr><td><i style='opacity: 0.6'>1</i>      </td><td>10.016325950622559</td><td>0.3380742371082306 </td><td>-3.8329263</td><td>18.83310342236024 </td><td>-0.8867433071136475</td><td>24.466991 </td><td>14.531592</td><td>4.3992524</td><td>0.036352225</td><td>0.78507954</td><td>0.8734659 </td><td>0         </td><td>1       </td><td>51.479836951504254</td><td>13.343873804737635 </td><td>24.19903549888415  </td><td>252.811   </td><td>58.42795477976686 </td><td>0.7856374974330119</td><td>3.7876902</td><td>81.39265768865337 </td><td>-48.508865968866246</td><td>55.434749962042275 </td><td>4.622755          </td><td>4.7540126         </td><td>4.98527          </td><td>4.9619513         </td><td>4.7810473         </td><td>4.7037244         </td><td>4.565078          </td><td>4.779432         </td><td>4.640755         </td><td>4.725174         </td><td>4.570497         </td><td>4.6108203        </td></tr>\n",
       "<tr><td><i style='opacity: 0.6'>2</i>      </td><td>10.016325950622559</td><td>0.3380742371082306 </td><td>6.999215  </td><td>18.98174853910702 </td><td>-0.8867433071136475</td><td>35.90535  </td><td>21.283077</td><td>4.4892063</td><td>-0.1123084 </td><td>0.7543078 </td><td>0.8734659 </td><td>0         </td><td>1       </td><td>47.222588030984014</td><td>18.395244391877924 </td><td>36.69264973440233  </td><td>245.91907 </td><td>62.567630457869235</td><td>0.7547306209216007</td><td>3.7773433</td><td>82.2566914511971  </td><td>-58.223263190995915</td><td>65.83446356522957  </td><td>4.9442697         </td><td>5.0623126         </td><td>5.284834         </td><td>5.3652287         </td><td>5.164619          </td><td>5.0723143         </td><td>4.9040527         </td><td>5.0864863        </td><td>4.9604435        </td><td>5.041791         </td><td>4.901574         </td><td>4.964184         </td></tr>\n",
       "<tr><td><i style='opacity: 0.6'>3</i>      </td><td>10.016325950622559</td><td>0.3380742371082306 </td><td>-3.63876  </td><td>18.98435547141072 </td><td>-0.8867433071136475</td><td>28.398682 </td><td>11.949824</td><td>3.2262313</td><td>0.9790569  </td><td>0.86688185</td><td>0.8734659 </td><td>0         </td><td>1       </td><td>53.91018287467868 </td><td>11.409624570747553 </td><td>29.793150660369033 </td><td>248.24484 </td><td>62.64279030102469 </td><td>0.8687604877571687</td><td>3.719378 </td><td>80.28405761697393 </td><td>-55.550803844199045</td><td>55.08450066358103  </td><td>2.002421          </td><td>1.9826021         </td><td>2.1580746        </td><td>2.8415859         </td><td>2.5522945         </td><td>2.4045308         </td><td>2.0957122         </td><td>2.0048382        </td><td>1.9956571        </td><td>2.0441296        </td><td>2.0439484        </td><td>2.2290032        </td></tr>\n",
       "<tr><td><i style='opacity: 0.6'>4</i>      </td><td>9.829651832580566 </td><td>0.2008306384086609 </td><td>-2.5115564</td><td>19.825844480638885</td><td>-1.206570029258728 </td><td>-18.521826</td><td>39.807804</td><td>4.54226  </td><td>-0.10801967</td><td>0.77372164</td><td>0.9722012 </td><td>1         </td><td>0       </td><td>67.22679901123047 </td><td>56.02674102783203  </td><td>-29.318336486816406</td><td>302.4201  </td><td>92.29302828410349 </td><td>0.7739672182862292</td><td>3.7889366</td><td>72.90453338623047 </td><td>-14.610159873962402</td><td>33.61962890625     </td><td>5.0026636         </td><td>5.132542          </td><td>5.362846         </td><td>5.337632          </td><td>5.16339           </td><td>5.0864205         </td><td>4.9460573         </td><td>5.158542         </td><td>5.0202394        </td><td>5.103815         </td><td>4.9503603        </td><td>4.9950266        </td></tr>\n",
       "<tr><td>...                                </td><td>...               </td><td>...                </td><td>...       </td><td>...               </td><td>...                </td><td>...       </td><td>...      </td><td>...      </td><td>...        </td><td>...       </td><td>...       </td><td>...       </td><td>...     </td><td>...               </td><td>...                </td><td>...                </td><td>...       </td><td>...               </td><td>...               </td><td>...      </td><td>...               </td><td>...                </td><td>...                </td><td>...               </td><td>...               </td><td>...              </td><td>...               </td><td>...               </td><td>...               </td><td>...               </td><td>...              </td><td>...              </td><td>...              </td><td>...              </td><td>...              </td></tr>\n",
       "<tr><td><i style='opacity: 0.6'>403,378</i></td><td>9.689990997314453 </td><td>0.8786933422088623 </td><td>-31.430103</td><td>17.19190307485071 </td><td>-1.1818715333938599</td><td>-85.31031 </td><td>325.8927 </td><td>4.259899 </td><td>0.5085956  </td><td>0.972561  </td><td>1.0698338 </td><td>99997     </td><td>1       </td><td>1.8575663885932796</td><td>-1.2580111686434843</td><td>-27.347913018120554</td><td>10.7174835</td><td>27.439779361998358</td><td>0.9733403016221986</td><td>3.8476222</td><td>54.676081447692425</td><td>18.471419593345523 </td><td>91.42649243060976  </td><td>3.72559           </td><td>3.976895          </td><td>4.243485         </td><td>3.6412637         </td><td>3.5602112         </td><td>3.544569          </td><td>3.5634637         </td><td>4.0033054        </td><td>3.7641795        </td><td>3.8703582        </td><td>3.6086426        </td><td>3.5315163        </td></tr>\n",
       "<tr><td><i style='opacity: 0.6'>403,379</i></td><td>9.689990997314453 </td><td>0.8786933422088623 </td><td>-42.274986</td><td>17.931946439867655</td><td>-1.1818715333938599</td><td>-74.689095</td><td>295.2334 </td><td>3.0027595</td><td>1.3189465  </td><td>1.0617241 </td><td>1.0698338 </td><td>99997     </td><td>1       </td><td>4.343195985097298 </td><td>-9.215809175290744 </td><td>-37.21300087037414 </td><td>15.599577 </td><td>38.58240433019701 </td><td>1.0637093484284672</td><td>3.7263985</td><td>26.751899063559996</td><td>12.772516779504542 </td><td>87.6931558959386   </td><td>1.185893          </td><td>1.1800659         </td><td>1.3619456        </td><td>1.9630812         </td><td>1.6946676         </td><td>1.5572541         </td><td>1.2654269         </td><td>1.2033591        </td><td>1.1808931        </td><td>1.2334794        </td><td>1.2180134        </td><td>1.3918405        </td></tr>\n",
       "<tr><td><i style='opacity: 0.6'>403,380</i></td><td>10.06347942352295 </td><td>-0.4856409728527069</td><td>56.991932 </td><td>16.796819459701183</td><td>-0.613899290561676 </td><td>59.718517 </td><td>130.5402 </td><td>4.4255743</td><td>-0.05146076</td><td>0.787261  </td><td>0.884704  </td><td>99998     </td><td>0       </td><td>-7.497377395629883</td><td>8.765853881835938  </td><td>19.754024505615234 </td><td>185.82    </td><td>22.875146912285555</td><td>0.7877699409990682</td><td>3.7719772</td><td>46.67090606689453 </td><td>7.077005386352539  </td><td>39.686126708984375 </td><td>4.752767          </td><td>4.8619313         </td><td>5.080554         </td><td>5.2142415         </td><td>4.997029          </td><td>4.8976517         </td><td>4.7199802         </td><td>4.886472         </td><td>4.7663083        </td><td>4.846308         </td><td>4.7166033        </td><td>4.783816         </td></tr>\n",
       "<tr><td><i style='opacity: 0.6'>403,381</i></td><td>9.99021053314209  </td><td>0.7036365270614624 </td><td>54.185642 </td><td>19.34766083145688 </td><td>-0.8060703873634338</td><td>29.93682  </td><td>82.07898 </td><td>4.505727 </td><td>-0.14342178</td><td>0.7594149 </td><td>0.89445007</td><td>99999     </td><td>0       </td><td>8.843305587768555 </td><td>63.55876541137695  </td><td>36.95485305786133  </td><td>268.4862  </td><td>74.05121119107525 </td><td>0.7598331724570576</td><td>3.772967 </td><td>27.659076690673828</td><td>81.27574920654297  </td><td>-16.351015090942383</td><td>4.9976597         </td><td>5.107902          </td><td>5.3274693        </td><td>5.4517994         </td><td>5.2420416         </td><td>5.1445003         </td><td>4.964418          </td><td>5.132794         </td><td>5.0123353        </td><td>5.092227         </td><td>4.960093         </td><td>5.0300674        </td></tr>\n",
       "<tr><td><i style='opacity: 0.6'>403,382</i></td><td>9.99021053314209  </td><td>0.7036365270614624 </td><td>53.79216  </td><td>19.390041528218713</td><td>-0.8060703873634338</td><td>33.040676 </td><td>81.373276</td><td>3.6233041</td><td>0.644697   </td><td>0.8830005 </td><td>0.89445007</td><td>99999     </td><td>1       </td><td>9.494715501949152 </td><td>62.58323002176742  </td><td>41.17099107547583  </td><td>263.14923 </td><td>75.51066685281832 </td><td>0.8845105368643242</td><td>3.7330222</td><td>24.259253494654033</td><td>70.9231465384278   </td><td>-12.569484029267606</td><td>2.8809347         </td><td>2.8980527         </td><td>3.0865502        </td><td>3.6174574         </td><td>3.3474522         </td><td>3.2123241         </td><td>2.9388165         </td><td>2.9210527        </td><td>2.8796835        </td><td>2.9384322        </td><td>2.900314         </td><td>3.053196         </td></tr>\n",
       "</tbody>\n",
       "</table>"
      ],
      "text/plain": [
       "#        age                 alpha                dec         dmod                feh                  glat        glon       grav       lum          mact        mtip        parentid    partid    px                  py                   pz                   ra          rad                 smass               teff       vx                  vy                   vz                   wfirst-hst_f110w    wfirst-hst_f160w    wfirst-hst_f184    wfirst-hst_f475w    wfirst-hst_f555w    wfirst-hst_f606w    wfirst-hst_f814w    wfirst-hst_h158    wfirst-hst_j129    wfirst-hst_w149    wfirst-hst_y106    wfirst-hst_z087\n",
       "0        10.016325950622559  0.3380742371082306   -3.0187845  18.951440350826058  -0.8867433071136475  28.416826   12.78068   4.37291    0.075766705  0.7925086   0.8734659   0           0         52.92156982421875   12.004715919494629   29.362138748168945   248.63284   61.70041287409796   0.7931275422613656  3.7899408  80.28685760498047   -54.7354850769043    62.91861343383789    4.5347953           4.669083            4.9027276          4.8559985           4.679609            4.6055746           4.473829            4.695083           4.5531173          4.638439           4.480473           4.516541\n",
       "1        10.016325950622559  0.3380742371082306   -3.8329263  18.83310342236024   -0.8867433071136475  24.466991   14.531592  4.3992524  0.036352225  0.78507954  0.8734659   0           1         51.479836951504254  13.343873804737635   24.19903549888415    252.811     58.42795477976686   0.7856374974330119  3.7876902  81.39265768865337   -48.508865968866246  55.434749962042275   4.622755            4.7540126           4.98527            4.9619513           4.7810473           4.7037244           4.565078            4.779432           4.640755           4.725174           4.570497           4.6108203\n",
       "2        10.016325950622559  0.3380742371082306   6.999215    18.98174853910702   -0.8867433071136475  35.90535    21.283077  4.4892063  -0.1123084   0.7543078   0.8734659   0           1         47.222588030984014  18.395244391877924   36.69264973440233    245.91907   62.567630457869235  0.7547306209216007  3.7773433  82.2566914511971    -58.223263190995915  65.83446356522957    4.9442697           5.0623126           5.284834           5.3652287           5.164619            5.0723143           4.9040527           5.0864863          4.9604435          5.041791           4.901574           4.964184\n",
       "3        10.016325950622559  0.3380742371082306   -3.63876    18.98435547141072   -0.8867433071136475  28.398682   11.949824  3.2262313  0.9790569    0.86688185  0.8734659   0           1         53.91018287467868   11.409624570747553   29.793150660369033   248.24484   62.64279030102469   0.8687604877571687  3.719378   80.28405761697393   -55.550803844199045  55.08450066358103    2.002421            1.9826021           2.1580746          2.8415859           2.5522945           2.4045308           2.0957122           2.0048382          1.9956571          2.0441296          2.0439484          2.2290032\n",
       "4        9.829651832580566   0.2008306384086609   -2.5115564  19.825844480638885  -1.206570029258728   -18.521826  39.807804  4.54226    -0.10801967  0.77372164  0.9722012   1           0         67.22679901123047   56.02674102783203    -29.318336486816406  302.4201    92.29302828410349   0.7739672182862292  3.7889366  72.90453338623047   -14.610159873962402  33.61962890625       5.0026636           5.132542            5.362846           5.337632            5.16339             5.0864205           4.9460573           5.158542           5.0202394          5.103815           4.9503603          4.9950266\n",
       "...      ...                 ...                  ...         ...                 ...                  ...         ...        ...        ...          ...         ...         ...         ...       ...                 ...                  ...                  ...         ...                 ...                 ...        ...                 ...                  ...                  ...                 ...                 ...                ...                 ...                 ...                 ...                 ...                ...                ...                ...                ...\n",
       "403,378  9.689990997314453   0.8786933422088623   -31.430103  17.19190307485071   -1.1818715333938599  -85.31031   325.8927   4.259899   0.5085956    0.972561    1.0698338   99997       1         1.8575663885932796  -1.2580111686434843  -27.347913018120554  10.7174835  27.439779361998358  0.9733403016221986  3.8476222  54.676081447692425  18.471419593345523   91.42649243060976    3.72559             3.976895            4.243485           3.6412637           3.5602112           3.544569            3.5634637           4.0033054          3.7641795          3.8703582          3.6086426          3.5315163\n",
       "403,379  9.689990997314453   0.8786933422088623   -42.274986  17.931946439867655  -1.1818715333938599  -74.689095  295.2334   3.0027595  1.3189465    1.0617241   1.0698338   99997       1         4.343195985097298   -9.215809175290744   -37.21300087037414   15.599577   38.58240433019701   1.0637093484284672  3.7263985  26.751899063559996  12.772516779504542   87.6931558959386     1.185893            1.1800659           1.3619456          1.9630812           1.6946676           1.5572541           1.2654269           1.2033591          1.1808931          1.2334794          1.2180134          1.3918405\n",
       "403,380  10.06347942352295   -0.4856409728527069  56.991932   16.796819459701183  -0.613899290561676   59.718517   130.5402   4.4255743  -0.05146076  0.787261    0.884704    99998       0         -7.497377395629883  8.765853881835938    19.754024505615234   185.82      22.875146912285555  0.7877699409990682  3.7719772  46.67090606689453   7.077005386352539    39.686126708984375   4.752767            4.8619313           5.080554           5.2142415           4.997029            4.8976517           4.7199802           4.886472           4.7663083          4.846308           4.7166033          4.783816\n",
       "403,381  9.99021053314209    0.7036365270614624   54.185642   19.34766083145688   -0.8060703873634338  29.93682    82.07898   4.505727   -0.14342178  0.7594149   0.89445007  99999       0         8.843305587768555   63.55876541137695    36.95485305786133    268.4862    74.05121119107525   0.7598331724570576  3.772967   27.659076690673828  81.27574920654297    -16.351015090942383  4.9976597           5.107902            5.3274693          5.4517994           5.2420416           5.1445003           4.964418            5.132794           5.0123353          5.092227           4.960093           5.0300674\n",
       "403,382  9.99021053314209    0.7036365270614624   53.79216    19.390041528218713  -0.8060703873634338  33.040676   81.373276  3.6233041  0.644697     0.8830005   0.89445007  99999       1         9.494715501949152   62.58323002176742    41.17099107547583    263.14923   75.51066685281832   0.8845105368643242  3.7330222  24.259253494654033  70.9231465384278     -12.569484029267606  2.8809347           2.8980527           3.0865502          3.6174574           3.3474522           3.2123241           2.9388165           2.9210527          2.8796835          2.9384322          2.900314           3.053196"
      ]
     },
     "execution_count": 3,
     "metadata": {},
     "output_type": "execute_result"
    }
   ],
   "source": [
    "output = Galaxia_ananke.make_survey_from_particles(p, rho['pos'], rho['vel'], fsample=0.01)#, simname='sim', surveyname='survey', fsample=1, ngb=64, knorm=0.596831, **kwargs):\n",
    "output"
   ]
  },
  {
   "attachments": {},
   "cell_type": "markdown",
   "id": "5744efd0",
   "metadata": {},
   "source": [
    "Using LSST photometric system"
   ]
  },
  {
   "cell_type": "code",
   "execution_count": 4,
   "id": "3e04243e",
   "metadata": {},
   "outputs": [
    {
     "name": "stdout",
     "output_type": "stream",
     "text": [
      "/home/altair/miniconda3/.cache/Galaxia_ananke/bin/galaxia -r --hdim=6 --nfile=sim /home/altair/Software/repos/py-ananke/py-Galaxia/jupyter/survey_params\n",
      "CODEDATAPATH=/home/altair/miniconda3/.cache/Galaxia_ananke/GalaxiaData/\n",
      "Reading Parameter file-             /home/altair/Software/repos/py-ananke/py-Galaxia/jupyter/survey_params\n",
      "--------------------------------------------------------\n",
      "outputFile               survey                  \n",
      "outputDir                /home/altair/Software/repos/py-ananke/py-Galaxia/jupyter\n",
      "photoCateg               padova                  \n",
      "photoSys                 LSST                    \n",
      "magcolorNames            rmag,gmag-rmag          \n",
      "appMagLimits[0]          -1000                   \n",
      "appMagLimits[1]          1000                    \n",
      "absMagLimits[0]          -1000                   \n",
      "absMagLimits[1]          5                       \n",
      "colorLimits[0]           -1000                   \n",
      "colorLimits[1]           1000                    \n",
      "geometryOption           0                       \n",
      "surveyArea               207.455                 \n",
      "fSample                  0.01                    \n",
      "popID                    10                      \n",
      "warpFlareOn              0                       \n",
      "longitude                76.273                  \n",
      "latitude                 13.4725                 \n",
      "starType                 0                       \n",
      "photoError               0                       \n",
      "seed                     17052                   \n",
      "r_max                    500                     \n",
      "r_min                    0                       \n",
      "nres                     64                      \n",
      "nstart                   0                       \n",
      "rSun[0]                  0.0                     \n",
      "rSun[1]                  0.0                     \n",
      "rSun[2]                  0.0                     \n",
      "vSun[0]                  0.0                     \n",
      "vSun[1]                  0.0                     \n",
      "vSun[2]                  0.0                     \n",
      "--------------------------------------------------------\n",
      "Reading Halo Sat File=/home/altair/miniconda3/.cache/Galaxia_ananke/GalaxiaData/nbody1/filenames/sim.txt\n",
      "Halo 1 Sat 0 fname nbody1/sim/sim.ebf 0\n",
      "nbody1/sim/sim.ebf 0\n",
      "No of Satellites   =1\n",
      "Generating catalog. Max allowed stars is 18446744073709551615\n",
      "Source numbering will start at 0\n",
      "Writing to /home/altair/Software/repos/py-ananke/py-Galaxia/jupyter/survey.sim.ebf\n",
      "Using geometry:                     All Sky\n",
      "setting center to 0 0 0 0 0 0\n",
      "Reading Isochrones from dir-        /home/altair/miniconda3/.cache/Galaxia_ananke/GalaxiaData/Isochrones/padova/LSST\n"
     ]
    },
    {
     "name": "stderr",
     "output_type": "stream",
     "text": [
      "nbody1/sim/\n",
      "\n",
      "\t1\t1\n",
      "\n",
      "path nbody1/sim/ sats 1 x[0] 1\n"
     ]
    },
    {
     "name": "stdout",
     "output_type": "stream",
     "text": [
      "Isochrone Grid Size:                (Age bins=71,Feh bins=34,Alpha bins=1)\n",
      "Time Isochrone Reading              4.67279     \n",
      "------------------------------\n",
      "nbody1/sim/sim.ebf  Sat No=0\n",
      "Particles=100000\n",
      "Satellite Info\n",
      "Particles=100000 Mass=5.49989e+08 0.379706\n",
      "Total Stars=596545 accepted=383875 rejected=212670\n",
      "-----------Done---------------\n",
      "Total stars written                 383875                  \n",
      "30\n",
      "File written-                       /home/altair/Software/repos/py-ananke/py-Galaxia/jupyter/survey.sim.ebf\n",
      "Calculating magnitudes in LSST system................\n",
      "initializing isochrone data\n",
      "interpolating on isochrone tables\n",
      "Appending spherical coordinates................\n",
      "Total Time=                         6.70055     \n",
      "Exported the following quantities to /home/altair/Software/repos/py-ananke/py-Galaxia/jupyter/survey.sim.h5\n",
      "['age', 'alpha', 'dec', 'dmod', 'feh', 'glat', 'glon', 'grav', 'lsst_gmag', 'lsst_imag', 'lsst_rmag', 'lsst_umag', 'lsst_ymag', 'lsst_zmag', 'lum', 'mact', 'mtip', 'parentid', 'partid', 'px', 'py', 'pz', 'ra', 'rad', 'smass', 'teff', 'vx', 'vy', 'vz']\n"
     ]
    },
    {
     "data": {
      "text/html": [
       "<style>.vaex-description pre {\n",
       "          max-width : 450px;\n",
       "          white-space : nowrap;\n",
       "          overflow : hidden;\n",
       "          text-overflow: ellipsis;\n",
       "        }\n",
       "\n",
       "        .vex-description pre:hover {\n",
       "          max-width : initial;\n",
       "          white-space: pre;\n",
       "        }</style>"
      ],
      "text/plain": [
       "<IPython.core.display.HTML object>"
      ]
     },
     "metadata": {},
     "output_type": "display_data"
    },
    {
     "data": {
      "text/html": [
       "<table>\n",
       "<thead>\n",
       "<tr><th>#                                  </th><th>age               </th><th>alpha              </th><th>dec       </th><th>dmod              </th><th>feh                </th><th>glat      </th><th>glon     </th><th>grav     </th><th>lsst_gmag  </th><th>lsst_imag  </th><th>lsst_rmag  </th><th>lsst_umag  </th><th>lsst_ymag  </th><th>lsst_zmag  </th><th>lum         </th><th>mact      </th><th>mtip      </th><th>parentid  </th><th>partid  </th><th>px                 </th><th>py                </th><th>pz                 </th><th>ra       </th><th>rad               </th><th>smass             </th><th>teff     </th><th>vx                </th><th>vy                 </th><th>vz                 </th></tr>\n",
       "</thead>\n",
       "<tbody>\n",
       "<tr><td><i style='opacity: 0.6'>0</i>      </td><td>10.016325950622559</td><td>0.3380742371082306 </td><td>-3.0187845</td><td>18.951440350826058</td><td>-0.8867433071136475</td><td>28.416826 </td><td>12.78068 </td><td>4.2164345</td><td>4.2824645  </td><td>3.95114    </td><td>4.0172486  </td><td>5.1674104  </td><td>3.967086   </td><td>3.9570858  </td><td>0.28707907  </td><td>0.84451324</td><td>0.8955961 </td><td>0         </td><td>0       </td><td>52.92156982421875  </td><td>12.004715919494629</td><td>29.362138748168945 </td><td>248.63284</td><td>61.70041287409796 </td><td>0.8464222043998176</td><td>3.7965405</td><td>80.28685760498047 </td><td>-54.7354850769043  </td><td>62.91861343383789  </td></tr>\n",
       "<tr><td><i style='opacity: 0.6'>1</i>      </td><td>10.016325950622559</td><td>0.3380742371082306 </td><td>-3.8329263</td><td>18.83310342236024 </td><td>-0.8867433071136475</td><td>24.466991 </td><td>14.531592</td><td>4.2578335</td><td>4.409424   </td><td>4.0725794  </td><td>4.1405272  </td><td>5.2934494  </td><td>4.087605   </td><td>4.077605   </td><td>0.23739946  </td><td>0.83623326</td><td>0.8955961 </td><td>0         </td><td>1       </td><td>51.479836951504254 </td><td>13.343873804737635</td><td>24.19903549888415  </td><td>252.811  </td><td>58.42795477976686 </td><td>0.838193417846326 </td><td>3.7955287</td><td>81.39265768865337 </td><td>-48.508865968866246</td><td>55.434749962042275 </td></tr>\n",
       "<tr><td><i style='opacity: 0.6'>2</i>      </td><td>10.016325950622559</td><td>0.3380742371082306 </td><td>6.999215  </td><td>18.98174853910702 </td><td>-0.8867433071136475</td><td>35.90535  </td><td>21.283077</td><td>4.3888907</td><td>4.885992   </td><td>4.507136   </td><td>4.5880284  </td><td>5.78242    </td><td>4.510243   </td><td>4.5046     </td><td>0.05671724  </td><td>0.80303633</td><td>0.8955961 </td><td>0         </td><td>1       </td><td>47.222588030984014 </td><td>18.395244391877924</td><td>36.69264973440233  </td><td>245.91907</td><td>62.567630457869235</td><td>0.8042936406821346</td><td>3.7876287</td><td>82.2566914511971  </td><td>-58.223263190995915</td><td>65.83446356522957  </td></tr>\n",
       "<tr><td><i style='opacity: 0.6'>3</i>      </td><td>10.016325950622559</td><td>0.3380742371082306 </td><td>1.6995991 </td><td>19.195028896327347</td><td>-0.8867433071136475</td><td>27.450098 </td><td>19.717798</td><td>4.470188 </td><td>5.2481565  </td><td>4.822277   </td><td>4.917693   </td><td>6.1731434  </td><td>4.8118606  </td><td>4.8107533  </td><td>-0.07732971 </td><td>0.77479845</td><td>0.8955961 </td><td>0         </td><td>1       </td><td>57.66202201771378  </td><td>20.666195720948103</td><td>31.818803257250345 </td><td>252.66203</td><td>69.02489890953443 </td><td>0.7755195109131877</td><td>3.778387 </td><td>85.60963490268546 </td><td>-59.02860904342511 </td><td>62.80968178103598  </td></tr>\n",
       "<tr><td><i style='opacity: 0.6'>4</i>      </td><td>9.829651832580566 </td><td>0.2008306384086609 </td><td>-2.5115564</td><td>19.825844480638885</td><td>-1.206570029258728 </td><td>-18.521826</td><td>39.807804</td><td>4.5180707</td><td>5.188261   </td><td>4.828508   </td><td>4.9083548  </td><td>6.0158496  </td><td>4.8346605  </td><td>4.825872   </td><td>-0.061247796</td><td>0.79630566</td><td>0.99347436</td><td>1         </td><td>0       </td><td>67.22679901123047  </td><td>56.02674102783203 </td><td>-29.318336486816406</td><td>302.4201 </td><td>92.29302828410349 </td><td>0.7965720809332415</td><td>3.7916071</td><td>72.90453338623047 </td><td>-14.610159873962402</td><td>33.61962890625     </td></tr>\n",
       "<tr><td>...                                </td><td>...               </td><td>...                </td><td>...       </td><td>...               </td><td>...                </td><td>...       </td><td>...      </td><td>...      </td><td>...        </td><td>...        </td><td>...        </td><td>...        </td><td>...        </td><td>...        </td><td>...         </td><td>...       </td><td>...       </td><td>...       </td><td>...     </td><td>...                </td><td>...               </td><td>...                </td><td>...      </td><td>...               </td><td>...               </td><td>...      </td><td>...               </td><td>...                </td><td>...                </td></tr>\n",
       "<tr><td><i style='opacity: 0.6'>383,870</i></td><td>9.689990997314453 </td><td>0.8786933422088623 </td><td>-45.27182 </td><td>17.997793459734094</td><td>-1.1818715333938599</td><td>-69.30481 </td><td>328.42706</td><td>4.4389234</td><td>4.569561   </td><td>4.3209643  </td><td>4.362272   </td><td>5.372234   </td><td>4.362983   </td><td>4.3423104  </td><td>0.1631623   </td><td>0.88904774</td><td>1.0982034 </td><td>99997     </td><td>1       </td><td>11.974236412715005 </td><td>-7.358797779924944</td><td>-37.204048764170984</td><td>0.3767287</td><td>39.770283967809824</td><td>0.8896160687465632</td><td>3.8159144</td><td>30.017124878067683</td><td>-4.64196995003984  </td><td>77.52281614975682  </td></tr>\n",
       "<tr><td><i style='opacity: 0.6'>383,871</i></td><td>10.06347942352295 </td><td>-0.4856409728527069</td><td>56.991932 </td><td>16.796819459701183</td><td>-0.613899290561676 </td><td>59.718517 </td><td>130.5402 </td><td>4.2668357</td><td>4.600411   </td><td>4.179508   </td><td>4.2680883  </td><td>5.5991526  </td><td>4.1759276  </td><td>4.1749277  </td><td>0.17210011  </td><td>0.8485167 </td><td>0.90706897</td><td>99998     </td><td>0       </td><td>-7.497377395629883 </td><td>8.765853881835938 </td><td>19.754024505615234 </td><td>185.82   </td><td>22.875146912285555</td><td>0.8496194881046387</td><td>3.7800355</td><td>46.67090606689453 </td><td>7.077005386352539  </td><td>39.686126708984375 </td></tr>\n",
       "<tr><td><i style='opacity: 0.6'>383,872</i></td><td>10.06347942352295 </td><td>-0.4856409728527069</td><td>48.151062 </td><td>16.590505593308123</td><td>-0.613899290561676 </td><td>66.39695  </td><td>99.543144</td><td>3.9935246</td><td>4.0497117  </td><td>3.566002   </td><td>3.6747587  </td><td>5.1294866  </td><td>3.540432   </td><td>3.5483103  </td><td>0.40889654  </td><td>0.88406533</td><td>0.90706897</td><td>99998     </td><td>1       </td><td>-1.3808635936938467</td><td>8.213744220322424 </td><td>19.061555751976726 </td><td>206.64214</td><td>20.80180968250085 </td><td>0.8856285111042018</td><td>3.7664769</td><td>41.572534179077195</td><td>9.632724416082437  </td><td>25.90633731432238  </td></tr>\n",
       "<tr><td><i style='opacity: 0.6'>383,873</i></td><td>9.99021053314209  </td><td>0.7036365270614624 </td><td>54.185642 </td><td>19.34766083145688 </td><td>-0.8060703873634338</td><td>29.93682  </td><td>82.07898 </td><td>4.481275 </td><td>5.2685194  </td><td>4.831273   </td><td>4.92836    </td><td>6.2237654  </td><td>4.8192153  </td><td>4.8202295  </td><td>-0.08454981 </td><td>0.79286975</td><td>0.9368129 </td><td>99999     </td><td>0       </td><td>8.843305587768555  </td><td>63.55876541137695 </td><td>36.95485305786133  </td><td>268.4862 </td><td>74.05121119107525 </td><td>0.7941283920846925</td><td>3.7766523</td><td>27.659076690673828</td><td>81.27574920654297  </td><td>-16.351015090942383</td></tr>\n",
       "<tr><td><i style='opacity: 0.6'>383,874</i></td><td>9.99021053314209  </td><td>0.7036365270614624 </td><td>54.48188  </td><td>19.46030002618056 </td><td>-0.8060703873634338</td><td>27.376713 </td><td>82.801155</td><td>4.3054743</td><td>4.5176244  </td><td>4.1702476  </td><td>4.24004    </td><td>5.4179683  </td><td>4.184903   </td><td>4.1757994  </td><td>0.1938049   </td><td>0.85607135</td><td>0.9368129 </td><td>99999     </td><td>1       </td><td>8.679064100816744  </td><td>68.71271870895906 </td><td>35.86456279812697  </td><td>272.98163</td><td>77.99378648804924 </td><td>0.8573187395210782</td><td>3.7943144</td><td>18.455034840546787</td><td>95.57683311715434  </td><td>-17.48726378636462 </td></tr>\n",
       "</tbody>\n",
       "</table>"
      ],
      "text/plain": [
       "#        age                 alpha                dec         dmod                feh                  glat        glon       grav       lsst_gmag    lsst_imag    lsst_rmag    lsst_umag    lsst_ymag    lsst_zmag    lum           mact        mtip        parentid    partid    px                   py                  pz                   ra         rad                 smass               teff       vx                  vy                   vz\n",
       "0        10.016325950622559  0.3380742371082306   -3.0187845  18.951440350826058  -0.8867433071136475  28.416826   12.78068   4.2164345  4.2824645    3.95114      4.0172486    5.1674104    3.967086     3.9570858    0.28707907    0.84451324  0.8955961   0           0         52.92156982421875    12.004715919494629  29.362138748168945   248.63284  61.70041287409796   0.8464222043998176  3.7965405  80.28685760498047   -54.7354850769043    62.91861343383789\n",
       "1        10.016325950622559  0.3380742371082306   -3.8329263  18.83310342236024   -0.8867433071136475  24.466991   14.531592  4.2578335  4.409424     4.0725794    4.1405272    5.2934494    4.087605     4.077605     0.23739946    0.83623326  0.8955961   0           1         51.479836951504254   13.343873804737635  24.19903549888415    252.811    58.42795477976686   0.838193417846326   3.7955287  81.39265768865337   -48.508865968866246  55.434749962042275\n",
       "2        10.016325950622559  0.3380742371082306   6.999215    18.98174853910702   -0.8867433071136475  35.90535    21.283077  4.3888907  4.885992     4.507136     4.5880284    5.78242      4.510243     4.5046       0.05671724    0.80303633  0.8955961   0           1         47.222588030984014   18.395244391877924  36.69264973440233    245.91907  62.567630457869235  0.8042936406821346  3.7876287  82.2566914511971    -58.223263190995915  65.83446356522957\n",
       "3        10.016325950622559  0.3380742371082306   1.6995991   19.195028896327347  -0.8867433071136475  27.450098   19.717798  4.470188   5.2481565    4.822277     4.917693     6.1731434    4.8118606    4.8107533    -0.07732971   0.77479845  0.8955961   0           1         57.66202201771378    20.666195720948103  31.818803257250345   252.66203  69.02489890953443   0.7755195109131877  3.778387   85.60963490268546   -59.02860904342511   62.80968178103598\n",
       "4        9.829651832580566   0.2008306384086609   -2.5115564  19.825844480638885  -1.206570029258728   -18.521826  39.807804  4.5180707  5.188261     4.828508     4.9083548    6.0158496    4.8346605    4.825872     -0.061247796  0.79630566  0.99347436  1           0         67.22679901123047    56.02674102783203   -29.318336486816406  302.4201   92.29302828410349   0.7965720809332415  3.7916071  72.90453338623047   -14.610159873962402  33.61962890625\n",
       "...      ...                 ...                  ...         ...                 ...                  ...         ...        ...        ...          ...          ...          ...          ...          ...          ...           ...         ...         ...         ...       ...                  ...                 ...                  ...        ...                 ...                 ...        ...                 ...                  ...\n",
       "383,870  9.689990997314453   0.8786933422088623   -45.27182   17.997793459734094  -1.1818715333938599  -69.30481   328.42706  4.4389234  4.569561     4.3209643    4.362272     5.372234     4.362983     4.3423104    0.1631623     0.88904774  1.0982034   99997       1         11.974236412715005   -7.358797779924944  -37.204048764170984  0.3767287  39.770283967809824  0.8896160687465632  3.8159144  30.017124878067683  -4.64196995003984    77.52281614975682\n",
       "383,871  10.06347942352295   -0.4856409728527069  56.991932   16.796819459701183  -0.613899290561676   59.718517   130.5402   4.2668357  4.600411     4.179508     4.2680883    5.5991526    4.1759276    4.1749277    0.17210011    0.8485167   0.90706897  99998       0         -7.497377395629883   8.765853881835938   19.754024505615234   185.82     22.875146912285555  0.8496194881046387  3.7800355  46.67090606689453   7.077005386352539    39.686126708984375\n",
       "383,872  10.06347942352295   -0.4856409728527069  48.151062   16.590505593308123  -0.613899290561676   66.39695    99.543144  3.9935246  4.0497117    3.566002     3.6747587    5.1294866    3.540432     3.5483103    0.40889654    0.88406533  0.90706897  99998       1         -1.3808635936938467  8.213744220322424   19.061555751976726   206.64214  20.80180968250085   0.8856285111042018  3.7664769  41.572534179077195  9.632724416082437    25.90633731432238\n",
       "383,873  9.99021053314209    0.7036365270614624   54.185642   19.34766083145688   -0.8060703873634338  29.93682    82.07898   4.481275   5.2685194    4.831273     4.92836      6.2237654    4.8192153    4.8202295    -0.08454981   0.79286975  0.9368129   99999       0         8.843305587768555    63.55876541137695   36.95485305786133    268.4862   74.05121119107525   0.7941283920846925  3.7766523  27.659076690673828  81.27574920654297    -16.351015090942383\n",
       "383,874  9.99021053314209    0.7036365270614624   54.48188    19.46030002618056   -0.8060703873634338  27.376713   82.801155  4.3054743  4.5176244    4.1702476    4.24004      5.4179683    4.184903     4.1757994    0.1938049     0.85607135  0.9368129   99999       1         8.679064100816744    68.71271870895906   35.86456279812697    272.98163  77.99378648804924   0.8573187395210782  3.7943144  18.455034840546787  95.57683311715434    -17.48726378636462"
      ]
     },
     "execution_count": 4,
     "metadata": {},
     "output_type": "execute_result"
    }
   ],
   "source": [
    "output = Galaxia_ananke.make_survey_from_particles(p, rho['pos'], rho['vel'], fsample=0.01, photo_sys='padova/LSST', cmd_magnames='rmag,gmag-rmag')#, simname='sim', surveyname='survey', fsample=1, ngb=64, knorm=0.596831, **kwargs):\n",
    "output"
   ]
  }
 ],
 "metadata": {
  "kernelspec": {
   "display_name": "base",
   "language": "python",
   "name": "python3"
  },
  "language_info": {
   "codemirror_mode": {
    "name": "ipython",
    "version": 3
   },
   "file_extension": ".py",
   "mimetype": "text/x-python",
   "name": "python",
   "nbconvert_exporter": "python",
   "pygments_lexer": "ipython3",
   "version": "3.10.9"
  },
  "vscode": {
   "interpreter": {
    "hash": "93aa337d3be5595eae1049f286a1f242db5cd4d40fd613efbe29fb4c796799bf"
   }
  }
 },
 "nbformat": 4,
 "nbformat_minor": 5
}
