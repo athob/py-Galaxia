{
 "cells": [
  {
   "cell_type": "code",
   "execution_count": 1,
   "id": "f130bf6c",
   "metadata": {},
   "outputs": [
    {
     "data": {
      "text/plain": [
       "'0.3.0.dev1'"
      ]
     },
     "execution_count": 1,
     "metadata": {},
     "output_type": "execute_result"
    }
   ],
   "source": [
    "import numpy as np\n",
    "import Galaxia_ananke\n",
    "Galaxia_ananke.__version__"
   ]
  },
  {
   "cell_type": "code",
   "execution_count": 2,
   "id": "fa0e3b78",
   "metadata": {},
   "outputs": [],
   "source": [
    "np.random.seed(0)\n",
    "n_parts = 10000\n",
    "el_list = ['helium', 'carbon', 'nitrogen', 'oxygen', 'neon', 'magnesium', 'silicon', 'sulphur', 'calcium']\n",
    "\n",
    "p = {}\n",
    "p['pos3'] = 30*np.random.randn(n_parts, 3)  # position in kpc\n",
    "p['vel3'] = 50*np.random.randn(n_parts, 3)  # velocity in km/s\n",
    "p['mass'] = 5500 + 700*np.random.randn(n_parts)  # mass in solar masses\n",
    "p['age'] = 9.7 + 0.4*np.random.randn(n_parts)  # log age in Gyr (also needed for isochrone sampling)\n",
    "p['feh'] = -0.7 + 0.4*np.random.randn(n_parts)  # [Fe/H]\n",
    "for el in el_list:  # other abundances in the list as [X/H]\n",
    "    p[el] = -0.6 + 0.4*np.random.randn(n_parts)\n",
    "p['alpha'] = p['magnesium'] - p['feh']  # [Mg/Fe]\n",
    "\n",
    "p['parentid'] = np.arange(n_parts)  # indices of parent particles in snapshot\n",
    "p['dform'] = np.zeros(n_parts, dtype='float32')  # dummy variable for now\n",
    "\n",
    "\n",
    "rho = {'pos': np.exp(-2.9 + 1.1*np.random.randn(n_parts)), 'vel': np.exp(-4.4 + 1.1*np.random.randn(n_parts))}"
   ]
  },
  {
   "attachments": {},
   "cell_type": "markdown",
   "id": "44249eee",
   "metadata": {},
   "source": [
    "Using default photometric system"
   ]
  },
  {
   "cell_type": "code",
   "execution_count": 3,
   "id": "1c60e7b4",
   "metadata": {},
   "outputs": [
    {
     "name": "stdout",
     "output_type": "stream",
     "text": [
      "/home/athob/miniconda3/envs/main/.cache/Galaxia_ananke/bin/galaxia -r --hdim=6 --nfile=sim /home/athob/Software/repos/py-ananke/py-Galaxia-ananke/jupyter/survey_params\n",
      "CODEDATAPATH=/home/athob/miniconda3/envs/main/.cache/Galaxia_ananke/GalaxiaData/\n",
      "Reading Parameter file-             /home/athob/Software/repos/py-ananke/py-Galaxia-ananke/jupyter/survey_params\n",
      "--------------------------------------------------------\n",
      "outputFile               survey                  \n",
      "outputDir                /home/athob/Software/repos/py-ananke/py-Galaxia-ananke/jupyter\n",
      "photoCateg               padova                  \n",
      "photoSys                 GAIADR2                 \n",
      "magcolorNames            Gmag,G_BPmag-G_RPmag    \n",
      "appMagLimits[0]          -1000                   \n",
      "appMagLimits[1]          1000                    \n",
      "absMagLimits[0]          -1000                   \n",
      "absMagLimits[1]          20                      \n",
      "colorLimits[0]           -1000                   \n",
      "colorLimits[1]           1000                    \n",
      "geometryOption           0                       \n",
      "surveyArea               207.455                 \n",
      "fSample                  0.01                    \n",
      "popID                    10                      \n",
      "warpFlareOn              0                       \n",
      "longitude                76.273                  \n",
      "latitude                 13.4725                 \n",
      "starType                 0                       \n",
      "photoError               0                       \n",
      "seed                     17052                   \n",
      "r_max                    500                     \n",
      "r_min                    0                       \n",
      "nres                     64                      \n",
      "nstart                   0                       \n",
      "rSun[0]                  0.0                     \n",
      "rSun[1]                  0.0                     \n",
      "rSun[2]                  0.0                     \n",
      "vSun[0]                  0.0                     \n",
      "vSun[1]                  0.0                     \n",
      "vSun[2]                  0.0                     \n",
      "--------------------------------------------------------\n",
      "Reading Halo Sat File=/home/athob/miniconda3/envs/main/.cache/Galaxia_ananke/GalaxiaData/nbody1/filenames/sim.txt\n",
      "Halo 1 Sat 0 fname nbody1/sim/sim.ebf 0\n",
      "nbody1/sim/sim.ebf 0\n",
      "No of Satellites   =1\n",
      "Generating catalog. Max allowed stars is 18446744073709551615\n",
      "Source numbering will start at 0\n",
      "Writing to /home/athob/Software/repos/py-ananke/py-Galaxia-ananke/jupyter/survey.sim.ebf\n",
      "Using geometry:                     All Sky\n",
      "setting center to 0 0 0 0 0 0\n",
      "Reading Isochrones from dir-        /home/athob/miniconda3/envs/main/.cache/Galaxia_ananke/GalaxiaData/Isochrones/padova/GAIADR2\n"
     ]
    },
    {
     "name": "stderr",
     "output_type": "stream",
     "text": [
      "nbody1/sim/\n",
      "\n",
      "\t1\t1\n",
      "\n",
      "path nbody1/sim/ sats 1 x[0] 1\n"
     ]
    },
    {
     "name": "stdout",
     "output_type": "stream",
     "text": [
      "Isochrone Grid Size:                (Age bins=71,Feh bins=34,Alpha bins=1)\n",
      "Time Isochrone Reading              1.86502     \n",
      "------------------------------\n",
      "nbody1/sim/sim.ebf  Sat No=0\n",
      "Particles=10000\n",
      "Satellite Info\n",
      "Particles=10000 Mass=5.49088e+07 0.379706\n",
      "Total Stars=780476 accepted=777213 rejected=3263\n",
      "-----------Done---------------\n",
      "Total stars written                 777213                  \n",
      "30\n",
      "File written-                       /home/athob/Software/repos/py-ananke/py-Galaxia-ananke/jupyter/survey.sim.ebf\n",
      "Calculating magnitudes in GAIADR2 system................\n",
      "initializing isochrone data\n",
      "interpolating on isochrone tables\n",
      "Appending spherical coordinates................\n",
      "Total Time=                         2.9913      \n",
      "Exported the following quantities to /home/athob/Software/repos/py-ananke/py-Galaxia-ananke/jupyter/survey.sim.h5\n",
      "['age', 'alpha', 'calcium', 'carbon', 'dec', 'dform', 'dmod', 'feh', 'gaiadr2_g_bpmag', 'gaiadr2_g_rpmag', 'gaiadr2_gmag', 'glat', 'glon', 'grav', 'helium', 'lum', 'mact', 'magnesium', 'mtip', 'neon', 'nitrogen', 'oxygen', 'parentid', 'partid', 'px', 'py', 'pz', 'ra', 'rad', 'silicon', 'smass', 'sulphur', 'teff', 'vx', 'vy', 'vz']\n",
      "Exported the following quantities to /home/athob/Software/repos/py-ananke/py-Galaxia-ananke/jupyter/survey.sim.h5\n",
      "['mub', 'mul', 'vr']\n",
      "Overwritten the following quantities to /home/athob/Software/repos/py-ananke/py-Galaxia-ananke/jupyter/survey.sim.h5\n",
      "('glon', 'glat', 'rad')\n",
      "Exported the following quantities to /home/athob/Software/repos/py-ananke/py-Galaxia-ananke/jupyter/survey.sim.h5\n",
      "['mura', 'mudec']\n",
      "Overwritten the following quantities to /home/athob/Software/repos/py-ananke/py-Galaxia-ananke/jupyter/survey.sim.h5\n",
      "('ra', 'dec')\n",
      "Exported the following quantities to /home/athob/Software/repos/py-ananke/py-Galaxia-ananke/jupyter/survey.sim.h5\n",
      "['pi']\n",
      "Overwritten the following quantities to /home/athob/Software/repos/py-ananke/py-Galaxia-ananke/jupyter/survey.sim.h5\n",
      "('grav', 'lum')\n"
     ]
    },
    {
     "data": {
      "text/html": [
       "<style>.vaex-description pre {\n",
       "          max-width : 450px;\n",
       "          white-space : nowrap;\n",
       "          overflow : hidden;\n",
       "          text-overflow: ellipsis;\n",
       "        }\n",
       "\n",
       "        .vex-description pre:hover {\n",
       "          max-width : initial;\n",
       "          white-space: pre;\n",
       "        }</style>"
      ],
      "text/plain": [
       "<IPython.core.display.HTML object>"
      ]
     },
     "metadata": {},
     "output_type": "display_data"
    },
    {
     "data": {
      "text/html": [
       "<table>\n",
       "<thead>\n",
       "<tr><th>#                                  </th><th>age              </th><th>alpha               </th><th>calcium            </th><th>carbon             </th><th>dec       </th><th>dform  </th><th>dmod              </th><th>feh                 </th><th>gaiadr2_g_bpmag  </th><th>gaiadr2_g_rpmag  </th><th>gaiadr2_gmag  </th><th>glat     </th><th>glon     </th><th>grav     </th><th>helium             </th><th>lum          </th><th>mact      </th><th>magnesium          </th><th>mtip     </th><th>mub                 </th><th>mudec               </th><th>mul                 </th><th>mura                 </th><th>neon               </th><th>nitrogen           </th><th>oxygen             </th><th>parentid  </th><th>partid  </th><th>pi                  </th><th>px                 </th><th>py                </th><th>pz                </th><th>ra       </th><th>rad              </th><th>silicon            </th><th>smass              </th><th>sulphur            </th><th>teff     </th><th>vr                </th><th>vx                </th><th>vy                 </th><th>vz                </th></tr>\n",
       "</thead>\n",
       "<tbody>\n",
       "<tr><td><i style='opacity: 0.6'>0</i>      </td><td>8.955413818359375</td><td>0.039958495646715164</td><td>-0.3540340065956116</td><td>-0.7935190200805664</td><td>-3.0187774</td><td>0.0    </td><td>18.951440350826058</td><td>-0.47136881947517395</td><td>11.126908        </td><td>9.054153         </td><td>10.04198      </td><td>28.416817</td><td>12.780675</td><td>90976.37 </td><td>-0.5525906682014465</td><td>0.013361397  </td><td>0.32670912</td><td>-0.4314103126525879</td><td>2.025267 </td><td>0.04085799708779068 </td><td>0.05314435298194126 </td><td>0.0367721129780034  </td><td>-0.014044283308395397</td><td>-1.0620990991592407</td><td>-0.1971900761127472</td><td>0.14263589680194855</td><td>0         </td><td>0       </td><td>0.016207346975789905</td><td>52.92156982421875  </td><td>12.004715919494629</td><td>29.362138748168945</td><td>248.63277</td><td>61.70041287409796</td><td>-0.3710511028766632</td><td>0.32651486763693804</td><td>-1.074652075767517 </td><td>3.5452332</td><td>30.880837645635175</td><td>18.561607360839844</td><td>15.239194869995117 </td><td>25.20623016357422 </td></tr>\n",
       "<tr><td><i style='opacity: 0.6'>1</i>      </td><td>8.955413818359375</td><td>0.039958495646715164</td><td>-0.3540340065956116</td><td>-0.7935190200805664</td><td>-3.0821116</td><td>0.0    </td><td>18.941661231326815</td><td>-0.47136881947517395</td><td>11.386944        </td><td>9.270209         </td><td>10.270541     </td><td>28.113365</td><td>12.919953</td><td>95957.836</td><td>-0.5525906682014465</td><td>0.011113583  </td><td>0.30133697</td><td>-0.4314103126525879</td><td>2.025267 </td><td>0.03610749015917615 </td><td>0.05394102981040885 </td><td>0.040847774843644734</td><td>-0.007915621166286031</td><td>-1.0620990991592407</td><td>-0.1971900761127472</td><td>0.14263589680194855</td><td>0         </td><td>1       </td><td>0.016280500566194588</td><td>52.80472101144267  </td><td>12.113251288266337</td><td>28.943682252976934</td><td>248.95435</td><td>61.42317282777139</td><td>-0.3710511028766632</td><td>0.30107596208136506</td><td>-1.074652075767517 </td><td>3.540497 </td><td>30.56444365309959 </td><td>18.787759928698584</td><td>16.51263110964875  </td><td>23.675668747780875</td></tr>\n",
       "<tr><td><i style='opacity: 0.6'>2</i>      </td><td>8.955413818359375</td><td>0.039958495646715164</td><td>-0.3540340065956116</td><td>-0.7935190200805664</td><td>-2.2526937</td><td>0.0    </td><td>18.95123159630622 </td><td>-0.47136881947517395</td><td>12.395295        </td><td>10.079496        </td><td>11.133261     </td><td>29.008272</td><td>13.383902</td><td>113780.53</td><td>-0.5525906682014465</td><td>0.0056239846 </td><td>0.21602225</td><td>-0.4314103126525879</td><td>2.025267 </td><td>0.040900226723989755</td><td>0.050337258882186584</td><td>0.033482960853032394</td><td>-0.01612754123183633 </td><td>-1.0620990991592407</td><td>-0.1971900761127472</td><td>0.14263589680194855</td><td>0         </td><td>1       </td><td>0.016208905144134884</td><td>52.489527220562266 </td><td>12.489185015926372</td><td>29.917868379799707</td><td>248.4256 </td><td>61.69448158945179</td><td>-0.3710511028766632</td><td>0.21582281895266564</td><td>-1.074652075767517 </td><td>3.5209978</td><td>31.556577391105833</td><td>18.938436347100875</td><td>14.57198332138615  </td><td>25.764031955441993</td></tr>\n",
       "<tr><td><i style='opacity: 0.6'>3</i>      </td><td>8.955413818359375</td><td>0.039958495646715164</td><td>-0.3540340065956116</td><td>-0.7935190200805664</td><td>-2.589396 </td><td>0.0    </td><td>18.971500765745   </td><td>-0.47136881947517395</td><td>13.407313        </td><td>10.819105        </td><td>11.936295     </td><td>28.3433  </td><td>13.417284</td><td>129644.72</td><td>-0.5525906682014465</td><td>0.0030702134 </td><td>0.16282208</td><td>-0.4314103126525879</td><td>2.025267 </td><td>0.03896227072046109 </td><td>0.047874087163383684</td><td>0.031816368986150645</td><td>-0.015440586266554208</td><td>-1.0620990991592407</td><td>-0.1971900761127472</td><td>0.14263589680194855</td><td>0         </td><td>1       </td><td>0.016058310343468923</td><td>53.31175992981669  </td><td>12.717648690549913</td><td>29.5643486102434  </td><td>249.00029</td><td>62.2730523081907 </td><td>-0.3710511028766632</td><td>0.16282207913433552</td><td>-1.074652075767517 </td><td>3.499763 </td><td>31.72310175726333 </td><td>19.66716191688233 </td><td>14.34750196319462  </td><td>25.183604778682703</td></tr>\n",
       "<tr><td><i style='opacity: 0.6'>4</i>      </td><td>8.955413818359375</td><td>0.039958495646715164</td><td>-0.3540340065956116</td><td>-0.7935190200805664</td><td>-3.0356622</td><td>0.0    </td><td>18.95232546294703 </td><td>-0.47136881947517395</td><td>5.585426         </td><td>4.808673         </td><td>5.2810493     </td><td>28.41639 </td><td>12.758045</td><td>40553.24 </td><td>-0.5525906682014465</td><td>0.5804881    </td><td>0.8526108 </td><td>-0.4314103126525879</td><td>2.025267 </td><td>0.03927469664685657 </td><td>0.05213756673455827 </td><td>0.03660223496969167 </td><td>-0.01280231882718371 </td><td>-1.0620990991592407</td><td>-0.1971900761127472</td><td>0.14263589680194855</td><td>0         </td><td>1       </td><td>0.016200742058338765</td><td>52.94809839246076  </td><td>11.988747162610302</td><td>29.373704576599593</td><td>248.62221</td><td>61.7255676560374 </td><td>-0.3710511028766632</td><td>0.852659319186179  </td><td>-1.074652075767517 </td><td>3.762665 </td><td>30.613686521129594</td><td>18.561417764894667</td><td>15.183987086266798 </td><td>24.675757885892374</td></tr>\n",
       "<tr><td>...                                </td><td>...              </td><td>...                 </td><td>...                </td><td>...                </td><td>...       </td><td>...    </td><td>...               </td><td>...                 </td><td>...              </td><td>...              </td><td>...           </td><td>...      </td><td>...      </td><td>...      </td><td>...                </td><td>...          </td><td>...       </td><td>...                </td><td>...      </td><td>...                 </td><td>...                 </td><td>...                 </td><td>...                  </td><td>...                </td><td>...                </td><td>...                </td><td>...       </td><td>...     </td><td>...                 </td><td>...                </td><td>...               </td><td>...               </td><td>...      </td><td>...              </td><td>...                </td><td>...                </td><td>...                </td><td>...      </td><td>...               </td><td>...               </td><td>...                </td><td>...               </td></tr>\n",
       "<tr><td><i style='opacity: 0.6'>777,208</i></td><td>9.305075645446777</td><td>-0.2378266155719757 </td><td>-1.3668785095214844</td><td>0.2941742241382599 </td><td>67.88377  </td><td>0.0    </td><td>19.08984882846014 </td><td>-0.8195078372955322 </td><td>10.028752        </td><td>8.23612          </td><td>9.135772      </td><td>34.641068</td><td>147.255  </td><td>79470.18 </td><td>-1.1140830516815186</td><td>0.025705868  </td><td>0.39582875</td><td>-1.0573344230651855</td><td>1.4649662</td><td>0.15104236792508602 </td><td>-0.2387995428638673 </td><td>0.20988900267481644 </td><td>0.09920672805726331  </td><td>-0.6839846968650818</td><td>-0.5307199358940125</td><td>-0.5255457162857056</td><td>9999      </td><td>1       </td><td>0.015206533894762748</td><td>-45.50584364389054 </td><td>29.264725783943927</td><td>37.3808796637365  </td><td>128.69136</td><td>65.76120547394486</td><td>-1.154412031173706 </td><td>0.39641837608173713</td><td>-0.8922590613365173</td><td>3.5807974</td><td>-84.71637933257317</td><td>45.74288533987937 </td><td>-107.21013934509946</td><td>-9.416774409131104</td></tr>\n",
       "<tr><td><i style='opacity: 0.6'>777,209</i></td><td>9.305075645446777</td><td>-0.2378266155719757 </td><td>-1.3668785095214844</td><td>0.2941742241382599 </td><td>67.866554 </td><td>0.0    </td><td>19.09518705925936 </td><td>-0.8195078372955322 </td><td>11.3353615       </td><td>9.368794         </td><td>10.323336     </td><td>35.20614 </td><td>147.10565</td><td>108735.71</td><td>-1.1140830516815186</td><td>0.009636581  </td><td>0.25832927</td><td>-1.0573344230651855</td><td>1.4649662</td><td>0.15214172402318563 </td><td>-0.23699808557184504</td><td>0.20512668383025665 </td><td>0.09516284405151533  </td><td>-0.6839846968650818</td><td>-0.5307199358940125</td><td>-0.5255457162857056</td><td>9999      </td><td>1       </td><td>0.015169196883430118</td><td>-45.22869829462978 </td><td>29.253426678645166</td><td>38.00595733662529 </td><td>130.22589</td><td>65.92306815480373</td><td>-1.154412031173706 </td><td>0.2596557748013721 </td><td>-0.8922590613365173</td><td>3.5547836</td><td>-83.28146763149124</td><td>45.34009533476344 </td><td>-105.6687175143691 </td><td>-9.164991978464814</td></tr>\n",
       "<tr><td><i style='opacity: 0.6'>777,210</i></td><td>9.305075645446777</td><td>-0.2378266155719757 </td><td>-1.3668785095214844</td><td>0.2941742241382599 </td><td>67.90475  </td><td>0.0    </td><td>19.092512930734607</td><td>-0.8195078372955322 </td><td>15.79261         </td><td>12.402233        </td><td>13.647504     </td><td>34.95792 </td><td>147.13521</td><td>195388.84</td><td>-1.1140830516815186</td><td>0.00081713474</td><td>0.09815717</td><td>-1.0573344230651855</td><td>1.4649662</td><td>0.1499642778144605  </td><td>-0.23723144229713378</td><td>0.2069947280902541  </td><td>0.09517009330518487  </td><td>-0.6839846968650818</td><td>-0.5307199358940125</td><td>-0.5255457162857056</td><td>9999      </td><td>1       </td><td>0.015187888978852919</td><td>-45.32580031656215 </td><td>29.283088078580743</td><td>37.72576032423963 </td><td>129.57123</td><td>65.8419350702632 </td><td>-1.154412031173706 </td><td>0.09819833921359898</td><td>-0.8922590613365173</td><td>3.4552758</td><td>-83.17486575897009</td><td>44.72496087966131 </td><td>-105.81293308546591</td><td>-9.295240768478358</td></tr>\n",
       "<tr><td><i style='opacity: 0.6'>777,211</i></td><td>9.305075645446777</td><td>-0.2378266155719757 </td><td>-1.3668785095214844</td><td>0.2941742241382599 </td><td>68.17257  </td><td>0.0    </td><td>19.092908461005425</td><td>-0.8195078372955322 </td><td>12.776528        </td><td>10.526013        </td><td>11.560607     </td><td>34.676853</td><td>146.88367</td><td>137752.69</td><td>-1.1140830516815186</td><td>0.0036202532 </td><td>0.16208944</td><td>-1.0573344230651855</td><td>1.4649662</td><td>0.15418127842840454 </td><td>-0.228964396414674  </td><td>0.19817078121171858 </td><td>0.10304771555765209  </td><td>-0.6839846968650818</td><td>-0.5307199358940125</td><td>-0.5255457162857056</td><td>9999      </td><td>1       </td><td>0.015185122780792808</td><td>-45.359527993080604</td><td>29.587935121273997</td><td>37.46741654089912 </td><td>128.97382</td><td>65.85392916709696</td><td>-1.154412031173706 </td><td>0.16195700902109328</td><td>-0.8922590613365173</td><td>3.525184 </td><td>-84.19035029103226</td><td>47.12662601904653 </td><td>-104.60332696754912</td><td>-8.317290848247115</td></tr>\n",
       "<tr><td><i style='opacity: 0.6'>777,212</i></td><td>9.305075645446777</td><td>-0.2378266155719757 </td><td>-1.3668785095214844</td><td>0.2941742241382599 </td><td>67.86709  </td><td>0.0    </td><td>19.09257235792426 </td><td>-0.8195078372955322 </td><td>11.217975        </td><td>9.269393         </td><td>10.218345     </td><td>34.943745</td><td>147.18689</td><td>106447.83</td><td>-1.1140830516815186</td><td>0.010498018  </td><td>0.26975194</td><td>-1.0573344230651855</td><td>1.4649662</td><td>0.15018288339371316 </td><td>-0.2366093904358965 </td><td>0.20645142663408825 </td><td>0.09588060451988702  </td><td>-0.6839846968650818</td><td>-0.5307199358940125</td><td>-0.5255457162857056</td><td>9999      </td><td>1       </td><td>0.015187473334056126</td><td>-45.3612825503773  </td><td>29.248042045262178</td><td>37.71344302602736 </td><td>129.50743</td><td>65.84373700644579</td><td>-1.154412031173706 </td><td>0.27107347928218684</td><td>-0.8922590613365173</td><td>3.5570195</td><td>-83.12894810808582</td><td>44.91509873488485 </td><td>-105.63392837975171</td><td>-9.188461882510524</td></tr>\n",
       "</tbody>\n",
       "</table>"
      ],
      "text/plain": [
       "#        age                alpha                 calcium              carbon               dec         dform    dmod                feh                   gaiadr2_g_bpmag    gaiadr2_g_rpmag    gaiadr2_gmag    glat       glon       grav       helium               lum            mact        magnesium            mtip       mub                   mudec                 mul                   mura                   neon                 nitrogen             oxygen               parentid    partid    pi                    px                   py                  pz                  ra         rad                silicon              smass                sulphur              teff       vr                  vx                  vy                   vz\n",
       "0        8.955413818359375  0.039958495646715164  -0.3540340065956116  -0.7935190200805664  -3.0187774  0.0      18.951440350826058  -0.47136881947517395  11.126908          9.054153           10.04198        28.416817  12.780675  90976.37   -0.5525906682014465  0.013361397    0.32670912  -0.4314103126525879  2.025267   0.04085799708779068   0.05314435298194126   0.0367721129780034    -0.014044283308395397  -1.0620990991592407  -0.1971900761127472  0.14263589680194855  0           0         0.016207346975789905  52.92156982421875    12.004715919494629  29.362138748168945  248.63277  61.70041287409796  -0.3710511028766632  0.32651486763693804  -1.074652075767517   3.5452332  30.880837645635175  18.561607360839844  15.239194869995117   25.20623016357422\n",
       "1        8.955413818359375  0.039958495646715164  -0.3540340065956116  -0.7935190200805664  -3.0821116  0.0      18.941661231326815  -0.47136881947517395  11.386944          9.270209           10.270541       28.113365  12.919953  95957.836  -0.5525906682014465  0.011113583    0.30133697  -0.4314103126525879  2.025267   0.03610749015917615   0.05394102981040885   0.040847774843644734  -0.007915621166286031  -1.0620990991592407  -0.1971900761127472  0.14263589680194855  0           1         0.016280500566194588  52.80472101144267    12.113251288266337  28.943682252976934  248.95435  61.42317282777139  -0.3710511028766632  0.30107596208136506  -1.074652075767517   3.540497   30.56444365309959   18.787759928698584  16.51263110964875    23.675668747780875\n",
       "2        8.955413818359375  0.039958495646715164  -0.3540340065956116  -0.7935190200805664  -2.2526937  0.0      18.95123159630622   -0.47136881947517395  12.395295          10.079496          11.133261       29.008272  13.383902  113780.53  -0.5525906682014465  0.0056239846   0.21602225  -0.4314103126525879  2.025267   0.040900226723989755  0.050337258882186584  0.033482960853032394  -0.01612754123183633   -1.0620990991592407  -0.1971900761127472  0.14263589680194855  0           1         0.016208905144134884  52.489527220562266   12.489185015926372  29.917868379799707  248.4256   61.69448158945179  -0.3710511028766632  0.21582281895266564  -1.074652075767517   3.5209978  31.556577391105833  18.938436347100875  14.57198332138615    25.764031955441993\n",
       "3        8.955413818359375  0.039958495646715164  -0.3540340065956116  -0.7935190200805664  -2.589396   0.0      18.971500765745     -0.47136881947517395  13.407313          10.819105          11.936295       28.3433    13.417284  129644.72  -0.5525906682014465  0.0030702134   0.16282208  -0.4314103126525879  2.025267   0.03896227072046109   0.047874087163383684  0.031816368986150645  -0.015440586266554208  -1.0620990991592407  -0.1971900761127472  0.14263589680194855  0           1         0.016058310343468923  53.31175992981669    12.717648690549913  29.5643486102434    249.00029  62.2730523081907   -0.3710511028766632  0.16282207913433552  -1.074652075767517   3.499763   31.72310175726333   19.66716191688233   14.34750196319462    25.183604778682703\n",
       "4        8.955413818359375  0.039958495646715164  -0.3540340065956116  -0.7935190200805664  -3.0356622  0.0      18.95232546294703   -0.47136881947517395  5.585426           4.808673           5.2810493       28.41639   12.758045  40553.24   -0.5525906682014465  0.5804881      0.8526108   -0.4314103126525879  2.025267   0.03927469664685657   0.05213756673455827   0.03660223496969167   -0.01280231882718371   -1.0620990991592407  -0.1971900761127472  0.14263589680194855  0           1         0.016200742058338765  52.94809839246076    11.988747162610302  29.373704576599593  248.62221  61.7255676560374   -0.3710511028766632  0.852659319186179    -1.074652075767517   3.762665   30.613686521129594  18.561417764894667  15.183987086266798   24.675757885892374\n",
       "...      ...                ...                   ...                  ...                  ...         ...      ...                 ...                   ...                ...                ...             ...        ...        ...        ...                  ...            ...         ...                  ...        ...                   ...                   ...                   ...                    ...                  ...                  ...                  ...         ...       ...                   ...                  ...                 ...                 ...        ...                ...                  ...                  ...                  ...        ...                 ...                 ...                  ...\n",
       "777,208  9.305075645446777  -0.2378266155719757   -1.3668785095214844  0.2941742241382599   67.88377    0.0      19.08984882846014   -0.8195078372955322   10.028752          8.23612            9.135772        34.641068  147.255    79470.18   -1.1140830516815186  0.025705868    0.39582875  -1.0573344230651855  1.4649662  0.15104236792508602   -0.2387995428638673   0.20988900267481644   0.09920672805726331    -0.6839846968650818  -0.5307199358940125  -0.5255457162857056  9999        1         0.015206533894762748  -45.50584364389054   29.264725783943927  37.3808796637365    128.69136  65.76120547394486  -1.154412031173706   0.39641837608173713  -0.8922590613365173  3.5807974  -84.71637933257317  45.74288533987937   -107.21013934509946  -9.416774409131104\n",
       "777,209  9.305075645446777  -0.2378266155719757   -1.3668785095214844  0.2941742241382599   67.866554   0.0      19.09518705925936   -0.8195078372955322   11.3353615         9.368794           10.323336       35.20614   147.10565  108735.71  -1.1140830516815186  0.009636581    0.25832927  -1.0573344230651855  1.4649662  0.15214172402318563   -0.23699808557184504  0.20512668383025665   0.09516284405151533    -0.6839846968650818  -0.5307199358940125  -0.5255457162857056  9999        1         0.015169196883430118  -45.22869829462978   29.253426678645166  38.00595733662529   130.22589  65.92306815480373  -1.154412031173706   0.2596557748013721   -0.8922590613365173  3.5547836  -83.28146763149124  45.34009533476344   -105.6687175143691   -9.164991978464814\n",
       "777,210  9.305075645446777  -0.2378266155719757   -1.3668785095214844  0.2941742241382599   67.90475    0.0      19.092512930734607  -0.8195078372955322   15.79261           12.402233          13.647504       34.95792   147.13521  195388.84  -1.1140830516815186  0.00081713474  0.09815717  -1.0573344230651855  1.4649662  0.1499642778144605    -0.23723144229713378  0.2069947280902541    0.09517009330518487    -0.6839846968650818  -0.5307199358940125  -0.5255457162857056  9999        1         0.015187888978852919  -45.32580031656215   29.283088078580743  37.72576032423963   129.57123  65.8419350702632   -1.154412031173706   0.09819833921359898  -0.8922590613365173  3.4552758  -83.17486575897009  44.72496087966131   -105.81293308546591  -9.295240768478358\n",
       "777,211  9.305075645446777  -0.2378266155719757   -1.3668785095214844  0.2941742241382599   68.17257    0.0      19.092908461005425  -0.8195078372955322   12.776528          10.526013          11.560607       34.676853  146.88367  137752.69  -1.1140830516815186  0.0036202532   0.16208944  -1.0573344230651855  1.4649662  0.15418127842840454   -0.228964396414674    0.19817078121171858   0.10304771555765209    -0.6839846968650818  -0.5307199358940125  -0.5255457162857056  9999        1         0.015185122780792808  -45.359527993080604  29.587935121273997  37.46741654089912   128.97382  65.85392916709696  -1.154412031173706   0.16195700902109328  -0.8922590613365173  3.525184   -84.19035029103226  47.12662601904653   -104.60332696754912  -8.317290848247115\n",
       "777,212  9.305075645446777  -0.2378266155719757   -1.3668785095214844  0.2941742241382599   67.86709    0.0      19.09257235792426   -0.8195078372955322   11.217975          9.269393           10.218345       34.943745  147.18689  106447.83  -1.1140830516815186  0.010498018    0.26975194  -1.0573344230651855  1.4649662  0.15018288339371316   -0.2366093904358965   0.20645142663408825   0.09588060451988702    -0.6839846968650818  -0.5307199358940125  -0.5255457162857056  9999        1         0.015187473334056126  -45.3612825503773    29.248042045262178  37.71344302602736   129.50743  65.84373700644579  -1.154412031173706   0.27107347928218684  -0.8922590613365173  3.5570195  -83.12894810808582  44.91509873488485   -105.63392837975171  -9.188461882510524"
      ]
     },
     "execution_count": 3,
     "metadata": {},
     "output_type": "execute_result"
    }
   ],
   "source": [
    "output = Galaxia_ananke.make_survey_from_particles(p, rho['pos'], rho['vel'], fsample=0.01)#, simname='sim', surveyname='survey', fsample=1, ngb=64, **kwargs):\n",
    "output"
   ]
  },
  {
   "attachments": {},
   "cell_type": "markdown",
   "id": "5744efd0",
   "metadata": {},
   "source": [
    "Using LSST photometric system"
   ]
  },
  {
   "cell_type": "code",
   "execution_count": 4,
   "id": "3e04243e",
   "metadata": {},
   "outputs": [
    {
     "name": "stdout",
     "output_type": "stream",
     "text": [
      "/home/athob/miniconda3/envs/main/.cache/Galaxia_ananke/bin/galaxia -r --hdim=6 --nfile=sim /home/athob/Software/repos/py-ananke/py-Galaxia-ananke/jupyter/survey_params\n",
      "CODEDATAPATH=/home/athob/miniconda3/envs/main/.cache/Galaxia_ananke/GalaxiaData/\n",
      "Reading Parameter file-             /home/athob/Software/repos/py-ananke/py-Galaxia-ananke/jupyter/survey_params\n",
      "--------------------------------------------------------\n",
      "outputFile               survey                  \n",
      "outputDir                /home/athob/Software/repos/py-ananke/py-Galaxia-ananke/jupyter\n",
      "photoCateg               padova                  \n",
      "photoSys                 LSST                    \n",
      "magcolorNames            rmag,gmag-rmag          \n",
      "appMagLimits[0]          -1000                   \n",
      "appMagLimits[1]          1000                    \n",
      "absMagLimits[0]          -1000                   \n",
      "absMagLimits[1]          20                      \n",
      "colorLimits[0]           -1000                   \n",
      "colorLimits[1]           1000                    \n",
      "geometryOption           0                       \n",
      "surveyArea               207.455                 \n",
      "fSample                  0.01                    \n",
      "popID                    10                      \n",
      "warpFlareOn              0                       \n",
      "longitude                76.273                  \n",
      "latitude                 13.4725                 \n",
      "starType                 0                       \n",
      "photoError               0                       \n",
      "seed                     17052                   \n",
      "r_max                    500                     \n",
      "r_min                    0                       \n",
      "nres                     64                      \n",
      "nstart                   0                       \n",
      "rSun[0]                  0.0                     \n",
      "rSun[1]                  0.0                     \n",
      "rSun[2]                  0.0                     \n",
      "vSun[0]                  0.0                     \n",
      "vSun[1]                  0.0                     \n",
      "vSun[2]                  0.0                     \n",
      "--------------------------------------------------------\n",
      "Reading Halo Sat File=/home/athob/miniconda3/envs/main/.cache/Galaxia_ananke/GalaxiaData/nbody1/filenames/sim.txt\n",
      "Halo 1 Sat 0 fname nbody1/sim/sim.ebf 0\n",
      "nbody1/sim/sim.ebf 0\n",
      "No of Satellites   =1\n",
      "Generating catalog. Max allowed stars is 18446744073709551615\n",
      "Source numbering will start at 0\n",
      "Writing to /home/athob/Software/repos/py-ananke/py-Galaxia-ananke/jupyter/survey.sim.ebf\n",
      "Using geometry:                     All Sky\n",
      "setting center to 0 0 0 0 0 0\n",
      "Reading Isochrones from dir-        /home/athob/miniconda3/envs/main/.cache/Galaxia_ananke/GalaxiaData/Isochrones/padova/LSST\n"
     ]
    },
    {
     "name": "stderr",
     "output_type": "stream",
     "text": [
      "nbody1/sim/\n",
      "\n",
      "\t1\t1\n",
      "\n",
      "path nbody1/sim/ sats 1 x[0] 1\n"
     ]
    },
    {
     "name": "stdout",
     "output_type": "stream",
     "text": [
      "Isochrone Grid Size:                (Age bins=71,Feh bins=34,Alpha bins=1)\n",
      "Time Isochrone Reading              1.40553     \n",
      "------------------------------\n",
      "nbody1/sim/sim.ebf  Sat No=0\n",
      "Particles=10000\n",
      "Satellite Info\n",
      "Particles=10000 Mass=5.49088e+07 0.379706\n",
      "Total Stars=781138 accepted=777898 rejected=3240\n",
      "-----------Done---------------\n",
      "Total stars written                 777898                  \n",
      "30\n",
      "File written-                       /home/athob/Software/repos/py-ananke/py-Galaxia-ananke/jupyter/survey.sim.ebf\n",
      "Calculating magnitudes in LSST system................\n",
      "initializing isochrone data\n",
      "interpolating on isochrone tables\n",
      "Appending spherical coordinates................\n",
      "Total Time=                         2.62795     \n",
      "Exported the following quantities to /home/athob/Software/repos/py-ananke/py-Galaxia-ananke/jupyter/survey.sim.h5\n",
      "['age', 'alpha', 'calcium', 'carbon', 'dec', 'dform', 'dmod', 'feh', 'glat', 'glon', 'grav', 'helium', 'lsst_gmag', 'lsst_imag', 'lsst_rmag', 'lsst_umag', 'lsst_ymag', 'lsst_zmag', 'lum', 'mact', 'magnesium', 'mtip', 'neon', 'nitrogen', 'oxygen', 'parentid', 'partid', 'px', 'py', 'pz', 'ra', 'rad', 'silicon', 'smass', 'sulphur', 'teff', 'vx', 'vy', 'vz']\n",
      "Exported the following quantities to /home/athob/Software/repos/py-ananke/py-Galaxia-ananke/jupyter/survey.sim.h5\n",
      "['mub', 'mul', 'vr']\n",
      "Overwritten the following quantities to /home/athob/Software/repos/py-ananke/py-Galaxia-ananke/jupyter/survey.sim.h5\n",
      "('glon', 'glat', 'rad')\n",
      "Exported the following quantities to /home/athob/Software/repos/py-ananke/py-Galaxia-ananke/jupyter/survey.sim.h5\n",
      "['mura', 'mudec']\n",
      "Overwritten the following quantities to /home/athob/Software/repos/py-ananke/py-Galaxia-ananke/jupyter/survey.sim.h5\n",
      "('ra', 'dec')\n",
      "Exported the following quantities to /home/athob/Software/repos/py-ananke/py-Galaxia-ananke/jupyter/survey.sim.h5\n",
      "['pi']\n",
      "Overwritten the following quantities to /home/athob/Software/repos/py-ananke/py-Galaxia-ananke/jupyter/survey.sim.h5\n",
      "('grav', 'lum')\n"
     ]
    },
    {
     "data": {
      "text/html": [
       "<style>.vaex-description pre {\n",
       "          max-width : 450px;\n",
       "          white-space : nowrap;\n",
       "          overflow : hidden;\n",
       "          text-overflow: ellipsis;\n",
       "        }\n",
       "\n",
       "        .vex-description pre:hover {\n",
       "          max-width : initial;\n",
       "          white-space: pre;\n",
       "        }</style>"
      ],
      "text/plain": [
       "<IPython.core.display.HTML object>"
      ]
     },
     "metadata": {},
     "output_type": "display_data"
    },
    {
     "data": {
      "text/html": [
       "<table>\n",
       "<thead>\n",
       "<tr><th>#                                  </th><th>age              </th><th>alpha               </th><th>calcium            </th><th>carbon             </th><th>dec       </th><th>dform  </th><th>dmod              </th><th>feh                 </th><th>glat     </th><th>glon     </th><th>grav     </th><th>helium             </th><th>lsst_gmag  </th><th>lsst_imag  </th><th>lsst_rmag  </th><th>lsst_umag  </th><th>lsst_ymag  </th><th>lsst_zmag  </th><th>lum         </th><th>mact      </th><th>magnesium          </th><th>mtip     </th><th>mub                 </th><th>mudec               </th><th>mul                 </th><th>mura                 </th><th>neon               </th><th>nitrogen           </th><th>oxygen             </th><th>parentid  </th><th>partid  </th><th>pi                  </th><th>px                 </th><th>py                </th><th>pz                </th><th>ra       </th><th>rad              </th><th>silicon            </th><th>smass              </th><th>sulphur            </th><th>teff     </th><th>vr                </th><th>vx                </th><th>vy                 </th><th>vz                 </th></tr>\n",
       "</thead>\n",
       "<tbody>\n",
       "<tr><td><i style='opacity: 0.6'>0</i>      </td><td>8.955413818359375</td><td>0.039958495646715164</td><td>-0.3540340065956116</td><td>-0.7935190200805664</td><td>-3.0187774</td><td>0.0    </td><td>18.951440350826058</td><td>-0.47136881947517395</td><td>28.416817</td><td>12.780675</td><td>90550.15 </td><td>-0.5525906682014465</td><td>11.814668  </td><td>9.547248   </td><td>10.4232235 </td><td>14.944483  </td><td>8.925199   </td><td>9.120841   </td><td>0.0127317635</td><td>0.3256295 </td><td>-0.4314103126525879</td><td>2.0520527</td><td>0.04085799708779068 </td><td>0.05314435298194126 </td><td>0.0367721129780034  </td><td>-0.014044283308395397</td><td>-1.0620990991592407</td><td>-0.1971900761127472</td><td>0.14263589680194855</td><td>0         </td><td>0       </td><td>0.016207346975789905</td><td>52.92156982421875  </td><td>12.004715919494629</td><td>29.362138748168945</td><td>248.63277</td><td>61.70041287409796</td><td>-0.3710511028766632</td><td>0.32685696251341934</td><td>-1.074652075767517 </td><td>3.5396578</td><td>30.880837645635175</td><td>18.561607360839844</td><td>15.239194869995117 </td><td>25.20623016357422  </td></tr>\n",
       "<tr><td><i style='opacity: 0.6'>1</i>      </td><td>8.955413818359375</td><td>0.039958495646715164</td><td>-0.3540340065956116</td><td>-0.7935190200805664</td><td>-3.0821116</td><td>0.0    </td><td>18.941661231326815</td><td>-0.47136881947517395</td><td>28.113365</td><td>12.919953</td><td>95531.35 </td><td>-0.5525906682014465</td><td>12.077761  </td><td>9.762882   </td><td>10.675743  </td><td>15.2433195 </td><td>9.118245   </td><td>9.318753   </td><td>0.010647819 </td><td>0.3004575 </td><td>-0.4314103126525879</td><td>2.0520527</td><td>0.03610749015917615 </td><td>0.05394102981040885 </td><td>0.040847774843644734</td><td>-0.007915621166286031</td><td>-1.0620990991592407</td><td>-0.1971900761127472</td><td>0.14263589680194855</td><td>0         </td><td>1       </td><td>0.016280500566194588</td><td>52.80472101144267  </td><td>12.113251288266337</td><td>28.943682252976934</td><td>248.95435</td><td>61.42317282777139</td><td>-0.3710511028766632</td><td>0.3013677440371474 </td><td>-1.074652075767517 </td><td>3.534912 </td><td>30.56444365309959 </td><td>18.787759928698584</td><td>16.51263110964875  </td><td>23.675668747780875 </td></tr>\n",
       "<tr><td><i style='opacity: 0.6'>2</i>      </td><td>8.955413818359375</td><td>0.039958495646715164</td><td>-0.3540340065956116</td><td>-0.7935190200805664</td><td>-2.2526937</td><td>0.0    </td><td>18.95123159630622 </td><td>-0.47136881947517395</td><td>29.008272</td><td>13.383902</td><td>112574.68</td><td>-0.5525906682014465</td><td>13.179893  </td><td>10.6199045 </td><td>11.725874  </td><td>16.566612  </td><td>9.868971   </td><td>10.095454  </td><td>0.0052974075</td><td>0.21518832</td><td>-0.4314103126525879</td><td>2.0520527</td><td>0.040900226723989755</td><td>0.050337258882186584</td><td>0.033482960853032394</td><td>-0.01612754123183633 </td><td>-1.0620990991592407</td><td>-0.1971900761127472</td><td>0.14263589680194855</td><td>0         </td><td>1       </td><td>0.016208905144134884</td><td>52.489527220562266 </td><td>12.489185015926372</td><td>29.917868379799707</td><td>248.4256 </td><td>61.69448158945179</td><td>-0.3710511028766632</td><td>0.21596653094270554</td><td>-1.074652075767517 </td><td>3.5138927</td><td>31.556577391105833</td><td>18.938436347100875</td><td>14.57198332138615  </td><td>25.764031955441993 </td></tr>\n",
       "<tr><td><i style='opacity: 0.6'>3</i>      </td><td>8.955413818359375</td><td>0.039958495646715164</td><td>-0.3540340065956116</td><td>-0.7935190200805664</td><td>-2.589396 </td><td>0.0    </td><td>18.971500765745   </td><td>-0.47136881947517395</td><td>28.3433  </td><td>13.417284</td><td>128240.32</td><td>-0.5525906682014465</td><td>14.2647    </td><td>11.39878   </td><td>12.758788  </td><td>17.946392  </td><td>10.524056  </td><td>10.781293  </td><td>0.0028832862</td><td>0.16220216</td><td>-0.4314103126525879</td><td>2.0520527</td><td>0.03896227072046109 </td><td>0.047874087163383684</td><td>0.031816368986150645</td><td>-0.015440586266554208</td><td>-1.0620990991592407</td><td>-0.1971900761127472</td><td>0.14263589680194855</td><td>0         </td><td>1       </td><td>0.016058310343468923</td><td>53.31175992981669  </td><td>12.717648690549913</td><td>29.5643486102434  </td><td>249.00029</td><td>62.2730523081907 </td><td>-0.3710511028766632</td><td>0.16289241615423433</td><td>-1.074652075767517 </td><td>3.4921236</td><td>31.72310175726333 </td><td>19.66716191688233 </td><td>14.34750196319462  </td><td>25.183604778682703 </td></tr>\n",
       "<tr><td><i style='opacity: 0.6'>4</i>      </td><td>8.955413818359375</td><td>0.039958495646715164</td><td>-0.3540340065956116</td><td>-0.7935190200805664</td><td>-3.0356622</td><td>0.0    </td><td>18.95232546294703 </td><td>-0.47136881947517395</td><td>28.41639 </td><td>12.758045</td><td>40307.004</td><td>-0.5525906682014465</td><td>5.749734   </td><td>5.2037826  </td><td>5.327181   </td><td>6.9090657  </td><td>5.164723   </td><td>5.177592   </td><td>0.55535775  </td><td>0.8556554 </td><td>-0.4314103126525879</td><td>2.0520527</td><td>0.03927469664685657 </td><td>0.05213756673455827 </td><td>0.03660223496969167 </td><td>-0.01280231882718371 </td><td>-1.0620990991592407</td><td>-0.1971900761127472</td><td>0.14263589680194855</td><td>0         </td><td>1       </td><td>0.016200742058338765</td><td>52.94809839246076  </td><td>11.988747162610302</td><td>29.373704576599593</td><td>248.62221</td><td>61.7255676560374 </td><td>-0.3710511028766632</td><td>0.8556553660362554 </td><td>-1.074652075767517 </td><td>3.7570758</td><td>30.613686521129594</td><td>18.561417764894667</td><td>15.183987086266798 </td><td>24.675757885892374 </td></tr>\n",
       "<tr><td>...                                </td><td>...              </td><td>...                 </td><td>...                </td><td>...                </td><td>...       </td><td>...    </td><td>...               </td><td>...                 </td><td>...      </td><td>...      </td><td>...      </td><td>...                </td><td>...        </td><td>...        </td><td>...        </td><td>...        </td><td>...        </td><td>...        </td><td>...         </td><td>...       </td><td>...                </td><td>...      </td><td>...                 </td><td>...                 </td><td>...                 </td><td>...                  </td><td>...                </td><td>...                </td><td>...                </td><td>...       </td><td>...     </td><td>...                 </td><td>...                </td><td>...               </td><td>...               </td><td>...      </td><td>...              </td><td>...                </td><td>...                </td><td>...                </td><td>...      </td><td>...               </td><td>...               </td><td>...                </td><td>...                </td></tr>\n",
       "<tr><td><i style='opacity: 0.6'>777,893</i></td><td>9.305075645446777</td><td>-0.2378266155719757 </td><td>-1.3668785095214844</td><td>0.2941742241382599 </td><td>67.96691  </td><td>0.0    </td><td>19.1019554882725  </td><td>-0.8195078372955322 </td><td>35.056557</td><td>147.02635</td><td>50707.914</td><td>-1.1140830516815186</td><td>7.307274   </td><td>6.40013    </td><td>6.6385884  </td><td>8.992604   </td><td>6.2399406  </td><td>6.3021703  </td><td>0.18078534  </td><td>0.64411825</td><td>-1.0573344230651855</td><td>1.4815284</td><td>0.1494687382578198  </td><td>-0.23777265336287057</td><td>0.20708110383083259 </td><td>0.09320759838807936  </td><td>-0.6839846968650818</td><td>-0.5307199358940125</td><td>-0.5255457162857056</td><td>9999      </td><td>1       </td><td>0.015121988461430558</td><td>-45.41257789949731 </td><td>29.461591372705012</td><td>37.983414408562076</td><td>129.88412</td><td>66.1288693977352 </td><td>-1.154412031173706 </td><td>0.6441780986755028 </td><td>-0.8922590613365173</td><td>3.690867 </td><td>-82.11109516314872</td><td>43.635248677122036</td><td>-105.68912210199437</td><td>-8.807924083065783 </td></tr>\n",
       "<tr><td><i style='opacity: 0.6'>777,894</i></td><td>9.305075645446777</td><td>-0.2378266155719757 </td><td>-1.3668785095214844</td><td>0.2941742241382599 </td><td>67.62238  </td><td>0.0    </td><td>19.083316245166262</td><td>-0.8195078372955322 </td><td>34.727184</td><td>147.55698</td><td>53930.496</td><td>-1.1140830516815186</td><td>8.137574   </td><td>6.9666467  </td><td>7.28515    </td><td>10.156084  </td><td>6.7273517  </td><td>6.8209777  </td><td>0.1101942   </td><td>0.5803311 </td><td>-1.0573344230651855</td><td>1.4815284</td><td>0.150726911785634   </td><td>-0.2390273160963923 </td><td>0.21038260465143    </td><td>0.0992239189896952   </td><td>-0.6839846968650818</td><td>-0.5307199358940125</td><td>-0.5255457162857056</td><td>9999      </td><td>1       </td><td>0.01525234959163201 </td><td>-45.474972299727   </td><td>28.9072145911995  </td><td>37.34962557798999 </td><td>128.76392</td><td>65.56366899357172</td><td>-1.154412031173706 </td><td>0.5809858794598144 </td><td>-0.8922590613365173</td><td>3.6548612</td><td>-82.1334258863726 </td><td>44.411728279119814</td><td>-105.71149463381076</td><td>-8.287145317264237 </td></tr>\n",
       "<tr><td><i style='opacity: 0.6'>777,895</i></td><td>9.305075645446777</td><td>-0.2378266155719757 </td><td>-1.3668785095214844</td><td>0.2941742241382599 </td><td>67.62114  </td><td>0.0    </td><td>19.0956506882002  </td><td>-0.8195078372955322 </td><td>35.208042</td><td>147.41531</td><td>101188.63</td><td>-1.1140830516815186</td><td>11.687777  </td><td>9.561444   </td><td>10.286666  </td><td>14.835116  </td><td>9.038309   </td><td>9.212344   </td><td>0.01173456  </td><td>0.2918338 </td><td>-1.0573344230651855</td><td>1.4815284</td><td>0.146454381346552   </td><td>-0.23935114288974715</td><td>0.20957964487737848 </td><td>0.08990850390664051  </td><td>-0.6839846968650818</td><td>-0.5307199358940125</td><td>-0.5255457162857056</td><td>9999      </td><td>1       </td><td>0.015165958468833807</td><td>-45.39476505229522 </td><td>29.014074868431656</td><td>38.01586291687723 </td><td>130.06323</td><td>65.9371448270157 </td><td>-1.154412031173706 </td><td>0.29268865429898494</td><td>-0.8922590613365173</td><td>3.5547678</td><td>-82.84207925789188</td><td>43.992130621855964</td><td>-105.86412900176987</td><td>-10.359043544325473</td></tr>\n",
       "<tr><td><i style='opacity: 0.6'>777,896</i></td><td>9.305075645446777</td><td>-0.2378266155719757 </td><td>-1.3668785095214844</td><td>0.2941742241382599 </td><td>67.91621  </td><td>0.0    </td><td>19.095972975606056</td><td>-0.8195078372955322 </td><td>35.050354</td><td>147.09224</td><td>52470.12 </td><td>-1.1140830516815186</td><td>7.7530823  </td><td>6.7070622  </td><td>6.98758    </td><td>9.622709   </td><td>6.504435   </td><td>6.5841293  </td><td>0.13804834  </td><td>0.60916585</td><td>-1.0573344230651855</td><td>1.4815284</td><td>0.1481009425365728  </td><td>-0.2360510731348563 </td><td>0.20579784687809344 </td><td>0.09255555158273432  </td><td>-0.6839846968650818</td><td>-0.5307199358940125</td><td>-0.5255457162857056</td><td>9999      </td><td>1       </td><td>0.01516370772197276 </td><td>-45.324837330271386</td><td>29.330660768457935</td><td>37.87306803798793 </td><td>129.83247</td><td>65.94693186752498</td><td>-1.154412031173706 </td><td>0.6094272410447537 </td><td>-0.8922590613365173</td><td>3.6713233</td><td>-83.1706247140893 </td><td>44.532435196504906</td><td>-105.4502439158934 </td><td>-9.86180489983688  </td></tr>\n",
       "<tr><td><i style='opacity: 0.6'>777,897</i></td><td>9.305075645446777</td><td>-0.2378266155719757 </td><td>-1.3668785095214844</td><td>0.2941742241382599 </td><td>67.94224  </td><td>0.0    </td><td>19.093699729785335</td><td>-0.8195078372955322 </td><td>34.90092 </td><td>147.10544</td><td>143004.98</td><td>-1.1140830516815186</td><td>14.010173  </td><td>11.338973  </td><td>12.46287   </td><td>17.778406  </td><td>10.610271  </td><td>10.830129  </td><td>0.0027105433</td><td>0.14618951</td><td>-1.0573344230651855</td><td>1.4815284</td><td>0.15031026651366178 </td><td>-0.23783767501242015</td><td>0.20771305708588242 </td><td>0.09576605466589547  </td><td>-0.6839846968650818</td><td>-0.5307199358940125</td><td>-0.5255457162857056</td><td>9999      </td><td>1       </td><td>0.01517959044033763 </td><td>-45.3668630644982  </td><td>29.34302602259432 </td><td>37.69265513810155 </td><td>129.4398 </td><td>65.87793023339025</td><td>-1.154412031173706 </td><td>0.14633686178285027</td><td>-0.8922590613365173</td><td>3.5084913</td><td>-83.5408912684141 </td><td>44.8529750664746  </td><td>-106.26372428093374</td><td>-9.300565338845711 </td></tr>\n",
       "</tbody>\n",
       "</table>"
      ],
      "text/plain": [
       "#        age                alpha                 calcium              carbon               dec         dform    dmod                feh                   glat       glon       grav       helium               lsst_gmag    lsst_imag    lsst_rmag    lsst_umag    lsst_ymag    lsst_zmag    lum           mact        magnesium            mtip       mub                   mudec                 mul                   mura                   neon                 nitrogen             oxygen               parentid    partid    pi                    px                   py                  pz                  ra         rad                silicon              smass                sulphur              teff       vr                  vx                  vy                   vz\n",
       "0        8.955413818359375  0.039958495646715164  -0.3540340065956116  -0.7935190200805664  -3.0187774  0.0      18.951440350826058  -0.47136881947517395  28.416817  12.780675  90550.15   -0.5525906682014465  11.814668    9.547248     10.4232235   14.944483    8.925199     9.120841     0.0127317635  0.3256295   -0.4314103126525879  2.0520527  0.04085799708779068   0.05314435298194126   0.0367721129780034    -0.014044283308395397  -1.0620990991592407  -0.1971900761127472  0.14263589680194855  0           0         0.016207346975789905  52.92156982421875    12.004715919494629  29.362138748168945  248.63277  61.70041287409796  -0.3710511028766632  0.32685696251341934  -1.074652075767517   3.5396578  30.880837645635175  18.561607360839844  15.239194869995117   25.20623016357422\n",
       "1        8.955413818359375  0.039958495646715164  -0.3540340065956116  -0.7935190200805664  -3.0821116  0.0      18.941661231326815  -0.47136881947517395  28.113365  12.919953  95531.35   -0.5525906682014465  12.077761    9.762882     10.675743    15.2433195   9.118245     9.318753     0.010647819   0.3004575   -0.4314103126525879  2.0520527  0.03610749015917615   0.05394102981040885   0.040847774843644734  -0.007915621166286031  -1.0620990991592407  -0.1971900761127472  0.14263589680194855  0           1         0.016280500566194588  52.80472101144267    12.113251288266337  28.943682252976934  248.95435  61.42317282777139  -0.3710511028766632  0.3013677440371474   -1.074652075767517   3.534912   30.56444365309959   18.787759928698584  16.51263110964875    23.675668747780875\n",
       "2        8.955413818359375  0.039958495646715164  -0.3540340065956116  -0.7935190200805664  -2.2526937  0.0      18.95123159630622   -0.47136881947517395  29.008272  13.383902  112574.68  -0.5525906682014465  13.179893    10.6199045   11.725874    16.566612    9.868971     10.095454    0.0052974075  0.21518832  -0.4314103126525879  2.0520527  0.040900226723989755  0.050337258882186584  0.033482960853032394  -0.01612754123183633   -1.0620990991592407  -0.1971900761127472  0.14263589680194855  0           1         0.016208905144134884  52.489527220562266   12.489185015926372  29.917868379799707  248.4256   61.69448158945179  -0.3710511028766632  0.21596653094270554  -1.074652075767517   3.5138927  31.556577391105833  18.938436347100875  14.57198332138615    25.764031955441993\n",
       "3        8.955413818359375  0.039958495646715164  -0.3540340065956116  -0.7935190200805664  -2.589396   0.0      18.971500765745     -0.47136881947517395  28.3433    13.417284  128240.32  -0.5525906682014465  14.2647      11.39878     12.758788    17.946392    10.524056    10.781293    0.0028832862  0.16220216  -0.4314103126525879  2.0520527  0.03896227072046109   0.047874087163383684  0.031816368986150645  -0.015440586266554208  -1.0620990991592407  -0.1971900761127472  0.14263589680194855  0           1         0.016058310343468923  53.31175992981669    12.717648690549913  29.5643486102434    249.00029  62.2730523081907   -0.3710511028766632  0.16289241615423433  -1.074652075767517   3.4921236  31.72310175726333   19.66716191688233   14.34750196319462    25.183604778682703\n",
       "4        8.955413818359375  0.039958495646715164  -0.3540340065956116  -0.7935190200805664  -3.0356622  0.0      18.95232546294703   -0.47136881947517395  28.41639   12.758045  40307.004  -0.5525906682014465  5.749734     5.2037826    5.327181     6.9090657    5.164723     5.177592     0.55535775    0.8556554   -0.4314103126525879  2.0520527  0.03927469664685657   0.05213756673455827   0.03660223496969167   -0.01280231882718371   -1.0620990991592407  -0.1971900761127472  0.14263589680194855  0           1         0.016200742058338765  52.94809839246076    11.988747162610302  29.373704576599593  248.62221  61.7255676560374   -0.3710511028766632  0.8556553660362554   -1.074652075767517   3.7570758  30.613686521129594  18.561417764894667  15.183987086266798   24.675757885892374\n",
       "...      ...                ...                   ...                  ...                  ...         ...      ...                 ...                   ...        ...        ...        ...                  ...          ...          ...          ...          ...          ...          ...           ...         ...                  ...        ...                   ...                   ...                   ...                    ...                  ...                  ...                  ...         ...       ...                   ...                  ...                 ...                 ...        ...                ...                  ...                  ...                  ...        ...                 ...                 ...                  ...\n",
       "777,893  9.305075645446777  -0.2378266155719757   -1.3668785095214844  0.2941742241382599   67.96691    0.0      19.1019554882725    -0.8195078372955322   35.056557  147.02635  50707.914  -1.1140830516815186  7.307274     6.40013      6.6385884    8.992604     6.2399406    6.3021703    0.18078534    0.64411825  -1.0573344230651855  1.4815284  0.1494687382578198    -0.23777265336287057  0.20708110383083259   0.09320759838807936    -0.6839846968650818  -0.5307199358940125  -0.5255457162857056  9999        1         0.015121988461430558  -45.41257789949731   29.461591372705012  37.983414408562076  129.88412  66.1288693977352   -1.154412031173706   0.6441780986755028   -0.8922590613365173  3.690867   -82.11109516314872  43.635248677122036  -105.68912210199437  -8.807924083065783\n",
       "777,894  9.305075645446777  -0.2378266155719757   -1.3668785095214844  0.2941742241382599   67.62238    0.0      19.083316245166262  -0.8195078372955322   34.727184  147.55698  53930.496  -1.1140830516815186  8.137574     6.9666467    7.28515      10.156084    6.7273517    6.8209777    0.1101942     0.5803311   -1.0573344230651855  1.4815284  0.150726911785634     -0.2390273160963923   0.21038260465143      0.0992239189896952     -0.6839846968650818  -0.5307199358940125  -0.5255457162857056  9999        1         0.01525234959163201   -45.474972299727     28.9072145911995    37.34962557798999   128.76392  65.56366899357172  -1.154412031173706   0.5809858794598144   -0.8922590613365173  3.6548612  -82.1334258863726   44.411728279119814  -105.71149463381076  -8.287145317264237\n",
       "777,895  9.305075645446777  -0.2378266155719757   -1.3668785095214844  0.2941742241382599   67.62114    0.0      19.0956506882002    -0.8195078372955322   35.208042  147.41531  101188.63  -1.1140830516815186  11.687777    9.561444     10.286666    14.835116    9.038309     9.212344     0.01173456    0.2918338   -1.0573344230651855  1.4815284  0.146454381346552     -0.23935114288974715  0.20957964487737848   0.08990850390664051    -0.6839846968650818  -0.5307199358940125  -0.5255457162857056  9999        1         0.015165958468833807  -45.39476505229522   29.014074868431656  38.01586291687723   130.06323  65.9371448270157   -1.154412031173706   0.29268865429898494  -0.8922590613365173  3.5547678  -82.84207925789188  43.992130621855964  -105.86412900176987  -10.359043544325473\n",
       "777,896  9.305075645446777  -0.2378266155719757   -1.3668785095214844  0.2941742241382599   67.91621    0.0      19.095972975606056  -0.8195078372955322   35.050354  147.09224  52470.12   -1.1140830516815186  7.7530823    6.7070622    6.98758      9.622709     6.504435     6.5841293    0.13804834    0.60916585  -1.0573344230651855  1.4815284  0.1481009425365728    -0.2360510731348563   0.20579784687809344   0.09255555158273432    -0.6839846968650818  -0.5307199358940125  -0.5255457162857056  9999        1         0.01516370772197276   -45.324837330271386  29.330660768457935  37.87306803798793   129.83247  65.94693186752498  -1.154412031173706   0.6094272410447537   -0.8922590613365173  3.6713233  -83.1706247140893   44.532435196504906  -105.4502439158934   -9.86180489983688\n",
       "777,897  9.305075645446777  -0.2378266155719757   -1.3668785095214844  0.2941742241382599   67.94224    0.0      19.093699729785335  -0.8195078372955322   34.90092   147.10544  143004.98  -1.1140830516815186  14.010173    11.338973    12.46287     17.778406    10.610271    10.830129    0.0027105433  0.14618951  -1.0573344230651855  1.4815284  0.15031026651366178   -0.23783767501242015  0.20771305708588242   0.09576605466589547    -0.6839846968650818  -0.5307199358940125  -0.5255457162857056  9999        1         0.01517959044033763   -45.3668630644982    29.34302602259432   37.69265513810155   129.4398   65.87793023339025  -1.154412031173706   0.14633686178285027  -0.8922590613365173  3.5084913  -83.5408912684141   44.8529750664746    -106.26372428093374  -9.300565338845711"
      ]
     },
     "execution_count": 4,
     "metadata": {},
     "output_type": "execute_result"
    }
   ],
   "source": [
    "output = Galaxia_ananke.make_survey_from_particles(p, rho['pos'], rho['vel'], fsample=0.01, photo_sys='padova/LSST', cmd_magnames='rmag,gmag-rmag')#, simname='sim', surveyname='survey', fsample=1, ngb=64, **kwargs):\n",
    "output"
   ]
  }
 ],
 "metadata": {
  "kernelspec": {
   "display_name": "base",
   "language": "python",
   "name": "python3"
  },
  "language_info": {
   "codemirror_mode": {
    "name": "ipython",
    "version": 3
   },
   "file_extension": ".py",
   "mimetype": "text/x-python",
   "name": "python",
   "nbconvert_exporter": "python",
   "pygments_lexer": "ipython3",
   "version": "3.10.12"
  },
  "vscode": {
   "interpreter": {
    "hash": "93aa337d3be5595eae1049f286a1f242db5cd4d40fd613efbe29fb4c796799bf"
   }
  }
 },
 "nbformat": 4,
 "nbformat_minor": 5
}
