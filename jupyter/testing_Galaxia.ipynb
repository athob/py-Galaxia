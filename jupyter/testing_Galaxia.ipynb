{
 "cells": [
  {
   "cell_type": "code",
   "execution_count": 1,
   "id": "f130bf6c",
   "metadata": {},
   "outputs": [
    {
     "data": {
      "text/plain": [
       "'0.3.0.dev1'"
      ]
     },
     "execution_count": 1,
     "metadata": {},
     "output_type": "execute_result"
    }
   ],
   "source": [
    "import numpy as np\n",
    "import Galaxia_ananke\n",
    "Galaxia_ananke.__version__"
   ]
  },
  {
   "cell_type": "code",
   "execution_count": 2,
   "id": "fa0e3b78",
   "metadata": {},
   "outputs": [],
   "source": [
    "np.random.seed(0)\n",
    "n_parts = 10000\n",
    "el_list = ['helium', 'carbon', 'nitrogen', 'oxygen', 'neon', 'magnesium', 'silicon', 'sulphur', 'calcium']\n",
    "\n",
    "p = {}\n",
    "p['pos3'] = 30*np.random.randn(n_parts, 3)  # position in kpc\n",
    "p['vel3'] = 50*np.random.randn(n_parts, 3)  # velocity in km/s\n",
    "p['mass'] = 5500 + 700*np.random.randn(n_parts)  # mass in solar masses\n",
    "p['age'] = 9.7 + 0.4*np.random.randn(n_parts)  # log age in Gyr (also needed for isochrone sampling)\n",
    "p['feh'] = -0.7 + 0.4*np.random.randn(n_parts)  # [Fe/H]\n",
    "for el in el_list:  # other abundances in the list as [X/H]\n",
    "    p[el] = -0.6 + 0.4*np.random.randn(n_parts)\n",
    "p['alpha'] = p['magnesium'] - p['feh']  # [Mg/Fe]\n",
    "\n",
    "p['parentid'] = np.arange(n_parts)  # indices of parent particles in snapshot\n",
    "p['dform'] = np.zeros(n_parts, dtype='float32')  # dummy variable for now\n",
    "\n",
    "\n",
    "rho = {'pos': np.exp(-2.9 + 1.1*np.random.randn(n_parts)), 'vel': np.exp(-4.4 + 1.1*np.random.randn(n_parts))}"
   ]
  },
  {
   "attachments": {},
   "cell_type": "markdown",
   "id": "44249eee",
   "metadata": {},
   "source": [
    "Using default photometric system"
   ]
  },
  {
   "cell_type": "code",
   "execution_count": 3,
   "id": "1c60e7b4",
   "metadata": {},
   "outputs": [
    {
     "name": "stdout",
     "output_type": "stream",
     "text": [
      "/home/athob/miniconda3/envs/main/.cache/Galaxia_ananke/bin/galaxia -r --hdim=6 --nfile=sim /home/athob/Software/repos/py-ananke/py-Galaxia-ananke/jupyter/survey_params\n",
      "CODEDATAPATH=/home/athob/miniconda3/envs/main/.cache/Galaxia_ananke/GalaxiaData/\n",
      "Reading Parameter file-             /home/athob/Software/repos/py-ananke/py-Galaxia-ananke/jupyter/survey_params\n",
      "--------------------------------------------------------\n",
      "outputFile               survey                  \n",
      "outputDir                /home/athob/Software/repos/py-ananke/py-Galaxia-ananke/jupyter\n",
      "photoCateg               padova                  \n",
      "photoSys                 GAIA                    \n",
      "magcolorNames            Gmag,G_BPmag-G_RPmag    \n",
      "appMagLimits[0]          -1000                   \n",
      "appMagLimits[1]          1000                    \n",
      "absMagLimits[0]          -1000                   \n",
      "absMagLimits[1]          20                      \n",
      "colorLimits[0]           -1000                   \n",
      "colorLimits[1]           1000                    \n",
      "geometryOption           0                       \n",
      "surveyArea               207.455                 \n",
      "fSample                  0.01                    \n",
      "popID                    10                      \n",
      "warpFlareOn              0                       \n",
      "longitude                76.273                  \n",
      "latitude                 13.4725                 \n",
      "starType                 0                       \n",
      "photoError               0                       \n",
      "seed                     17052                   \n",
      "r_max                    500                     \n",
      "r_min                    0                       \n",
      "nres                     64                      \n",
      "nstart                   0                       \n",
      "rSun[0]                  0.0                     \n",
      "rSun[1]                  0.0                     \n",
      "rSun[2]                  0.0                     \n",
      "vSun[0]                  0.0                     \n",
      "vSun[1]                  0.0                     \n",
      "vSun[2]                  0.0                     \n",
      "--------------------------------------------------------\n",
      "Reading Halo Sat File=/home/athob/miniconda3/envs/main/.cache/Galaxia_ananke/GalaxiaData/nbody1/filenames/sim.txt\n",
      "Halo 1 Sat 0 fname nbody1/sim/sim.ebf 0\n",
      "nbody1/sim/sim.ebf 0\n",
      "No of Satellites   =1\n",
      "Generating catalog. Max allowed stars is 18446744073709551615\n",
      "Source numbering will start at 0\n",
      "Writing to /home/athob/Software/repos/py-ananke/py-Galaxia-ananke/jupyter/survey.sim.ebf\n",
      "Using geometry:                     All Sky\n",
      "setting center to 0 0 0 0 0 0\n",
      "Reading Isochrones from dir-        /home/athob/miniconda3/envs/main/.cache/Galaxia_ananke/GalaxiaData/Isochrones/padova/GAIA\n"
     ]
    },
    {
     "name": "stderr",
     "output_type": "stream",
     "text": [
      "nbody1/sim/\n",
      "\n",
      "\t1\t1\n",
      "\n",
      "path nbody1/sim/ sats 1 x[0] 1\n"
     ]
    },
    {
     "name": "stdout",
     "output_type": "stream",
     "text": [
      "Isochrone Grid Size:                (Age bins=71,Feh bins=34,Alpha bins=1)\n",
      "Time Isochrone Reading              1.32767     \n",
      "------------------------------\n",
      "nbody1/sim/sim.ebf  Sat No=0\n",
      "Particles=10000\n",
      "Satellite Info\n",
      "Particles=10000 Mass=5.49088e+07 0.379706\n",
      "Total Stars=781853 accepted=777214 rejected=4639\n",
      "-----------Done---------------\n",
      "Total stars written                 777214                  \n",
      "30\n",
      "File written-                       /home/athob/Software/repos/py-ananke/py-Galaxia-ananke/jupyter/survey.sim.ebf\n",
      "Calculating magnitudes in GAIA system................\n",
      "initializing isochrone data\n",
      "interpolating on isochrone tables\n",
      "Appending spherical coordinates................\n",
      "Total Time=                         2.49315     \n",
      "Exported the following quantities to /home/athob/Software/repos/py-ananke/py-Galaxia-ananke/jupyter/survey.sim.h5\n",
      "['age', 'alpha', 'calcium', 'carbon', 'dec', 'dform', 'dmod', 'feh', 'gaia_g_bpmag', 'gaia_g_rpmag', 'gaia_gmag', 'glat', 'glon', 'grav', 'helium', 'lum', 'mact', 'magnesium', 'mtip', 'neon', 'nitrogen', 'oxygen', 'parentid', 'partid', 'px', 'py', 'pz', 'ra', 'rad', 'silicon', 'smass', 'sulphur', 'teff', 'vx', 'vy', 'vz']\n",
      "Exported the following quantities to /home/athob/Software/repos/py-ananke/py-Galaxia-ananke/jupyter/survey.sim.h5\n",
      "['mub', 'mul', 'vr']\n",
      "Overwritten the following quantities to /home/athob/Software/repos/py-ananke/py-Galaxia-ananke/jupyter/survey.sim.h5\n",
      "['glon', 'glat', 'rad']\n",
      "Exported the following quantities to /home/athob/Software/repos/py-ananke/py-Galaxia-ananke/jupyter/survey.sim.h5\n",
      "['mura', 'mudec']\n",
      "Overwritten the following quantities to /home/athob/Software/repos/py-ananke/py-Galaxia-ananke/jupyter/survey.sim.h5\n",
      "['ra', 'dec']\n",
      "Exported the following quantities to /home/athob/Software/repos/py-ananke/py-Galaxia-ananke/jupyter/survey.sim.h5\n",
      "['pi']\n",
      "Overwritten the following quantities to /home/athob/Software/repos/py-ananke/py-Galaxia-ananke/jupyter/survey.sim.h5\n",
      "['teff', 'lum']\n"
     ]
    },
    {
     "data": {
      "text/html": [
       "<style>.vaex-description pre {\n",
       "          max-width : 450px;\n",
       "          white-space : nowrap;\n",
       "          overflow : hidden;\n",
       "          text-overflow: ellipsis;\n",
       "        }\n",
       "\n",
       "        .vex-description pre:hover {\n",
       "          max-width : initial;\n",
       "          white-space: pre;\n",
       "        }</style>"
      ],
      "text/plain": [
       "<IPython.core.display.HTML object>"
      ]
     },
     "metadata": {},
     "output_type": "display_data"
    },
    {
     "data": {
      "text/html": [
       "<table>\n",
       "<thead>\n",
       "<tr><th>#                                  </th><th>age              </th><th>alpha               </th><th>calcium            </th><th>carbon             </th><th>dec       </th><th>dform  </th><th>dmod              </th><th>feh                 </th><th>gaia_g_bpmag  </th><th>gaia_g_rpmag  </th><th>gaia_gmag  </th><th>glat     </th><th>glon     </th><th>grav     </th><th>helium             </th><th>lum         </th><th>mact       </th><th>magnesium          </th><th>mtip     </th><th>mub                   </th><th>mudec               </th><th>mul                  </th><th>mura                 </th><th>neon               </th><th>nitrogen           </th><th>oxygen             </th><th>parentid  </th><th>partid  </th><th>pi                  </th><th>px                </th><th>py                </th><th>pz                </th><th>ra        </th><th>rad               </th><th>silicon            </th><th>smass              </th><th>sulphur            </th><th>teff     </th><th>vr                </th><th>vx                </th><th>vy                 </th><th>vz                 </th></tr>\n",
       "</thead>\n",
       "<tbody>\n",
       "<tr><td><i style='opacity: 0.6'>0</i>      </td><td>8.955413818359375</td><td>0.039958495646715164</td><td>-0.3540340065956116</td><td>-0.7935190200805664</td><td>-3.0187774</td><td>0.0    </td><td>18.951440350826058</td><td>-0.47136881947517395</td><td>11.110569     </td><td>8.989685      </td><td>10.037212  </td><td>28.416817</td><td>12.780675</td><td>4.957923 </td><td>-0.5525906682014465</td><td>0.013452323 </td><td>0.32764307 </td><td>-0.4314103126525879</td><td>2.025267 </td><td>0.04085799708779068   </td><td>0.05314435298194126 </td><td>0.0367721129780034   </td><td>-0.014044283308395397</td><td>-1.0620990991592407</td><td>-0.1971900761127472</td><td>0.14263589680194855</td><td>0         </td><td>0       </td><td>0.016207346975789905</td><td>52.92156982421875 </td><td>12.004715919494629</td><td>29.362138748168945</td><td>248.63277 </td><td>61.70041287409796 </td><td>-0.3710511028766632</td><td>0.3274828836374042 </td><td>-1.074652075767517 </td><td>3510.7385</td><td>30.880837645635175</td><td>18.561607360839844</td><td>15.239194869995117 </td><td>25.20623016357422  </td></tr>\n",
       "<tr><td><i style='opacity: 0.6'>1</i>      </td><td>8.955413818359375</td><td>0.039958495646715164</td><td>-0.3540340065956116</td><td>-0.7935190200805664</td><td>-3.607971 </td><td>0.0    </td><td>18.864236612676443</td><td>-0.47136881947517395</td><td>11.371668     </td><td>9.204756      </td><td>10.267877  </td><td>25.569458</td><td>14.055669</td><td>4.981354 </td><td>-0.5525906682014465</td><td>0.01118073  </td><td>0.30216676 </td><td>-0.4314103126525879</td><td>2.025267 </td><td>-0.004145640239841527 </td><td>0.060654433801642434</td><td>0.0745194426862223   </td><td>0.04348992452493178  </td><td>-1.0620990991592407</td><td>-0.1971900761127472</td><td>0.14263589680194855</td><td>0         </td><td>1       </td><td>0.016871460421509735</td><td>51.86600019649691 </td><td>12.985184921165683</td><td>25.581955138652113</td><td>251.64622 </td><td>59.27169166251201 </td><td>-0.3710511028766632</td><td>0.3019015185920496 </td><td>-1.074652075767517 </td><td>3472.5916</td><td>28.800504069210206</td><td>20.604587340492692</td><td>26.742954334719897 </td><td>11.379695449857985 </td></tr>\n",
       "<tr><td><i style='opacity: 0.6'>2</i>      </td><td>8.955413818359375</td><td>0.039958495646715164</td><td>-0.3540340065956116</td><td>-0.7935190200805664</td><td>4.3488946 </td><td>0.0    </td><td>18.966729091923135</td><td>-0.47136881947517395</td><td>12.38314      </td><td>10.0110855    </td><td>11.138009  </td><td>33.981075</td><td>18.892673</td><td>5.05571  </td><td>-0.5525906682014465</td><td>0.0056449967</td><td>0.21643387 </td><td>-0.4314103126525879</td><td>2.025267 </td><td>0.040864454769306315  </td><td>0.023772158428189277</td><td>0.0038466972475121376</td><td>-0.0334602108086448  </td><td>-1.0620990991592407</td><td>-0.1971900761127472</td><td>0.14263589680194855</td><td>0         </td><td>1       </td><td>0.016093636267841736</td><td>48.74904091562003 </td><td>16.683563081964277</td><td>34.72919730609747 </td><td>246.6416  </td><td>62.13636143860151 </td><td>-0.3710511028766632</td><td>0.2162292991440807 </td><td>-1.074652075767517 </td><td>3319.8296</td><td>36.87846055749077 </td><td>22.20090090990196 </td><td>8.795479621852436  </td><td>30.593301054648084 </td></tr>\n",
       "<tr><td><i style='opacity: 0.6'>3</i>      </td><td>8.955413818359375</td><td>0.039958495646715164</td><td>-0.3540340065956116</td><td>-0.7935190200805664</td><td>0.53760934</td><td>0.0    </td><td>19.130052840109137</td><td>-0.47136881947517395</td><td>13.397107     </td><td>10.745535     </td><td>11.94955   </td><td>27.720272</td><td>18.021389</td><td>5.112526 </td><td>-0.5525906682014465</td><td>0.0030777804</td><td>0.16302095 </td><td>-0.4314103126525879</td><td>2.025267 </td><td>0.02683924634915      </td><td>0.00872166071032202 </td><td>-0.005780508648483159</td><td>-0.026032518858508845</td><td>-1.0620990991592407</td><td>-0.1971900761127472</td><td>0.14263589680194855</td><td>0         </td><td>1       </td><td>0.014927580847058508</td><td>56.3923080253249  </td><td>18.346247823616633</td><td>31.160794026387066</td><td>251.67007 </td><td>66.99009104325506 </td><td>-0.3710511028766632</td><td>0.16302094873696168</td><td>-1.074652075767517 </td><td>3161.1997</td><td>37.53585075822972 </td><td>28.395507372171934</td><td>7.307592726651242  </td><td>25.004977523869556 </td></tr>\n",
       "<tr><td><i style='opacity: 0.6'>4</i>      </td><td>8.955413818359375</td><td>0.039958495646715164</td><td>-0.3540340065956116</td><td>-0.7935190200805664</td><td>-3.4745467</td><td>0.0    </td><td>18.97555365815385 </td><td>-0.47136881947517395</td><td>5.532826      </td><td>4.7425804     </td><td>5.220267   </td><td>28.403969</td><td>12.16987 </td><td>4.602104 </td><td>-0.5525906682014465</td><td>0.60861695  </td><td>0.86097044 </td><td>-0.4314103126525879</td><td>2.025267 </td><td>-0.0019110736205013878</td><td>0.025759841746698712</td><td>0.0321629862688668   </td><td>0.01935304722385955  </td><td>-1.0620990991592407</td><td>-0.1971900761127472</td><td>0.14263589680194855</td><td>0         </td><td>1       </td><td>0.016028366649206958</td><td>53.645386232503974</td><td>11.569017763930807</td><td>29.677705586045175</td><td>248.3476  </td><td>62.38938888071152 </td><td>-0.3710511028766632</td><td>0.861189287557972  </td><td>-1.074652075767517 </td><td>5824.985 </td><td>23.607574643160373</td><td>18.55643434672537 </td><td>13.732882885385859 </td><td>10.732605333652652 </td></tr>\n",
       "<tr><td>...                                </td><td>...              </td><td>...                 </td><td>...                </td><td>...                </td><td>...       </td><td>...    </td><td>...               </td><td>...                 </td><td>...           </td><td>...           </td><td>...        </td><td>...      </td><td>...      </td><td>...      </td><td>...                </td><td>...         </td><td>...        </td><td>...                </td><td>...      </td><td>...                   </td><td>...                 </td><td>...                  </td><td>...                  </td><td>...                </td><td>...                </td><td>...                </td><td>...       </td><td>...     </td><td>...                 </td><td>...               </td><td>...               </td><td>...               </td><td>...       </td><td>...               </td><td>...                </td><td>...                </td><td>...                </td><td>...      </td><td>...               </td><td>...               </td><td>...                </td><td>...                </td></tr>\n",
       "<tr><td><i style='opacity: 0.6'>777,209</i></td><td>9.305075645446777</td><td>-0.2378266155719757 </td><td>-1.3668785095214844</td><td>0.2941742241382599 </td><td>68.69721  </td><td>0.0    </td><td>18.99516627632942 </td><td>-0.8195078372955322 </td><td>12.175274     </td><td>10.009427     </td><td>11.067651  </td><td>39.3439  </td><td>143.92487</td><td>5.100067 </td><td>-1.1140830516815186</td><td>0.005314255 </td><td>0.19217741 </td><td>-1.0573344230651855</td><td>1.4649662</td><td>0.20765480554459667   </td><td>-0.2677224789700326 </td><td>0.19163640632415035  </td><td>0.09038644346707288  </td><td>-0.6839846968650818</td><td>-0.5307199358940125</td><td>-0.5255457162857056</td><td>9999      </td><td>1       </td><td>0.015884251133383803</td><td>-39.3509535565729 </td><td>28.66906420182727 </td><td>39.91208445566415 </td><td>143.16394 </td><td>62.95543879297577 </td><td>-1.154412031173706 </td><td>0.19251966416942545</td><td>-0.8922590613365173</td><td>3451.0479</td><td>-77.55153832826824</td><td>46.552258463958914</td><td>-104.67582615294585</td><td>-1.23915811649493  </td></tr>\n",
       "<tr><td><i style='opacity: 0.6'>777,210</i></td><td>9.305075645446777</td><td>-0.2378266155719757 </td><td>-1.3668785095214844</td><td>0.2941742241382599 </td><td>64.86165  </td><td>0.0    </td><td>19.08965959408131 </td><td>-0.8195078372955322 </td><td>13.1897955    </td><td>10.770231     </td><td>11.906897  </td><td>38.409763</td><td>149.82004</td><td>5.1653223</td><td>-1.1140830516815186</td><td>0.0028020903</td><td>0.14472467 </td><td>-1.0573344230651855</td><td>1.4649662</td><td>0.15212705810252758   </td><td>-0.26578459989886516</td><td>0.22916913822749907  </td><td>0.07084973928468986  </td><td>-0.6839846968650818</td><td>-0.5307199358940125</td><td>-0.5255457162857056</td><td>9999      </td><td>1       </td><td>0.015207859135816645</td><td>-44.54096926637312</td><td>25.902621069245964</td><td>40.85264692254665 </td><td>136.32574 </td><td>65.7554749205205  </td><td>-1.154412031173706 </td><td>0.14516366289613844</td><td>-0.8922590613365173</td><td>3278.6414</td><td>-70.845912699476  </td><td>37.54519442781825 </td><td>-104.47026126550654</td><td>-6.857663215505488 </td></tr>\n",
       "<tr><td><i style='opacity: 0.6'>777,211</i></td><td>9.305075645446777</td><td>-0.2378266155719757 </td><td>-1.3668785095214844</td><td>0.2941742241382599 </td><td>70.849785 </td><td>0.0    </td><td>19.122862739123548</td><td>-0.8195078372955322 </td><td>9.610439      </td><td>7.861201      </td><td>8.772235   </td><td>31.550037</td><td>144.34686</td><td>4.8602104</td><td>-1.1140830516815186</td><td>0.03407329  </td><td>0.43326753 </td><td>-1.0573344230651855</td><td>1.4649662</td><td>0.16736729395090544   </td><td>-0.17450037425739615</td><td>0.1530113051189378   </td><td>0.1448236455102424   </td><td>-0.6839846968650818</td><td>-0.5307199358940125</td><td>-0.5255457162857056</td><td>9999      </td><td>1       </td><td>0.014977090435360985</td><td>-46.23399368566232</td><td>33.16518889674443 </td><td>34.93622363159493 </td><td>121.3291  </td><td>66.76864270238998 </td><td>-1.154412031173706 </td><td>0.4343877738375409 </td><td>-0.8922590613365173</td><td>3902.8386</td><td>-87.78971823027655</td><td>55.08399932980944 </td><td>-99.11572524469668 </td><td>-0.7915939106307466</td></tr>\n",
       "<tr><td><i style='opacity: 0.6'>777,212</i></td><td>9.305075645446777</td><td>-0.2378266155719757 </td><td>-1.3668785095214844</td><td>0.2941742241382599 </td><td>65.51761  </td><td>0.0    </td><td>19.10319990254141 </td><td>-0.8195078372955322 </td><td>5.859213      </td><td>5.0476694     </td><td>5.53764    </td><td>33.427937</td><td>150.42331</td><td>4.647573 </td><td>-1.1140830516815186</td><td>0.46153438  </td><td>0.77043694 </td><td>-1.0573344230651855</td><td>1.4649662</td><td>0.15085869931170395   </td><td>-0.22303274717162608</td><td>0.2050137020241937   </td><td>0.12265951535362707  </td><td>-0.6839846968650818</td><td>-0.5307199358940125</td><td>-0.5255457162857056</td><td>9999      </td><td>1       </td><td>0.015113324926446122</td><td>-48.02584493075403</td><td>27.25663389243467 </td><td>36.450466456709485</td><td>124.481064</td><td>66.16677699095487 </td><td>-1.154412031173706 </td><td>0.7711757214639625 </td><td>-0.8922590613365173</td><td>5739.4985</td><td>-74.49631974574604</td><td>45.00209507006637 </td><td>-99.48010111541998 </td><td>-1.5479922664697767</td></tr>\n",
       "<tr><td><i style='opacity: 0.6'>777,213</i></td><td>9.305075645446777</td><td>-0.2378266155719757 </td><td>-1.3668785095214844</td><td>0.2941742241382599 </td><td>73.17916  </td><td>0.0    </td><td>19.016392251386623</td><td>-0.8195078372955322 </td><td>14.262805     </td><td>11.471905     </td><td>12.704043  </td><td>34.585205</td><td>140.53983</td><td>5.224115 </td><td>-1.1140830516815186</td><td>0.0015820534</td><td>0.117658645</td><td>-1.0573344230651855</td><td>1.4649662</td><td>0.17063079525815164   </td><td>-0.20412841568997034</td><td>0.15215866635466663  </td><td>0.10295007353461956  </td><td>-0.6839846968650818</td><td>-0.5307199358940125</td><td>-0.5255457162857056</td><td>9999      </td><td>1       </td><td>0.015729740202098885</td><td>-40.40939072500349</td><td>33.263782180830034</td><td>36.08649574151596 </td><td>133.47397 </td><td>63.573840836008586</td><td>-1.154412031173706 </td><td>0.11784433151613236</td><td>-0.8922590613365173</td><td>3094.7078</td><td>-93.90847034783795</td><td>53.083615020002014</td><td>-103.0907203968882 </td><td>-10.969708483087713</td></tr>\n",
       "</tbody>\n",
       "</table>"
      ],
      "text/plain": [
       "#        age                alpha                 calcium              carbon               dec         dform    dmod                feh                   gaia_g_bpmag    gaia_g_rpmag    gaia_gmag    glat       glon       grav       helium               lum           mact         magnesium            mtip       mub                     mudec                 mul                    mura                   neon                 nitrogen             oxygen               parentid    partid    pi                    px                  py                  pz                  ra          rad                 silicon              smass                sulphur              teff       vr                  vx                  vy                   vz\n",
       "0        8.955413818359375  0.039958495646715164  -0.3540340065956116  -0.7935190200805664  -3.0187774  0.0      18.951440350826058  -0.47136881947517395  11.110569       8.989685        10.037212    28.416817  12.780675  4.957923   -0.5525906682014465  0.013452323   0.32764307   -0.4314103126525879  2.025267   0.04085799708779068     0.05314435298194126   0.0367721129780034     -0.014044283308395397  -1.0620990991592407  -0.1971900761127472  0.14263589680194855  0           0         0.016207346975789905  52.92156982421875   12.004715919494629  29.362138748168945  248.63277   61.70041287409796   -0.3710511028766632  0.3274828836374042   -1.074652075767517   3510.7385  30.880837645635175  18.561607360839844  15.239194869995117   25.20623016357422\n",
       "1        8.955413818359375  0.039958495646715164  -0.3540340065956116  -0.7935190200805664  -3.607971   0.0      18.864236612676443  -0.47136881947517395  11.371668       9.204756        10.267877    25.569458  14.055669  4.981354   -0.5525906682014465  0.01118073    0.30216676   -0.4314103126525879  2.025267   -0.004145640239841527   0.060654433801642434  0.0745194426862223     0.04348992452493178    -1.0620990991592407  -0.1971900761127472  0.14263589680194855  0           1         0.016871460421509735  51.86600019649691   12.985184921165683  25.581955138652113  251.64622   59.27169166251201   -0.3710511028766632  0.3019015185920496   -1.074652075767517   3472.5916  28.800504069210206  20.604587340492692  26.742954334719897   11.379695449857985\n",
       "2        8.955413818359375  0.039958495646715164  -0.3540340065956116  -0.7935190200805664  4.3488946   0.0      18.966729091923135  -0.47136881947517395  12.38314        10.0110855      11.138009    33.981075  18.892673  5.05571    -0.5525906682014465  0.0056449967  0.21643387   -0.4314103126525879  2.025267   0.040864454769306315    0.023772158428189277  0.0038466972475121376  -0.0334602108086448    -1.0620990991592407  -0.1971900761127472  0.14263589680194855  0           1         0.016093636267841736  48.74904091562003   16.683563081964277  34.72919730609747   246.6416    62.13636143860151   -0.3710511028766632  0.2162292991440807   -1.074652075767517   3319.8296  36.87846055749077   22.20090090990196   8.795479621852436    30.593301054648084\n",
       "3        8.955413818359375  0.039958495646715164  -0.3540340065956116  -0.7935190200805664  0.53760934  0.0      19.130052840109137  -0.47136881947517395  13.397107       10.745535       11.94955     27.720272  18.021389  5.112526   -0.5525906682014465  0.0030777804  0.16302095   -0.4314103126525879  2.025267   0.02683924634915        0.00872166071032202   -0.005780508648483159  -0.026032518858508845  -1.0620990991592407  -0.1971900761127472  0.14263589680194855  0           1         0.014927580847058508  56.3923080253249    18.346247823616633  31.160794026387066  251.67007   66.99009104325506   -0.3710511028766632  0.16302094873696168  -1.074652075767517   3161.1997  37.53585075822972   28.395507372171934  7.307592726651242    25.004977523869556\n",
       "4        8.955413818359375  0.039958495646715164  -0.3540340065956116  -0.7935190200805664  -3.4745467  0.0      18.97555365815385   -0.47136881947517395  5.532826        4.7425804       5.220267     28.403969  12.16987   4.602104   -0.5525906682014465  0.60861695    0.86097044   -0.4314103126525879  2.025267   -0.0019110736205013878  0.025759841746698712  0.0321629862688668     0.01935304722385955    -1.0620990991592407  -0.1971900761127472  0.14263589680194855  0           1         0.016028366649206958  53.645386232503974  11.569017763930807  29.677705586045175  248.3476    62.38938888071152   -0.3710511028766632  0.861189287557972    -1.074652075767517   5824.985   23.607574643160373  18.55643434672537   13.732882885385859   10.732605333652652\n",
       "...      ...                ...                   ...                  ...                  ...         ...      ...                 ...                   ...             ...             ...          ...        ...        ...        ...                  ...           ...          ...                  ...        ...                     ...                   ...                    ...                    ...                  ...                  ...                  ...         ...       ...                   ...                 ...                 ...                 ...         ...                 ...                  ...                  ...                  ...        ...                 ...                 ...                  ...\n",
       "777,209  9.305075645446777  -0.2378266155719757   -1.3668785095214844  0.2941742241382599   68.69721    0.0      18.99516627632942   -0.8195078372955322   12.175274       10.009427       11.067651    39.3439    143.92487  5.100067   -1.1140830516815186  0.005314255   0.19217741   -1.0573344230651855  1.4649662  0.20765480554459667     -0.2677224789700326   0.19163640632415035    0.09038644346707288    -0.6839846968650818  -0.5307199358940125  -0.5255457162857056  9999        1         0.015884251133383803  -39.3509535565729   28.66906420182727   39.91208445566415   143.16394   62.95543879297577   -1.154412031173706   0.19251966416942545  -0.8922590613365173  3451.0479  -77.55153832826824  46.552258463958914  -104.67582615294585  -1.23915811649493\n",
       "777,210  9.305075645446777  -0.2378266155719757   -1.3668785095214844  0.2941742241382599   64.86165    0.0      19.08965959408131   -0.8195078372955322   13.1897955      10.770231       11.906897    38.409763  149.82004  5.1653223  -1.1140830516815186  0.0028020903  0.14472467   -1.0573344230651855  1.4649662  0.15212705810252758     -0.26578459989886516  0.22916913822749907    0.07084973928468986    -0.6839846968650818  -0.5307199358940125  -0.5255457162857056  9999        1         0.015207859135816645  -44.54096926637312  25.902621069245964  40.85264692254665   136.32574   65.7554749205205    -1.154412031173706   0.14516366289613844  -0.8922590613365173  3278.6414  -70.845912699476    37.54519442781825   -104.47026126550654  -6.857663215505488\n",
       "777,211  9.305075645446777  -0.2378266155719757   -1.3668785095214844  0.2941742241382599   70.849785   0.0      19.122862739123548  -0.8195078372955322   9.610439        7.861201        8.772235     31.550037  144.34686  4.8602104  -1.1140830516815186  0.03407329    0.43326753   -1.0573344230651855  1.4649662  0.16736729395090544     -0.17450037425739615  0.1530113051189378     0.1448236455102424     -0.6839846968650818  -0.5307199358940125  -0.5255457162857056  9999        1         0.014977090435360985  -46.23399368566232  33.16518889674443   34.93622363159493   121.3291    66.76864270238998   -1.154412031173706   0.4343877738375409   -0.8922590613365173  3902.8386  -87.78971823027655  55.08399932980944   -99.11572524469668   -0.7915939106307466\n",
       "777,212  9.305075645446777  -0.2378266155719757   -1.3668785095214844  0.2941742241382599   65.51761    0.0      19.10319990254141   -0.8195078372955322   5.859213        5.0476694       5.53764      33.427937  150.42331  4.647573   -1.1140830516815186  0.46153438    0.77043694   -1.0573344230651855  1.4649662  0.15085869931170395     -0.22303274717162608  0.2050137020241937     0.12265951535362707    -0.6839846968650818  -0.5307199358940125  -0.5255457162857056  9999        1         0.015113324926446122  -48.02584493075403  27.25663389243467   36.450466456709485  124.481064  66.16677699095487   -1.154412031173706   0.7711757214639625   -0.8922590613365173  5739.4985  -74.49631974574604  45.00209507006637   -99.48010111541998   -1.5479922664697767\n",
       "777,213  9.305075645446777  -0.2378266155719757   -1.3668785095214844  0.2941742241382599   73.17916    0.0      19.016392251386623  -0.8195078372955322   14.262805       11.471905       12.704043    34.585205  140.53983  5.224115   -1.1140830516815186  0.0015820534  0.117658645  -1.0573344230651855  1.4649662  0.17063079525815164     -0.20412841568997034  0.15215866635466663    0.10295007353461956    -0.6839846968650818  -0.5307199358940125  -0.5255457162857056  9999        1         0.015729740202098885  -40.40939072500349  33.263782180830034  36.08649574151596   133.47397   63.573840836008586  -1.154412031173706   0.11784433151613236  -0.8922590613365173  3094.7078  -93.90847034783795  53.083615020002014  -103.0907203968882   -10.969708483087713"
      ]
     },
     "execution_count": 3,
     "metadata": {},
     "output_type": "execute_result"
    }
   ],
   "source": [
    "output = Galaxia_ananke.make_survey_from_particles(p, rho['pos'], rho['vel'], fsample=0.01)#, simname='sim', surveyname='survey', fsample=1, ngb=64, knorm=0.596831, **kwargs):\n",
    "output"
   ]
  },
  {
   "attachments": {},
   "cell_type": "markdown",
   "id": "5744efd0",
   "metadata": {},
   "source": [
    "Using LSST photometric system"
   ]
  },
  {
   "cell_type": "code",
   "execution_count": 4,
   "id": "3e04243e",
   "metadata": {},
   "outputs": [
    {
     "name": "stdout",
     "output_type": "stream",
     "text": [
      "/home/athob/miniconda3/envs/main/.cache/Galaxia_ananke/bin/galaxia -r --hdim=6 --nfile=sim /home/athob/Software/repos/py-ananke/py-Galaxia-ananke/jupyter/survey_params\n",
      "CODEDATAPATH=/home/athob/miniconda3/envs/main/.cache/Galaxia_ananke/GalaxiaData/\n",
      "Reading Parameter file-             /home/athob/Software/repos/py-ananke/py-Galaxia-ananke/jupyter/survey_params\n",
      "--------------------------------------------------------\n",
      "outputFile               survey                  \n",
      "outputDir                /home/athob/Software/repos/py-ananke/py-Galaxia-ananke/jupyter\n",
      "photoCateg               padova                  \n",
      "photoSys                 LSST                    \n",
      "magcolorNames            rmag,gmag-rmag          \n",
      "appMagLimits[0]          -1000                   \n",
      "appMagLimits[1]          1000                    \n",
      "absMagLimits[0]          -1000                   \n",
      "absMagLimits[1]          20                      \n",
      "colorLimits[0]           -1000                   \n",
      "colorLimits[1]           1000                    \n",
      "geometryOption           0                       \n",
      "surveyArea               207.455                 \n",
      "fSample                  0.01                    \n",
      "popID                    10                      \n",
      "warpFlareOn              0                       \n",
      "longitude                76.273                  \n",
      "latitude                 13.4725                 \n",
      "starType                 0                       \n",
      "photoError               0                       \n",
      "seed                     17052                   \n",
      "r_max                    500                     \n",
      "r_min                    0                       \n",
      "nres                     64                      \n",
      "nstart                   0                       \n",
      "rSun[0]                  0.0                     \n",
      "rSun[1]                  0.0                     \n",
      "rSun[2]                  0.0                     \n",
      "vSun[0]                  0.0                     \n",
      "vSun[1]                  0.0                     \n",
      "vSun[2]                  0.0                     \n",
      "--------------------------------------------------------\n",
      "Reading Halo Sat File=/home/athob/miniconda3/envs/main/.cache/Galaxia_ananke/GalaxiaData/nbody1/filenames/sim.txt\n",
      "Halo 1 Sat 0 fname nbody1/sim/sim.ebf 0\n",
      "nbody1/sim/sim.ebf 0\n",
      "No of Satellites   =1\n",
      "Generating catalog. Max allowed stars is 18446744073709551615\n",
      "Source numbering will start at 0\n",
      "Writing to /home/athob/Software/repos/py-ananke/py-Galaxia-ananke/jupyter/survey.sim.ebf\n",
      "Using geometry:                     All Sky\n",
      "setting center to 0 0 0 0 0 0\n",
      "Reading Isochrones from dir-        /home/athob/miniconda3/envs/main/.cache/Galaxia_ananke/GalaxiaData/Isochrones/padova/LSST\n"
     ]
    },
    {
     "name": "stderr",
     "output_type": "stream",
     "text": [
      "nbody1/sim/\n",
      "\n",
      "\t1\t1\n",
      "\n",
      "path nbody1/sim/ sats 1 x[0] 1\n"
     ]
    },
    {
     "name": "stdout",
     "output_type": "stream",
     "text": [
      "Isochrone Grid Size:                (Age bins=71,Feh bins=34,Alpha bins=1)\n",
      "Time Isochrone Reading              1.29865     \n",
      "------------------------------\n",
      "nbody1/sim/sim.ebf  Sat No=0\n",
      "Particles=10000\n",
      "Satellite Info\n",
      "Particles=10000 Mass=5.49088e+07 0.379706\n",
      "Total Stars=782494 accepted=777886 rejected=4608\n",
      "-----------Done---------------\n",
      "Total stars written                 777886                  \n",
      "30\n",
      "File written-                       /home/athob/Software/repos/py-ananke/py-Galaxia-ananke/jupyter/survey.sim.ebf\n",
      "Calculating magnitudes in LSST system................\n",
      "initializing isochrone data\n",
      "interpolating on isochrone tables\n",
      "Appending spherical coordinates................\n",
      "Total Time=                         2.34159     \n",
      "Exported the following quantities to /home/athob/Software/repos/py-ananke/py-Galaxia-ananke/jupyter/survey.sim.h5\n",
      "['age', 'alpha', 'calcium', 'carbon', 'dec', 'dform', 'dmod', 'feh', 'glat', 'glon', 'grav', 'helium', 'lsst_gmag', 'lsst_imag', 'lsst_rmag', 'lsst_umag', 'lsst_ymag', 'lsst_zmag', 'lum', 'mact', 'magnesium', 'mtip', 'neon', 'nitrogen', 'oxygen', 'parentid', 'partid', 'px', 'py', 'pz', 'ra', 'rad', 'silicon', 'smass', 'sulphur', 'teff', 'vx', 'vy', 'vz']\n",
      "Exported the following quantities to /home/athob/Software/repos/py-ananke/py-Galaxia-ananke/jupyter/survey.sim.h5\n",
      "['mub', 'mul', 'vr']\n",
      "Overwritten the following quantities to /home/athob/Software/repos/py-ananke/py-Galaxia-ananke/jupyter/survey.sim.h5\n",
      "['glon', 'glat', 'rad']\n",
      "Exported the following quantities to /home/athob/Software/repos/py-ananke/py-Galaxia-ananke/jupyter/survey.sim.h5\n",
      "['mura', 'mudec']\n",
      "Overwritten the following quantities to /home/athob/Software/repos/py-ananke/py-Galaxia-ananke/jupyter/survey.sim.h5\n",
      "['ra', 'dec']\n",
      "Exported the following quantities to /home/athob/Software/repos/py-ananke/py-Galaxia-ananke/jupyter/survey.sim.h5\n",
      "['pi']\n",
      "Overwritten the following quantities to /home/athob/Software/repos/py-ananke/py-Galaxia-ananke/jupyter/survey.sim.h5\n",
      "['teff', 'lum']\n"
     ]
    },
    {
     "data": {
      "text/html": [
       "<style>.vaex-description pre {\n",
       "          max-width : 450px;\n",
       "          white-space : nowrap;\n",
       "          overflow : hidden;\n",
       "          text-overflow: ellipsis;\n",
       "        }\n",
       "\n",
       "        .vex-description pre:hover {\n",
       "          max-width : initial;\n",
       "          white-space: pre;\n",
       "        }</style>"
      ],
      "text/plain": [
       "<IPython.core.display.HTML object>"
      ]
     },
     "metadata": {},
     "output_type": "display_data"
    },
    {
     "data": {
      "text/html": [
       "<table>\n",
       "<thead>\n",
       "<tr><th>#                                  </th><th>age              </th><th>alpha               </th><th>calcium            </th><th>carbon             </th><th>dec       </th><th>dform  </th><th>dmod              </th><th>feh                 </th><th>glat     </th><th>glon     </th><th>grav     </th><th>helium             </th><th>lsst_gmag  </th><th>lsst_imag  </th><th>lsst_rmag  </th><th>lsst_umag  </th><th>lsst_ymag  </th><th>lsst_zmag  </th><th>lum         </th><th>mact      </th><th>magnesium          </th><th>mtip     </th><th>mub                   </th><th>mudec               </th><th>mul                  </th><th>mura                 </th><th>neon               </th><th>nitrogen           </th><th>oxygen             </th><th>parentid  </th><th>partid  </th><th>pi                  </th><th>px                 </th><th>py                </th><th>pz                </th><th>ra       </th><th>rad               </th><th>silicon            </th><th>smass              </th><th>sulphur            </th><th>teff     </th><th>vr                </th><th>vx                </th><th>vy                 </th><th>vz                 </th></tr>\n",
       "</thead>\n",
       "<tbody>\n",
       "<tr><td><i style='opacity: 0.6'>0</i>      </td><td>8.955413818359375</td><td>0.039958495646715164</td><td>-0.3540340065956116</td><td>-0.7935190200805664</td><td>-3.0187774</td><td>0.0    </td><td>18.951440350826058</td><td>-0.47136881947517395</td><td>28.416817</td><td>12.780675</td><td>4.956081 </td><td>-0.5525906682014465</td><td>11.80497   </td><td>9.539346   </td><td>10.41393   </td><td>14.933437  </td><td>8.918149   </td><td>9.113612   </td><td>0.012814957 </td><td>0.3265724 </td><td>-0.4314103126525879</td><td>2.0520527</td><td>0.04085799708779068   </td><td>0.05314435298194126 </td><td>0.0367721129780034   </td><td>-0.014044283308395397</td><td>-1.0620990991592407</td><td>-0.1971900761127472</td><td>0.14263589680194855</td><td>0         </td><td>0       </td><td>0.016207346975789905</td><td>52.92156982421875  </td><td>12.004715919494629</td><td>29.362138748168945</td><td>248.63277</td><td>61.70041287409796 </td><td>-0.3710511028766632</td><td>0.3278209773110734 </td><td>-1.074652075767517 </td><td>3466.0723</td><td>30.880837645635175</td><td>18.561607360839844</td><td>15.239194869995117 </td><td>25.20623016357422  </td></tr>\n",
       "<tr><td><i style='opacity: 0.6'>1</i>      </td><td>8.955413818359375</td><td>0.039958495646715164</td><td>-0.3540340065956116</td><td>-0.7935190200805664</td><td>-3.607971 </td><td>0.0    </td><td>18.864236612676443</td><td>-0.47136881947517395</td><td>25.569458</td><td>14.055669</td><td>4.979249 </td><td>-0.5525906682014465</td><td>12.068756  </td><td>9.755406   </td><td>10.667071  </td><td>15.233152  </td><td>9.1115     </td><td>9.311842   </td><td>0.010714831 </td><td>0.3012882 </td><td>-0.4314103126525879</td><td>2.0520527</td><td>-0.004145640239841527 </td><td>0.060654433801642434</td><td>0.0745194426862223   </td><td>0.04348992452493178  </td><td>-1.0620990991592407</td><td>-0.1971900761127472</td><td>0.14263589680194855</td><td>0         </td><td>1       </td><td>0.016871460421509735</td><td>51.86600019649691  </td><td>12.985184921165683</td><td>25.581955138652113</td><td>251.64622</td><td>59.27169166251201 </td><td>-0.3710511028766632</td><td>0.302189787474221  </td><td>-1.074652075767517 </td><td>3428.1904</td><td>28.800504069210206</td><td>20.604587340492692</td><td>26.742954334719897 </td><td>11.379695449857985 </td></tr>\n",
       "<tr><td><i style='opacity: 0.6'>2</i>      </td><td>8.955413818359375</td><td>0.039958495646715164</td><td>-0.3540340065956116</td><td>-0.7935190200805664</td><td>4.3488946 </td><td>0.0    </td><td>18.966729091923135</td><td>-0.47136881947517395</td><td>33.981075</td><td>18.892673</td><td>5.051082 </td><td>-0.5525906682014465</td><td>13.173247  </td><td>10.614958  </td><td>11.719562  </td><td>16.558348  </td><td>9.864724   </td><td>10.091033  </td><td>0.005318379 </td><td>0.21559106</td><td>-0.4314103126525879</td><td>2.0520527</td><td>0.040864454769306315  </td><td>0.023772158428189277</td><td>0.0038466972475121376</td><td>-0.0334602108086448  </td><td>-1.0620990991592407</td><td>-0.1971900761127472</td><td>0.14263589680194855</td><td>0         </td><td>1       </td><td>0.016093636267841736</td><td>48.74904091562003  </td><td>16.683563081964277</td><td>34.72919730609747 </td><td>246.6416 </td><td>62.13636143860151 </td><td>-0.3710511028766632</td><td>0.21637112311520174</td><td>-1.074652075767517 </td><td>3266.0715</td><td>36.87846055749077 </td><td>22.20090090990196 </td><td>8.795479621852436  </td><td>30.593301054648084 </td></tr>\n",
       "<tr><td><i style='opacity: 0.6'>3</i>      </td><td>8.955413818359375</td><td>0.039958495646715164</td><td>-0.3540340065956116</td><td>-0.7935190200805664</td><td>0.53760934</td><td>0.0    </td><td>19.130052840109137</td><td>-0.47136881947517395</td><td>27.720272</td><td>18.021389</td><td>5.107784 </td><td>-0.5525906682014465</td><td>14.259985  </td><td>11.395468  </td><td>12.7542925 </td><td>17.94032   </td><td>10.521305  </td><td>10.778402  </td><td>0.002890651 </td><td>0.16240019</td><td>-0.4314103126525879</td><td>2.0520527</td><td>0.02683924634915      </td><td>0.00872166071032202 </td><td>-0.005780508648483159</td><td>-0.026032518858508845</td><td>-1.0620990991592407</td><td>-0.1971900761127472</td><td>0.14263589680194855</td><td>0         </td><td>1       </td><td>0.014927580847058508</td><td>56.3923080253249   </td><td>18.346247823616633</td><td>31.160794026387066</td><td>251.67007</td><td>66.99009104325506 </td><td>-0.3710511028766632</td><td>0.1630902769897953 </td><td>-1.074652075767517 </td><td>3106.1218</td><td>37.53585075822972 </td><td>28.395507372171934</td><td>7.307592726651242  </td><td>25.004977523869556 </td></tr>\n",
       "<tr><td><i style='opacity: 0.6'>4</i>      </td><td>8.955413818359375</td><td>0.039958495646715164</td><td>-0.3540340065956116</td><td>-0.7935190200805664</td><td>-3.4745467</td><td>0.0    </td><td>18.97555365815385 </td><td>-0.47136881947517395</td><td>28.403969</td><td>12.16987 </td><td>4.599908 </td><td>-0.5525906682014465</td><td>5.688847   </td><td>5.1565785  </td><td>5.276043   </td><td>6.829024   </td><td>5.1219654  </td><td>5.1331244  </td><td>0.5822325   </td><td>0.86420685</td><td>-0.4314103126525879</td><td>2.0520527</td><td>-0.0019110736205013878</td><td>0.025759841746698712</td><td>0.0321629862688668   </td><td>0.01935304722385955  </td><td>-1.0620990991592407</td><td>-0.1971900761127472</td><td>0.14263589680194855</td><td>0         </td><td>1       </td><td>0.016028366649206958</td><td>53.645386232503974 </td><td>11.569017763930807</td><td>29.677705586045175</td><td>248.3476 </td><td>62.38938888071152 </td><td>-0.3710511028766632</td><td>0.864206839182257  </td><td>-1.074652075767517 </td><td>5751.2314</td><td>23.607574643160373</td><td>18.55643434672537 </td><td>13.732882885385859 </td><td>10.732605333652652 </td></tr>\n",
       "<tr><td>...                                </td><td>...              </td><td>...                 </td><td>...                </td><td>...                </td><td>...       </td><td>...    </td><td>...               </td><td>...                 </td><td>...      </td><td>...      </td><td>...      </td><td>...                </td><td>...        </td><td>...        </td><td>...        </td><td>...        </td><td>...        </td><td>...        </td><td>...         </td><td>...       </td><td>...                </td><td>...      </td><td>...                   </td><td>...                 </td><td>...                  </td><td>...                  </td><td>...                </td><td>...                </td><td>...                </td><td>...       </td><td>...     </td><td>...                 </td><td>...                </td><td>...               </td><td>...               </td><td>...      </td><td>...               </td><td>...                </td><td>...                </td><td>...                </td><td>...      </td><td>...               </td><td>...               </td><td>...                </td><td>...                </td></tr>\n",
       "<tr><td><i style='opacity: 0.6'>777,881</i></td><td>9.305075645446777</td><td>-0.2378266155719757 </td><td>-1.3668785095214844</td><td>0.2941742241382599 </td><td>64.392235 </td><td>0.0    </td><td>19.145268318926266</td><td>-0.8195078372955322 </td><td>31.26523 </td><td>151.96901</td><td>5.1299257</td><td>-1.1140830516815186</td><td>13.557388  </td><td>11.017601  </td><td>12.039905  </td><td>17.171427  </td><td>10.335803  </td><td>10.546297  </td><td>0.0034990532</td><td>0.16274795</td><td>-1.0573344230651855</td><td>1.4815284</td><td>0.12541733252817555   </td><td>-0.22811326138909585</td><td>0.22414585362448763  </td><td>0.11804748563292049  </td><td>-0.6839846968650818</td><td>-0.5307199358940125</td><td>-0.5255457162857056</td><td>9999      </td><td>1       </td><td>0.014823349084757631</td><td>-50.89965816041591 </td><td>27.09915679948965 </td><td>35.01236433439064 </td><td>119.13541</td><td>67.46113811947312 </td><td>-1.154412031173706 </td><td>0.1633134246041204 </td><td>-0.8922590613365173</td><td>3297.9697</td><td>-76.4988394208106 </td><td>42.40635662822305 </td><td>-103.78474588051195</td><td>-5.419531572276485 </td></tr>\n",
       "<tr><td><i style='opacity: 0.6'>777,882</i></td><td>9.305075645446777</td><td>-0.2378266155719757 </td><td>-1.3668785095214844</td><td>0.2941742241382599 </td><td>68.919365 </td><td>0.0    </td><td>19.024976808266082</td><td>-0.8195078372955322 </td><td>32.71257 </td><td>146.44557</td><td>4.3739486</td><td>-1.1140830516815186</td><td>3.9336116  </td><td>3.776686   </td><td>3.780663   </td><td>4.788629   </td><td>3.850709   </td><td>3.821709   </td><td>2.4554834   </td><td>1.0700629 </td><td>-1.0573344230651855</td><td>1.4815284</td><td>0.20011950297799527   </td><td>-0.220008285696289  </td><td>0.1905265274474233   </td><td>0.16716618597866786  </td><td>-0.6839846968650818</td><td>-0.5307199358940125</td><td>-0.5255457162857056</td><td>9999      </td><td>1       </td><td>0.015667678033937347</td><td>-44.753513681413274</td><td>29.68287405790176 </td><td>34.4929813417222  </td><td>123.90546</td><td>63.82566694528227 </td><td>-1.154412031173706 </td><td>1.071404141330282  </td><td>-0.8922590613365173</td><td>6855.134 </td><td>-76.47717670773662</td><td>49.031070716936206</td><td>-101.69335177412856</td><td>9.615197788584336  </td></tr>\n",
       "<tr><td><i style='opacity: 0.6'>777,883</i></td><td>9.305075645446777</td><td>-0.2378266155719757 </td><td>-1.3668785095214844</td><td>0.2941742241382599 </td><td>67.8758   </td><td>0.0    </td><td>19.013099109008497</td><td>-0.8195078372955322 </td><td>36.572647</td><td>146.5911 </td><td>5.0395794</td><td>-1.1140830516815186</td><td>12.152818  </td><td>9.93946    </td><td>10.722698  </td><td>15.388995  </td><td>9.380971   </td><td>9.564071   </td><td>0.008508709 </td><td>0.24832118</td><td>-1.0573344230651855</td><td>1.4815284</td><td>0.17764256891011243   </td><td>-0.2603085190983565 </td><td>0.21504998449395626  </td><td>0.10021401935113947  </td><td>-0.6839846968650818</td><td>-0.5307199358940125</td><td>-0.5255457162857056</td><td>9999      </td><td>1       </td><td>0.015753613207575144</td><td>-42.5552708827731  </td><td>28.06952422981249 </td><td>37.822531351306324</td><td>134.0191 </td><td>63.4775011182291  </td><td>-1.154412031173706 </td><td>0.24890497189108762</td><td>-0.8922590613365173</td><td>3518.3364</td><td>-78.46732495176515</td><td>43.561438451784355</td><td>-106.25392665868526</td><td>-3.8242740500103105</td></tr>\n",
       "<tr><td><i style='opacity: 0.6'>777,884</i></td><td>9.305075645446777</td><td>-0.2378266155719757 </td><td>-1.3668785095214844</td><td>0.2941742241382599 </td><td>67.54029  </td><td>0.0    </td><td>19.042873176496226</td><td>-0.8195078372955322 </td><td>35.93049 </td><td>147.27571</td><td>5.179636 </td><td>-1.1140830516815186</td><td>14.474963  </td><td>11.64978   </td><td>12.90009   </td><td>18.410887  </td><td>10.868552  </td><td>11.099746  </td><td>0.0021268465</td><td>0.13330047</td><td>-1.0573344230651855</td><td>1.4815284</td><td>0.13934641104255005   </td><td>-0.21536826710229928</td><td>0.18378791169175107  </td><td>0.08253442246327067  </td><td>-0.6839846968650818</td><td>-0.5307199358940125</td><td>-0.5255457162857056</td><td>9999      </td><td>1       </td><td>0.015539082222821491</td><td>-43.83853588732141 </td><td>28.170089480550764</td><td>37.76306096884586 </td><td>131.9691 </td><td>64.35386502629794 </td><td>-1.154412031173706 </td><td>0.13352043617052003</td><td>-0.8922590613365173</td><td>3150.4722</td><td>-90.81110500893531</td><td>52.537254945440864</td><td>-100.40539201945204</td><td>-18.866595092939107</td></tr>\n",
       "<tr><td><i style='opacity: 0.6'>777,885</i></td><td>9.305075645446777</td><td>-0.2378266155719757 </td><td>-1.3668785095214844</td><td>0.2941742241382599 </td><td>68.33688  </td><td>0.0    </td><td>18.934517976913618</td><td>-0.8195078372955322 </td><td>35.842365</td><td>146.2819 </td><td>5.095396 </td><td>-1.1140830516815186</td><td>12.983333  </td><td>10.591017  </td><td>11.502537  </td><td>16.421846  </td><td>9.96389    </td><td>10.162155  </td><td>0.004954702 </td><td>0.19080327</td><td>-1.0573344230651855</td><td>1.4815284</td><td>0.131802739720217     </td><td>-0.24470391575996966</td><td>0.21542230511643287  </td><td>0.06243981001677029  </td><td>-0.6839846968650818</td><td>-0.5307199358940125</td><td>-0.5255457162857056</td><td>9999      </td><td>1       </td><td>0.016334144927330135</td><td>-41.27952570189743 </td><td>27.548862590711952</td><td>35.848662329579774</td><td>132.35939</td><td>61.221447737175986</td><td>-1.154412031173706 </td><td>0.19110921184873786</td><td>-0.8922590613365173</td><td>3389.9094</td><td>-89.60851998182098</td><td>44.34551055322765 </td><td>-104.75866677995178</td><td>-21.462992310457164</td></tr>\n",
       "</tbody>\n",
       "</table>"
      ],
      "text/plain": [
       "#        age                alpha                 calcium              carbon               dec         dform    dmod                feh                   glat       glon       grav       helium               lsst_gmag    lsst_imag    lsst_rmag    lsst_umag    lsst_ymag    lsst_zmag    lum           mact        magnesium            mtip       mub                     mudec                 mul                    mura                   neon                 nitrogen             oxygen               parentid    partid    pi                    px                   py                  pz                  ra         rad                 silicon              smass                sulphur              teff       vr                  vx                  vy                   vz\n",
       "0        8.955413818359375  0.039958495646715164  -0.3540340065956116  -0.7935190200805664  -3.0187774  0.0      18.951440350826058  -0.47136881947517395  28.416817  12.780675  4.956081   -0.5525906682014465  11.80497     9.539346     10.41393     14.933437    8.918149     9.113612     0.012814957   0.3265724   -0.4314103126525879  2.0520527  0.04085799708779068     0.05314435298194126   0.0367721129780034     -0.014044283308395397  -1.0620990991592407  -0.1971900761127472  0.14263589680194855  0           0         0.016207346975789905  52.92156982421875    12.004715919494629  29.362138748168945  248.63277  61.70041287409796   -0.3710511028766632  0.3278209773110734   -1.074652075767517   3466.0723  30.880837645635175  18.561607360839844  15.239194869995117   25.20623016357422\n",
       "1        8.955413818359375  0.039958495646715164  -0.3540340065956116  -0.7935190200805664  -3.607971   0.0      18.864236612676443  -0.47136881947517395  25.569458  14.055669  4.979249   -0.5525906682014465  12.068756    9.755406     10.667071    15.233152    9.1115       9.311842     0.010714831   0.3012882   -0.4314103126525879  2.0520527  -0.004145640239841527   0.060654433801642434  0.0745194426862223     0.04348992452493178    -1.0620990991592407  -0.1971900761127472  0.14263589680194855  0           1         0.016871460421509735  51.86600019649691    12.985184921165683  25.581955138652113  251.64622  59.27169166251201   -0.3710511028766632  0.302189787474221    -1.074652075767517   3428.1904  28.800504069210206  20.604587340492692  26.742954334719897   11.379695449857985\n",
       "2        8.955413818359375  0.039958495646715164  -0.3540340065956116  -0.7935190200805664  4.3488946   0.0      18.966729091923135  -0.47136881947517395  33.981075  18.892673  5.051082   -0.5525906682014465  13.173247    10.614958    11.719562    16.558348    9.864724     10.091033    0.005318379   0.21559106  -0.4314103126525879  2.0520527  0.040864454769306315    0.023772158428189277  0.0038466972475121376  -0.0334602108086448    -1.0620990991592407  -0.1971900761127472  0.14263589680194855  0           1         0.016093636267841736  48.74904091562003    16.683563081964277  34.72919730609747   246.6416   62.13636143860151   -0.3710511028766632  0.21637112311520174  -1.074652075767517   3266.0715  36.87846055749077   22.20090090990196   8.795479621852436    30.593301054648084\n",
       "3        8.955413818359375  0.039958495646715164  -0.3540340065956116  -0.7935190200805664  0.53760934  0.0      19.130052840109137  -0.47136881947517395  27.720272  18.021389  5.107784   -0.5525906682014465  14.259985    11.395468    12.7542925   17.94032     10.521305    10.778402    0.002890651   0.16240019  -0.4314103126525879  2.0520527  0.02683924634915        0.00872166071032202   -0.005780508648483159  -0.026032518858508845  -1.0620990991592407  -0.1971900761127472  0.14263589680194855  0           1         0.014927580847058508  56.3923080253249     18.346247823616633  31.160794026387066  251.67007  66.99009104325506   -0.3710511028766632  0.1630902769897953   -1.074652075767517   3106.1218  37.53585075822972   28.395507372171934  7.307592726651242    25.004977523869556\n",
       "4        8.955413818359375  0.039958495646715164  -0.3540340065956116  -0.7935190200805664  -3.4745467  0.0      18.97555365815385   -0.47136881947517395  28.403969  12.16987   4.599908   -0.5525906682014465  5.688847     5.1565785    5.276043     6.829024     5.1219654    5.1331244    0.5822325     0.86420685  -0.4314103126525879  2.0520527  -0.0019110736205013878  0.025759841746698712  0.0321629862688668     0.01935304722385955    -1.0620990991592407  -0.1971900761127472  0.14263589680194855  0           1         0.016028366649206958  53.645386232503974   11.569017763930807  29.677705586045175  248.3476   62.38938888071152   -0.3710511028766632  0.864206839182257    -1.074652075767517   5751.2314  23.607574643160373  18.55643434672537   13.732882885385859   10.732605333652652\n",
       "...      ...                ...                   ...                  ...                  ...         ...      ...                 ...                   ...        ...        ...        ...                  ...          ...          ...          ...          ...          ...          ...           ...         ...                  ...        ...                     ...                   ...                    ...                    ...                  ...                  ...                  ...         ...       ...                   ...                  ...                 ...                 ...        ...                 ...                  ...                  ...                  ...        ...                 ...                 ...                  ...\n",
       "777,881  9.305075645446777  -0.2378266155719757   -1.3668785095214844  0.2941742241382599   64.392235   0.0      19.145268318926266  -0.8195078372955322   31.26523   151.96901  5.1299257  -1.1140830516815186  13.557388    11.017601    12.039905    17.171427    10.335803    10.546297    0.0034990532  0.16274795  -1.0573344230651855  1.4815284  0.12541733252817555     -0.22811326138909585  0.22414585362448763    0.11804748563292049    -0.6839846968650818  -0.5307199358940125  -0.5255457162857056  9999        1         0.014823349084757631  -50.89965816041591   27.09915679948965   35.01236433439064   119.13541  67.46113811947312   -1.154412031173706   0.1633134246041204   -0.8922590613365173  3297.9697  -76.4988394208106   42.40635662822305   -103.78474588051195  -5.419531572276485\n",
       "777,882  9.305075645446777  -0.2378266155719757   -1.3668785095214844  0.2941742241382599   68.919365   0.0      19.024976808266082  -0.8195078372955322   32.71257   146.44557  4.3739486  -1.1140830516815186  3.9336116    3.776686     3.780663     4.788629     3.850709     3.821709     2.4554834     1.0700629   -1.0573344230651855  1.4815284  0.20011950297799527     -0.220008285696289    0.1905265274474233     0.16716618597866786    -0.6839846968650818  -0.5307199358940125  -0.5255457162857056  9999        1         0.015667678033937347  -44.753513681413274  29.68287405790176   34.4929813417222    123.90546  63.82566694528227   -1.154412031173706   1.071404141330282    -0.8922590613365173  6855.134   -76.47717670773662  49.031070716936206  -101.69335177412856  9.615197788584336\n",
       "777,883  9.305075645446777  -0.2378266155719757   -1.3668785095214844  0.2941742241382599   67.8758     0.0      19.013099109008497  -0.8195078372955322   36.572647  146.5911   5.0395794  -1.1140830516815186  12.152818    9.93946      10.722698    15.388995    9.380971     9.564071     0.008508709   0.24832118  -1.0573344230651855  1.4815284  0.17764256891011243     -0.2603085190983565   0.21504998449395626    0.10021401935113947    -0.6839846968650818  -0.5307199358940125  -0.5255457162857056  9999        1         0.015753613207575144  -42.5552708827731    28.06952422981249   37.822531351306324  134.0191   63.4775011182291    -1.154412031173706   0.24890497189108762  -0.8922590613365173  3518.3364  -78.46732495176515  43.561438451784355  -106.25392665868526  -3.8242740500103105\n",
       "777,884  9.305075645446777  -0.2378266155719757   -1.3668785095214844  0.2941742241382599   67.54029    0.0      19.042873176496226  -0.8195078372955322   35.93049   147.27571  5.179636   -1.1140830516815186  14.474963    11.64978     12.90009     18.410887    10.868552    11.099746    0.0021268465  0.13330047  -1.0573344230651855  1.4815284  0.13934641104255005     -0.21536826710229928  0.18378791169175107    0.08253442246327067    -0.6839846968650818  -0.5307199358940125  -0.5255457162857056  9999        1         0.015539082222821491  -43.83853588732141   28.170089480550764  37.76306096884586   131.9691   64.35386502629794   -1.154412031173706   0.13352043617052003  -0.8922590613365173  3150.4722  -90.81110500893531  52.537254945440864  -100.40539201945204  -18.866595092939107\n",
       "777,885  9.305075645446777  -0.2378266155719757   -1.3668785095214844  0.2941742241382599   68.33688    0.0      18.934517976913618  -0.8195078372955322   35.842365  146.2819   5.095396   -1.1140830516815186  12.983333    10.591017    11.502537    16.421846    9.96389      10.162155    0.004954702   0.19080327  -1.0573344230651855  1.4815284  0.131802739720217       -0.24470391575996966  0.21542230511643287    0.06243981001677029    -0.6839846968650818  -0.5307199358940125  -0.5255457162857056  9999        1         0.016334144927330135  -41.27952570189743   27.548862590711952  35.848662329579774  132.35939  61.221447737175986  -1.154412031173706   0.19110921184873786  -0.8922590613365173  3389.9094  -89.60851998182098  44.34551055322765   -104.75866677995178  -21.462992310457164"
      ]
     },
     "execution_count": 4,
     "metadata": {},
     "output_type": "execute_result"
    }
   ],
   "source": [
    "output = Galaxia_ananke.make_survey_from_particles(p, rho['pos'], rho['vel'], fsample=0.01, photo_sys='padova/LSST', cmd_magnames='rmag,gmag-rmag')#, simname='sim', surveyname='survey', fsample=1, ngb=64, knorm=0.596831, **kwargs):\n",
    "output"
   ]
  }
 ],
 "metadata": {
  "kernelspec": {
   "display_name": "base",
   "language": "python",
   "name": "python3"
  },
  "language_info": {
   "codemirror_mode": {
    "name": "ipython",
    "version": 3
   },
   "file_extension": ".py",
   "mimetype": "text/x-python",
   "name": "python",
   "nbconvert_exporter": "python",
   "pygments_lexer": "ipython3",
   "version": "3.10.12"
  },
  "vscode": {
   "interpreter": {
    "hash": "93aa337d3be5595eae1049f286a1f242db5cd4d40fd613efbe29fb4c796799bf"
   }
  }
 },
 "nbformat": 4,
 "nbformat_minor": 5
}
