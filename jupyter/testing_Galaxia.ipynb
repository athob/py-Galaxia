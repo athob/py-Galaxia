{
 "cells": [
  {
   "cell_type": "code",
   "execution_count": 1,
   "id": "f130bf6c",
   "metadata": {},
   "outputs": [
    {
     "data": {
      "text/plain": [
       "'0.3.0.b3.dev0'"
      ]
     },
     "execution_count": 1,
     "metadata": {},
     "output_type": "execute_result"
    }
   ],
   "source": [
    "import numpy as np\n",
    "import Galaxia_ananke\n",
    "Galaxia_ananke.__version__"
   ]
  },
  {
   "cell_type": "code",
   "execution_count": 2,
   "id": "fa0e3b78",
   "metadata": {},
   "outputs": [],
   "source": [
    "np.random.seed(0)\n",
    "n_parts = 10000\n",
    "\n",
    "p = Galaxia_ananke.make_dummy_particles_input(n_parts)\n",
    "rho_pos, rho_vel = Galaxia_ananke.make_dummy_densities_input(n_parts)"
   ]
  },
  {
   "attachments": {},
   "cell_type": "markdown",
   "id": "44249eee",
   "metadata": {},
   "source": [
    "Using default photometric system"
   ]
  },
  {
   "cell_type": "code",
   "execution_count": 3,
   "id": "1c60e7b4",
   "metadata": {},
   "outputs": [
    {
     "name": "stdout",
     "output_type": "stream",
     "text": [
      "/home/athob/miniconda3/envs/galaxia-minimal/.cache/Galaxia_ananke/bin/galaxia -r --hdim=6 --nfile=sim /home/athob/Software/repos/py-ananke/py-Galaxia-ananke/jupyter/survey_params\n",
      "CODEDATAPATH=/home/athob/miniconda3/envs/galaxia-minimal/.cache/Galaxia_ananke/GalaxiaData/\n",
      "Reading Parameter file-             /home/athob/Software/repos/py-ananke/py-Galaxia-ananke/jupyter/survey_params\n",
      "--------------------------------------------------------\n",
      "outputFile               survey                  \n",
      "outputDir                /home/athob/Software/repos/py-ananke/py-Galaxia-ananke/jupyter\n",
      "photoCateg               padova                  \n",
      "photoSys                 GAIADR2                 \n",
      "magcolorNames            Gmag,G_BPmag-G_RPmag    \n",
      "appMagLimits[0]          -1000                   \n",
      "appMagLimits[1]          1000                    \n",
      "absMagLimits[0]          -1000                   \n",
      "absMagLimits[1]          20                      \n",
      "colorLimits[0]           -1000                   \n",
      "colorLimits[1]           1000                    \n",
      "geometryOption           0                       \n",
      "surveyArea               207.455                 \n",
      "fSample                  0.01                    \n",
      "popID                    10                      \n",
      "warpFlareOn              0                       \n",
      "longitude                76.273                  \n",
      "latitude                 13.4725                 \n",
      "starType                 0                       \n",
      "photoError               0                       \n",
      "seed                     17052                   \n",
      "r_max                    500                     \n",
      "r_min                    0                       \n",
      "nres                     64                      \n",
      "nstart                   0                       \n",
      "rSun[0]                  0.0                     \n",
      "rSun[1]                  0.0                     \n",
      "rSun[2]                  0.0                     \n",
      "vSun[0]                  0.0                     \n",
      "vSun[1]                  0.0                     \n",
      "vSun[2]                  0.0                     \n",
      "--------------------------------------------------------\n",
      "Reading Halo Sat File=/home/athob/miniconda3/envs/galaxia-minimal/.cache/Galaxia_ananke/GalaxiaData/nbody1/filenames/sim.txt\n",
      "Halo 1 Sat 0 fname nbody1/sim/sim.ebf 0\n",
      "nbody1/sim/sim.ebf 0\n",
      "No of Satellites   =1\n",
      "Generating catalog. Max allowed stars is 18446744073709551615\n",
      "Source numbering will start at 0\n",
      "Writing to /home/athob/Software/repos/py-ananke/py-Galaxia-ananke/jupyter/survey.sim.ebf\n",
      "Using geometry:                     All Sky\n",
      "setting center to 0 0 0 0 0 0\n",
      "Reading Isochrones from dir-        /home/athob/miniconda3/envs/galaxia-minimal/.cache/Galaxia_ananke/GalaxiaData/Isochrones/padova/GAIADR2\n"
     ]
    },
    {
     "name": "stderr",
     "output_type": "stream",
     "text": [
      "nbody1/sim/\n",
      "\n",
      "\t1\t1\n",
      "\n",
      "path nbody1/sim/ sats 1 x[0] 1\n"
     ]
    },
    {
     "name": "stdout",
     "output_type": "stream",
     "text": [
      "Isochrone Grid Size:                (Age bins=71,Feh bins=34,Alpha bins=1)\n",
      "Time Isochrone Reading              1.87407     \n",
      "------------------------------\n",
      "nbody1/sim/sim.ebf  Sat No=0\n",
      "Particles=10000\n",
      "Satellite Info\n",
      "Particles=10000 Mass=5.49088e+07 0.379706\n",
      "Total Stars=780476 accepted=777213 rejected=3263\n",
      "-----------Done---------------\n",
      "Total stars written                 777213                  \n",
      "30\n",
      "File written-                       /home/athob/Software/repos/py-ananke/py-Galaxia-ananke/jupyter/survey.sim.ebf\n",
      "Calculating magnitudes in GAIADR2 system................\n",
      "initializing isochrone data\n",
      "interpolating on isochrone tables\n",
      "Appending spherical coordinates................\n",
      "Total Time=                         3.14823     \n",
      "Exported the following quantities to /home/athob/Software/repos/py-ananke/py-Galaxia-ananke/jupyter/survey.sim.h5\n",
      "['age', 'alpha', 'calcium', 'carbon', 'dec', 'dform', 'dmod', 'feh', 'gaiadr2_g_bpmag', 'gaiadr2_g_rpmag', 'gaiadr2_gmag', 'glat', 'glon', 'grav', 'helium', 'lum', 'mact', 'magnesium', 'mtip', 'neon', 'nitrogen', 'oxygen', 'parentid', 'partid', 'px', 'py', 'pz', 'ra', 'rad', 'satid', 'silicon', 'smass', 'sulphur', 'teff', 'vx', 'vy', 'vz']\n",
      "Exported the following quantities to /home/athob/Software/repos/py-ananke/py-Galaxia-ananke/jupyter/survey.sim.h5\n",
      "['mul', 'vr', 'mub']\n",
      "Overwritten the following quantities to /home/athob/Software/repos/py-ananke/py-Galaxia-ananke/jupyter/survey.sim.h5\n",
      "('glon', 'glat', 'rad')\n",
      "Exported the following quantities to /home/athob/Software/repos/py-ananke/py-Galaxia-ananke/jupyter/survey.sim.h5\n",
      "['mudec', 'mura']\n",
      "Overwritten the following quantities to /home/athob/Software/repos/py-ananke/py-Galaxia-ananke/jupyter/survey.sim.h5\n",
      "('ra', 'dec')\n",
      "Exported the following quantities to /home/athob/Software/repos/py-ananke/py-Galaxia-ananke/jupyter/survey.sim.h5\n",
      "['pi']\n",
      "Overwritten the following quantities to /home/athob/Software/repos/py-ananke/py-Galaxia-ananke/jupyter/survey.sim.h5\n",
      "('grav', 'lum')\n"
     ]
    },
    {
     "data": {
      "text/html": [
       "<style>.vaex-description pre {\n",
       "          max-width : 450px;\n",
       "          white-space : nowrap;\n",
       "          overflow : hidden;\n",
       "          text-overflow: ellipsis;\n",
       "        }\n",
       "\n",
       "        .vex-description pre:hover {\n",
       "          max-width : initial;\n",
       "          white-space: pre;\n",
       "        }</style>"
      ],
      "text/plain": [
       "<IPython.core.display.HTML object>"
      ]
     },
     "metadata": {},
     "output_type": "display_data"
    },
    {
     "data": {
      "text/html": [
       "<table>\n",
       "<thead>\n",
       "<tr><th>#                                  </th><th>age              </th><th>alpha               </th><th>calcium            </th><th>carbon             </th><th>dec       </th><th>dform  </th><th>dmod              </th><th>feh                 </th><th>gaiadr2_g_bpmag  </th><th>gaiadr2_g_rpmag  </th><th>gaiadr2_gmag  </th><th>glat     </th><th>glon      </th><th>grav     </th><th>helium             </th><th>lum          </th><th>mact      </th><th>magnesium          </th><th>mtip     </th><th>mub                 </th><th>mudec               </th><th>mul                 </th><th>mura                  </th><th>neon               </th><th>nitrogen           </th><th>oxygen             </th><th>parentid  </th><th>partid  </th><th>pi                  </th><th>px                 </th><th>py                </th><th>pz                </th><th>ra       </th><th>rad               </th><th>satid  </th><th>silicon            </th><th>smass              </th><th>sulphur            </th><th>teff     </th><th>vr                </th><th>vx                </th><th>vy                 </th><th>vz                </th></tr>\n",
       "</thead>\n",
       "<tbody>\n",
       "<tr><td><i style='opacity: 0.6'>0</i>      </td><td>8.955413818359375</td><td>0.039958495646715164</td><td>-0.3540340065956116</td><td>-0.7935190200805664</td><td>-3.0187774</td><td>0.0    </td><td>18.951440350826058</td><td>-0.47136881947517395</td><td>11.126908        </td><td>9.054153         </td><td>10.04198      </td><td>28.416817</td><td>12.780675 </td><td>90976.37 </td><td>-0.5525906682014465</td><td>0.013361397  </td><td>0.32670912</td><td>-0.4314103126525879</td><td>2.025267 </td><td>0.04085799708779068 </td><td>0.053144352981941236</td><td>0.0367721129780034  </td><td>-0.014044283308395335 </td><td>-1.0620990991592407</td><td>-0.1971900761127472</td><td>0.14263589680194855</td><td>0         </td><td>0       </td><td>0.016207346975789905</td><td>52.92156982421875  </td><td>12.004715919494629</td><td>29.362138748168945</td><td>248.63277</td><td>61.70041287409796 </td><td>0      </td><td>-0.3710511028766632</td><td>0.32651486763693804</td><td>-1.074652075767517 </td><td>3.5452332</td><td>30.880837645635175</td><td>18.561607360839844</td><td>15.239194869995117 </td><td>25.20623016357422 </td></tr>\n",
       "<tr><td><i style='opacity: 0.6'>1</i>      </td><td>8.955413818359375</td><td>0.039958495646715164</td><td>-0.3540340065956116</td><td>-0.7935190200805664</td><td>-3.0931602</td><td>0.0    </td><td>18.939965334569187</td><td>-0.47136881947517395</td><td>11.386944        </td><td>9.270209         </td><td>10.270541     </td><td>28.060362</td><td>12.944194 </td><td>95957.836</td><td>-0.5525906682014465</td><td>0.011113583  </td><td>0.30133697</td><td>-0.4314103126525879</td><td>2.025267 </td><td>0.035276352500333535</td><td>0.05408021597714636 </td><td>0.04155839994965697 </td><td>-0.0068448493470960325</td><td>-1.0620990991592407</td><td>-0.1971900761127472</td><td>0.14263589680194855</td><td>0         </td><td>1       </td><td>0.01629322042963167 </td><td>52.7844239788092   </td><td>12.1321042476547  </td><td>28.8709949492995  </td><td>249.0105 </td><td>61.3752207133557  </td><td>0      </td><td>-0.3710511028766632</td><td>0.30107596208136506</td><td>-1.074652075767517 </td><td>3.540497 </td><td>30.511590319092264</td><td>18.82704339201258 </td><td>16.7338312767607   </td><td>23.409805070899278</td></tr>\n",
       "<tr><td><i style='opacity: 0.6'>2</i>      </td><td>8.955413818359375</td><td>0.039958495646715164</td><td>-0.3540340065956116</td><td>-0.7935190200805664</td><td>-2.057492 </td><td>0.0    </td><td>18.95124499512756 </td><td>-0.47136881947517395</td><td>12.395295        </td><td>10.079496        </td><td>11.133261     </td><td>29.158543</td><td>13.538701 </td><td>113780.53</td><td>-0.5525906682014465</td><td>0.0056239846 </td><td>0.21602225</td><td>-0.4314103126525879</td><td>2.025267 </td><td>0.04090805350304646 </td><td>0.04961215795732445 </td><td>0.032639320773175114</td><td>-0.016656170777918013 </td><td>-1.0620990991592407</td><td>-0.1971900761127472</td><td>0.14263589680194855</td><td>0         </td><td>1       </td><td>0.01620880512925413 </td><td>52.37945020497526  </td><td>12.612619399082115</td><td>30.059458720209324</td><td>248.37285</td><td>61.69486226934584 </td><td>0      </td><td>-0.3710511028766632</td><td>0.21582281895266564</td><td>-1.074652075767517 </td><td>3.5209978</td><td>31.726879711216753</td><td>19.034445883760533</td><td>14.40198930826226  </td><td>25.90615024659716 </td></tr>\n",
       "<tr><td><i style='opacity: 0.6'>3</i>      </td><td>8.955413818359375</td><td>0.039958495646715164</td><td>-0.3540340065956116</td><td>-0.7935190200805664</td><td>-2.5232458</td><td>0.0    </td><td>18.974626128767238</td><td>-0.47136881947517395</td><td>13.407313        </td><td>10.819105        </td><td>11.936295     </td><td>28.331715</td><td>13.5152645</td><td>129644.72</td><td>-0.5525906682014465</td><td>0.0030702134 </td><td>0.16282208</td><td>-0.4314103126525879</td><td>2.025267 </td><td>0.03867513688996528 </td><td>0.047059553440531234</td><td>0.03104797725805413 </td><td>-0.01565700137563908  </td><td>-1.0620990991592407</td><td>-0.1971900761127472</td><td>0.14263589680194855</td><td>0         </td><td>1       </td><td>0.016035214517314666</td><td>53.372508646523855 </td><td>12.828645228695661</td><td>29.595830673602574</td><td>249.05687</td><td>62.362745376446945</td><td>0      </td><td>-0.3710511028766632</td><td>0.16282207913433552</td><td>-1.074652075767517 </td><td>3.499763 </td><td>31.851964341490817</td><td>19.83928576001881 </td><td>14.208674250733775 </td><td>25.180082231397556</td></tr>\n",
       "<tr><td><i style='opacity: 0.6'>4</i>      </td><td>8.955413818359375</td><td>0.039958495646715164</td><td>-0.3540340065956116</td><td>-0.7935190200805664</td><td>-3.0785723</td><td>0.0    </td><td>18.954577584471174</td><td>-0.47136881947517395</td><td>5.585426         </td><td>4.808673         </td><td>5.2810493     </td><td>28.415287</td><td>12.700538 </td><td>40553.24 </td><td>-0.5525906682014465</td><td>0.5804881    </td><td>0.8526108 </td><td>-0.4314103126525879</td><td>2.025267 </td><td>0.03525072238078883 </td><td>0.0495763924516022  </td><td>0.036170224596066176</td><td>-0.00964778963105229  </td><td>-1.0620990991592407</td><td>-0.1971900761127472</td><td>0.14263589680194855</td><td>0         </td><td>1       </td><td>0.016183948326258517</td><td>53.01561233039603  </td><td>11.948107439751663</td><td>29.40313905703266 </td><td>248.59537</td><td>61.78961893850688 </td><td>0      </td><td>-0.3710511028766632</td><td>0.852659319186179  </td><td>-1.074652075767517 </td><td>3.762665 </td><td>29.933996787662746</td><td>18.560935252278124</td><td>15.043485915974651 </td><td>23.32573129926798 </td></tr>\n",
       "<tr><td>...                                </td><td>...              </td><td>...                 </td><td>...                </td><td>...                </td><td>...       </td><td>...    </td><td>...               </td><td>...                 </td><td>...              </td><td>...              </td><td>...           </td><td>...      </td><td>...       </td><td>...      </td><td>...                </td><td>...          </td><td>...       </td><td>...                </td><td>...      </td><td>...                 </td><td>...                 </td><td>...                 </td><td>...                   </td><td>...                </td><td>...                </td><td>...                </td><td>...       </td><td>...     </td><td>...                 </td><td>...                </td><td>...               </td><td>...               </td><td>...      </td><td>...               </td><td>...    </td><td>...                </td><td>...                </td><td>...                </td><td>...      </td><td>...               </td><td>...               </td><td>...                </td><td>...               </td></tr>\n",
       "<tr><td><i style='opacity: 0.6'>777,208</i></td><td>9.305075645446777</td><td>-0.2378266155719757 </td><td>-1.3668785095214844</td><td>0.2941742241382599 </td><td>67.86442  </td><td>0.0    </td><td>19.088982837042664</td><td>-0.8195078372955322 </td><td>10.028752        </td><td>8.23612          </td><td>9.135772      </td><td>34.532234</td><td>147.3097  </td><td>79470.18 </td><td>-1.1140830516815186</td><td>0.025705868  </td><td>0.39582875</td><td>-1.0573344230651855</td><td>1.4649662</td><td>0.15138706015714973 </td><td>-0.23952354792060457</td><td>0.21111931900468284 </td><td>0.10058768769983698   </td><td>-0.6839846968650818</td><td>-0.5307199358940125</td><td>-0.5255457162857056</td><td>9999      </td><td>1       </td><td>0.015212599527465743</td><td>-45.57525013668082 </td><td>29.24791220748871 </td><td>37.26317812958719 </td><td>128.3829 </td><td>65.73498488503164 </td><td>0      </td><td>-1.154412031173706 </td><td>0.39641837608173713</td><td>-0.8922590613365173</td><td>3.5807974</td><td>-85.32863322746539</td><td>46.133892207917974</td><td>-107.77625313315166</td><td>-9.50757198945173 </td></tr>\n",
       "<tr><td><i style='opacity: 0.6'>777,209</i></td><td>9.305075645446777</td><td>-0.2378266155719757 </td><td>-1.3668785095214844</td><td>0.2941742241382599 </td><td>67.79792  </td><td>0.0    </td><td>19.098632079037195</td><td>-0.8195078372955322 </td><td>11.3353615       </td><td>9.368794         </td><td>10.323336     </td><td>35.524296</td><td>147.08772 </td><td>108735.71</td><td>-1.1140830516815186</td><td>0.009636581  </td><td>0.25832927</td><td>-1.0573344230651855</td><td>1.4649662</td><td>0.15420522561987102 </td><td>-0.23697577765038635</td><td>0.20322195176749022 </td><td>0.09445046973841444   </td><td>-0.6839846968650818</td><td>-0.5307199358940125</td><td>-0.5255457162857056</td><td>9999      </td><td>1       </td><td>0.01514515018064314 </td><td>-45.11319087799619 </td><td>29.19873801320827 </td><td>38.36529449942598 </td><td>131.05016</td><td>66.02773746529695 </td><td>0      </td><td>-1.154412031173706 </td><td>0.2596557748013721 </td><td>-0.8922590613365173</td><td>3.5547836</td><td>-83.32074316654946</td><td>45.91042908489636 </td><td>-105.4845041775199 </td><td>-9.130642870195825</td></tr>\n",
       "<tr><td><i style='opacity: 0.6'>777,210</i></td><td>9.305075645446777</td><td>-0.2378266155719757 </td><td>-1.3668785095214844</td><td>0.2941742241382599 </td><td>67.74636  </td><td>0.0    </td><td>19.09616450317092 </td><td>-0.8195078372955322 </td><td>15.79261         </td><td>12.402233        </td><td>13.647504     </td><td>35.323166</td><td>147.22011 </td><td>195388.84</td><td>-1.1140830516815186</td><td>0.00081713474</td><td>0.09815717</td><td>-1.0573344230651855</td><td>1.4649662</td><td>0.14854217267276387 </td><td>-0.23853175461978604</td><td>0.2074050958571806  </td><td>0.09046687311851731   </td><td>-0.6839846968650818</td><td>-0.5307199358940125</td><td>-0.5255457162857056</td><td>9999      </td><td>1       </td><td>0.015162370316107222</td><td>-45.24204196238864 </td><td>29.134043650625316</td><td>38.13305925410672 </td><td>130.46243</td><td>65.95274875575915 </td><td>0      </td><td>-1.154412031173706 </td><td>0.09819833921359898</td><td>-0.8922590613365173</td><td>3.4552758</td><td>-82.7442774157126 </td><td>44.22871758659002 </td><td>-105.6079761881143 </td><td>-9.950097413718659</td></tr>\n",
       "<tr><td><i style='opacity: 0.6'>777,211</i></td><td>9.305075645446777</td><td>-0.2378266155719757 </td><td>-1.3668785095214844</td><td>0.2941742241382599 </td><td>68.17851  </td><td>0.0    </td><td>19.092931902830134</td><td>-0.8195078372955322 </td><td>12.776528        </td><td>10.526013        </td><td>11.560607     </td><td>34.671333</td><td>146.87787 </td><td>137752.69</td><td>-1.1140830516815186</td><td>0.0036202532 </td><td>0.16208944</td><td>-1.0573344230651855</td><td>1.4649662</td><td>0.1542779206981862  </td><td>-0.2287665035445361 </td><td>0.19795715381457135 </td><td>0.10322112336639118   </td><td>-0.6839846968650818</td><td>-0.5307199358940125</td><td>-0.5255457162857056</td><td>9999      </td><td>1       </td><td>0.01518495885282233 </td><td>-45.36004496901724 </td><td>29.59481504770683 </td><td>37.462606206571486</td><td>128.96242</td><td>65.85464008775608 </td><td>0      </td><td>-1.154412031173706 </td><td>0.16195700902109328</td><td>-0.8922590613365173</td><td>3.525184 </td><td>-84.21340324600276</td><td>47.183289127031145</td><td>-104.57313701665126</td><td>-8.295861586946675</td></tr>\n",
       "<tr><td><i style='opacity: 0.6'>777,212</i></td><td>9.305075645446777</td><td>-0.2378266155719757 </td><td>-1.3668785095214844</td><td>0.2941742241382599 </td><td>67.57939  </td><td>0.0    </td><td>19.09542778530944 </td><td>-0.8195078372955322 </td><td>11.217975        </td><td>9.269393         </td><td>10.218345     </td><td>35.133842</td><td>147.49103 </td><td>106447.83</td><td>-1.1140830516815186</td><td>0.010498018  </td><td>0.26975194</td><td>-1.0573344230651855</td><td>1.4649662</td><td>0.15021978229207023 </td><td>-0.23462567223144898</td><td>0.20417634469307028 </td><td>0.09594144398060077   </td><td>-0.6839846968650818</td><td>-0.5307199358940125</td><td>-0.5255457162857056</td><td>9999      </td><td>1       </td><td>0.015167515343092046</td><td>-45.469881350017616</td><td>28.977515636100403</td><td>37.942167147831896</td><td>129.83458</td><td>65.93037668858823 </td><td>0      </td><td>-1.154412031173706 </td><td>0.27107347928218684</td><td>-0.8922590613365173</td><td>3.5570195</td><td>-82.6105775815683 </td><td>45.46364926573916 </td><td>-104.64403425277388</td><td>-9.145382245202404</td></tr>\n",
       "</tbody>\n",
       "</table>"
      ],
      "text/plain": [
       "#        age                alpha                 calcium              carbon               dec         dform    dmod                feh                   gaiadr2_g_bpmag    gaiadr2_g_rpmag    gaiadr2_gmag    glat       glon        grav       helium               lum            mact        magnesium            mtip       mub                   mudec                 mul                   mura                    neon                 nitrogen             oxygen               parentid    partid    pi                    px                   py                  pz                  ra         rad                 satid    silicon              smass                sulphur              teff       vr                  vx                  vy                   vz\n",
       "0        8.955413818359375  0.039958495646715164  -0.3540340065956116  -0.7935190200805664  -3.0187774  0.0      18.951440350826058  -0.47136881947517395  11.126908          9.054153           10.04198        28.416817  12.780675   90976.37   -0.5525906682014465  0.013361397    0.32670912  -0.4314103126525879  2.025267   0.04085799708779068   0.053144352981941236  0.0367721129780034    -0.014044283308395335   -1.0620990991592407  -0.1971900761127472  0.14263589680194855  0           0         0.016207346975789905  52.92156982421875    12.004715919494629  29.362138748168945  248.63277  61.70041287409796   0        -0.3710511028766632  0.32651486763693804  -1.074652075767517   3.5452332  30.880837645635175  18.561607360839844  15.239194869995117   25.20623016357422\n",
       "1        8.955413818359375  0.039958495646715164  -0.3540340065956116  -0.7935190200805664  -3.0931602  0.0      18.939965334569187  -0.47136881947517395  11.386944          9.270209           10.270541       28.060362  12.944194   95957.836  -0.5525906682014465  0.011113583    0.30133697  -0.4314103126525879  2.025267   0.035276352500333535  0.05408021597714636   0.04155839994965697   -0.0068448493470960325  -1.0620990991592407  -0.1971900761127472  0.14263589680194855  0           1         0.01629322042963167   52.7844239788092     12.1321042476547    28.8709949492995    249.0105   61.3752207133557    0        -0.3710511028766632  0.30107596208136506  -1.074652075767517   3.540497   30.511590319092264  18.82704339201258   16.7338312767607     23.409805070899278\n",
       "2        8.955413818359375  0.039958495646715164  -0.3540340065956116  -0.7935190200805664  -2.057492   0.0      18.95124499512756   -0.47136881947517395  12.395295          10.079496          11.133261       29.158543  13.538701   113780.53  -0.5525906682014465  0.0056239846   0.21602225  -0.4314103126525879  2.025267   0.04090805350304646   0.04961215795732445   0.032639320773175114  -0.016656170777918013   -1.0620990991592407  -0.1971900761127472  0.14263589680194855  0           1         0.01620880512925413   52.37945020497526    12.612619399082115  30.059458720209324  248.37285  61.69486226934584   0        -0.3710511028766632  0.21582281895266564  -1.074652075767517   3.5209978  31.726879711216753  19.034445883760533  14.40198930826226    25.90615024659716\n",
       "3        8.955413818359375  0.039958495646715164  -0.3540340065956116  -0.7935190200805664  -2.5232458  0.0      18.974626128767238  -0.47136881947517395  13.407313          10.819105          11.936295       28.331715  13.5152645  129644.72  -0.5525906682014465  0.0030702134   0.16282208  -0.4314103126525879  2.025267   0.03867513688996528   0.047059553440531234  0.03104797725805413   -0.01565700137563908    -1.0620990991592407  -0.1971900761127472  0.14263589680194855  0           1         0.016035214517314666  53.372508646523855   12.828645228695661  29.595830673602574  249.05687  62.362745376446945  0        -0.3710511028766632  0.16282207913433552  -1.074652075767517   3.499763   31.851964341490817  19.83928576001881   14.208674250733775   25.180082231397556\n",
       "4        8.955413818359375  0.039958495646715164  -0.3540340065956116  -0.7935190200805664  -3.0785723  0.0      18.954577584471174  -0.47136881947517395  5.585426           4.808673           5.2810493       28.415287  12.700538   40553.24   -0.5525906682014465  0.5804881      0.8526108   -0.4314103126525879  2.025267   0.03525072238078883   0.0495763924516022    0.036170224596066176  -0.00964778963105229    -1.0620990991592407  -0.1971900761127472  0.14263589680194855  0           1         0.016183948326258517  53.01561233039603    11.948107439751663  29.40313905703266   248.59537  61.78961893850688   0        -0.3710511028766632  0.852659319186179    -1.074652075767517   3.762665   29.933996787662746  18.560935252278124  15.043485915974651   23.32573129926798\n",
       "...      ...                ...                   ...                  ...                  ...         ...      ...                 ...                   ...                ...                ...             ...        ...         ...        ...                  ...            ...         ...                  ...        ...                   ...                   ...                   ...                     ...                  ...                  ...                  ...         ...       ...                   ...                  ...                 ...                 ...        ...                 ...      ...                  ...                  ...                  ...        ...                 ...                 ...                  ...\n",
       "777,208  9.305075645446777  -0.2378266155719757   -1.3668785095214844  0.2941742241382599   67.86442    0.0      19.088982837042664  -0.8195078372955322   10.028752          8.23612            9.135772        34.532234  147.3097    79470.18   -1.1140830516815186  0.025705868    0.39582875  -1.0573344230651855  1.4649662  0.15138706015714973   -0.23952354792060457  0.21111931900468284   0.10058768769983698     -0.6839846968650818  -0.5307199358940125  -0.5255457162857056  9999        1         0.015212599527465743  -45.57525013668082   29.24791220748871   37.26317812958719   128.3829   65.73498488503164   0        -1.154412031173706   0.39641837608173713  -0.8922590613365173  3.5807974  -85.32863322746539  46.133892207917974  -107.77625313315166  -9.50757198945173\n",
       "777,209  9.305075645446777  -0.2378266155719757   -1.3668785095214844  0.2941742241382599   67.79792    0.0      19.098632079037195  -0.8195078372955322   11.3353615         9.368794           10.323336       35.524296  147.08772   108735.71  -1.1140830516815186  0.009636581    0.25832927  -1.0573344230651855  1.4649662  0.15420522561987102   -0.23697577765038635  0.20322195176749022   0.09445046973841444     -0.6839846968650818  -0.5307199358940125  -0.5255457162857056  9999        1         0.01514515018064314   -45.11319087799619   29.19873801320827   38.36529449942598   131.05016  66.02773746529695   0        -1.154412031173706   0.2596557748013721   -0.8922590613365173  3.5547836  -83.32074316654946  45.91042908489636   -105.4845041775199   -9.130642870195825\n",
       "777,210  9.305075645446777  -0.2378266155719757   -1.3668785095214844  0.2941742241382599   67.74636    0.0      19.09616450317092   -0.8195078372955322   15.79261           12.402233          13.647504       35.323166  147.22011   195388.84  -1.1140830516815186  0.00081713474  0.09815717  -1.0573344230651855  1.4649662  0.14854217267276387   -0.23853175461978604  0.2074050958571806    0.09046687311851731     -0.6839846968650818  -0.5307199358940125  -0.5255457162857056  9999        1         0.015162370316107222  -45.24204196238864   29.134043650625316  38.13305925410672   130.46243  65.95274875575915   0        -1.154412031173706   0.09819833921359898  -0.8922590613365173  3.4552758  -82.7442774157126   44.22871758659002   -105.6079761881143   -9.950097413718659\n",
       "777,211  9.305075645446777  -0.2378266155719757   -1.3668785095214844  0.2941742241382599   68.17851    0.0      19.092931902830134  -0.8195078372955322   12.776528          10.526013          11.560607       34.671333  146.87787   137752.69  -1.1140830516815186  0.0036202532   0.16208944  -1.0573344230651855  1.4649662  0.1542779206981862    -0.2287665035445361   0.19795715381457135   0.10322112336639118     -0.6839846968650818  -0.5307199358940125  -0.5255457162857056  9999        1         0.01518495885282233   -45.36004496901724   29.59481504770683   37.462606206571486  128.96242  65.85464008775608   0        -1.154412031173706   0.16195700902109328  -0.8922590613365173  3.525184   -84.21340324600276  47.183289127031145  -104.57313701665126  -8.295861586946675\n",
       "777,212  9.305075645446777  -0.2378266155719757   -1.3668785095214844  0.2941742241382599   67.57939    0.0      19.09542778530944   -0.8195078372955322   11.217975          9.269393           10.218345       35.133842  147.49103   106447.83  -1.1140830516815186  0.010498018    0.26975194  -1.0573344230651855  1.4649662  0.15021978229207023   -0.23462567223144898  0.20417634469307028   0.09594144398060077     -0.6839846968650818  -0.5307199358940125  -0.5255457162857056  9999        1         0.015167515343092046  -45.469881350017616  28.977515636100403  37.942167147831896  129.83458  65.93037668858823   0        -1.154412031173706   0.27107347928218684  -0.8922590613365173  3.5570195  -82.6105775815683   45.46364926573916   -104.64403425277388  -9.145382245202404"
      ]
     },
     "execution_count": 3,
     "metadata": {},
     "output_type": "execute_result"
    }
   ],
   "source": [
    "output = Galaxia_ananke.make_survey_from_particles(p, rho_pos, rho_vel, fsample=0.01)#, simname='sim', surveyname='survey', fsample=1, ngb=64, **kwargs):\n",
    "output"
   ]
  },
  {
   "attachments": {},
   "cell_type": "markdown",
   "id": "5744efd0",
   "metadata": {},
   "source": [
    "Using LSST photometric system"
   ]
  },
  {
   "cell_type": "code",
   "execution_count": 4,
   "id": "3e04243e",
   "metadata": {},
   "outputs": [
    {
     "name": "stdout",
     "output_type": "stream",
     "text": [
      "/home/athob/miniconda3/envs/galaxia-minimal/.cache/Galaxia_ananke/bin/galaxia -r --hdim=6 --nfile=sim /home/athob/Software/repos/py-ananke/py-Galaxia-ananke/jupyter/survey_params\n",
      "CODEDATAPATH=/home/athob/miniconda3/envs/galaxia-minimal/.cache/Galaxia_ananke/GalaxiaData/\n",
      "Reading Parameter file-             /home/athob/Software/repos/py-ananke/py-Galaxia-ananke/jupyter/survey_params\n",
      "--------------------------------------------------------\n",
      "outputFile               survey                  \n",
      "outputDir                /home/athob/Software/repos/py-ananke/py-Galaxia-ananke/jupyter\n",
      "photoCateg               padova                  \n",
      "photoSys                 LSST                    \n",
      "magcolorNames            rmag,gmag-rmag          \n",
      "appMagLimits[0]          -1000                   \n",
      "appMagLimits[1]          1000                    \n",
      "absMagLimits[0]          -1000                   \n",
      "absMagLimits[1]          20                      \n",
      "colorLimits[0]           -1000                   \n",
      "colorLimits[1]           1000                    \n",
      "geometryOption           0                       \n",
      "surveyArea               207.455                 \n",
      "fSample                  0.01                    \n",
      "popID                    10                      \n",
      "warpFlareOn              0                       \n",
      "longitude                76.273                  \n",
      "latitude                 13.4725                 \n",
      "starType                 0                       \n",
      "photoError               0                       \n",
      "seed                     17052                   \n",
      "r_max                    500                     \n",
      "r_min                    0                       \n",
      "nres                     64                      \n",
      "nstart                   0                       \n",
      "rSun[0]                  0.0                     \n",
      "rSun[1]                  0.0                     \n",
      "rSun[2]                  0.0                     \n",
      "vSun[0]                  0.0                     \n",
      "vSun[1]                  0.0                     \n",
      "vSun[2]                  0.0                     \n",
      "--------------------------------------------------------\n",
      "Reading Halo Sat File=/home/athob/miniconda3/envs/galaxia-minimal/.cache/Galaxia_ananke/GalaxiaData/nbody1/filenames/sim.txt\n",
      "Halo 1 Sat 0 fname nbody1/sim/sim.ebf 0\n",
      "nbody1/sim/sim.ebf 0\n",
      "No of Satellites   =1\n",
      "Generating catalog. Max allowed stars is 18446744073709551615\n",
      "Source numbering will start at 0\n",
      "Writing to /home/athob/Software/repos/py-ananke/py-Galaxia-ananke/jupyter/survey.sim.ebf\n",
      "Using geometry:                     All Sky\n",
      "setting center to 0 0 0 0 0 0\n",
      "Reading Isochrones from dir-        /home/athob/miniconda3/envs/galaxia-minimal/.cache/Galaxia_ananke/GalaxiaData/Isochrones/padova/LSST\n"
     ]
    },
    {
     "name": "stderr",
     "output_type": "stream",
     "text": [
      "nbody1/sim/\n",
      "\n",
      "\t1\t1\n",
      "\n",
      "path nbody1/sim/ sats 1 x[0] 1\n"
     ]
    },
    {
     "name": "stdout",
     "output_type": "stream",
     "text": [
      "Isochrone Grid Size:                (Age bins=71,Feh bins=34,Alpha bins=1)\n",
      "Time Isochrone Reading              1.47504     \n",
      "------------------------------\n",
      "nbody1/sim/sim.ebf  Sat No=0\n",
      "Particles=10000\n",
      "Satellite Info\n",
      "Particles=10000 Mass=5.49088e+07 0.379706\n",
      "Total Stars=781138 accepted=777898 rejected=3240\n",
      "-----------Done---------------\n",
      "Total stars written                 777898                  \n",
      "30\n",
      "File written-                       /home/athob/Software/repos/py-ananke/py-Galaxia-ananke/jupyter/survey.sim.ebf\n",
      "Calculating magnitudes in LSST system................\n",
      "initializing isochrone data\n",
      "interpolating on isochrone tables\n",
      "Appending spherical coordinates................\n",
      "Total Time=                         2.57313     \n",
      "Exported the following quantities to /home/athob/Software/repos/py-ananke/py-Galaxia-ananke/jupyter/survey.sim.h5\n",
      "['age', 'alpha', 'calcium', 'carbon', 'dec', 'dform', 'dmod', 'feh', 'glat', 'glon', 'grav', 'helium', 'lsst_gmag', 'lsst_imag', 'lsst_rmag', 'lsst_umag', 'lsst_ymag', 'lsst_zmag', 'lum', 'mact', 'magnesium', 'mtip', 'neon', 'nitrogen', 'oxygen', 'parentid', 'partid', 'px', 'py', 'pz', 'ra', 'rad', 'satid', 'silicon', 'smass', 'sulphur', 'teff', 'vx', 'vy', 'vz']\n",
      "Exported the following quantities to /home/athob/Software/repos/py-ananke/py-Galaxia-ananke/jupyter/survey.sim.h5\n",
      "['mul', 'vr', 'mub']\n",
      "Overwritten the following quantities to /home/athob/Software/repos/py-ananke/py-Galaxia-ananke/jupyter/survey.sim.h5\n",
      "('glon', 'glat', 'rad')\n",
      "Exported the following quantities to /home/athob/Software/repos/py-ananke/py-Galaxia-ananke/jupyter/survey.sim.h5\n",
      "['mudec', 'mura']\n",
      "Overwritten the following quantities to /home/athob/Software/repos/py-ananke/py-Galaxia-ananke/jupyter/survey.sim.h5\n",
      "('ra', 'dec')\n",
      "Exported the following quantities to /home/athob/Software/repos/py-ananke/py-Galaxia-ananke/jupyter/survey.sim.h5\n",
      "['pi']\n",
      "Overwritten the following quantities to /home/athob/Software/repos/py-ananke/py-Galaxia-ananke/jupyter/survey.sim.h5\n",
      "('grav', 'lum')\n"
     ]
    },
    {
     "data": {
      "text/html": [
       "<style>.vaex-description pre {\n",
       "          max-width : 450px;\n",
       "          white-space : nowrap;\n",
       "          overflow : hidden;\n",
       "          text-overflow: ellipsis;\n",
       "        }\n",
       "\n",
       "        .vex-description pre:hover {\n",
       "          max-width : initial;\n",
       "          white-space: pre;\n",
       "        }</style>"
      ],
      "text/plain": [
       "<IPython.core.display.HTML object>"
      ]
     },
     "metadata": {},
     "output_type": "display_data"
    },
    {
     "data": {
      "text/html": [
       "<table>\n",
       "<thead>\n",
       "<tr><th>#                                  </th><th>age              </th><th>alpha               </th><th>calcium            </th><th>carbon             </th><th>dec       </th><th>dform  </th><th>dmod              </th><th>feh                 </th><th>glat     </th><th>glon      </th><th>grav     </th><th>helium             </th><th>lsst_gmag  </th><th>lsst_imag  </th><th>lsst_rmag  </th><th>lsst_umag  </th><th>lsst_ymag  </th><th>lsst_zmag  </th><th>lum         </th><th>mact      </th><th>magnesium          </th><th>mtip     </th><th>mub                 </th><th>mudec               </th><th>mul                 </th><th>mura                  </th><th>neon               </th><th>nitrogen           </th><th>oxygen             </th><th>parentid  </th><th>partid  </th><th>pi                  </th><th>px                 </th><th>py                </th><th>pz                </th><th>ra       </th><th>rad               </th><th>satid  </th><th>silicon            </th><th>smass              </th><th>sulphur            </th><th>teff     </th><th>vr                </th><th>vx                </th><th>vy                 </th><th>vz                 </th></tr>\n",
       "</thead>\n",
       "<tbody>\n",
       "<tr><td><i style='opacity: 0.6'>0</i>      </td><td>8.955413818359375</td><td>0.039958495646715164</td><td>-0.3540340065956116</td><td>-0.7935190200805664</td><td>-3.0187774</td><td>0.0    </td><td>18.951440350826058</td><td>-0.47136881947517395</td><td>28.416817</td><td>12.780675 </td><td>90550.15 </td><td>-0.5525906682014465</td><td>11.814668  </td><td>9.547248   </td><td>10.4232235 </td><td>14.944483  </td><td>8.925199   </td><td>9.120841   </td><td>0.0127317635</td><td>0.3256295 </td><td>-0.4314103126525879</td><td>2.0520527</td><td>0.04085799708779068 </td><td>0.053144352981941236</td><td>0.0367721129780034  </td><td>-0.014044283308395335 </td><td>-1.0620990991592407</td><td>-0.1971900761127472</td><td>0.14263589680194855</td><td>0         </td><td>0       </td><td>0.016207346975789905</td><td>52.92156982421875  </td><td>12.004715919494629</td><td>29.362138748168945</td><td>248.63277</td><td>61.70041287409796 </td><td>0      </td><td>-0.3710511028766632</td><td>0.32685696251341934</td><td>-1.074652075767517 </td><td>3.5396578</td><td>30.880837645635175</td><td>18.561607360839844</td><td>15.239194869995117 </td><td>25.20623016357422  </td></tr>\n",
       "<tr><td><i style='opacity: 0.6'>1</i>      </td><td>8.955413818359375</td><td>0.039958495646715164</td><td>-0.3540340065956116</td><td>-0.7935190200805664</td><td>-3.0931602</td><td>0.0    </td><td>18.939965334569187</td><td>-0.47136881947517395</td><td>28.060362</td><td>12.944194 </td><td>95531.35 </td><td>-0.5525906682014465</td><td>12.077761  </td><td>9.762882   </td><td>10.675743  </td><td>15.2433195 </td><td>9.118245   </td><td>9.318753   </td><td>0.010647819 </td><td>0.3004575 </td><td>-0.4314103126525879</td><td>2.0520527</td><td>0.035276352500333535</td><td>0.05408021597714636 </td><td>0.04155839994965697 </td><td>-0.0068448493470960325</td><td>-1.0620990991592407</td><td>-0.1971900761127472</td><td>0.14263589680194855</td><td>0         </td><td>1       </td><td>0.01629322042963167 </td><td>52.7844239788092   </td><td>12.1321042476547  </td><td>28.8709949492995  </td><td>249.0105 </td><td>61.3752207133557  </td><td>0      </td><td>-0.3710511028766632</td><td>0.3013677440371474 </td><td>-1.074652075767517 </td><td>3.534912 </td><td>30.511590319092264</td><td>18.82704339201258 </td><td>16.7338312767607   </td><td>23.409805070899278 </td></tr>\n",
       "<tr><td><i style='opacity: 0.6'>2</i>      </td><td>8.955413818359375</td><td>0.039958495646715164</td><td>-0.3540340065956116</td><td>-0.7935190200805664</td><td>-2.057492 </td><td>0.0    </td><td>18.95124499512756 </td><td>-0.47136881947517395</td><td>29.158543</td><td>13.538701 </td><td>112574.68</td><td>-0.5525906682014465</td><td>13.179893  </td><td>10.6199045 </td><td>11.725874  </td><td>16.566612  </td><td>9.868971   </td><td>10.095454  </td><td>0.0052974075</td><td>0.21518832</td><td>-0.4314103126525879</td><td>2.0520527</td><td>0.04090805350304646 </td><td>0.04961215795732445 </td><td>0.032639320773175114</td><td>-0.016656170777918013 </td><td>-1.0620990991592407</td><td>-0.1971900761127472</td><td>0.14263589680194855</td><td>0         </td><td>1       </td><td>0.01620880512925413 </td><td>52.37945020497526  </td><td>12.612619399082115</td><td>30.059458720209324</td><td>248.37285</td><td>61.69486226934584 </td><td>0      </td><td>-0.3710511028766632</td><td>0.21596653094270554</td><td>-1.074652075767517 </td><td>3.5138927</td><td>31.726879711216753</td><td>19.034445883760533</td><td>14.40198930826226  </td><td>25.90615024659716  </td></tr>\n",
       "<tr><td><i style='opacity: 0.6'>3</i>      </td><td>8.955413818359375</td><td>0.039958495646715164</td><td>-0.3540340065956116</td><td>-0.7935190200805664</td><td>-2.5232458</td><td>0.0    </td><td>18.974626128767238</td><td>-0.47136881947517395</td><td>28.331715</td><td>13.5152645</td><td>128240.32</td><td>-0.5525906682014465</td><td>14.2647    </td><td>11.39878   </td><td>12.758788  </td><td>17.946392  </td><td>10.524056  </td><td>10.781293  </td><td>0.0028832862</td><td>0.16220216</td><td>-0.4314103126525879</td><td>2.0520527</td><td>0.03867513688996528 </td><td>0.047059553440531234</td><td>0.03104797725805413 </td><td>-0.01565700137563908  </td><td>-1.0620990991592407</td><td>-0.1971900761127472</td><td>0.14263589680194855</td><td>0         </td><td>1       </td><td>0.016035214517314666</td><td>53.372508646523855 </td><td>12.828645228695661</td><td>29.595830673602574</td><td>249.05687</td><td>62.362745376446945</td><td>0      </td><td>-0.3710511028766632</td><td>0.16289241615423433</td><td>-1.074652075767517 </td><td>3.4921236</td><td>31.851964341490817</td><td>19.83928576001881 </td><td>14.208674250733775 </td><td>25.180082231397556 </td></tr>\n",
       "<tr><td><i style='opacity: 0.6'>4</i>      </td><td>8.955413818359375</td><td>0.039958495646715164</td><td>-0.3540340065956116</td><td>-0.7935190200805664</td><td>-3.0785723</td><td>0.0    </td><td>18.954577584471174</td><td>-0.47136881947517395</td><td>28.415287</td><td>12.700538 </td><td>40307.004</td><td>-0.5525906682014465</td><td>5.749734   </td><td>5.2037826  </td><td>5.327181   </td><td>6.9090657  </td><td>5.164723   </td><td>5.177592   </td><td>0.55535775  </td><td>0.8556554 </td><td>-0.4314103126525879</td><td>2.0520527</td><td>0.03525072238078883 </td><td>0.0495763924516022  </td><td>0.036170224596066176</td><td>-0.00964778963105229  </td><td>-1.0620990991592407</td><td>-0.1971900761127472</td><td>0.14263589680194855</td><td>0         </td><td>1       </td><td>0.016183948326258517</td><td>53.01561233039603  </td><td>11.948107439751663</td><td>29.40313905703266 </td><td>248.59537</td><td>61.78961893850688 </td><td>0      </td><td>-0.3710511028766632</td><td>0.8556553660362554 </td><td>-1.074652075767517 </td><td>3.7570758</td><td>29.933996787662746</td><td>18.560935252278124</td><td>15.043485915974651 </td><td>23.32573129926798  </td></tr>\n",
       "<tr><td>...                                </td><td>...              </td><td>...                 </td><td>...                </td><td>...                </td><td>...       </td><td>...    </td><td>...               </td><td>...                 </td><td>...      </td><td>...       </td><td>...      </td><td>...                </td><td>...        </td><td>...        </td><td>...        </td><td>...        </td><td>...        </td><td>...        </td><td>...         </td><td>...       </td><td>...                </td><td>...      </td><td>...                 </td><td>...                 </td><td>...                 </td><td>...                   </td><td>...                </td><td>...                </td><td>...                </td><td>...       </td><td>...     </td><td>...                 </td><td>...                </td><td>...               </td><td>...               </td><td>...      </td><td>...               </td><td>...    </td><td>...                </td><td>...                </td><td>...                </td><td>...      </td><td>...               </td><td>...               </td><td>...                </td><td>...                </td></tr>\n",
       "<tr><td><i style='opacity: 0.6'>777,893</i></td><td>9.305075645446777</td><td>-0.2378266155719757 </td><td>-1.3668785095214844</td><td>0.2941742241382599 </td><td>67.990166 </td><td>0.0    </td><td>19.10810788756168 </td><td>-0.8195078372955322 </td><td>35.15048 </td><td>146.96716 </td><td>50707.914</td><td>-1.1140830516815186</td><td>7.307274   </td><td>6.40013    </td><td>6.6385884  </td><td>8.992604   </td><td>6.2399406  </td><td>6.3021703  </td><td>0.18078534  </td><td>0.64411825</td><td>-1.0573344230651855</td><td>1.4815284</td><td>0.14902360316806185 </td><td>-0.2382204068279934 </td><td>0.20717808869248858 </td><td>0.09155236816332805   </td><td>-0.6839846968650818</td><td>-0.5307199358940125</td><td>-0.5255457162857056</td><td>9999      </td><td>1       </td><td>0.015079204203346061</td><td>-45.45847233474035 </td><td>29.558139099745624</td><td>38.18011887808254 </td><td>130.15904</td><td>66.31649697920405 </td><td>0      </td><td>-1.154412031173706 </td><td>0.6441780986755028 </td><td>-0.8922590613365173</td><td>3.690867 </td><td>-81.4150469190582 </td><td>42.91630300083634 </td><td>-105.59374833757602</td><td>-8.567192784692752 </td></tr>\n",
       "<tr><td><i style='opacity: 0.6'>777,894</i></td><td>9.305075645446777</td><td>-0.2378266155719757 </td><td>-1.3668785095214844</td><td>0.2941742241382599 </td><td>67.47423  </td><td>0.0    </td><td>19.07919545063156 </td><td>-0.8195078372955322 </td><td>34.6418  </td><td>147.76552 </td><td>53930.496</td><td>-1.1140830516815186</td><td>8.137574   </td><td>6.9666467  </td><td>7.28515    </td><td>10.156084  </td><td>6.7273517  </td><td>6.8209777  </td><td>0.1101942   </td><td>0.5803311 </td><td>-1.0573344230651855</td><td>1.4815284</td><td>0.1509881379135138  </td><td>-0.23997363389337267</td><td>0.21203240139430254 </td><td>0.10083558551699279   </td><td>-0.6839846968650818</td><td>-0.5307199358940125</td><td>-0.5255457162857056</td><td>9999      </td><td>1       </td><td>0.015281321395790796</td><td>-45.540410977764736</td><td>28.716616479025003</td><td>37.19862453571555 </td><td>128.44595</td><td>65.4393670612443  </td><td>0      </td><td>-1.154412031173706 </td><td>0.5809858794598144 </td><td>-0.8922590613365173</td><td>3.6548612</td><td>-81.60229930446663</td><td>44.22633115416804 </td><td>-105.64829541432903</td><td>-7.851256410584345 </td></tr>\n",
       "<tr><td><i style='opacity: 0.6'>777,895</i></td><td>9.305075645446777</td><td>-0.2378266155719757 </td><td>-1.3668785095214844</td><td>0.2941742241382599 </td><td>67.49551  </td><td>0.0    </td><td>19.097177439809943</td><td>-0.8195078372955322 </td><td>35.331913</td><td>147.53514 </td><td>101188.63</td><td>-1.1140830516815186</td><td>11.687777  </td><td>9.561444   </td><td>10.286666  </td><td>14.835116  </td><td>9.038309   </td><td>9.212344   </td><td>0.01173456  </td><td>0.2918338 </td><td>-1.0573344230651855</td><td>1.4815284</td><td>0.14492813558008477 </td><td>-0.24025707048544684</td><td>0.21064880924593476 </td><td>0.08748505462754479   </td><td>-0.6839846968650818</td><td>-0.5307199358940125</td><td>-0.5255457162857056</td><td>9999      </td><td>1       </td><td>0.015155299105467975</td><td>-45.41781659810574 </td><td>28.895196279649998</td><td>38.15907020561539 </td><td>130.31357</td><td>65.98352121200985 </td><td>0      </td><td>-1.154412031173706 </td><td>0.29268865429898494</td><td>-0.8922590613365173</td><td>3.5547678</td><td>-82.68214607752007</td><td>43.662796268477365</td><td>-105.87255008327926</td><td>-10.833129553930222</td></tr>\n",
       "<tr><td><i style='opacity: 0.6'>777,896</i></td><td>9.305075645446777</td><td>-0.2378266155719757 </td><td>-1.3668785095214844</td><td>0.2941742241382599 </td><td>67.899155 </td><td>0.0    </td><td>19.101290933546014</td><td>-0.8195078372955322 </td><td>35.244682</td><td>147.05196 </td><td>52470.12 </td><td>-1.1140830516815186</td><td>7.7530823  </td><td>6.7070622  </td><td>6.98758    </td><td>9.622709   </td><td>6.504435   </td><td>6.5841293  </td><td>0.13804834  </td><td>0.60916585</td><td>-1.0573344230651855</td><td>1.4815284</td><td>0.14535352608693625 </td><td>-0.23470751714706817</td><td>0.20429814032068586 </td><td>0.08819162154160891   </td><td>-0.6839846968650818</td><td>-0.5307199358940125</td><td>-0.5255457162857056</td><td>9999      </td><td>1       </td><td>0.015126617084281124</td><td>-45.306976191604214</td><td>29.364309454496517</td><td>38.14926989713927 </td><td>130.35457</td><td>66.10863449694601 </td><td>0      </td><td>-1.154412031173706 </td><td>0.6094272410447537 </td><td>-0.8922590613365173</td><td>3.6713233</td><td>-83.08449865164351</td><td>44.17859312477564 </td><td>-104.92816465004276</td><td>-10.74361817852884 </td></tr>\n",
       "<tr><td><i style='opacity: 0.6'>777,897</i></td><td>9.305075645446777</td><td>-0.2378266155719757 </td><td>-1.3668785095214844</td><td>0.2941742241382599 </td><td>67.98978  </td><td>0.0    </td><td>19.09947405502981 </td><td>-0.8195078372955322 </td><td>34.89282 </td><td>147.04816 </td><td>143004.98</td><td>-1.1140830516815186</td><td>14.010173  </td><td>11.338973  </td><td>12.46287   </td><td>17.778406  </td><td>10.610271  </td><td>10.830129  </td><td>0.0027105433</td><td>0.14618951</td><td>-1.0573344230651855</td><td>1.4815284</td><td>0.15076536608278965 </td><td>-0.24054615474794547</td><td>0.2103197891766129  </td><td>0.09540522252547023   </td><td>-0.6839846968650818</td><td>-0.5307199358940125</td><td>-0.5255457162857056</td><td>9999      </td><td>1       </td><td>0.015139278873740376</td><td>-45.4627084964513  </td><td>29.46952891611497 </td><td>37.785358218603   </td><td>129.4491 </td><td>66.05334430654659 </td><td>0      </td><td>-1.154412031173706 </td><td>0.14633686178285027</td><td>-0.8922590613365173</td><td>3.5084913</td><td>-84.5519198748582 </td><td>45.03415221257028 </td><td>-107.673387362774  </td><td>-9.646025753062382 </td></tr>\n",
       "</tbody>\n",
       "</table>"
      ],
      "text/plain": [
       "#        age                alpha                 calcium              carbon               dec         dform    dmod                feh                   glat       glon        grav       helium               lsst_gmag    lsst_imag    lsst_rmag    lsst_umag    lsst_ymag    lsst_zmag    lum           mact        magnesium            mtip       mub                   mudec                 mul                   mura                    neon                 nitrogen             oxygen               parentid    partid    pi                    px                   py                  pz                  ra         rad                 satid    silicon              smass                sulphur              teff       vr                  vx                  vy                   vz\n",
       "0        8.955413818359375  0.039958495646715164  -0.3540340065956116  -0.7935190200805664  -3.0187774  0.0      18.951440350826058  -0.47136881947517395  28.416817  12.780675   90550.15   -0.5525906682014465  11.814668    9.547248     10.4232235   14.944483    8.925199     9.120841     0.0127317635  0.3256295   -0.4314103126525879  2.0520527  0.04085799708779068   0.053144352981941236  0.0367721129780034    -0.014044283308395335   -1.0620990991592407  -0.1971900761127472  0.14263589680194855  0           0         0.016207346975789905  52.92156982421875    12.004715919494629  29.362138748168945  248.63277  61.70041287409796   0        -0.3710511028766632  0.32685696251341934  -1.074652075767517   3.5396578  30.880837645635175  18.561607360839844  15.239194869995117   25.20623016357422\n",
       "1        8.955413818359375  0.039958495646715164  -0.3540340065956116  -0.7935190200805664  -3.0931602  0.0      18.939965334569187  -0.47136881947517395  28.060362  12.944194   95531.35   -0.5525906682014465  12.077761    9.762882     10.675743    15.2433195   9.118245     9.318753     0.010647819   0.3004575   -0.4314103126525879  2.0520527  0.035276352500333535  0.05408021597714636   0.04155839994965697   -0.0068448493470960325  -1.0620990991592407  -0.1971900761127472  0.14263589680194855  0           1         0.01629322042963167   52.7844239788092     12.1321042476547    28.8709949492995    249.0105   61.3752207133557    0        -0.3710511028766632  0.3013677440371474   -1.074652075767517   3.534912   30.511590319092264  18.82704339201258   16.7338312767607     23.409805070899278\n",
       "2        8.955413818359375  0.039958495646715164  -0.3540340065956116  -0.7935190200805664  -2.057492   0.0      18.95124499512756   -0.47136881947517395  29.158543  13.538701   112574.68  -0.5525906682014465  13.179893    10.6199045   11.725874    16.566612    9.868971     10.095454    0.0052974075  0.21518832  -0.4314103126525879  2.0520527  0.04090805350304646   0.04961215795732445   0.032639320773175114  -0.016656170777918013   -1.0620990991592407  -0.1971900761127472  0.14263589680194855  0           1         0.01620880512925413   52.37945020497526    12.612619399082115  30.059458720209324  248.37285  61.69486226934584   0        -0.3710511028766632  0.21596653094270554  -1.074652075767517   3.5138927  31.726879711216753  19.034445883760533  14.40198930826226    25.90615024659716\n",
       "3        8.955413818359375  0.039958495646715164  -0.3540340065956116  -0.7935190200805664  -2.5232458  0.0      18.974626128767238  -0.47136881947517395  28.331715  13.5152645  128240.32  -0.5525906682014465  14.2647      11.39878     12.758788    17.946392    10.524056    10.781293    0.0028832862  0.16220216  -0.4314103126525879  2.0520527  0.03867513688996528   0.047059553440531234  0.03104797725805413   -0.01565700137563908    -1.0620990991592407  -0.1971900761127472  0.14263589680194855  0           1         0.016035214517314666  53.372508646523855   12.828645228695661  29.595830673602574  249.05687  62.362745376446945  0        -0.3710511028766632  0.16289241615423433  -1.074652075767517   3.4921236  31.851964341490817  19.83928576001881   14.208674250733775   25.180082231397556\n",
       "4        8.955413818359375  0.039958495646715164  -0.3540340065956116  -0.7935190200805664  -3.0785723  0.0      18.954577584471174  -0.47136881947517395  28.415287  12.700538   40307.004  -0.5525906682014465  5.749734     5.2037826    5.327181     6.9090657    5.164723     5.177592     0.55535775    0.8556554   -0.4314103126525879  2.0520527  0.03525072238078883   0.0495763924516022    0.036170224596066176  -0.00964778963105229    -1.0620990991592407  -0.1971900761127472  0.14263589680194855  0           1         0.016183948326258517  53.01561233039603    11.948107439751663  29.40313905703266   248.59537  61.78961893850688   0        -0.3710511028766632  0.8556553660362554   -1.074652075767517   3.7570758  29.933996787662746  18.560935252278124  15.043485915974651   23.32573129926798\n",
       "...      ...                ...                   ...                  ...                  ...         ...      ...                 ...                   ...        ...         ...        ...                  ...          ...          ...          ...          ...          ...          ...           ...         ...                  ...        ...                   ...                   ...                   ...                     ...                  ...                  ...                  ...         ...       ...                   ...                  ...                 ...                 ...        ...                 ...      ...                  ...                  ...                  ...        ...                 ...                 ...                  ...\n",
       "777,893  9.305075645446777  -0.2378266155719757   -1.3668785095214844  0.2941742241382599   67.990166   0.0      19.10810788756168   -0.8195078372955322   35.15048   146.96716   50707.914  -1.1140830516815186  7.307274     6.40013      6.6385884    8.992604     6.2399406    6.3021703    0.18078534    0.64411825  -1.0573344230651855  1.4815284  0.14902360316806185   -0.2382204068279934   0.20717808869248858   0.09155236816332805     -0.6839846968650818  -0.5307199358940125  -0.5255457162857056  9999        1         0.015079204203346061  -45.45847233474035   29.558139099745624  38.18011887808254   130.15904  66.31649697920405   0        -1.154412031173706   0.6441780986755028   -0.8922590613365173  3.690867   -81.4150469190582   42.91630300083634   -105.59374833757602  -8.567192784692752\n",
       "777,894  9.305075645446777  -0.2378266155719757   -1.3668785095214844  0.2941742241382599   67.47423    0.0      19.07919545063156   -0.8195078372955322   34.6418    147.76552   53930.496  -1.1140830516815186  8.137574     6.9666467    7.28515      10.156084    6.7273517    6.8209777    0.1101942     0.5803311   -1.0573344230651855  1.4815284  0.1509881379135138    -0.23997363389337267  0.21203240139430254   0.10083558551699279     -0.6839846968650818  -0.5307199358940125  -0.5255457162857056  9999        1         0.015281321395790796  -45.540410977764736  28.716616479025003  37.19862453571555   128.44595  65.4393670612443    0        -1.154412031173706   0.5809858794598144   -0.8922590613365173  3.6548612  -81.60229930446663  44.22633115416804   -105.64829541432903  -7.851256410584345\n",
       "777,895  9.305075645446777  -0.2378266155719757   -1.3668785095214844  0.2941742241382599   67.49551    0.0      19.097177439809943  -0.8195078372955322   35.331913  147.53514   101188.63  -1.1140830516815186  11.687777    9.561444     10.286666    14.835116    9.038309     9.212344     0.01173456    0.2918338   -1.0573344230651855  1.4815284  0.14492813558008477   -0.24025707048544684  0.21064880924593476   0.08748505462754479     -0.6839846968650818  -0.5307199358940125  -0.5255457162857056  9999        1         0.015155299105467975  -45.41781659810574   28.895196279649998  38.15907020561539   130.31357  65.98352121200985   0        -1.154412031173706   0.29268865429898494  -0.8922590613365173  3.5547678  -82.68214607752007  43.662796268477365  -105.87255008327926  -10.833129553930222\n",
       "777,896  9.305075645446777  -0.2378266155719757   -1.3668785095214844  0.2941742241382599   67.899155   0.0      19.101290933546014  -0.8195078372955322   35.244682  147.05196   52470.12   -1.1140830516815186  7.7530823    6.7070622    6.98758      9.622709     6.504435     6.5841293    0.13804834    0.60916585  -1.0573344230651855  1.4815284  0.14535352608693625   -0.23470751714706817  0.20429814032068586   0.08819162154160891     -0.6839846968650818  -0.5307199358940125  -0.5255457162857056  9999        1         0.015126617084281124  -45.306976191604214  29.364309454496517  38.14926989713927   130.35457  66.10863449694601   0        -1.154412031173706   0.6094272410447537   -0.8922590613365173  3.6713233  -83.08449865164351  44.17859312477564   -104.92816465004276  -10.74361817852884\n",
       "777,897  9.305075645446777  -0.2378266155719757   -1.3668785095214844  0.2941742241382599   67.98978    0.0      19.09947405502981   -0.8195078372955322   34.89282   147.04816   143004.98  -1.1140830516815186  14.010173    11.338973    12.46287     17.778406    10.610271    10.830129    0.0027105433  0.14618951  -1.0573344230651855  1.4815284  0.15076536608278965   -0.24054615474794547  0.2103197891766129    0.09540522252547023     -0.6839846968650818  -0.5307199358940125  -0.5255457162857056  9999        1         0.015139278873740376  -45.4627084964513    29.46952891611497   37.785358218603     129.4491   66.05334430654659   0        -1.154412031173706   0.14633686178285027  -0.8922590613365173  3.5084913  -84.5519198748582   45.03415221257028   -107.673387362774    -9.646025753062382"
      ]
     },
     "execution_count": 4,
     "metadata": {},
     "output_type": "execute_result"
    }
   ],
   "source": [
    "output = Galaxia_ananke.make_survey_from_particles(p, rho_pos, rho_vel, fsample=0.01, photo_sys='padova/LSST', cmd_magnames='rmag,gmag-rmag')#, simname='sim', surveyname='survey', fsample=1, ngb=64, **kwargs):\n",
    "output"
   ]
  }
 ],
 "metadata": {
  "kernelspec": {
   "display_name": "base",
   "language": "python",
   "name": "python3"
  },
  "language_info": {
   "codemirror_mode": {
    "name": "ipython",
    "version": 3
   },
   "file_extension": ".py",
   "mimetype": "text/x-python",
   "name": "python",
   "nbconvert_exporter": "python",
   "pygments_lexer": "ipython3",
   "version": "3.10.13"
  },
  "vscode": {
   "interpreter": {
    "hash": "93aa337d3be5595eae1049f286a1f242db5cd4d40fd613efbe29fb4c796799bf"
   }
  }
 },
 "nbformat": 4,
 "nbformat_minor": 5
}
