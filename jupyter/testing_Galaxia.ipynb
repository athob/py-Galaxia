{
 "cells": [
  {
   "cell_type": "code",
   "execution_count": 1,
   "id": "f130bf6c",
   "metadata": {},
   "outputs": [
    {
     "data": {
      "text/plain": [
       "'0.3.0.dev1'"
      ]
     },
     "execution_count": 1,
     "metadata": {},
     "output_type": "execute_result"
    }
   ],
   "source": [
    "import numpy as np\n",
    "import Galaxia_ananke\n",
    "Galaxia_ananke.__version__"
   ]
  },
  {
   "cell_type": "code",
   "execution_count": 2,
   "id": "fa0e3b78",
   "metadata": {},
   "outputs": [],
   "source": [
    "np.random.seed(0)\n",
    "n_parts = 10000\n",
    "el_list = ['helium', 'carbon', 'nitrogen', 'oxygen', 'neon', 'magnesium', 'silicon', 'sulphur', 'calcium']\n",
    "\n",
    "p = {}\n",
    "p['pos3'] = 30*np.random.randn(n_parts, 3)  # position in kpc\n",
    "p['vel3'] = 50*np.random.randn(n_parts, 3)  # velocity in km/s\n",
    "p['mass'] = 5500 + 700*np.random.randn(n_parts)  # mass in solar masses\n",
    "p['age'] = 9.7 + 0.4*np.random.randn(n_parts)  # log age in Gyr (also needed for isochrone sampling)\n",
    "p['feh'] = -0.7 + 0.4*np.random.randn(n_parts)  # [Fe/H]\n",
    "for el in el_list:  # other abundances in the list as [X/H]\n",
    "    p[el] = -0.6 + 0.4*np.random.randn(n_parts)\n",
    "p['alpha'] = p['magnesium'] - p['feh']  # [Mg/Fe]\n",
    "\n",
    "p['parentid'] = np.arange(n_parts)  # indices of parent particles in snapshot\n",
    "p['dform'] = np.zeros(n_parts, dtype='float32')  # dummy variable for now\n",
    "\n",
    "\n",
    "rho = {'pos': np.exp(-2.9 + 1.1*np.random.randn(n_parts)), 'vel': np.exp(-4.4 + 1.1*np.random.randn(n_parts))}"
   ]
  },
  {
   "attachments": {},
   "cell_type": "markdown",
   "id": "44249eee",
   "metadata": {},
   "source": [
    "Using default photometric system"
   ]
  },
  {
   "cell_type": "code",
   "execution_count": 3,
   "id": "1c60e7b4",
   "metadata": {},
   "outputs": [
    {
     "name": "stdout",
     "output_type": "stream",
     "text": [
      "/home/athob/miniconda3/envs/main/.cache/Galaxia_ananke/bin/galaxia -r --hdim=6 --nfile=sim /home/athob/Software/repos/py-ananke/py-Galaxia-ananke/jupyter/survey_params\n",
      "CODEDATAPATH=/home/athob/miniconda3/envs/main/.cache/Galaxia_ananke/GalaxiaData/\n",
      "Reading Parameter file-             /home/athob/Software/repos/py-ananke/py-Galaxia-ananke/jupyter/survey_params\n",
      "--------------------------------------------------------\n",
      "outputFile               survey                  \n",
      "outputDir                /home/athob/Software/repos/py-ananke/py-Galaxia-ananke/jupyter\n",
      "photoCateg               padova                  \n",
      "photoSys                 GAIADR2                 \n",
      "magcolorNames            Gmag,G_BPmag-G_RPmag    \n",
      "appMagLimits[0]          -1000                   \n",
      "appMagLimits[1]          1000                    \n",
      "absMagLimits[0]          -1000                   \n",
      "absMagLimits[1]          20                      \n",
      "colorLimits[0]           -1000                   \n",
      "colorLimits[1]           1000                    \n",
      "geometryOption           0                       \n",
      "surveyArea               207.455                 \n",
      "fSample                  0.01                    \n",
      "popID                    10                      \n",
      "warpFlareOn              0                       \n",
      "longitude                76.273                  \n",
      "latitude                 13.4725                 \n",
      "starType                 0                       \n",
      "photoError               0                       \n",
      "seed                     17052                   \n",
      "r_max                    500                     \n",
      "r_min                    0                       \n",
      "nres                     64                      \n",
      "nstart                   0                       \n",
      "rSun[0]                  0.0                     \n",
      "rSun[1]                  0.0                     \n",
      "rSun[2]                  0.0                     \n",
      "vSun[0]                  0.0                     \n",
      "vSun[1]                  0.0                     \n",
      "vSun[2]                  0.0                     \n",
      "--------------------------------------------------------\n",
      "Reading Halo Sat File=/home/athob/miniconda3/envs/main/.cache/Galaxia_ananke/GalaxiaData/nbody1/filenames/sim.txt\n",
      "Halo 1 Sat 0 fname nbody1/sim/sim.ebf 0\n",
      "nbody1/sim/sim.ebf 0\n",
      "No of Satellites   =1\n",
      "Generating catalog. Max allowed stars is 18446744073709551615\n",
      "Source numbering will start at 0\n",
      "Writing to /home/athob/Software/repos/py-ananke/py-Galaxia-ananke/jupyter/survey.sim.ebf\n",
      "Using geometry:                     All Sky\n",
      "setting center to 0 0 0 0 0 0\n",
      "Reading Isochrones from dir-        /home/athob/miniconda3/envs/main/.cache/Galaxia_ananke/GalaxiaData/Isochrones/padova/GAIADR2\n"
     ]
    },
    {
     "name": "stderr",
     "output_type": "stream",
     "text": [
      "nbody1/sim/\n",
      "\n",
      "\t1\t1\n",
      "\n",
      "path nbody1/sim/ sats 1 x[0] 1\n"
     ]
    },
    {
     "name": "stdout",
     "output_type": "stream",
     "text": [
      "Isochrone Grid Size:                (Age bins=71,Feh bins=34,Alpha bins=1)\n",
      "Time Isochrone Reading              1.84984     \n",
      "------------------------------\n",
      "nbody1/sim/sim.ebf  Sat No=0\n",
      "Particles=10000\n",
      "Satellite Info\n",
      "Particles=10000 Mass=5.49088e+07 0.379706\n",
      "Total Stars=780476 accepted=777213 rejected=3263\n",
      "-----------Done---------------\n",
      "Total stars written                 777213                  \n",
      "30\n",
      "File written-                       /home/athob/Software/repos/py-ananke/py-Galaxia-ananke/jupyter/survey.sim.ebf\n",
      "Calculating magnitudes in GAIADR2 system................\n",
      "initializing isochrone data\n",
      "interpolating on isochrone tables\n",
      "Appending spherical coordinates................\n",
      "Total Time=                         2.94437     \n",
      "Exported the following quantities to /home/athob/Software/repos/py-ananke/py-Galaxia-ananke/jupyter/survey.sim.h5\n",
      "['age', 'alpha', 'calcium', 'carbon', 'dec', 'dform', 'dmod', 'feh', 'gaiadr2_g_bpmag', 'gaiadr2_g_rpmag', 'gaiadr2_gmag', 'glat', 'glon', 'grav', 'helium', 'lum', 'mact', 'magnesium', 'mtip', 'neon', 'nitrogen', 'oxygen', 'parentid', 'partid', 'px', 'py', 'pz', 'ra', 'rad', 'silicon', 'smass', 'sulphur', 'teff', 'vx', 'vy', 'vz']\n",
      "Exported the following quantities to /home/athob/Software/repos/py-ananke/py-Galaxia-ananke/jupyter/survey.sim.h5\n",
      "['mul', 'mub', 'vr']\n",
      "Overwritten the following quantities to /home/athob/Software/repos/py-ananke/py-Galaxia-ananke/jupyter/survey.sim.h5\n",
      "['glon', 'glat', 'rad']\n",
      "Exported the following quantities to /home/athob/Software/repos/py-ananke/py-Galaxia-ananke/jupyter/survey.sim.h5\n",
      "['mura', 'mudec']\n",
      "Overwritten the following quantities to /home/athob/Software/repos/py-ananke/py-Galaxia-ananke/jupyter/survey.sim.h5\n",
      "['ra', 'dec']\n",
      "Exported the following quantities to /home/athob/Software/repos/py-ananke/py-Galaxia-ananke/jupyter/survey.sim.h5\n",
      "['pi']\n",
      "Overwritten the following quantities to /home/athob/Software/repos/py-ananke/py-Galaxia-ananke/jupyter/survey.sim.h5\n",
      "['teff', 'lum']\n"
     ]
    },
    {
     "data": {
      "text/html": [
       "<style>.vaex-description pre {\n",
       "          max-width : 450px;\n",
       "          white-space : nowrap;\n",
       "          overflow : hidden;\n",
       "          text-overflow: ellipsis;\n",
       "        }\n",
       "\n",
       "        .vex-description pre:hover {\n",
       "          max-width : initial;\n",
       "          white-space: pre;\n",
       "        }</style>"
      ],
      "text/plain": [
       "<IPython.core.display.HTML object>"
      ]
     },
     "metadata": {},
     "output_type": "display_data"
    },
    {
     "data": {
      "text/html": [
       "<table>\n",
       "<thead>\n",
       "<tr><th>#                                  </th><th>age              </th><th>alpha               </th><th>calcium            </th><th>carbon             </th><th>dec       </th><th>dform  </th><th>dmod              </th><th>feh                 </th><th>gaiadr2_g_bpmag  </th><th>gaiadr2_g_rpmag  </th><th>gaiadr2_gmag  </th><th>glat     </th><th>glon     </th><th>grav     </th><th>helium             </th><th>lum          </th><th>mact      </th><th>magnesium          </th><th>mtip     </th><th>mub                   </th><th>mudec               </th><th>mul                  </th><th>mura                 </th><th>neon               </th><th>nitrogen           </th><th>oxygen             </th><th>parentid  </th><th>partid  </th><th>pi                  </th><th>px                </th><th>py                </th><th>pz                </th><th>ra       </th><th>rad              </th><th>silicon            </th><th>smass              </th><th>sulphur            </th><th>teff     </th><th>vr                </th><th>vx                </th><th>vy                 </th><th>vz                 </th></tr>\n",
       "</thead>\n",
       "<tbody>\n",
       "<tr><td><i style='opacity: 0.6'>0</i>      </td><td>8.955413818359375</td><td>0.039958495646715164</td><td>-0.3540340065956116</td><td>-0.7935190200805664</td><td>-3.0187774</td><td>0.0    </td><td>18.951440350826058</td><td>-0.47136881947517395</td><td>11.126908        </td><td>9.054153         </td><td>10.04198      </td><td>28.416817</td><td>12.780675</td><td>4.9589286</td><td>-0.5525906682014465</td><td>0.013361397  </td><td>0.32670912</td><td>-0.4314103126525879</td><td>2.025267 </td><td>0.04085799708779068   </td><td>0.05314435298194126 </td><td>0.0367721129780034   </td><td>-0.014044283308395397</td><td>-1.0620990991592407</td><td>-0.1971900761127472</td><td>0.14263589680194855</td><td>0         </td><td>0       </td><td>0.016207346975789905</td><td>52.92156982421875 </td><td>12.004715919494629</td><td>29.362138748168945</td><td>248.63277</td><td>61.70041287409796</td><td>-0.3710511028766632</td><td>0.32651486763693804</td><td>-1.074652075767517 </td><td>3509.403 </td><td>30.880837645635175</td><td>18.561607360839844</td><td>15.239194869995117 </td><td>25.20623016357422  </td></tr>\n",
       "<tr><td><i style='opacity: 0.6'>1</i>      </td><td>8.955413818359375</td><td>0.039958495646715164</td><td>-0.3540340065956116</td><td>-0.7935190200805664</td><td>-3.607971 </td><td>0.0    </td><td>18.864236612676443</td><td>-0.47136881947517395</td><td>11.386944        </td><td>9.270209         </td><td>10.270541     </td><td>25.569458</td><td>14.055669</td><td>4.9820805</td><td>-0.5525906682014465</td><td>0.011113583  </td><td>0.30133697</td><td>-0.4314103126525879</td><td>2.025267 </td><td>-0.004145640239841527 </td><td>0.060654433801642434</td><td>0.0745194426862223   </td><td>0.04348992452493178  </td><td>-1.0620990991592407</td><td>-0.1971900761127472</td><td>0.14263589680194855</td><td>0         </td><td>1       </td><td>0.016871460421509735</td><td>51.86600019649691 </td><td>12.985184921165683</td><td>25.581955138652113</td><td>251.64622</td><td>59.27169166251201</td><td>-0.3710511028766632</td><td>0.30107596208136506</td><td>-1.074652075767517 </td><td>3471.3394</td><td>28.800504069210206</td><td>20.604587340492692</td><td>26.742954334719897 </td><td>11.379695449857985 </td></tr>\n",
       "<tr><td><i style='opacity: 0.6'>2</i>      </td><td>8.955413818359375</td><td>0.039958495646715164</td><td>-0.3540340065956116</td><td>-0.7935190200805664</td><td>4.3488946 </td><td>0.0    </td><td>18.966729091923135</td><td>-0.47136881947517395</td><td>12.395295        </td><td>10.079496        </td><td>11.133261     </td><td>33.981075</td><td>18.892673</td><td>5.056068 </td><td>-0.5525906682014465</td><td>0.0056239846 </td><td>0.21602225</td><td>-0.4314103126525879</td><td>2.025267 </td><td>0.040864454769306315  </td><td>0.023772158428189277</td><td>0.0038466972475121376</td><td>-0.0334602108086448  </td><td>-1.0620990991592407</td><td>-0.1971900761127472</td><td>0.14263589680194855</td><td>0         </td><td>1       </td><td>0.016093636267841736</td><td>48.74904091562003 </td><td>16.683563081964277</td><td>34.72919730609747 </td><td>246.6416 </td><td>62.13636143860151</td><td>-0.3710511028766632</td><td>0.21582281895266564</td><td>-1.074652075767517 </td><td>3318.9275</td><td>36.87846055749077 </td><td>22.20090090990196 </td><td>8.795479621852436  </td><td>30.593301054648084 </td></tr>\n",
       "<tr><td><i style='opacity: 0.6'>3</i>      </td><td>8.955413818359375</td><td>0.039958495646715164</td><td>-0.3540340065956116</td><td>-0.7935190200805664</td><td>0.53760934</td><td>0.0    </td><td>19.130052840109137</td><td>-0.47136881947517395</td><td>13.407313        </td><td>10.819105        </td><td>11.936295     </td><td>27.720272</td><td>18.021389</td><td>5.112755 </td><td>-0.5525906682014465</td><td>0.0030702134 </td><td>0.16282208</td><td>-0.4314103126525879</td><td>2.025267 </td><td>0.02683924634915      </td><td>0.00872166071032202 </td><td>-0.005780508648483159</td><td>-0.026032518858508845</td><td>-1.0620990991592407</td><td>-0.1971900761127472</td><td>0.14263589680194855</td><td>0         </td><td>1       </td><td>0.014927580847058508</td><td>56.3923080253249  </td><td>18.346247823616633</td><td>31.160794026387066</td><td>251.67007</td><td>66.99009104325506</td><td>-0.3710511028766632</td><td>0.16282207913433552</td><td>-1.074652075767517 </td><td>3160.5525</td><td>37.53585075822972 </td><td>28.395507372171934</td><td>7.307592726651242  </td><td>25.004977523869556 </td></tr>\n",
       "<tr><td><i style='opacity: 0.6'>4</i>      </td><td>8.955413818359375</td><td>0.039958495646715164</td><td>-0.3540340065956116</td><td>-0.7935190200805664</td><td>-3.4745467</td><td>0.0    </td><td>18.97555365815385 </td><td>-0.47136881947517395</td><td>5.585426         </td><td>4.808673         </td><td>5.2810493     </td><td>28.403969</td><td>12.16987 </td><td>4.6080256</td><td>-0.5525906682014465</td><td>0.5804881    </td><td>0.8526108 </td><td>-0.4314103126525879</td><td>2.025267 </td><td>-0.0019110736205013878</td><td>0.025759841746698712</td><td>0.0321629862688668   </td><td>0.01935304722385955  </td><td>-1.0620990991592407</td><td>-0.1971900761127472</td><td>0.14263589680194855</td><td>0         </td><td>1       </td><td>0.016028366649206958</td><td>53.645386232503974</td><td>11.569017763930807</td><td>29.677705586045175</td><td>248.3476 </td><td>62.38938888071152</td><td>-0.3710511028766632</td><td>0.852659319186179  </td><td>-1.074652075767517 </td><td>5789.82  </td><td>23.607574643160373</td><td>18.55643434672537 </td><td>13.732882885385859 </td><td>10.732605333652652 </td></tr>\n",
       "<tr><td>...                                </td><td>...              </td><td>...                 </td><td>...                </td><td>...                </td><td>...       </td><td>...    </td><td>...               </td><td>...                 </td><td>...              </td><td>...              </td><td>...           </td><td>...      </td><td>...      </td><td>...      </td><td>...                </td><td>...          </td><td>...       </td><td>...                </td><td>...      </td><td>...                   </td><td>...                 </td><td>...                  </td><td>...                  </td><td>...                </td><td>...                </td><td>...                </td><td>...       </td><td>...     </td><td>...                 </td><td>...               </td><td>...               </td><td>...               </td><td>...      </td><td>...              </td><td>...                </td><td>...                </td><td>...                </td><td>...      </td><td>...               </td><td>...               </td><td>...                </td><td>...                </td></tr>\n",
       "<tr><td><i style='opacity: 0.6'>777,208</i></td><td>9.305075645446777</td><td>-0.2378266155719757 </td><td>-1.3668785095214844</td><td>0.2941742241382599 </td><td>67.261406 </td><td>0.0    </td><td>19.07163618162063 </td><td>-0.8195078372955322 </td><td>10.028752        </td><td>8.23612          </td><td>9.135772      </td><td>32.01564 </td><td>148.5331 </td><td>4.900204 </td><td>-1.1140830516815186</td><td>0.025705868  </td><td>0.39582875</td><td>-1.0573344230651855</td><td>1.4649662</td><td>0.15685675280955766   </td><td>-0.2546407750151707 </td><td>0.2400821396702185   </td><td>0.13191492796092352  </td><td>-0.6839846968650818</td><td>-0.5307199358940125</td><td>-0.5255457162857056</td><td>9999      </td><td>1       </td><td>0.015334611005713731</td><td>-47.1620919205625 </td><td>28.863503133020014</td><td>34.57216602241323 </td><td>121.43899</td><td>65.21195742281277</td><td>-1.154412031173706 </td><td>0.39641837608173713</td><td>-0.8922590613365173</td><td>3808.8813</td><td>-99.40246625521124</td><td>55.07348856288905 </td><td>-120.71932183564455</td><td>-11.583478538475113</td></tr>\n",
       "<tr><td><i style='opacity: 0.6'>777,209</i></td><td>9.305075645446777</td><td>-0.2378266155719757 </td><td>-1.3668785095214844</td><td>0.2941742241382599 </td><td>66.5776   </td><td>0.0    </td><td>19.14897686993008 </td><td>-0.8195078372955322 </td><td>11.3353615       </td><td>9.368794         </td><td>10.323336     </td><td>39.57796 </td><td>146.84583</td><td>5.036372 </td><td>-1.1140830516815186</td><td>0.009636581  </td><td>0.25832927</td><td>-1.0573344230651855</td><td>1.4649662</td><td>0.18007031964330006   </td><td>-0.23743818827595514</td><td>0.17830952003676256  </td><td>0.08855911883269936  </td><td>-0.6839846968650818</td><td>-0.5307199358940125</td><td>-0.5255457162857056</td><td>9999      </td><td>1       </td><td>0.014798054621133443</td><td>-43.60576303768597</td><td>28.485024390034642</td><td>43.054818852499466</td><td>141.0469 </td><td>67.57645012148265</td><td>-1.154412031173706 </td><td>0.2596557748013721 </td><td>-0.8922590613365173</td><td>3587.4312</td><td>-83.41055507365232</td><td>53.35356122239381 </td><td>-103.08043076026472</td><td>-8.682370342764832 </td></tr>\n",
       "<tr><td><i style='opacity: 0.6'>777,210</i></td><td>9.305075645446777</td><td>-0.2378266155719757 </td><td>-1.3668785095214844</td><td>0.2941742241382599 </td><td>66.3979   </td><td>0.0    </td><td>19.12703347731515 </td><td>-0.8195078372955322 </td><td>15.79261         </td><td>12.402233        </td><td>13.647504     </td><td>38.088596</td><td>147.88972</td><td>5.2908998</td><td>-1.1140830516815186</td><td>0.00081713474</td><td>0.09815717</td><td>-1.0573344230651855</td><td>1.4649662</td><td>0.13694701506101362   </td><td>-0.2445831081881358 </td><td>0.21012933426821329  </td><td>0.05556910792794413  </td><td>-0.6839846968650818</td><td>-0.5307199358940125</td><td>-0.5255457162857056</td><td>9999      </td><td>1       </td><td>0.014948351607018085</td><td>-44.59749045013805</td><td>27.98709165545852 </td><td>41.267375153390546</td><td>136.81662</td><td>66.89700819791469</td><td>-1.154412031173706 </td><td>0.09819833921359898</td><td>-0.8922590613365173</td><td>2852.829 </td><td>-79.70873744519989</td><td>40.40994195469698 </td><td>-104.03075707780523</td><td>-14.989461439677688</td></tr>\n",
       "<tr><td><i style='opacity: 0.6'>777,211</i></td><td>9.305075645446777</td><td>-0.2378266155719757 </td><td>-1.3668785095214844</td><td>0.2941742241382599 </td><td>69.811584 </td><td>0.0    </td><td>19.10091930149655 </td><td>-0.8195078372955322 </td><td>12.776528        </td><td>10.526013        </td><td>11.560607     </td><td>33.111618</td><td>145.27971</td><td>5.1391   </td><td>-1.1140830516815186</td><td>0.0036202532 </td><td>0.16208944</td><td>-1.0573344230651855</td><td>1.4649662</td><td>0.17985376219621096   </td><td>-0.16983583010569342</td><td>0.13720905607977787  </td><td>0.14943054649775367  </td><td>-0.6839846968650818</td><td>-0.5307199358940125</td><td>-0.5255457162857056</td><td>9999      </td><td>1       </td><td>0.015129206118686641</td><td>-45.50572352382261</td><td>31.53350826121861 </td><td>36.10710297455826 </td><td>125.51383</td><td>66.09732144272019</td><td>-1.154412031173706 </td><td>0.16195700902109328</td><td>-0.8922590613365173</td><td>3351.0732</td><td>-90.54079421882412</td><td>63.15037582647409 </td><td>-96.06591634727195 </td><td>-2.2573140158869505</td></tr>\n",
       "<tr><td><i style='opacity: 0.6'>777,212</i></td><td>9.305075645446777</td><td>-0.2378266155719757 </td><td>-1.3668785095214844</td><td>0.2941742241382599 </td><td>65.25303  </td><td>0.0    </td><td>19.120804904614694</td><td>-0.8195078372955322 </td><td>11.217975        </td><td>9.269393         </td><td>10.218345     </td><td>36.628593</td><td>149.98006</td><td>5.027137 </td><td>-1.1140830516815186</td><td>0.010498018  </td><td>0.26975194</td><td>-1.0573344230651855</td><td>1.4649662</td><td>0.15041817092097062   </td><td>-0.21784400758186995</td><td>0.18556616901630046  </td><td>0.09800211909700744  </td><td>-0.6839846968650818</td><td>-0.5307199358940125</td><td>-0.5255457162857056</td><td>9999      </td><td>1       </td><td>0.014991290469290628</td><td>-46.35110057622551</td><td>26.78234337139868 </td><td>39.79813695872502 </td><td>132.19347</td><td>66.70539818092918</td><td>-1.154412031173706 </td><td>0.27107347928218684</td><td>-0.8922590613365173</td><td>3605.948 </td><td>-78.72150457281566</td><td>49.91483354437928 </td><td>-96.61159069892342 </td><td>-8.795814806051842 </td></tr>\n",
       "</tbody>\n",
       "</table>"
      ],
      "text/plain": [
       "#        age                alpha                 calcium              carbon               dec         dform    dmod                feh                   gaiadr2_g_bpmag    gaiadr2_g_rpmag    gaiadr2_gmag    glat       glon       grav       helium               lum            mact        magnesium            mtip       mub                     mudec                 mul                    mura                   neon                 nitrogen             oxygen               parentid    partid    pi                    px                  py                  pz                  ra         rad                silicon              smass                sulphur              teff       vr                  vx                  vy                   vz\n",
       "0        8.955413818359375  0.039958495646715164  -0.3540340065956116  -0.7935190200805664  -3.0187774  0.0      18.951440350826058  -0.47136881947517395  11.126908          9.054153           10.04198        28.416817  12.780675  4.9589286  -0.5525906682014465  0.013361397    0.32670912  -0.4314103126525879  2.025267   0.04085799708779068     0.05314435298194126   0.0367721129780034     -0.014044283308395397  -1.0620990991592407  -0.1971900761127472  0.14263589680194855  0           0         0.016207346975789905  52.92156982421875   12.004715919494629  29.362138748168945  248.63277  61.70041287409796  -0.3710511028766632  0.32651486763693804  -1.074652075767517   3509.403   30.880837645635175  18.561607360839844  15.239194869995117   25.20623016357422\n",
       "1        8.955413818359375  0.039958495646715164  -0.3540340065956116  -0.7935190200805664  -3.607971   0.0      18.864236612676443  -0.47136881947517395  11.386944          9.270209           10.270541       25.569458  14.055669  4.9820805  -0.5525906682014465  0.011113583    0.30133697  -0.4314103126525879  2.025267   -0.004145640239841527   0.060654433801642434  0.0745194426862223     0.04348992452493178    -1.0620990991592407  -0.1971900761127472  0.14263589680194855  0           1         0.016871460421509735  51.86600019649691   12.985184921165683  25.581955138652113  251.64622  59.27169166251201  -0.3710511028766632  0.30107596208136506  -1.074652075767517   3471.3394  28.800504069210206  20.604587340492692  26.742954334719897   11.379695449857985\n",
       "2        8.955413818359375  0.039958495646715164  -0.3540340065956116  -0.7935190200805664  4.3488946   0.0      18.966729091923135  -0.47136881947517395  12.395295          10.079496          11.133261       33.981075  18.892673  5.056068   -0.5525906682014465  0.0056239846   0.21602225  -0.4314103126525879  2.025267   0.040864454769306315    0.023772158428189277  0.0038466972475121376  -0.0334602108086448    -1.0620990991592407  -0.1971900761127472  0.14263589680194855  0           1         0.016093636267841736  48.74904091562003   16.683563081964277  34.72919730609747   246.6416   62.13636143860151  -0.3710511028766632  0.21582281895266564  -1.074652075767517   3318.9275  36.87846055749077   22.20090090990196   8.795479621852436    30.593301054648084\n",
       "3        8.955413818359375  0.039958495646715164  -0.3540340065956116  -0.7935190200805664  0.53760934  0.0      19.130052840109137  -0.47136881947517395  13.407313          10.819105          11.936295       27.720272  18.021389  5.112755   -0.5525906682014465  0.0030702134   0.16282208  -0.4314103126525879  2.025267   0.02683924634915        0.00872166071032202   -0.005780508648483159  -0.026032518858508845  -1.0620990991592407  -0.1971900761127472  0.14263589680194855  0           1         0.014927580847058508  56.3923080253249    18.346247823616633  31.160794026387066  251.67007  66.99009104325506  -0.3710511028766632  0.16282207913433552  -1.074652075767517   3160.5525  37.53585075822972   28.395507372171934  7.307592726651242    25.004977523869556\n",
       "4        8.955413818359375  0.039958495646715164  -0.3540340065956116  -0.7935190200805664  -3.4745467  0.0      18.97555365815385   -0.47136881947517395  5.585426           4.808673           5.2810493       28.403969  12.16987   4.6080256  -0.5525906682014465  0.5804881      0.8526108   -0.4314103126525879  2.025267   -0.0019110736205013878  0.025759841746698712  0.0321629862688668     0.01935304722385955    -1.0620990991592407  -0.1971900761127472  0.14263589680194855  0           1         0.016028366649206958  53.645386232503974  11.569017763930807  29.677705586045175  248.3476   62.38938888071152  -0.3710511028766632  0.852659319186179    -1.074652075767517   5789.82    23.607574643160373  18.55643434672537   13.732882885385859   10.732605333652652\n",
       "...      ...                ...                   ...                  ...                  ...         ...      ...                 ...                   ...                ...                ...             ...        ...        ...        ...                  ...            ...         ...                  ...        ...                     ...                   ...                    ...                    ...                  ...                  ...                  ...         ...       ...                   ...                 ...                 ...                 ...        ...                ...                  ...                  ...                  ...        ...                 ...                 ...                  ...\n",
       "777,208  9.305075645446777  -0.2378266155719757   -1.3668785095214844  0.2941742241382599   67.261406   0.0      19.07163618162063   -0.8195078372955322   10.028752          8.23612            9.135772        32.01564   148.5331   4.900204   -1.1140830516815186  0.025705868    0.39582875  -1.0573344230651855  1.4649662  0.15685675280955766     -0.2546407750151707   0.2400821396702185     0.13191492796092352    -0.6839846968650818  -0.5307199358940125  -0.5255457162857056  9999        1         0.015334611005713731  -47.1620919205625   28.863503133020014  34.57216602241323   121.43899  65.21195742281277  -1.154412031173706   0.39641837608173713  -0.8922590613365173  3808.8813  -99.40246625521124  55.07348856288905   -120.71932183564455  -11.583478538475113\n",
       "777,209  9.305075645446777  -0.2378266155719757   -1.3668785095214844  0.2941742241382599   66.5776     0.0      19.14897686993008   -0.8195078372955322   11.3353615         9.368794           10.323336       39.57796   146.84583  5.036372   -1.1140830516815186  0.009636581    0.25832927  -1.0573344230651855  1.4649662  0.18007031964330006     -0.23743818827595514  0.17830952003676256    0.08855911883269936    -0.6839846968650818  -0.5307199358940125  -0.5255457162857056  9999        1         0.014798054621133443  -43.60576303768597  28.485024390034642  43.054818852499466  141.0469   67.57645012148265  -1.154412031173706   0.2596557748013721   -0.8922590613365173  3587.4312  -83.41055507365232  53.35356122239381   -103.08043076026472  -8.682370342764832\n",
       "777,210  9.305075645446777  -0.2378266155719757   -1.3668785095214844  0.2941742241382599   66.3979     0.0      19.12703347731515   -0.8195078372955322   15.79261           12.402233          13.647504       38.088596  147.88972  5.2908998  -1.1140830516815186  0.00081713474  0.09815717  -1.0573344230651855  1.4649662  0.13694701506101362     -0.2445831081881358   0.21012933426821329    0.05556910792794413    -0.6839846968650818  -0.5307199358940125  -0.5255457162857056  9999        1         0.014948351607018085  -44.59749045013805  27.98709165545852   41.267375153390546  136.81662  66.89700819791469  -1.154412031173706   0.09819833921359898  -0.8922590613365173  2852.829   -79.70873744519989  40.40994195469698   -104.03075707780523  -14.989461439677688\n",
       "777,211  9.305075645446777  -0.2378266155719757   -1.3668785095214844  0.2941742241382599   69.811584   0.0      19.10091930149655   -0.8195078372955322   12.776528          10.526013          11.560607       33.111618  145.27971  5.1391     -1.1140830516815186  0.0036202532   0.16208944  -1.0573344230651855  1.4649662  0.17985376219621096     -0.16983583010569342  0.13720905607977787    0.14943054649775367    -0.6839846968650818  -0.5307199358940125  -0.5255457162857056  9999        1         0.015129206118686641  -45.50572352382261  31.53350826121861   36.10710297455826   125.51383  66.09732144272019  -1.154412031173706   0.16195700902109328  -0.8922590613365173  3351.0732  -90.54079421882412  63.15037582647409   -96.06591634727195   -2.2573140158869505\n",
       "777,212  9.305075645446777  -0.2378266155719757   -1.3668785095214844  0.2941742241382599   65.25303    0.0      19.120804904614694  -0.8195078372955322   11.217975          9.269393           10.218345       36.628593  149.98006  5.027137   -1.1140830516815186  0.010498018    0.26975194  -1.0573344230651855  1.4649662  0.15041817092097062     -0.21784400758186995  0.18556616901630046    0.09800211909700744    -0.6839846968650818  -0.5307199358940125  -0.5255457162857056  9999        1         0.014991290469290628  -46.35110057622551  26.78234337139868   39.79813695872502   132.19347  66.70539818092918  -1.154412031173706   0.27107347928218684  -0.8922590613365173  3605.948   -78.72150457281566  49.91483354437928   -96.61159069892342   -8.795814806051842"
      ]
     },
     "execution_count": 3,
     "metadata": {},
     "output_type": "execute_result"
    }
   ],
   "source": [
    "output = Galaxia_ananke.make_survey_from_particles(p, rho['pos'], rho['vel'], fsample=0.01)#, simname='sim', surveyname='survey', fsample=1, ngb=64, knorm=0.596831, **kwargs):\n",
    "output"
   ]
  },
  {
   "attachments": {},
   "cell_type": "markdown",
   "id": "5744efd0",
   "metadata": {},
   "source": [
    "Using LSST photometric system"
   ]
  },
  {
   "cell_type": "code",
   "execution_count": 4,
   "id": "3e04243e",
   "metadata": {},
   "outputs": [
    {
     "name": "stdout",
     "output_type": "stream",
     "text": [
      "/home/athob/miniconda3/envs/main/.cache/Galaxia_ananke/bin/galaxia -r --hdim=6 --nfile=sim /home/athob/Software/repos/py-ananke/py-Galaxia-ananke/jupyter/survey_params\n",
      "CODEDATAPATH=/home/athob/miniconda3/envs/main/.cache/Galaxia_ananke/GalaxiaData/\n",
      "Reading Parameter file-             /home/athob/Software/repos/py-ananke/py-Galaxia-ananke/jupyter/survey_params\n",
      "--------------------------------------------------------\n",
      "outputFile               survey                  \n",
      "outputDir                /home/athob/Software/repos/py-ananke/py-Galaxia-ananke/jupyter\n",
      "photoCateg               padova                  \n",
      "photoSys                 LSST                    \n",
      "magcolorNames            rmag,gmag-rmag          \n",
      "appMagLimits[0]          -1000                   \n",
      "appMagLimits[1]          1000                    \n",
      "absMagLimits[0]          -1000                   \n",
      "absMagLimits[1]          20                      \n",
      "colorLimits[0]           -1000                   \n",
      "colorLimits[1]           1000                    \n",
      "geometryOption           0                       \n",
      "surveyArea               207.455                 \n",
      "fSample                  0.01                    \n",
      "popID                    10                      \n",
      "warpFlareOn              0                       \n",
      "longitude                76.273                  \n",
      "latitude                 13.4725                 \n",
      "starType                 0                       \n",
      "photoError               0                       \n",
      "seed                     17052                   \n",
      "r_max                    500                     \n",
      "r_min                    0                       \n",
      "nres                     64                      \n",
      "nstart                   0                       \n",
      "rSun[0]                  0.0                     \n",
      "rSun[1]                  0.0                     \n",
      "rSun[2]                  0.0                     \n",
      "vSun[0]                  0.0                     \n",
      "vSun[1]                  0.0                     \n",
      "vSun[2]                  0.0                     \n",
      "--------------------------------------------------------\n",
      "Reading Halo Sat File=/home/athob/miniconda3/envs/main/.cache/Galaxia_ananke/GalaxiaData/nbody1/filenames/sim.txt\n",
      "Halo 1 Sat 0 fname nbody1/sim/sim.ebf 0\n",
      "nbody1/sim/sim.ebf 0\n",
      "No of Satellites   =1\n",
      "Generating catalog. Max allowed stars is 18446744073709551615\n",
      "Source numbering will start at 0\n",
      "Writing to /home/athob/Software/repos/py-ananke/py-Galaxia-ananke/jupyter/survey.sim.ebf\n",
      "Using geometry:                     All Sky\n",
      "setting center to 0 0 0 0 0 0\n",
      "Reading Isochrones from dir-        /home/athob/miniconda3/envs/main/.cache/Galaxia_ananke/GalaxiaData/Isochrones/padova/LSST\n"
     ]
    },
    {
     "name": "stderr",
     "output_type": "stream",
     "text": [
      "nbody1/sim/\n",
      "\n",
      "\t1\t1\n",
      "\n",
      "path nbody1/sim/ sats 1 x[0] 1\n"
     ]
    },
    {
     "name": "stdout",
     "output_type": "stream",
     "text": [
      "Isochrone Grid Size:                (Age bins=71,Feh bins=34,Alpha bins=1)\n",
      "Time Isochrone Reading              1.34542     \n",
      "------------------------------\n",
      "nbody1/sim/sim.ebf  Sat No=0\n",
      "Particles=10000\n",
      "Satellite Info\n",
      "Particles=10000 Mass=5.49088e+07 0.379706\n",
      "Total Stars=781138 accepted=777898 rejected=3240\n",
      "-----------Done---------------\n",
      "Total stars written                 777898                  \n",
      "30\n",
      "File written-                       /home/athob/Software/repos/py-ananke/py-Galaxia-ananke/jupyter/survey.sim.ebf\n",
      "Calculating magnitudes in LSST system................\n",
      "initializing isochrone data\n",
      "interpolating on isochrone tables\n",
      "Appending spherical coordinates................\n",
      "Total Time=                         2.45053     \n",
      "Exported the following quantities to /home/athob/Software/repos/py-ananke/py-Galaxia-ananke/jupyter/survey.sim.h5\n",
      "['age', 'alpha', 'calcium', 'carbon', 'dec', 'dform', 'dmod', 'feh', 'glat', 'glon', 'grav', 'helium', 'lsst_gmag', 'lsst_imag', 'lsst_rmag', 'lsst_umag', 'lsst_ymag', 'lsst_zmag', 'lum', 'mact', 'magnesium', 'mtip', 'neon', 'nitrogen', 'oxygen', 'parentid', 'partid', 'px', 'py', 'pz', 'ra', 'rad', 'silicon', 'smass', 'sulphur', 'teff', 'vx', 'vy', 'vz']\n",
      "Exported the following quantities to /home/athob/Software/repos/py-ananke/py-Galaxia-ananke/jupyter/survey.sim.h5\n",
      "['mul', 'mub', 'vr']\n",
      "Overwritten the following quantities to /home/athob/Software/repos/py-ananke/py-Galaxia-ananke/jupyter/survey.sim.h5\n",
      "['glon', 'glat', 'rad']\n",
      "Exported the following quantities to /home/athob/Software/repos/py-ananke/py-Galaxia-ananke/jupyter/survey.sim.h5\n",
      "['mura', 'mudec']\n",
      "Overwritten the following quantities to /home/athob/Software/repos/py-ananke/py-Galaxia-ananke/jupyter/survey.sim.h5\n",
      "['ra', 'dec']\n",
      "Exported the following quantities to /home/athob/Software/repos/py-ananke/py-Galaxia-ananke/jupyter/survey.sim.h5\n",
      "['pi']\n",
      "Overwritten the following quantities to /home/athob/Software/repos/py-ananke/py-Galaxia-ananke/jupyter/survey.sim.h5\n",
      "['teff', 'lum']\n"
     ]
    },
    {
     "data": {
      "text/html": [
       "<style>.vaex-description pre {\n",
       "          max-width : 450px;\n",
       "          white-space : nowrap;\n",
       "          overflow : hidden;\n",
       "          text-overflow: ellipsis;\n",
       "        }\n",
       "\n",
       "        .vex-description pre:hover {\n",
       "          max-width : initial;\n",
       "          white-space: pre;\n",
       "        }</style>"
      ],
      "text/plain": [
       "<IPython.core.display.HTML object>"
      ]
     },
     "metadata": {},
     "output_type": "display_data"
    },
    {
     "data": {
      "text/html": [
       "<table>\n",
       "<thead>\n",
       "<tr><th>#                                  </th><th>age              </th><th>alpha               </th><th>calcium            </th><th>carbon             </th><th>dec       </th><th>dform  </th><th>dmod              </th><th>feh                 </th><th>glat     </th><th>glon     </th><th>grav     </th><th>helium             </th><th>lsst_gmag  </th><th>lsst_imag  </th><th>lsst_rmag  </th><th>lsst_umag  </th><th>lsst_ymag  </th><th>lsst_zmag  </th><th>lum         </th><th>mact      </th><th>magnesium          </th><th>mtip     </th><th>mub                   </th><th>mudec               </th><th>mul                  </th><th>mura                 </th><th>neon               </th><th>nitrogen           </th><th>oxygen             </th><th>parentid  </th><th>partid  </th><th>pi                  </th><th>px                 </th><th>py                </th><th>pz                </th><th>ra       </th><th>rad              </th><th>silicon            </th><th>smass              </th><th>sulphur            </th><th>teff     </th><th>vr                </th><th>vx                </th><th>vy                 </th><th>vz                 </th></tr>\n",
       "</thead>\n",
       "<tbody>\n",
       "<tr><td><i style='opacity: 0.6'>0</i>      </td><td>8.955413818359375</td><td>0.039958495646715164</td><td>-0.3540340065956116</td><td>-0.7935190200805664</td><td>-3.0187774</td><td>0.0    </td><td>18.951440350826058</td><td>-0.47136881947517395</td><td>28.416817</td><td>12.780675</td><td>4.956889 </td><td>-0.5525906682014465</td><td>11.814668  </td><td>9.547248   </td><td>10.4232235 </td><td>14.944483  </td><td>8.925199   </td><td>9.120841   </td><td>0.0127317635</td><td>0.3256295 </td><td>-0.4314103126525879</td><td>2.0520527</td><td>0.04085799708779068   </td><td>0.05314435298194126 </td><td>0.0367721129780034   </td><td>-0.014044283308395397</td><td>-1.0620990991592407</td><td>-0.1971900761127472</td><td>0.14263589680194855</td><td>0         </td><td>0       </td><td>0.016207346975789905</td><td>52.92156982421875  </td><td>12.004715919494629</td><td>29.362138748168945</td><td>248.63277</td><td>61.70041287409796</td><td>-0.3710511028766632</td><td>0.32685696251341934</td><td>-1.074652075767517 </td><td>3464.6377</td><td>30.880837645635175</td><td>18.561607360839844</td><td>15.239194869995117 </td><td>25.20623016357422  </td></tr>\n",
       "<tr><td><i style='opacity: 0.6'>1</i>      </td><td>8.955413818359375</td><td>0.039958495646715164</td><td>-0.3540340065956116</td><td>-0.7935190200805664</td><td>-3.607971 </td><td>0.0    </td><td>18.864236612676443</td><td>-0.47136881947517395</td><td>25.569458</td><td>14.055669</td><td>4.980146 </td><td>-0.5525906682014465</td><td>12.077761  </td><td>9.762882   </td><td>10.675743  </td><td>15.2433195 </td><td>9.118245   </td><td>9.318753   </td><td>0.010647819 </td><td>0.3004575 </td><td>-0.4314103126525879</td><td>2.0520527</td><td>-0.004145640239841527 </td><td>0.060654433801642434</td><td>0.0745194426862223   </td><td>0.04348992452493178  </td><td>-1.0620990991592407</td><td>-0.1971900761127472</td><td>0.14263589680194855</td><td>0         </td><td>1       </td><td>0.016871460421509735</td><td>51.86600019649691  </td><td>12.985184921165683</td><td>25.581955138652113</td><td>251.64622</td><td>59.27169166251201</td><td>-0.3710511028766632</td><td>0.3013677440371474 </td><td>-1.074652075767517 </td><td>3426.9844</td><td>28.800504069210206</td><td>20.604587340492692</td><td>26.742954334719897 </td><td>11.379695449857985 </td></tr>\n",
       "<tr><td><i style='opacity: 0.6'>2</i>      </td><td>8.955413818359375</td><td>0.039958495646715164</td><td>-0.3540340065956116</td><td>-0.7935190200805664</td><td>4.3488946 </td><td>0.0    </td><td>18.966729091923135</td><td>-0.47136881947517395</td><td>33.981075</td><td>18.892673</td><td>5.0514407</td><td>-0.5525906682014465</td><td>13.179893  </td><td>10.6199045 </td><td>11.725874  </td><td>16.566612  </td><td>9.868971   </td><td>10.095454  </td><td>0.0052974075</td><td>0.21518832</td><td>-0.4314103126525879</td><td>2.0520527</td><td>0.040864454769306315  </td><td>0.023772158428189277</td><td>0.0038466972475121376</td><td>-0.0334602108086448  </td><td>-1.0620990991592407</td><td>-0.1971900761127472</td><td>0.14263589680194855</td><td>0         </td><td>1       </td><td>0.016093636267841736</td><td>48.74904091562003  </td><td>16.683563081964277</td><td>34.72919730609747 </td><td>246.6416 </td><td>62.13636143860151</td><td>-0.3710511028766632</td><td>0.21596653094270554</td><td>-1.074652075767517 </td><td>3265.071 </td><td>36.87846055749077 </td><td>22.20090090990196 </td><td>8.795479621852436  </td><td>30.593301054648084 </td></tr>\n",
       "<tr><td><i style='opacity: 0.6'>3</i>      </td><td>8.955413818359375</td><td>0.039958495646715164</td><td>-0.3540340065956116</td><td>-0.7935190200805664</td><td>0.53760934</td><td>0.0    </td><td>19.130052840109137</td><td>-0.47136881947517395</td><td>27.720272</td><td>18.021389</td><td>5.1080246</td><td>-0.5525906682014465</td><td>14.2647    </td><td>11.39878   </td><td>12.758788  </td><td>17.946392  </td><td>10.524056  </td><td>10.781293  </td><td>0.0028832862</td><td>0.16220216</td><td>-0.4314103126525879</td><td>2.0520527</td><td>0.02683924634915      </td><td>0.00872166071032202 </td><td>-0.005780508648483159</td><td>-0.026032518858508845</td><td>-1.0620990991592407</td><td>-0.1971900761127472</td><td>0.14263589680194855</td><td>0         </td><td>1       </td><td>0.014927580847058508</td><td>56.3923080253249   </td><td>18.346247823616633</td><td>31.160794026387066</td><td>251.67007</td><td>66.99009104325506</td><td>-0.3710511028766632</td><td>0.16289241615423433</td><td>-1.074652075767517 </td><td>3105.4434</td><td>37.53585075822972 </td><td>28.395507372171934</td><td>7.307592726651242  </td><td>25.004977523869556 </td></tr>\n",
       "<tr><td><i style='opacity: 0.6'>4</i>      </td><td>8.955413818359375</td><td>0.039958495646715164</td><td>-0.3540340065956116</td><td>-0.7935190200805664</td><td>-3.4745467</td><td>0.0    </td><td>18.97555365815385 </td><td>-0.47136881947517395</td><td>28.403969</td><td>12.16987 </td><td>4.6053805</td><td>-0.5525906682014465</td><td>5.749734   </td><td>5.2037826  </td><td>5.327181   </td><td>6.9090657  </td><td>5.164723   </td><td>5.177592   </td><td>0.55535775  </td><td>0.8556554 </td><td>-0.4314103126525879</td><td>2.0520527</td><td>-0.0019110736205013878</td><td>0.025759841746698712</td><td>0.0321629862688668   </td><td>0.01935304722385955  </td><td>-1.0620990991592407</td><td>-0.1971900761127472</td><td>0.14263589680194855</td><td>0         </td><td>1       </td><td>0.016028366649206958</td><td>53.645386232503974 </td><td>11.569017763930807</td><td>29.677705586045175</td><td>248.3476 </td><td>62.38938888071152</td><td>-0.3710511028766632</td><td>0.8556553660362554 </td><td>-1.074652075767517 </td><td>5715.7837</td><td>23.607574643160373</td><td>18.55643434672537 </td><td>13.732882885385859 </td><td>10.732605333652652 </td></tr>\n",
       "<tr><td>...                                </td><td>...              </td><td>...                 </td><td>...                </td><td>...                </td><td>...       </td><td>...    </td><td>...               </td><td>...                 </td><td>...      </td><td>...      </td><td>...      </td><td>...                </td><td>...        </td><td>...        </td><td>...        </td><td>...        </td><td>...        </td><td>...        </td><td>...         </td><td>...       </td><td>...                </td><td>...      </td><td>...                   </td><td>...                 </td><td>...                  </td><td>...                  </td><td>...                </td><td>...                </td><td>...                </td><td>...       </td><td>...     </td><td>...                 </td><td>...                </td><td>...               </td><td>...               </td><td>...      </td><td>...              </td><td>...                </td><td>...                </td><td>...                </td><td>...      </td><td>...               </td><td>...               </td><td>...                </td><td>...                </td></tr>\n",
       "<tr><td><i style='opacity: 0.6'>777,893</i></td><td>9.305075645446777</td><td>-0.2378266155719757 </td><td>-1.3668785095214844</td><td>0.2941742241382599 </td><td>68.30899  </td><td>0.0    </td><td>19.214343772259525</td><td>-0.8195078372955322 </td><td>36.710266</td><td>145.96066</td><td>4.7050757</td><td>-1.1140830516815186</td><td>7.307274   </td><td>6.40013    </td><td>6.6385884  </td><td>8.992604   </td><td>6.2399406  </td><td>6.3021703  </td><td>0.18078534  </td><td>0.64411825</td><td>-1.0573344230651855</td><td>1.4815284</td><td>0.1402531564065042    </td><td>-0.24438331644424915</td><td>0.20945752796890305  </td><td>0.0618077362511744   </td><td>-0.6839846968650818</td><td>-0.5307199358940125</td><td>-0.5255457162857056</td><td>9999      </td><td>1       </td><td>0.014359233096197547</td><td>-46.263288872871186</td><td>31.25122469998749 </td><td>41.62957869507247 </td><td>134.81041</td><td>69.64160225693452</td><td>-1.154412031173706 </td><td>0.6441780986755028 </td><td>-0.8922590613365173</td><td>4907.575 </td><td>-69.36592582887137</td><td>30.308688121042522</td><td>-103.92124966196677</td><td>-4.34566729325371  </td></tr>\n",
       "<tr><td><i style='opacity: 0.6'>777,894</i></td><td>9.305075645446777</td><td>-0.2378266155719757 </td><td>-1.3668785095214844</td><td>0.2941742241382599 </td><td>64.15274  </td><td>0.0    </td><td>18.998051735647778</td><td>-0.8195078372955322 </td><td>32.72055 </td><td>152.1523 </td><td>4.7318344</td><td>-1.1140830516815186</td><td>8.137574   </td><td>6.9666467  </td><td>7.28515    </td><td>10.156084  </td><td>6.7273517  </td><td>6.8209777  </td><td>0.1101942   </td><td>0.5803311 </td><td>-1.0573344230651855</td><td>1.4815284</td><td>0.15604191667999345   </td><td>-0.25770436657431517</td><td>0.2455860662785979   </td><td>0.13509276251805327  </td><td>-0.6839846968650818</td><td>-0.5307199358940125</td><td>-0.5255457162857056</td><td>9999      </td><td>1       </td><td>0.015863158108220494</td><td>-46.893945563185916</td><td>24.774282304801467</td><td>34.07531674158135 </td><td>122.46201</td><td>63.03914978202147</td><td>-1.154412031173706 </td><td>0.5809858794598144 </td><td>-0.8922590613365173</td><td>4517.1157</td><td>-70.42304683305463</td><td>40.39157431392781 </td><td>-104.34108183553984</td><td>1.1646761013697269 </td></tr>\n",
       "<tr><td><i style='opacity: 0.6'>777,895</i></td><td>9.305075645446777</td><td>-0.2378266155719757 </td><td>-1.3668785095214844</td><td>0.2941742241382599 </td><td>64.553856 </td><td>0.0    </td><td>19.136585227377964</td><td>-0.8195078372955322 </td><td>38.1084  </td><td>150.3573 </td><td>5.0051317</td><td>-1.1140830516815186</td><td>11.687777  </td><td>9.561444   </td><td>10.286666  </td><td>14.835116  </td><td>9.038309   </td><td>9.212344   </td><td>0.01173456  </td><td>0.2918338 </td><td>-1.0573344230651855</td><td>1.4815284</td><td>0.10854000841095132   </td><td>-0.2552307258986968 </td><td>0.23343397968880047  </td><td>0.033610065010743574 </td><td>-0.6839846968650818</td><td>-0.5307199358940125</td><td>-0.5255457162857056</td><td>9999      </td><td>1       </td><td>0.014882742048726468</td><td>-45.950374094667424</td><td>26.14875644621126 </td><td>41.46757349674745 </td><td>135.34921</td><td>67.19191911853173</td><td>-1.154412031173706 </td><td>0.29268865429898494</td><td>-0.8922590613365173</td><td>3587.3013</td><td>-79.37912316974491</td><td>36.054218583297924</td><td>-106.06710146305544</td><td>-21.785889861287956</td></tr>\n",
       "<tr><td><i style='opacity: 0.6'>777,896</i></td><td>9.305075645446777</td><td>-0.2378266155719757 </td><td>-1.3668785095214844</td><td>0.2941742241382599 </td><td>67.58964  </td><td>0.0    </td><td>19.164583985605574</td><td>-0.8195078372955322 </td><td>37.454887</td><td>146.57945</td><td>4.719912 </td><td>-1.1140830516815186</td><td>7.7530823  </td><td>6.7070622  </td><td>6.98758    </td><td>9.622709   </td><td>6.504435   </td><td>6.5841293  </td><td>0.13804834  </td><td>0.60916585</td><td>-1.0573344230651855</td><td>1.4815284</td><td>0.11362160891384586   </td><td>-0.21521882707157206</td><td>0.18725168093315867  </td><td>0.040668411367120044 </td><td>-0.6839846968650818</td><td>-0.5307199358940125</td><td>-0.5255457162857056</td><td>9999      </td><td>1       </td><td>0.01469207724009094 </td><td>-45.09726936486872 </td><td>29.75937716571354 </td><td>41.39214351793054 </td><td>136.22177</td><td>68.0638948229359 </td><td>-1.154412031173706 </td><td>0.6094272410447537 </td><td>-0.8922590613365173</td><td>4691.625 </td><td>-82.54608796131066</td><td>40.02414929621956 </td><td>-98.79845550203129 </td><td>-21.096948170343808</td></tr>\n",
       "<tr><td><i style='opacity: 0.6'>777,897</i></td><td>9.305075645446777</td><td>-0.2378266155719757 </td><td>-1.3668785095214844</td><td>0.2941742241382599 </td><td>68.39269  </td><td>0.0    </td><td>19.149094091365043</td><td>-0.8195078372955322 </td><td>34.82308 </td><td>146.56319</td><td>5.155351 </td><td>-1.1140830516815186</td><td>14.010173  </td><td>11.338973  </td><td>12.46287   </td><td>17.778406  </td><td>10.610271  </td><td>10.830129  </td><td>0.0027105433</td><td>0.14618951</td><td>-1.0573344230651855</td><td>1.4815284</td><td>0.15470874142512098   </td><td>-0.26332790145342727</td><td>0.23222652440979583  </td><td>0.09231669852267504  </td><td>-0.6839846968650818</td><td>-0.5307199358940125</td><td>-0.5255457162857056</td><td>9999      </td><td>1       </td><td>0.01479725580721795 </td><td>-46.295893314751815</td><td>30.569219200823195</td><td>38.5912265600519  </td><td>129.52943</td><td>67.58009816335068</td><td>-1.154412031173706 </td><td>0.14633686178285027</td><td>-0.8922590613365173</td><td>3224.7146</td><td>-93.40100277293209</td><td>46.609126032469874</td><td>-119.92759544928897</td><td>-12.649114828742979</td></tr>\n",
       "</tbody>\n",
       "</table>"
      ],
      "text/plain": [
       "#        age                alpha                 calcium              carbon               dec         dform    dmod                feh                   glat       glon       grav       helium               lsst_gmag    lsst_imag    lsst_rmag    lsst_umag    lsst_ymag    lsst_zmag    lum           mact        magnesium            mtip       mub                     mudec                 mul                    mura                   neon                 nitrogen             oxygen               parentid    partid    pi                    px                   py                  pz                  ra         rad                silicon              smass                sulphur              teff       vr                  vx                  vy                   vz\n",
       "0        8.955413818359375  0.039958495646715164  -0.3540340065956116  -0.7935190200805664  -3.0187774  0.0      18.951440350826058  -0.47136881947517395  28.416817  12.780675  4.956889   -0.5525906682014465  11.814668    9.547248     10.4232235   14.944483    8.925199     9.120841     0.0127317635  0.3256295   -0.4314103126525879  2.0520527  0.04085799708779068     0.05314435298194126   0.0367721129780034     -0.014044283308395397  -1.0620990991592407  -0.1971900761127472  0.14263589680194855  0           0         0.016207346975789905  52.92156982421875    12.004715919494629  29.362138748168945  248.63277  61.70041287409796  -0.3710511028766632  0.32685696251341934  -1.074652075767517   3464.6377  30.880837645635175  18.561607360839844  15.239194869995117   25.20623016357422\n",
       "1        8.955413818359375  0.039958495646715164  -0.3540340065956116  -0.7935190200805664  -3.607971   0.0      18.864236612676443  -0.47136881947517395  25.569458  14.055669  4.980146   -0.5525906682014465  12.077761    9.762882     10.675743    15.2433195   9.118245     9.318753     0.010647819   0.3004575   -0.4314103126525879  2.0520527  -0.004145640239841527   0.060654433801642434  0.0745194426862223     0.04348992452493178    -1.0620990991592407  -0.1971900761127472  0.14263589680194855  0           1         0.016871460421509735  51.86600019649691    12.985184921165683  25.581955138652113  251.64622  59.27169166251201  -0.3710511028766632  0.3013677440371474   -1.074652075767517   3426.9844  28.800504069210206  20.604587340492692  26.742954334719897   11.379695449857985\n",
       "2        8.955413818359375  0.039958495646715164  -0.3540340065956116  -0.7935190200805664  4.3488946   0.0      18.966729091923135  -0.47136881947517395  33.981075  18.892673  5.0514407  -0.5525906682014465  13.179893    10.6199045   11.725874    16.566612    9.868971     10.095454    0.0052974075  0.21518832  -0.4314103126525879  2.0520527  0.040864454769306315    0.023772158428189277  0.0038466972475121376  -0.0334602108086448    -1.0620990991592407  -0.1971900761127472  0.14263589680194855  0           1         0.016093636267841736  48.74904091562003    16.683563081964277  34.72919730609747   246.6416   62.13636143860151  -0.3710511028766632  0.21596653094270554  -1.074652075767517   3265.071   36.87846055749077   22.20090090990196   8.795479621852436    30.593301054648084\n",
       "3        8.955413818359375  0.039958495646715164  -0.3540340065956116  -0.7935190200805664  0.53760934  0.0      19.130052840109137  -0.47136881947517395  27.720272  18.021389  5.1080246  -0.5525906682014465  14.2647      11.39878     12.758788    17.946392    10.524056    10.781293    0.0028832862  0.16220216  -0.4314103126525879  2.0520527  0.02683924634915        0.00872166071032202   -0.005780508648483159  -0.026032518858508845  -1.0620990991592407  -0.1971900761127472  0.14263589680194855  0           1         0.014927580847058508  56.3923080253249     18.346247823616633  31.160794026387066  251.67007  66.99009104325506  -0.3710511028766632  0.16289241615423433  -1.074652075767517   3105.4434  37.53585075822972   28.395507372171934  7.307592726651242    25.004977523869556\n",
       "4        8.955413818359375  0.039958495646715164  -0.3540340065956116  -0.7935190200805664  -3.4745467  0.0      18.97555365815385   -0.47136881947517395  28.403969  12.16987   4.6053805  -0.5525906682014465  5.749734     5.2037826    5.327181     6.9090657    5.164723     5.177592     0.55535775    0.8556554   -0.4314103126525879  2.0520527  -0.0019110736205013878  0.025759841746698712  0.0321629862688668     0.01935304722385955    -1.0620990991592407  -0.1971900761127472  0.14263589680194855  0           1         0.016028366649206958  53.645386232503974   11.569017763930807  29.677705586045175  248.3476   62.38938888071152  -0.3710511028766632  0.8556553660362554   -1.074652075767517   5715.7837  23.607574643160373  18.55643434672537   13.732882885385859   10.732605333652652\n",
       "...      ...                ...                   ...                  ...                  ...         ...      ...                 ...                   ...        ...        ...        ...                  ...          ...          ...          ...          ...          ...          ...           ...         ...                  ...        ...                     ...                   ...                    ...                    ...                  ...                  ...                  ...         ...       ...                   ...                  ...                 ...                 ...        ...                ...                  ...                  ...                  ...        ...                 ...                 ...                  ...\n",
       "777,893  9.305075645446777  -0.2378266155719757   -1.3668785095214844  0.2941742241382599   68.30899    0.0      19.214343772259525  -0.8195078372955322   36.710266  145.96066  4.7050757  -1.1140830516815186  7.307274     6.40013      6.6385884    8.992604     6.2399406    6.3021703    0.18078534    0.64411825  -1.0573344230651855  1.4815284  0.1402531564065042      -0.24438331644424915  0.20945752796890305    0.0618077362511744     -0.6839846968650818  -0.5307199358940125  -0.5255457162857056  9999        1         0.014359233096197547  -46.263288872871186  31.25122469998749   41.62957869507247   134.81041  69.64160225693452  -1.154412031173706   0.6441780986755028   -0.8922590613365173  4907.575   -69.36592582887137  30.308688121042522  -103.92124966196677  -4.34566729325371\n",
       "777,894  9.305075645446777  -0.2378266155719757   -1.3668785095214844  0.2941742241382599   64.15274    0.0      18.998051735647778  -0.8195078372955322   32.72055   152.1523   4.7318344  -1.1140830516815186  8.137574     6.9666467    7.28515      10.156084    6.7273517    6.8209777    0.1101942     0.5803311   -1.0573344230651855  1.4815284  0.15604191667999345     -0.25770436657431517  0.2455860662785979     0.13509276251805327    -0.6839846968650818  -0.5307199358940125  -0.5255457162857056  9999        1         0.015863158108220494  -46.893945563185916  24.774282304801467  34.07531674158135   122.46201  63.03914978202147  -1.154412031173706   0.5809858794598144   -0.8922590613365173  4517.1157  -70.42304683305463  40.39157431392781   -104.34108183553984  1.1646761013697269\n",
       "777,895  9.305075645446777  -0.2378266155719757   -1.3668785095214844  0.2941742241382599   64.553856   0.0      19.136585227377964  -0.8195078372955322   38.1084    150.3573   5.0051317  -1.1140830516815186  11.687777    9.561444     10.286666    14.835116    9.038309     9.212344     0.01173456    0.2918338   -1.0573344230651855  1.4815284  0.10854000841095132     -0.2552307258986968   0.23343397968880047    0.033610065010743574   -0.6839846968650818  -0.5307199358940125  -0.5255457162857056  9999        1         0.014882742048726468  -45.950374094667424  26.14875644621126   41.46757349674745   135.34921  67.19191911853173  -1.154412031173706   0.29268865429898494  -0.8922590613365173  3587.3013  -79.37912316974491  36.054218583297924  -106.06710146305544  -21.785889861287956\n",
       "777,896  9.305075645446777  -0.2378266155719757   -1.3668785095214844  0.2941742241382599   67.58964    0.0      19.164583985605574  -0.8195078372955322   37.454887  146.57945  4.719912   -1.1140830516815186  7.7530823    6.7070622    6.98758      9.622709     6.504435     6.5841293    0.13804834    0.60916585  -1.0573344230651855  1.4815284  0.11362160891384586     -0.21521882707157206  0.18725168093315867    0.040668411367120044   -0.6839846968650818  -0.5307199358940125  -0.5255457162857056  9999        1         0.01469207724009094   -45.09726936486872   29.75937716571354   41.39214351793054   136.22177  68.0638948229359   -1.154412031173706   0.6094272410447537   -0.8922590613365173  4691.625   -82.54608796131066  40.02414929621956   -98.79845550203129   -21.096948170343808\n",
       "777,897  9.305075645446777  -0.2378266155719757   -1.3668785095214844  0.2941742241382599   68.39269    0.0      19.149094091365043  -0.8195078372955322   34.82308   146.56319  5.155351   -1.1140830516815186  14.010173    11.338973    12.46287     17.778406    10.610271    10.830129    0.0027105433  0.14618951  -1.0573344230651855  1.4815284  0.15470874142512098     -0.26332790145342727  0.23222652440979583    0.09231669852267504    -0.6839846968650818  -0.5307199358940125  -0.5255457162857056  9999        1         0.01479725580721795   -46.295893314751815  30.569219200823195  38.5912265600519    129.52943  67.58009816335068  -1.154412031173706   0.14633686178285027  -0.8922590613365173  3224.7146  -93.40100277293209  46.609126032469874  -119.92759544928897  -12.649114828742979"
      ]
     },
     "execution_count": 4,
     "metadata": {},
     "output_type": "execute_result"
    }
   ],
   "source": [
    "output = Galaxia_ananke.make_survey_from_particles(p, rho['pos'], rho['vel'], fsample=0.01, photo_sys='padova/LSST', cmd_magnames='rmag,gmag-rmag')#, simname='sim', surveyname='survey', fsample=1, ngb=64, knorm=0.596831, **kwargs):\n",
    "output"
   ]
  }
 ],
 "metadata": {
  "kernelspec": {
   "display_name": "base",
   "language": "python",
   "name": "python3"
  },
  "language_info": {
   "codemirror_mode": {
    "name": "ipython",
    "version": 3
   },
   "file_extension": ".py",
   "mimetype": "text/x-python",
   "name": "python",
   "nbconvert_exporter": "python",
   "pygments_lexer": "ipython3",
   "version": "3.10.12"
  },
  "vscode": {
   "interpreter": {
    "hash": "93aa337d3be5595eae1049f286a1f242db5cd4d40fd613efbe29fb4c796799bf"
   }
  }
 },
 "nbformat": 4,
 "nbformat_minor": 5
}
