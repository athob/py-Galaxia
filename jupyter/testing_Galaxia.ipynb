{
 "cells": [
  {
   "cell_type": "code",
   "execution_count": 1,
   "id": "f130bf6c",
   "metadata": {},
   "outputs": [],
   "source": [
    "import numpy as np\n",
    "import Galaxia"
   ]
  },
  {
   "cell_type": "code",
   "execution_count": 2,
   "id": "fa0e3b78",
   "metadata": {},
   "outputs": [],
   "source": [
    "np.random.seed(0)\n",
    "n_parts = 100000\n",
    "el_list = ['helium', 'carbon', 'nitrogen', 'oxygen', 'neon', 'magnesium', 'silicon', 'sulphur', 'calcium']\n",
    "\n",
    "p = {}\n",
    "p['pos3'] = 30*np.random.randn(n_parts, 3)  # position in kpc\n",
    "p['vel3'] = 50*np.random.randn(n_parts, 3)  # velocity in km/s\n",
    "p['mass'] = 5500 + 700*np.random.randn(n_parts)  # mass in solar masses\n",
    "p['age'] = 9.7 + 0.4*np.random.randn(n_parts)  # log age in Gyr (also needed for isochrone sampling)\n",
    "p['feh'] = -0.7 + 0.4*np.random.randn(n_parts)  # [Fe/H]\n",
    "for el in el_list:  # other abundances in the list as [X/H]\n",
    "    p[el] = -0.6 + 0.4*np.random.randn(n_parts)\n",
    "p['alpha'] = p['magnesium'] - p['feh']  # [Mg/Fe]\n",
    "\n",
    "p['parentid'] = np.arange(n_parts)  # indices of parent particles in snapshot\n",
    "p['dform'] = np.zeros(n_parts, dtype='float32')  # dummy variable for now\n",
    "\n",
    "\n",
    "rho = {'pos': np.exp(-2.9 + 1.1*np.random.randn(n_parts)), 'vel': np.exp(-4.4 + 1.1*np.random.randn(n_parts))}"
   ]
  },
  {
   "cell_type": "code",
   "execution_count": 3,
   "id": "1c60e7b4",
   "metadata": {},
   "outputs": [
    {
     "name": "stdout",
     "output_type": "stream",
     "text": [
      "/home/altair/miniconda3/.cache/Galaxia/bin/galaxia -r --hdim=6 --nfile=sim /home/altair/Documents/repos/py-Galaxia/jupyter/survey_params\n",
      "CODEDATAPATH=/home/altair/miniconda3/.cache/Galaxia/GalaxiaData/\n",
      "Reading Parameter file-             /home/altair/Documents/repos/py-Galaxia/jupyter/survey_params\n",
      "--------------------------------------------------------\n",
      "outputFile               survey                  \n",
      "outputDir                /home/altair/Documents/repos/py-Galaxia/jupyter\n",
      "photoCateg               py_custom               \n",
      "photoSys                 Test                    \n",
      "magcolorNames            F814W,F555W-F814W       \n",
      "appMagLimits[0]          -1000                   \n",
      "appMagLimits[1]          1000                    \n",
      "absMagLimits[0]          -7.0                    \n",
      "absMagLimits[1]          -2.5                    \n",
      "colorLimits[0]           -1000                   \n",
      "colorLimits[1]           1000                    \n",
      "geometryOption           0                       \n",
      "surveyArea               207.455                 \n",
      "fSample                  1                       \n",
      "popID                    10                      \n",
      "warpFlareOn              0                       \n",
      "longitude                76.273                  \n",
      "latitude                 13.4725                 \n",
      "starType                 0                       \n",
      "photoError               0                       \n",
      "seed                     17052                   \n",
      "r_max                    500                     \n",
      "r_min                    0                       \n",
      "nres                     64                      \n",
      "nstart                   0                       \n",
      "rSun[0]                  0.0                     \n",
      "rSun[1]                  0.0                     \n",
      "rSun[2]                  0.0                     \n",
      "vSun[0]                  0.0                     \n",
      "vSun[1]                  0.0                     \n",
      "vSun[2]                  0.0                     \n",
      "--------------------------------------------------------\n",
      "Reading Halo Sat File=/home/altair/miniconda3/.cache/Galaxia/GalaxiaData/nbody1/filenames/sim.txt\n",
      "Halo 1 Sat 0 fname nbody1/sim/sim.ebf 0\n",
      "nbody1/sim/sim.ebf 0\n",
      "No of Satellites   =1\n",
      "Generating catalog. Max allowed stars is 18446744073709551615\n",
      "Source numbering will start at 0\n",
      "Writing to /home/altair/Documents/repos/py-Galaxia/jupyter/survey.sim.ebf\n",
      "Using geometry:                     All Sky\n",
      "setting center to 0 0 0 0 0 0\n",
      "Reading Isochrones from dir-        /home/altair/miniconda3/.cache/Galaxia/GalaxiaData/Isochrones/py_custom/Test\n"
     ]
    },
    {
     "name": "stderr",
     "output_type": "stream",
     "text": [
      "nbody1/sim/\n",
      "\n",
      "\t1\t1\n",
      "\n",
      "path nbody1/sim/ sats 1 x[0] 1\n"
     ]
    },
    {
     "name": "stdout",
     "output_type": "stream",
     "text": [
      "Isochrone Grid Size:                (Age bins=177,Feh bins=34,Alpha bins=1)\n",
      "Time Isochrone Reading              33.2021     \n",
      "------------------------------\n",
      "nbody1/sim/sim.ebf  Sat No=0\n",
      "Particles=100000\n",
      "Satellite Info\n",
      "Particles=100000 Mass=5.49989e+08 0.379706\n",
      "Total Stars=804566 accepted=8122 rejected=796444\n",
      "-----------Done---------------\n",
      "Total stars written                 8122                    \n",
      "30\n",
      "File written-                       /home/altair/Documents/repos/py-Galaxia/jupyter/survey.sim.ebf\n",
      "Calculating magnitudes in Test system................\n",
      "initializing isochrone data\n",
      "interpolating on isochrone tables\n",
      "Appending spherical coordinates................\n",
      "Total Time=                         34.0697     \n",
      "/home/altair/miniconda3/.cache/Galaxia/bin/galaxia -a --pcat=padova --psys=WFIRST /home/altair/Documents/repos/py-Galaxia/jupyter/survey.sim.ebf\n",
      "CODEDATAPATH=/home/altair/miniconda3/.cache/Galaxia/GalaxiaData/\n",
      "Appending magnitudes in WFIRST system................\n",
      "Reading Isochrones from dir-        /home/altair/miniconda3/.cache/Galaxia/GalaxiaData/Isochrones/padova/WFIRST\n",
      "Isochrone Grid Size:                (Age bins=71,Feh bins=34,Alpha bins=1)\n",
      "Time Isochrone Reading              7.82089     \n",
      "initializing isochrone data\n",
      "interpolating on isochrone tables\n",
      "Skipping /teff /lum /grav\n",
      "Skipping /mact /mtip\n",
      "Total Time=                         7.8661      \n",
      "Exported the following quantities to /home/altair/Documents/repos/py-Galaxia/jupyter/survey.sim.h5\n",
      "['age', 'alpha', 'dmod', 'feh', 'grav', 'lum', 'mact', 'mtip', 'parentid', 'partid', 'px', 'py', 'pz', 'rad', 'smass', 'teff', 'test_f110w', 'test_f160w', 'test_f184', 'test_f475w', 'test_f555w', 'test_f606w', 'test_f814w', 'test_h158', 'test_j129', 'test_w149', 'test_y106', 'test_z087', 'wfirst_f184', 'wfirst_h158', 'wfirst_j129', 'wfirst_r062', 'wfirst_w149', 'wfirst_y106', 'wfirst_z087']\n"
     ]
    },
    {
     "data": {
      "text/plain": [
       "#      age                alpha                 dmod                feh                   grav         lum        mact        mtip       parentid    partid    px                   py                   pz                   rad                 smass               teff       test_f110w    test_f160w    test_f184    test_f475w    test_f555w    test_f606w    test_f814w    test_h158    test_j129    test_w149    test_y106    test_z087    wfirst_f184    wfirst_h158    wfirst_j129    wfirst_r062    wfirst_w149    wfirst_y106    wfirst_z087\n",
       "0      9.29606819152832   -1.0583834648132324   18.650955582384533  0.2335890531539917    0.07195      3.544025   1.8141      1.7540535  13          0         -9.069082260131836   -31.456588745117188  -42.60053634643555   53.726817563712515  1.819479836477816   3.491825   -4.85225      -5.4455       -5.6155      1.75325       0.96975       0.158         -2.76875      -5.4775      -5.0342503   -5.15125     -3.816       -1.28425     -1.7927825     -1.6275218     -1.221087      0.3478261      -1.2631739     -0.7856522     -0.46613044\n",
       "1      9.381908416748047  0.1484881341457367    18.63926765060648   -0.3162284791469574   -0.19086668  3.7091334  1.2873      1.4742539  21          0         -51.78847885131836   5.322784423828125    -12.053427696228027  53.438410296192316  1.5072298911412556  3.5046668  -5.265333     -5.8433332    -5.964333    0.21733333    -0.38266668   -0.94366664   -3.819        -5.8683333   -5.396333    -5.5463333   -4.5533333   -2.4523332   -2.174838      -2.0288382     -1.6201434     -0.14767045    -1.6651435     -1.2074488     -0.9147543\n",
       "2      9.34531021118164   0.832533597946167     17.636170918886197  -1.335365891456604    -0.13837273  3.8030818  0.68183637  1.3690659  57          0         9.561829566955566    25.704917907714844   -19.5307674407959    33.669307479309964  1.3934870851772212  3.6102455  -5.4138184    -5.6086364    -5.633091    -2.9713638    -3.8200002    -4.221182     -4.9231815    -5.644909    -5.482091    -5.480364    -5.1480002   -4.6163635   0.36477458     0.39706966     0.53225        1.101705       0.54625        0.69807786     0.790668\n",
       "3      9.30422592163086   0.09471528977155685   18.00513277909069   -0.6339190602302551   -0.23221111  3.7091668  0.8405778   1.490984   62          0         -33.131500244140625  1.5649523735046387   -22.1868896484375    39.90493022961914   1.5296106330856571  3.5406     -5.160778     -5.5403337    -5.7826667   -1.8925556    -2.7874446    -3.314222     -4.326222     -5.6422224   -5.2705555   -5.378778    -4.7082224   -3.8385556   30.131         29.345         28.724         26.342         29.221         28.17          27.415\n",
       "4      9.307413101196289  1.1965082883834839    18.92382109445233   -1.168055534362793    0.8905145    3.188529   1.4392      1.4195576  63          0         46.29043960571289    -38.78570556640625   8.011526107788086    60.92060657733046   1.4492656602587302  3.632739   -3.7652726    -4.049845     -3.9722273   -1.9627545    -2.494091     -2.7889183    -3.4113183    -4.0349092   -3.8123362   -3.854591    -3.5647      -3.1226819   -5.44378       -5.2702365     -4.7791495     -3.014029      -4.854693      -4.304448      -3.945975\n",
       "...    ...                ...                   ...                 ...                   ...          ...        ...         ...        ...         ...       ...                  ...                  ...                  ...                 ...                 ...        ...           ...           ...          ...           ...           ...           ...           ...          ...          ...          ...          ...          ...            ...            ...            ...            ...            ...            ...\n",
       "8,117  9.226640701293945  -0.8601855635643005   16.85956385592592   -0.06986372172832489  1.1194568    2.9356005  1.8847098   1.7463582  99914       1         22.500396305247417   -1.8118583122867087  -6.69718583831425    23.545763155818733  1.8847207294221444  3.5974343  -3.2085714    -3.5638592    -3.583751    -0.7267456    -1.4479343    -1.8473306    -2.7155902    -3.5729585   -3.2777696   -3.355364    -2.9224818   -2.3153117   -1.3335742     -1.2158263     -0.8715828     0.41090414     -0.89533067    -0.510835      -0.26533934\n",
       "8,118  9.226640701293945  -0.8601855635643005   16.79426708551151   -0.06986372172832489  0.05136667   3.626778   1.7116667   1.7463582  99914       1         20.613221629646155   -2.192797841829401   -9.60887099331067    22.84827499165158   1.8860129516692798  3.5136445  -5.0663333    -5.5691113    -5.7261114   0.10044444    -0.54477775   -0.9723334    -3.7922223    -5.5993333   -5.186333    -5.3205557   -4.435       -2.4846666   -1.3438363     -1.2259617     -0.8813382     0.40190893     -0.90521276    -0.52046365    -0.27471465\n",
       "8,119  8.601263046264648  -0.12849843502044678  18.452430964240857  -0.5679426789283752   1.5294559    2.9408274  2.868053    2.7122035  99936       0         47.26654052734375    -12.800206184387207  -2.49775767326355    49.03274339846997   2.868042236264981   3.6556869  -3.106194     -3.31715      -3.219312    -1.572737     -2.0503254    -2.3037522    -2.8286054    -3.3027825   -3.1438262   -3.1569881   -2.9497674   -2.5918112   -4.7560167     -4.595921      -4.1567774     -2.5781548     -4.2123013     -3.717586      -3.3974423\n",
       "8,120  9.226519584655762  -0.4268369972705841   18.918557813753825  -0.8364993929862976   1.2072558    2.9365728  1.596       1.5502428  99943       0         52.392738342285156   30.58413314819336    -3.6033859252929688  60.77312417143104   1.5987884033810713  3.6376734  -3.1253338    -3.3986382    -3.320879    -1.3917621    -1.9060665    -2.190839     -2.7870295    -3.3848152   -3.1706884   -3.208752    -2.9329157   -2.5134342   -1.6391578     -1.5467517     -1.2407517     -0.10634572    -1.2563457     -0.92475176    -0.7153457\n",
       "8,121  9.226519584655762  -0.4268369972705841   18.836296691708355  -0.8364993929862976   0.4586377    3.462087   1.523313    1.5502428  99943       1         51.946756563840616   26.32020097481839    -5.71512196360281    58.513939500913835  1.5995734171694196  3.5869803  -4.514852     -4.934623     -4.941508    -1.9143443    -2.665        -3.1117704    -3.9893115    -4.932738    -4.584852    -4.6907377   -4.2130823   -3.5844262   -1.6444457     -1.5524457     -1.2464457     -0.11275141    -1.2621399     -0.9304457     -0.7214457"
      ]
     },
     "execution_count": 3,
     "metadata": {},
     "output_type": "execute_result"
    }
   ],
   "source": [
    "output = Galaxia.make_survey_from_particles(p, rho['pos'], rho['vel'])#, simname='sim', surveyname='survey', fsample=1, ngb=64, knorm=0.596831, **kwargs):\n",
    "output"
   ]
  }
 ],
 "metadata": {
  "kernelspec": {
   "display_name": "base",
   "language": "python",
   "name": "python3"
  },
  "language_info": {
   "codemirror_mode": {
    "name": "ipython",
    "version": 3
   },
   "file_extension": ".py",
   "mimetype": "text/x-python",
   "name": "python",
   "nbconvert_exporter": "python",
   "pygments_lexer": "ipython3",
   "version": "3.10.8"
  },
  "vscode": {
   "interpreter": {
    "hash": "93aa337d3be5595eae1049f286a1f242db5cd4d40fd613efbe29fb4c796799bf"
   }
  }
 },
 "nbformat": 4,
 "nbformat_minor": 5
}
