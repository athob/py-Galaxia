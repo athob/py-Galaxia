{
 "cells": [
  {
   "cell_type": "markdown",
   "id": "b88f245d",
   "metadata": {},
   "source": [
    "# Testing Notebook"
   ]
  },
  {
   "cell_type": "code",
   "execution_count": 1,
   "id": "f130bf6c",
   "metadata": {},
   "outputs": [
    {
     "data": {
      "text/plain": [
       "'0.4.0'"
      ]
     },
     "execution_count": 1,
     "metadata": {},
     "output_type": "execute_result"
    }
   ],
   "source": [
    "import numpy as np\n",
    "import Galaxia_ananke\n",
    "Galaxia_ananke.__version__"
   ]
  },
  {
   "cell_type": "code",
   "execution_count": 2,
   "id": "fa0e3b78",
   "metadata": {},
   "outputs": [],
   "source": [
    "np.random.seed(0)\n",
    "n_parts = 10000\n",
    "\n",
    "p = Galaxia_ananke.make_dummy_particles_input(n_parts)\n",
    "rho_pos, rho_vel = Galaxia_ananke.make_dummy_densities_input(n_parts)"
   ]
  },
  {
   "attachments": {},
   "cell_type": "markdown",
   "id": "44249eee",
   "metadata": {},
   "source": [
    "Using default photometric system"
   ]
  },
  {
   "cell_type": "code",
   "execution_count": 3,
   "id": "1c60e7b4",
   "metadata": {},
   "outputs": [
    {
     "name": "stdout",
     "output_type": "stream",
     "text": [
      "Executing JOB 1/1 = /home/athob/miniconda3/envs/main/.cache/Galaxia_ananke/bin/galaxia -r --hdim=6 --nfile=sim --ngen=0 /home/athob/Software/repos/py-ananke/py-Galaxia-ananke/jupyter/survey_params\n",
      "JOB 1/1 | CODEDATAPATH=/home/athob/miniconda3/envs/main/.cache/Galaxia_ananke/GalaxiaData/\n",
      "JOB 1/1 | Reading Parameter file-             /home/athob/Software/repos/py-ananke/py-Galaxia-ananke/jupyter/survey_params\n",
      "JOB 1/1 | --------------------------------------------------------\n",
      "JOB 1/1 | outputFile               survey                  \n",
      "JOB 1/1 | outputDir                /home/athob/Software/repos/py-ananke/py-Galaxia-ananke/jupyter\n",
      "JOB 1/1 | photoCateg               padova                  \n",
      "JOB 1/1 | photoSys                 GAIA__DR2               \n",
      "JOB 1/1 | magcolorNames            G,Gbp-Grp               \n",
      "JOB 1/1 | appMagLimits[0]          -1000                   \n",
      "JOB 1/1 | appMagLimits[1]          1000                    \n",
      "JOB 1/1 | absMagLimits[0]          -1000                   \n",
      "JOB 1/1 | absMagLimits[1]          20                      \n",
      "JOB 1/1 | colorLimits[0]           -1000                   \n",
      "JOB 1/1 | colorLimits[1]           1000                    \n",
      "JOB 1/1 | geometryOption           0                       \n",
      "JOB 1/1 | surveyArea               207.455                 \n",
      "JOB 1/1 | fSample                  0.01                    \n",
      "JOB 1/1 | popID                    10                      \n",
      "JOB 1/1 | warpFlareOn              0                       \n",
      "JOB 1/1 | longitude                76.273                  \n",
      "JOB 1/1 | latitude                 13.4725                 \n",
      "JOB 1/1 | starType                 0                       \n",
      "JOB 1/1 | photoError               0                       \n",
      "JOB 1/1 | seed                     17052                   \n",
      "JOB 1/1 | r_max                    500                     \n",
      "JOB 1/1 | r_min                    0                       \n",
      "JOB 1/1 | nres                     64                      \n",
      "JOB 1/1 | nstart                   0                       \n",
      "JOB 1/1 | rSun[0]                  -8.121973366106948      \n",
      "JOB 1/1 | rSun[1]                  -1.4729444519452402e-11 \n",
      "JOB 1/1 | rSun[2]                  0.020800000030482345    \n",
      "JOB 1/1 | vSun[0]                  12.9                    \n",
      "JOB 1/1 | vSun[1]                  245.6                   \n",
      "JOB 1/1 | vSun[2]                  7.78                    \n",
      "JOB 1/1 | --------------------------------------------------------\n",
      "JOB 1/1 | Reading Halo Sat File=/home/athob/miniconda3/envs/main/.cache/Galaxia_ananke/GalaxiaData/nbody1/filenames/sim.txt\n",
      "JOB 1/1 | nbody1/sim/\n",
      "JOB 1/1 | \n",
      "JOB 1/1 | \t1\t1\n",
      "JOB 1/1 | \n",
      "JOB 1/1 | path nbody1/sim/ sats 1 x[0] 1\n",
      "JOB 1/1 | Halo 1 Sat 0 fname nbody1/sim/sim.ebf 0\n",
      "JOB 1/1 | nbody1/sim/sim.ebf 0\n",
      "JOB 1/1 | No of Satellites   =1\n",
      "JOB 1/1 | Generating catalog. Max allowed stars is 18446744073709551615\n",
      "JOB 1/1 | Source numbering will start at 0\n",
      "JOB 1/1 | Writing to /home/athob/Software/repos/py-ananke/py-Galaxia-ananke/jupyter/survey.sim.0.ebf\n",
      "JOB 1/1 | Using geometry:                     All Sky\n",
      "JOB 1/1 | setting center to -8.12197 -1.47294e-11 0.0208 12.9 245.6 7.78\n",
      "JOB 1/1 | Reading Isochrones from dir-        /home/athob/miniconda3/envs/main/.cache/Galaxia_ananke/GalaxiaData/Isochrones/padova/GAIA__DR2\n",
      "JOB 1/1 | Isochrone Grid Size:                (Age bins=71,Feh bins=34,Alpha bins=1)\n",
      "JOB 1/1 | Time Isochrone Reading              1.74139     \n",
      "JOB 1/1 | ------------------------------\n",
      "JOB 1/1 | nbody1/sim/sim.ebf  Sat No=0\n",
      "JOB 1/1 | Particles=10000\n",
      "JOB 1/1 | Satellite Info\n",
      "JOB 1/1 | Particles=10000 Mass=5.49088e+07 0.379706\n",
      "JOB 1/1 | Total Stars=780476 accepted=777213 rejected=3263\n",
      "JOB 1/1 | -----------Done---------------\n",
      "JOB 1/1 | Total stars written                 777213                  \n",
      "JOB 1/1 | 31\n",
      "JOB 1/1 | File written-                       /home/athob/Software/repos/py-ananke/py-Galaxia-ananke/jupyter/survey.sim.0.ebf\n",
      "JOB 1/1 | Calculating magnitudes in GAIA__DR2 system................\n",
      "JOB 1/1 | initializing isochrone data\n",
      "JOB 1/1 | interpolating on isochrone tables\n",
      "JOB 1/1 | Appending spherical coordinates................\n",
      "JOB 1/1 | Total Time=                         2.76421     \n",
      "Exported the following quantities from /home/athob/Software/repos/py-ananke/py-Galaxia-ananke/jupyter/survey.sim.0.ebf to /home/athob/Software/repos/py-ananke/py-Galaxia-ananke/jupyter/survey.sim.0.h5 for partition 0\n",
      "['age', 'alpha', 'calcium', 'carbon', 'dec', 'dform', 'dmod', 'feh', 'gaia__dr2_g', 'gaia__dr2_gbp', 'gaia__dr2_grp', 'glat', 'glon', 'grav', 'helium', 'lum', 'mact', 'magnesium', 'mtip', 'neon', 'nitrogen', 'oxygen', 'parentid', 'partid', 'partitionid', 'px', 'py', 'pz', 'ra', 'rad', 'satid', 'silicon', 'smass', 'sulphur', 'teff', 'vx', 'vy', 'vz']\n",
      "Running convert_cartesian_to_galactic post-processing pipeline\n",
      "Exported the following quantities to /home/athob/Software/repos/py-ananke/py-Galaxia-ananke/jupyter/survey.sim.0.h5\n",
      "['mub', 'mul', 'vr']\n",
      "Overwritten the following quantities to /home/athob/Software/repos/py-ananke/py-Galaxia-ananke/jupyter/survey.sim.0.h5\n",
      "('glon', 'glat', 'rad')\n",
      "Running convert_galactic_to_icrs post-processing pipeline\n",
      "Exported the following quantities to /home/athob/Software/repos/py-ananke/py-Galaxia-ananke/jupyter/survey.sim.0.h5\n",
      "['mudec', 'mura']\n",
      "Overwritten the following quantities to /home/athob/Software/repos/py-ananke/py-Galaxia-ananke/jupyter/survey.sim.0.h5\n",
      "('ra', 'dec')\n",
      "Running last_conversions post-processing pipeline\n",
      "Exported the following quantities to /home/athob/Software/repos/py-ananke/py-Galaxia-ananke/jupyter/survey.sim.0.h5\n",
      "['pi']\n",
      "Overwritten the following quantities to /home/athob/Software/repos/py-ananke/py-Galaxia-ananke/jupyter/survey.sim.0.h5\n",
      "('teff', 'lum')\n"
     ]
    },
    {
     "data": {
      "text/html": [
       "<style>.vaex-description pre {\n",
       "          max-width : 450px;\n",
       "          white-space : nowrap;\n",
       "          overflow : hidden;\n",
       "          text-overflow: ellipsis;\n",
       "        }\n",
       "\n",
       "        .vex-description pre:hover {\n",
       "          max-width : initial;\n",
       "          white-space: pre;\n",
       "        }</style>"
      ],
      "text/plain": [
       "<IPython.core.display.HTML object>"
      ]
     },
     "metadata": {},
     "output_type": "display_data"
    },
    {
     "data": {
      "text/html": [
       "<table>\n",
       "<thead>\n",
       "<tr><th>#                                  </th><th>age              </th><th>alpha               </th><th>calcium            </th><th>carbon             </th><th>dec       </th><th>dform  </th><th>dmod              </th><th>feh                 </th><th>gaia__dr2_g  </th><th>gaia__dr2_gbp  </th><th>gaia__dr2_grp  </th><th>glat     </th><th>glon      </th><th>grav     </th><th>helium             </th><th>lum          </th><th>mact      </th><th>magnesium          </th><th>mtip     </th><th>mub                </th><th>mudec              </th><th>mul                </th><th>mura                 </th><th>neon               </th><th>nitrogen           </th><th>oxygen             </th><th>parentid  </th><th>partid  </th><th>partitionid  </th><th>pi                  </th><th>px                 </th><th>py                </th><th>pz                </th><th>ra       </th><th>rad              </th><th>satid  </th><th>silicon            </th><th>smass              </th><th>sulphur            </th><th>teff     </th><th>vr                 </th><th>vx                </th><th>vy                 </th><th>vz                 </th></tr>\n",
       "</thead>\n",
       "<tbody>\n",
       "<tr><td><i style='opacity: 0.6'>0</i>      </td><td>8.955413818359375</td><td>0.039958495646715164</td><td>-0.3540340065956116</td><td>-0.7935190200805664</td><td>-5.998793 </td><td>0.0    </td><td>19.18746074617149 </td><td>-0.47136881947517395</td><td>10.04198     </td><td>11.126908      </td><td>9.054153       </td><td>25.249922</td><td>11.1257105</td><td>4.9589286</td><td>-0.5525906682014465</td><td>0.013361397  </td><td>0.32670912</td><td>-0.4314103126525879</td><td>2.025267 </td><td>0.09922013320288019</td><td>-0.5235132414148331</td><td>-0.6965451669594975</td><td>-0.47005711816658324 </td><td>-1.0620990991592407</td><td>-0.1971900761127472</td><td>0.14263589680194855</td><td>0         </td><td>0       </td><td>0            </td><td>0.014538106659870565</td><td>61.0435431903257   </td><td>12.004715919509358</td><td>29.34133874813846 </td><td>250.46307</td><td>68.78474779389899</td><td>0      </td><td>-0.3710511028766632</td><td>0.32651486763693804</td><td>-1.074652075767517 </td><td>3509.403 </td><td>-27.746013324103355</td><td>5.661607360839843 </td><td>-230.36080513000488</td><td>17.426230163574218 </td></tr>\n",
       "<tr><td><i style='opacity: 0.6'>1</i>      </td><td>8.955413818359375</td><td>0.039958495646715164</td><td>-0.3540340065956116</td><td>-0.7935190200805664</td><td>-6.078383 </td><td>0.0    </td><td>19.17772626957188 </td><td>-0.47136881947517395</td><td>10.270541    </td><td>11.386944      </td><td>9.270209       </td><td>24.917427</td><td>11.265445 </td><td>4.9820805</td><td>-0.5525906682014465</td><td>0.011113583  </td><td>0.30133697</td><td>-0.4314103126525879</td><td>2.025267 </td><td>0.09415126050247345</td><td>-0.5258483074939286</td><td>-0.6950245078461663</td><td>-0.46411971122611523 </td><td>-1.0620990991592407</td><td>-0.1971900761127472</td><td>0.14263589680194855</td><td>0         </td><td>1       </td><td>0            </td><td>0.014603425723734725</td><td>60.90639734491615  </td><td>12.13210424766943 </td><td>28.850194949269017</td><td>250.81175</td><td>68.47708331715039</td><td>0      </td><td>-0.3710511028766632</td><td>0.30107596208136506</td><td>-1.074652075767517 </td><td>3471.3394</td><td>-28.69150289866353 </td><td>5.927043392012581 </td><td>-228.8661687232393 </td><td>15.629805070899277 </td></tr>\n",
       "<tr><td><i style='opacity: 0.6'>2</i>      </td><td>8.955413818359375</td><td>0.039958495646715164</td><td>-0.3540340065956116</td><td>-0.7935190200805664</td><td>-5.138301 </td><td>0.0    </td><td>19.185273899511152</td><td>-0.47136881947517395</td><td>11.133261    </td><td>12.395295      </td><td>10.079496      </td><td>25.921877</td><td>11.775691 </td><td>5.056068 </td><td>-0.5525906682014465</td><td>0.0056239846 </td><td>0.21602225</td><td>-0.4314103126525879</td><td>2.025267 </td><td>0.10530709674812792</td><td>-0.5240214911926598</td><td>-0.6986598635487486</td><td>-0.4739374229107335  </td><td>-1.0620990991592407</td><td>-0.1971900761127472</td><td>0.14263589680194855</td><td>0         </td><td>1       </td><td>0            </td><td>0.01455275507266425 </td><td>60.501423571082206 </td><td>12.612619399096845</td><td>30.03865872017884 </td><td>250.22798</td><td>68.71551091232134</td><td>0      </td><td>-0.3710511028766632</td><td>0.21582281895266564</td><td>-1.074652075767517 </td><td>3318.9275</td><td>-29.111106621620536</td><td>6.134445883760534 </td><td>-231.19801069173772</td><td>18.12615024659716  </td></tr>\n",
       "<tr><td><i style='opacity: 0.6'>3</i>      </td><td>8.955413818359375</td><td>0.039958495646715164</td><td>-0.3540340065956116</td><td>-0.7935190200805664</td><td>-5.5247912</td><td>0.0    </td><td>19.207804068460238</td><td>-0.47136881947517395</td><td>11.936295    </td><td>13.407313      </td><td>10.819105      </td><td>25.211168</td><td>11.783731 </td><td>5.112755 </td><td>-0.5525906682014465</td><td>0.0030702134 </td><td>0.16282208</td><td>-0.4314103126525879</td><td>2.025267 </td><td>0.10019201694127879</td><td>-0.5222007225113146</td><td>-0.6925051358329714</td><td>-0.46573404583476086 </td><td>-1.0620990991592407</td><td>-0.1971900761127472</td><td>0.14263589680194855</td><td>0         </td><td>1       </td><td>0            </td><td>0.014402543191843609</td><td>61.494482012630804 </td><td>12.828645228710391</td><td>29.57503067357209 </td><td>250.82704</td><td>69.432181988964  </td><td>0      </td><td>-0.3710511028766632</td><td>0.16282207913433552</td><td>-1.074652075767517 </td><td>3160.5525</td><td>-29.19541659074254 </td><td>6.939285760018809 </td><td>-231.39132574926623</td><td>17.400082231397555 </td></tr>\n",
       "<tr><td><i style='opacity: 0.6'>4</i>      </td><td>8.955413818359375</td><td>0.039958495646715164</td><td>-0.3540340065956116</td><td>-0.7935190200805664</td><td>-6.048622 </td><td>0.0    </td><td>19.190335038839063</td><td>-0.47136881947517395</td><td>5.2810493    </td><td>5.585426       </td><td>4.808673       </td><td>25.251888</td><td>11.057932 </td><td>4.6080256</td><td>-0.5525906682014465</td><td>0.5804881    </td><td>0.8526108 </td><td>-0.4314103126525879</td><td>2.025267 </td><td>0.09358150080456794</td><td>-0.5262251517519901</td><td>-0.696352107848041 </td><td>-0.46556507929616836 </td><td>-1.0620990991592407</td><td>-0.1971900761127472</td><td>0.14263589680194855</td><td>0         </td><td>1       </td><td>0            </td><td>0.014518875869908207</td><td>61.13758569650298  </td><td>11.948107439766392</td><td>29.382339057002177</td><td>250.42711</td><td>68.87585574531965</td><td>0      </td><td>-0.3710511028766632</td><td>0.852659319186179  </td><td>-1.074652075767517 </td><td>5789.82  </td><td>-28.338640849684552</td><td>5.660935252278124 </td><td>-230.55651408402534</td><td>15.545731299267977 </td></tr>\n",
       "<tr><td>...                                </td><td>...              </td><td>...                 </td><td>...                </td><td>...                </td><td>...       </td><td>...    </td><td>...               </td><td>...                 </td><td>...          </td><td>...            </td><td>...            </td><td>...      </td><td>...       </td><td>...      </td><td>...                </td><td>...          </td><td>...       </td><td>...                </td><td>...      </td><td>...                </td><td>...                </td><td>...                </td><td>...                  </td><td>...                </td><td>...                </td><td>...                </td><td>...       </td><td>...     </td><td>...          </td><td>...                 </td><td>...                </td><td>...               </td><td>...               </td><td>...      </td><td>...              </td><td>...    </td><td>...                </td><td>...                </td><td>...                </td><td>...      </td><td>...                </td><td>...               </td><td>...                </td><td>...                </td></tr>\n",
       "<tr><td><i style='opacity: 0.6'>777,208</i></td><td>9.305075645446777</td><td>-0.2378266155719757 </td><td>-1.3668785095214844</td><td>0.2941742241382599 </td><td>70.609726 </td><td>0.0    </td><td>18.90429835182648 </td><td>-0.8195078372955322 </td><td>9.135772     </td><td>10.028752      </td><td>8.23612        </td><td>38.086277</td><td>142.0131  </td><td>4.900204 </td><td>-1.1140830516815186</td><td>0.025705868  </td><td>0.39582875</td><td>-1.0573344230651855</td><td>1.4649662</td><td>0.4776696134714912 </td><td>-1.0202423552650552</td><td>0.9016505463155541 </td><td>-0.01573124582133756 </td><td>-0.6839846968650818</td><td>-0.5307199358940125</td><td>-0.5255457162857056</td><td>9999      </td><td>1       </td><td>0            </td><td>0.01656305063838079 </td><td>-37.45327677057387 </td><td>29.24791220750344 </td><td>37.242378129556705</td><td>142.05379</td><td>60.37535124614946</td><td>0      </td><td>-1.154412031173706 </td><td>0.39641837608173713</td><td>-0.8922590613365173</td><td>3808.8813</td><td>-202.46782555379684</td><td>33.233892207917975</td><td>-353.3762531331517 </td><td>-17.28757198945173 </td></tr>\n",
       "<tr><td><i style='opacity: 0.6'>777,209</i></td><td>9.305075645446777</td><td>-0.2378266155719757 </td><td>-1.3668785095214844</td><td>0.2941742241382599 </td><td>70.28225  </td><td>0.0    </td><td>18.91792386480342 </td><td>-0.8195078372955322 </td><td>10.323336    </td><td>11.3353615     </td><td>9.368794       </td><td>39.13348 </td><td>141.71446 </td><td>5.036372 </td><td>-1.1140830516815186</td><td>0.009636581  </td><td>0.25832927</td><td>-1.0573344230651855</td><td>1.4649662</td><td>0.4879098255691032 </td><td>-1.0099062397621221</td><td>0.8858231630360968 </td><td>-0.05317958571843984 </td><td>-0.6839846968650818</td><td>-0.5307199358940125</td><td>-0.5255457162857056</td><td>9999      </td><td>1       </td><td>0            </td><td>0.01645944651584478 </td><td>-36.99121751188924 </td><td>29.198738013223   </td><td>38.344494499395495</td><td>145.10681</td><td>60.75538439505511</td><td>0      </td><td>-1.154412031173706 </td><td>0.2596557748013721 </td><td>-0.8922590613365173</td><td>3587.4312</td><td>-199.5008441412457 </td><td>33.01042908489636 </td><td>-351.08450417751993</td><td>-16.910642870195826</td></tr>\n",
       "<tr><td><i style='opacity: 0.6'>777,210</i></td><td>9.305075645446777</td><td>-0.2378266155719757 </td><td>-1.3668785095214844</td><td>0.2941742241382599 </td><td>70.28508  </td><td>0.0    </td><td>18.91439420279073 </td><td>-0.8195078372955322 </td><td>13.647504    </td><td>15.79261       </td><td>12.402233      </td><td>38.926815</td><td>141.87306 </td><td>5.2908998</td><td>-1.1140830516815186</td><td>0.00081713474</td><td>0.09815717</td><td>-1.0573344230651855</td><td>1.4649662</td><td>0.4797113727557906 </td><td>-1.012916636043808 </td><td>0.8935529538672478 </td><td>-0.050594174205700615</td><td>-0.6839846968650818</td><td>-0.5307199358940125</td><td>-0.5255457162857056</td><td>9999      </td><td>1       </td><td>0            </td><td>0.016486222598894092</td><td>-37.12006859628169 </td><td>29.134043650640045</td><td>38.112259254076235</td><td>144.39368</td><td>60.65670859418584</td><td>0      </td><td>-1.154412031173706 </td><td>0.09819833921359898</td><td>-0.8922590613365173</td><td>2852.829 </td><td>-199.00134714783925</td><td>31.328717586590024</td><td>-351.20797618811434</td><td>-17.73009741371866 </td></tr>\n",
       "<tr><td><i style='opacity: 0.6'>777,211</i></td><td>9.305075645446777</td><td>-0.2378266155719757 </td><td>-1.3668785095214844</td><td>0.2941742241382599 </td><td>70.884995 </td><td>0.0    </td><td>18.910011899124783</td><td>-0.8195078372955322 </td><td>11.560607    </td><td>12.776528      </td><td>10.526013      </td><td>38.208206</td><td>141.52422 </td><td>5.1391   </td><td>-1.1140830516815186</td><td>0.0036202532 </td><td>0.16208944</td><td>-1.0573344230651855</td><td>1.4649662</td><td>0.4834349110819159 </td><td>-1.0046972887294174</td><td>0.8809886630638227 </td><td>-0.02082614052524262 </td><td>-0.6839846968650818</td><td>-0.5307199358940125</td><td>-0.5255457162857056</td><td>9999      </td><td>1       </td><td>0            </td><td>0.016519527459170322</td><td>-37.23807160291029 </td><td>29.59481504772156 </td><td>37.441806206541   </td><td>142.94792</td><td>60.53441918793384</td><td>0      </td><td>-1.154412031173706 </td><td>0.16195700902109328</td><td>-0.8922590613365173</td><td>3351.0732</td><td>-202.22977701528336</td><td>34.283289127031146</td><td>-350.1731370166513 </td><td>-16.075861586946676</td></tr>\n",
       "<tr><td><i style='opacity: 0.6'>777,212</i></td><td>9.305075645446777</td><td>-0.2378266155719757 </td><td>-1.3668785095214844</td><td>0.2941742241382599 </td><td>70.167274 </td><td>0.0    </td><td>18.91243192533818 </td><td>-0.8195078372955322 </td><td>10.218345    </td><td>11.217975      </td><td>9.269393       </td><td>38.73691 </td><td>142.19281 </td><td>5.027137 </td><td>-1.1140830516815186</td><td>0.010498018  </td><td>0.26975194</td><td>-1.0573344230651855</td><td>1.4649662</td><td>0.47773830108499515</td><td>-1.0128327688415195</td><td>0.8937516478286011 </td><td>-0.034578010054049146</td><td>-0.6839846968650818</td><td>-0.5307199358940125</td><td>-0.5255457162857056</td><td>9999      </td><td>1       </td><td>0            </td><td>0.016501127307849344</td><td>-37.347907983910666</td><td>28.977515636115132</td><td>37.92136714780141 </td><td>143.53583</td><td>60.60192018058758</td><td>0      </td><td>-1.154412031173706 </td><td>0.27107347928218684</td><td>-0.8922590613365173</td><td>3605.948 </td><td>-198.13266236234543</td><td>32.56364926573916 </td><td>-350.24403425277393</td><td>-16.925382245202403</td></tr>\n",
       "</tbody>\n",
       "</table>"
      ],
      "text/plain": [
       "#        age                alpha                 calcium              carbon               dec         dform    dmod                feh                   gaia__dr2_g    gaia__dr2_gbp    gaia__dr2_grp    glat       glon        grav       helium               lum            mact        magnesium            mtip       mub                  mudec                mul                  mura                   neon                 nitrogen             oxygen               parentid    partid    partitionid    pi                    px                   py                  pz                  ra         rad                satid    silicon              smass                sulphur              teff       vr                   vx                  vy                   vz\n",
       "0        8.955413818359375  0.039958495646715164  -0.3540340065956116  -0.7935190200805664  -5.998793   0.0      19.18746074617149   -0.47136881947517395  10.04198       11.126908        9.054153         25.249922  11.1257105  4.9589286  -0.5525906682014465  0.013361397    0.32670912  -0.4314103126525879  2.025267   0.09922013320288019  -0.5235132414148331  -0.6965451669594975  -0.47005711816658324   -1.0620990991592407  -0.1971900761127472  0.14263589680194855  0           0         0              0.014538106659870565  61.0435431903257     12.004715919509358  29.34133874813846   250.46307  68.78474779389899  0        -0.3710511028766632  0.32651486763693804  -1.074652075767517   3509.403   -27.746013324103355  5.661607360839843   -230.36080513000488  17.426230163574218\n",
       "1        8.955413818359375  0.039958495646715164  -0.3540340065956116  -0.7935190200805664  -6.078383   0.0      19.17772626957188   -0.47136881947517395  10.270541      11.386944        9.270209         24.917427  11.265445   4.9820805  -0.5525906682014465  0.011113583    0.30133697  -0.4314103126525879  2.025267   0.09415126050247345  -0.5258483074939286  -0.6950245078461663  -0.46411971122611523   -1.0620990991592407  -0.1971900761127472  0.14263589680194855  0           1         0              0.014603425723734725  60.90639734491615    12.13210424766943   28.850194949269017  250.81175  68.47708331715039  0        -0.3710511028766632  0.30107596208136506  -1.074652075767517   3471.3394  -28.69150289866353   5.927043392012581   -228.8661687232393   15.629805070899277\n",
       "2        8.955413818359375  0.039958495646715164  -0.3540340065956116  -0.7935190200805664  -5.138301   0.0      19.185273899511152  -0.47136881947517395  11.133261      12.395295        10.079496        25.921877  11.775691   5.056068   -0.5525906682014465  0.0056239846   0.21602225  -0.4314103126525879  2.025267   0.10530709674812792  -0.5240214911926598  -0.6986598635487486  -0.4739374229107335    -1.0620990991592407  -0.1971900761127472  0.14263589680194855  0           1         0              0.01455275507266425   60.501423571082206   12.612619399096845  30.03865872017884   250.22798  68.71551091232134  0        -0.3710511028766632  0.21582281895266564  -1.074652075767517   3318.9275  -29.111106621620536  6.134445883760534   -231.19801069173772  18.12615024659716\n",
       "3        8.955413818359375  0.039958495646715164  -0.3540340065956116  -0.7935190200805664  -5.5247912  0.0      19.207804068460238  -0.47136881947517395  11.936295      13.407313        10.819105        25.211168  11.783731   5.112755   -0.5525906682014465  0.0030702134   0.16282208  -0.4314103126525879  2.025267   0.10019201694127879  -0.5222007225113146  -0.6925051358329714  -0.46573404583476086   -1.0620990991592407  -0.1971900761127472  0.14263589680194855  0           1         0              0.014402543191843609  61.494482012630804   12.828645228710391  29.57503067357209   250.82704  69.432181988964    0        -0.3710511028766632  0.16282207913433552  -1.074652075767517   3160.5525  -29.19541659074254   6.939285760018809   -231.39132574926623  17.400082231397555\n",
       "4        8.955413818359375  0.039958495646715164  -0.3540340065956116  -0.7935190200805664  -6.048622   0.0      19.190335038839063  -0.47136881947517395  5.2810493      5.585426         4.808673         25.251888  11.057932   4.6080256  -0.5525906682014465  0.5804881      0.8526108   -0.4314103126525879  2.025267   0.09358150080456794  -0.5262251517519901  -0.696352107848041   -0.46556507929616836   -1.0620990991592407  -0.1971900761127472  0.14263589680194855  0           1         0              0.014518875869908207  61.13758569650298    11.948107439766392  29.382339057002177  250.42711  68.87585574531965  0        -0.3710511028766632  0.852659319186179    -1.074652075767517   5789.82    -28.338640849684552  5.660935252278124   -230.55651408402534  15.545731299267977\n",
       "...      ...                ...                   ...                  ...                  ...         ...      ...                 ...                   ...            ...              ...              ...        ...         ...        ...                  ...            ...         ...                  ...        ...                  ...                  ...                  ...                    ...                  ...                  ...                  ...         ...       ...            ...                   ...                  ...                 ...                 ...        ...                ...      ...                  ...                  ...                  ...        ...                  ...                 ...                  ...\n",
       "777,208  9.305075645446777  -0.2378266155719757   -1.3668785095214844  0.2941742241382599   70.609726   0.0      18.90429835182648   -0.8195078372955322   9.135772       10.028752        8.23612          38.086277  142.0131    4.900204   -1.1140830516815186  0.025705868    0.39582875  -1.0573344230651855  1.4649662  0.4776696134714912   -1.0202423552650552  0.9016505463155541   -0.01573124582133756   -0.6839846968650818  -0.5307199358940125  -0.5255457162857056  9999        1         0              0.01656305063838079   -37.45327677057387   29.24791220750344   37.242378129556705  142.05379  60.37535124614946  0        -1.154412031173706   0.39641837608173713  -0.8922590613365173  3808.8813  -202.46782555379684  33.233892207917975  -353.3762531331517   -17.28757198945173\n",
       "777,209  9.305075645446777  -0.2378266155719757   -1.3668785095214844  0.2941742241382599   70.28225    0.0      18.91792386480342   -0.8195078372955322   10.323336      11.3353615       9.368794         39.13348   141.71446   5.036372   -1.1140830516815186  0.009636581    0.25832927  -1.0573344230651855  1.4649662  0.4879098255691032   -1.0099062397621221  0.8858231630360968   -0.05317958571843984   -0.6839846968650818  -0.5307199358940125  -0.5255457162857056  9999        1         0              0.01645944651584478   -36.99121751188924   29.198738013223     38.344494499395495  145.10681  60.75538439505511  0        -1.154412031173706   0.2596557748013721   -0.8922590613365173  3587.4312  -199.5008441412457   33.01042908489636   -351.08450417751993  -16.910642870195826\n",
       "777,210  9.305075645446777  -0.2378266155719757   -1.3668785095214844  0.2941742241382599   70.28508    0.0      18.91439420279073   -0.8195078372955322   13.647504      15.79261         12.402233        38.926815  141.87306   5.2908998  -1.1140830516815186  0.00081713474  0.09815717  -1.0573344230651855  1.4649662  0.4797113727557906   -1.012916636043808   0.8935529538672478   -0.050594174205700615  -0.6839846968650818  -0.5307199358940125  -0.5255457162857056  9999        1         0              0.016486222598894092  -37.12006859628169   29.134043650640045  38.112259254076235  144.39368  60.65670859418584  0        -1.154412031173706   0.09819833921359898  -0.8922590613365173  2852.829   -199.00134714783925  31.328717586590024  -351.20797618811434  -17.73009741371866\n",
       "777,211  9.305075645446777  -0.2378266155719757   -1.3668785095214844  0.2941742241382599   70.884995   0.0      18.910011899124783  -0.8195078372955322   11.560607      12.776528        10.526013        38.208206  141.52422   5.1391     -1.1140830516815186  0.0036202532   0.16208944  -1.0573344230651855  1.4649662  0.4834349110819159   -1.0046972887294174  0.8809886630638227   -0.02082614052524262   -0.6839846968650818  -0.5307199358940125  -0.5255457162857056  9999        1         0              0.016519527459170322  -37.23807160291029   29.59481504772156   37.441806206541     142.94792  60.53441918793384  0        -1.154412031173706   0.16195700902109328  -0.8922590613365173  3351.0732  -202.22977701528336  34.283289127031146  -350.1731370166513   -16.075861586946676\n",
       "777,212  9.305075645446777  -0.2378266155719757   -1.3668785095214844  0.2941742241382599   70.167274   0.0      18.91243192533818   -0.8195078372955322   10.218345      11.217975        9.269393         38.73691   142.19281   5.027137   -1.1140830516815186  0.010498018    0.26975194  -1.0573344230651855  1.4649662  0.47773830108499515  -1.0128327688415195  0.8937516478286011   -0.034578010054049146  -0.6839846968650818  -0.5307199358940125  -0.5255457162857056  9999        1         0              0.016501127307849344  -37.347907983910666  28.977515636115132  37.92136714780141   143.53583  60.60192018058758  0        -1.154412031173706   0.27107347928218684  -0.8922590613365173  3605.948   -198.13266236234543  32.56364926573916   -350.24403425277393  -16.925382245202403"
      ]
     },
     "execution_count": 3,
     "metadata": {},
     "output_type": "execute_result"
    }
   ],
   "source": [
    "output = Galaxia_ananke.make_survey_from_particles(p, rho_pos, rho_vel, fsample=0.01)#, simname='sim', surveyname='survey', fsample=1, ngb=64, **kwargs):\n",
    "output"
   ]
  },
  {
   "attachments": {},
   "cell_type": "markdown",
   "id": "5744efd0",
   "metadata": {},
   "source": [
    "Using LSST photometric system"
   ]
  },
  {
   "cell_type": "code",
   "execution_count": 4,
   "id": "3e04243e",
   "metadata": {},
   "outputs": [
    {
     "name": "stdout",
     "output_type": "stream",
     "text": [
      "Executing JOB 1/1 = /home/athob/miniconda3/envs/main/.cache/Galaxia_ananke/bin/galaxia -r --hdim=6 --nfile=sim --ngen=0 /home/athob/Software/repos/py-ananke/py-Galaxia-ananke/jupyter/survey_params\n",
      "JOB 1/1 | CODEDATAPATH=/home/athob/miniconda3/envs/main/.cache/Galaxia_ananke/GalaxiaData/\n",
      "JOB 1/1 | Reading Parameter file-             /home/athob/Software/repos/py-ananke/py-Galaxia-ananke/jupyter/survey_params\n",
      "JOB 1/1 | --------------------------------------------------------\n",
      "JOB 1/1 | outputFile               survey                  \n",
      "JOB 1/1 | outputDir                /home/athob/Software/repos/py-ananke/py-Galaxia-ananke/jupyter\n",
      "JOB 1/1 | photoCateg               padova                  \n",
      "JOB 1/1 | photoSys                 LSST                    \n",
      "JOB 1/1 | magcolorNames            r,g-r                   \n",
      "JOB 1/1 | appMagLimits[0]          -1000                   \n",
      "JOB 1/1 | appMagLimits[1]          1000                    \n",
      "JOB 1/1 | absMagLimits[0]          -1000                   \n",
      "JOB 1/1 | absMagLimits[1]          20                      \n",
      "JOB 1/1 | colorLimits[0]           -1000                   \n",
      "JOB 1/1 | colorLimits[1]           1000                    \n",
      "JOB 1/1 | geometryOption           0                       \n",
      "JOB 1/1 | surveyArea               207.455                 \n",
      "JOB 1/1 | fSample                  0.01                    \n",
      "JOB 1/1 | popID                    10                      \n",
      "JOB 1/1 | warpFlareOn              0                       \n",
      "JOB 1/1 | longitude                76.273                  \n",
      "JOB 1/1 | latitude                 13.4725                 \n",
      "JOB 1/1 | starType                 0                       \n",
      "JOB 1/1 | photoError               0                       \n",
      "JOB 1/1 | seed                     17052                   \n",
      "JOB 1/1 | r_max                    500                     \n",
      "JOB 1/1 | r_min                    0                       \n",
      "JOB 1/1 | nres                     64                      \n",
      "JOB 1/1 | nstart                   0                       \n",
      "JOB 1/1 | rSun[0]                  -8.121973366106948      \n",
      "JOB 1/1 | rSun[1]                  -1.4729444519452402e-11 \n",
      "JOB 1/1 | rSun[2]                  0.020800000030482345    \n",
      "JOB 1/1 | vSun[0]                  12.9                    \n",
      "JOB 1/1 | vSun[1]                  245.6                   \n",
      "JOB 1/1 | vSun[2]                  7.78                    \n",
      "JOB 1/1 | --------------------------------------------------------\n",
      "JOB 1/1 | Reading Halo Sat File=/home/athob/miniconda3/envs/main/.cache/Galaxia_ananke/GalaxiaData/nbody1/filenames/sim.txt\n",
      "JOB 1/1 | nbody1/sim/\n",
      "JOB 1/1 | \n",
      "JOB 1/1 | \t1\t1\n",
      "JOB 1/1 | \n",
      "JOB 1/1 | path nbody1/sim/ sats 1 x[0] 1\n",
      "JOB 1/1 | Halo 1 Sat 0 fname nbody1/sim/sim.ebf 0\n",
      "JOB 1/1 | nbody1/sim/sim.ebf 0\n",
      "JOB 1/1 | No of Satellites   =1\n",
      "JOB 1/1 | Generating catalog. Max allowed stars is 18446744073709551615\n",
      "JOB 1/1 | Source numbering will start at 0\n",
      "JOB 1/1 | Writing to /home/athob/Software/repos/py-ananke/py-Galaxia-ananke/jupyter/survey.sim.0.ebf\n",
      "JOB 1/1 | Using geometry:                     All Sky\n",
      "JOB 1/1 | setting center to -8.12197 -1.47294e-11 0.0208 12.9 245.6 7.78\n",
      "JOB 1/1 | Reading Isochrones from dir-        /home/athob/miniconda3/envs/main/.cache/Galaxia_ananke/GalaxiaData/Isochrones/padova/LSST\n",
      "JOB 1/1 | Isochrone Grid Size:                (Age bins=71,Feh bins=34,Alpha bins=1)\n",
      "JOB 1/1 | Time Isochrone Reading              1.29701     \n",
      "JOB 1/1 | ------------------------------\n",
      "JOB 1/1 | nbody1/sim/sim.ebf  Sat No=0\n",
      "JOB 1/1 | Particles=10000\n",
      "JOB 1/1 | Satellite Info\n",
      "JOB 1/1 | Particles=10000 Mass=5.49088e+07 0.379706\n",
      "JOB 1/1 | Total Stars=781138 accepted=777898 rejected=3240\n",
      "JOB 1/1 | -----------Done---------------\n",
      "JOB 1/1 | Total stars written                 777898                  \n",
      "JOB 1/1 | 31\n",
      "JOB 1/1 | File written-                       /home/athob/Software/repos/py-ananke/py-Galaxia-ananke/jupyter/survey.sim.0.ebf\n",
      "JOB 1/1 | Calculating magnitudes in LSST system................\n",
      "JOB 1/1 | initializing isochrone data\n",
      "JOB 1/1 | interpolating on isochrone tables\n",
      "JOB 1/1 | Appending spherical coordinates................\n",
      "JOB 1/1 | Total Time=                         2.34543     \n",
      "Exported the following quantities from /home/athob/Software/repos/py-ananke/py-Galaxia-ananke/jupyter/survey.sim.0.ebf to /home/athob/Software/repos/py-ananke/py-Galaxia-ananke/jupyter/survey.sim.0.h5 for partition 0\n",
      "['age', 'alpha', 'calcium', 'carbon', 'dec', 'dform', 'dmod', 'feh', 'glat', 'glon', 'grav', 'helium', 'lsst_g', 'lsst_i', 'lsst_r', 'lsst_u', 'lsst_y', 'lsst_z', 'lum', 'mact', 'magnesium', 'mtip', 'neon', 'nitrogen', 'oxygen', 'parentid', 'partid', 'partitionid', 'px', 'py', 'pz', 'ra', 'rad', 'satid', 'silicon', 'smass', 'sulphur', 'teff', 'vx', 'vy', 'vz']\n",
      "Running convert_cartesian_to_galactic post-processing pipeline\n",
      "Exported the following quantities to /home/athob/Software/repos/py-ananke/py-Galaxia-ananke/jupyter/survey.sim.0.h5\n",
      "['mub', 'mul', 'vr']\n",
      "Overwritten the following quantities to /home/athob/Software/repos/py-ananke/py-Galaxia-ananke/jupyter/survey.sim.0.h5\n",
      "('glon', 'glat', 'rad')\n",
      "Running convert_galactic_to_icrs post-processing pipeline\n",
      "Exported the following quantities to /home/athob/Software/repos/py-ananke/py-Galaxia-ananke/jupyter/survey.sim.0.h5\n",
      "['mudec', 'mura']\n",
      "Overwritten the following quantities to /home/athob/Software/repos/py-ananke/py-Galaxia-ananke/jupyter/survey.sim.0.h5\n",
      "('ra', 'dec')\n",
      "Running last_conversions post-processing pipeline\n",
      "Exported the following quantities to /home/athob/Software/repos/py-ananke/py-Galaxia-ananke/jupyter/survey.sim.0.h5\n",
      "['pi']\n",
      "Overwritten the following quantities to /home/athob/Software/repos/py-ananke/py-Galaxia-ananke/jupyter/survey.sim.0.h5\n",
      "('teff', 'lum')\n"
     ]
    },
    {
     "data": {
      "text/html": [
       "<style>.vaex-description pre {\n",
       "          max-width : 450px;\n",
       "          white-space : nowrap;\n",
       "          overflow : hidden;\n",
       "          text-overflow: ellipsis;\n",
       "        }\n",
       "\n",
       "        .vex-description pre:hover {\n",
       "          max-width : initial;\n",
       "          white-space: pre;\n",
       "        }</style>"
      ],
      "text/plain": [
       "<IPython.core.display.HTML object>"
      ]
     },
     "metadata": {},
     "output_type": "display_data"
    },
    {
     "data": {
      "text/html": [
       "<table>\n",
       "<thead>\n",
       "<tr><th>#                                  </th><th>age              </th><th>alpha               </th><th>calcium            </th><th>carbon             </th><th>dec       </th><th>dform  </th><th>dmod              </th><th>feh                 </th><th>glat     </th><th>glon      </th><th>grav     </th><th>helium             </th><th>lsst_g   </th><th>lsst_i    </th><th>lsst_r    </th><th>lsst_u    </th><th>lsst_y   </th><th>lsst_z   </th><th>lum         </th><th>mact      </th><th>magnesium          </th><th>mtip     </th><th>mub                </th><th>mudec              </th><th>mul                </th><th>mura                 </th><th>neon               </th><th>nitrogen           </th><th>oxygen             </th><th>parentid  </th><th>partid  </th><th>partitionid  </th><th>pi                  </th><th>px                 </th><th>py                </th><th>pz                </th><th>ra       </th><th>rad               </th><th>satid  </th><th>silicon            </th><th>smass              </th><th>sulphur            </th><th>teff     </th><th>vr                 </th><th>vx                </th><th>vy                 </th><th>vz                 </th></tr>\n",
       "</thead>\n",
       "<tbody>\n",
       "<tr><td><i style='opacity: 0.6'>0</i>      </td><td>8.955413818359375</td><td>0.039958495646715164</td><td>-0.3540340065956116</td><td>-0.7935190200805664</td><td>-5.998793 </td><td>0.0    </td><td>19.18746074617149 </td><td>-0.47136881947517395</td><td>25.249922</td><td>11.1257105</td><td>4.956889 </td><td>-0.5525906682014465</td><td>11.814668</td><td>9.547248  </td><td>10.4232235</td><td>14.944483 </td><td>8.925199 </td><td>9.120841 </td><td>0.0127317635</td><td>0.3256295 </td><td>-0.4314103126525879</td><td>2.0520527</td><td>0.09922013320288019</td><td>-0.5235132414148331</td><td>-0.6965451669594975</td><td>-0.47005711816658324 </td><td>-1.0620990991592407</td><td>-0.1971900761127472</td><td>0.14263589680194855</td><td>0         </td><td>0       </td><td>0            </td><td>0.014538106659870565</td><td>61.0435431903257   </td><td>12.004715919509358</td><td>29.34133874813846 </td><td>250.46307</td><td>68.78474779389899 </td><td>0      </td><td>-0.3710511028766632</td><td>0.32685696251341934</td><td>-1.074652075767517 </td><td>3464.6377</td><td>-27.746013324103355</td><td>5.661607360839843 </td><td>-230.36080513000488</td><td>17.426230163574218 </td></tr>\n",
       "<tr><td><i style='opacity: 0.6'>1</i>      </td><td>8.955413818359375</td><td>0.039958495646715164</td><td>-0.3540340065956116</td><td>-0.7935190200805664</td><td>-6.078383 </td><td>0.0    </td><td>19.17772626957188 </td><td>-0.47136881947517395</td><td>24.917427</td><td>11.265445 </td><td>4.980146 </td><td>-0.5525906682014465</td><td>12.077761</td><td>9.762882  </td><td>10.675743 </td><td>15.2433195</td><td>9.118245 </td><td>9.318753 </td><td>0.010647819 </td><td>0.3004575 </td><td>-0.4314103126525879</td><td>2.0520527</td><td>0.09415126050247345</td><td>-0.5258483074939286</td><td>-0.6950245078461663</td><td>-0.46411971122611523 </td><td>-1.0620990991592407</td><td>-0.1971900761127472</td><td>0.14263589680194855</td><td>0         </td><td>1       </td><td>0            </td><td>0.014603425723734725</td><td>60.90639734491615  </td><td>12.13210424766943 </td><td>28.850194949269017</td><td>250.81175</td><td>68.47708331715039 </td><td>0      </td><td>-0.3710511028766632</td><td>0.3013677440371474 </td><td>-1.074652075767517 </td><td>3426.9844</td><td>-28.69150289866353 </td><td>5.927043392012581 </td><td>-228.8661687232393 </td><td>15.629805070899277 </td></tr>\n",
       "<tr><td><i style='opacity: 0.6'>2</i>      </td><td>8.955413818359375</td><td>0.039958495646715164</td><td>-0.3540340065956116</td><td>-0.7935190200805664</td><td>-5.138301 </td><td>0.0    </td><td>19.185273899511152</td><td>-0.47136881947517395</td><td>25.921877</td><td>11.775691 </td><td>5.0514407</td><td>-0.5525906682014465</td><td>13.179893</td><td>10.6199045</td><td>11.725874 </td><td>16.566612 </td><td>9.868971 </td><td>10.095454</td><td>0.0052974075</td><td>0.21518832</td><td>-0.4314103126525879</td><td>2.0520527</td><td>0.10530709674812792</td><td>-0.5240214911926598</td><td>-0.6986598635487486</td><td>-0.4739374229107335  </td><td>-1.0620990991592407</td><td>-0.1971900761127472</td><td>0.14263589680194855</td><td>0         </td><td>1       </td><td>0            </td><td>0.01455275507266425 </td><td>60.501423571082206 </td><td>12.612619399096845</td><td>30.03865872017884 </td><td>250.22798</td><td>68.71551091232134 </td><td>0      </td><td>-0.3710511028766632</td><td>0.21596653094270554</td><td>-1.074652075767517 </td><td>3265.071 </td><td>-29.111106621620536</td><td>6.134445883760534 </td><td>-231.19801069173772</td><td>18.12615024659716  </td></tr>\n",
       "<tr><td><i style='opacity: 0.6'>3</i>      </td><td>8.955413818359375</td><td>0.039958495646715164</td><td>-0.3540340065956116</td><td>-0.7935190200805664</td><td>-5.5247912</td><td>0.0    </td><td>19.207804068460238</td><td>-0.47136881947517395</td><td>25.211168</td><td>11.783731 </td><td>5.1080246</td><td>-0.5525906682014465</td><td>14.2647  </td><td>11.39878  </td><td>12.758788 </td><td>17.946392 </td><td>10.524056</td><td>10.781293</td><td>0.0028832862</td><td>0.16220216</td><td>-0.4314103126525879</td><td>2.0520527</td><td>0.10019201694127879</td><td>-0.5222007225113146</td><td>-0.6925051358329714</td><td>-0.46573404583476086 </td><td>-1.0620990991592407</td><td>-0.1971900761127472</td><td>0.14263589680194855</td><td>0         </td><td>1       </td><td>0            </td><td>0.014402543191843609</td><td>61.494482012630804 </td><td>12.828645228710391</td><td>29.57503067357209 </td><td>250.82704</td><td>69.432181988964   </td><td>0      </td><td>-0.3710511028766632</td><td>0.16289241615423433</td><td>-1.074652075767517 </td><td>3105.4434</td><td>-29.19541659074254 </td><td>6.939285760018809 </td><td>-231.39132574926623</td><td>17.400082231397555 </td></tr>\n",
       "<tr><td><i style='opacity: 0.6'>4</i>      </td><td>8.955413818359375</td><td>0.039958495646715164</td><td>-0.3540340065956116</td><td>-0.7935190200805664</td><td>-6.048622 </td><td>0.0    </td><td>19.190335038839063</td><td>-0.47136881947517395</td><td>25.251888</td><td>11.057932 </td><td>4.6053805</td><td>-0.5525906682014465</td><td>5.749734 </td><td>5.2037826 </td><td>5.327181  </td><td>6.9090657 </td><td>5.164723 </td><td>5.177592 </td><td>0.55535775  </td><td>0.8556554 </td><td>-0.4314103126525879</td><td>2.0520527</td><td>0.09358150080456794</td><td>-0.5262251517519901</td><td>-0.696352107848041 </td><td>-0.46556507929616836 </td><td>-1.0620990991592407</td><td>-0.1971900761127472</td><td>0.14263589680194855</td><td>0         </td><td>1       </td><td>0            </td><td>0.014518875869908207</td><td>61.13758569650298  </td><td>11.948107439766392</td><td>29.382339057002177</td><td>250.42711</td><td>68.87585574531965 </td><td>0      </td><td>-0.3710511028766632</td><td>0.8556553660362554 </td><td>-1.074652075767517 </td><td>5715.7837</td><td>-28.338640849684552</td><td>5.660935252278124 </td><td>-230.55651408402534</td><td>15.545731299267977 </td></tr>\n",
       "<tr><td>...                                </td><td>...              </td><td>...                 </td><td>...                </td><td>...                </td><td>...       </td><td>...    </td><td>...               </td><td>...                 </td><td>...      </td><td>...       </td><td>...      </td><td>...                </td><td>...      </td><td>...       </td><td>...       </td><td>...       </td><td>...      </td><td>...      </td><td>...         </td><td>...       </td><td>...                </td><td>...      </td><td>...                </td><td>...                </td><td>...                </td><td>...                  </td><td>...                </td><td>...                </td><td>...                </td><td>...       </td><td>...     </td><td>...          </td><td>...                 </td><td>...                </td><td>...               </td><td>...               </td><td>...      </td><td>...               </td><td>...    </td><td>...                </td><td>...                </td><td>...                </td><td>...      </td><td>...                </td><td>...               </td><td>...                </td><td>...                </td></tr>\n",
       "<tr><td><i style='opacity: 0.6'>777,893</i></td><td>9.305075645446777</td><td>-0.2378266155719757 </td><td>-1.3668785095214844</td><td>0.2941742241382599 </td><td>70.55955  </td><td>0.0    </td><td>18.927475012344452</td><td>-0.8195078372955322 </td><td>38.706028</td><td>141.63245 </td><td>4.7050757</td><td>-1.1140830516815186</td><td>7.307274 </td><td>6.40013   </td><td>6.6385884 </td><td>8.992604  </td><td>6.2399406</td><td>6.3021703</td><td>0.18078534  </td><td>0.64411825</td><td>-1.0573344230651855</td><td>1.4815284</td><td>0.4779909044292243 </td><td>-1.0068936884689574</td><td>0.8874503452300331 </td><td>-0.04699462580168923 </td><td>-0.6839846968650818</td><td>-0.5307199358940125</td><td>-0.5255457162857056</td><td>9999      </td><td>1       </td><td>0            </td><td>0.016387209183320785</td><td>-37.3364989686334  </td><td>29.558139099760353</td><td>38.159318878052055</td><td>144.11754</td><td>61.023203451739604</td><td>0      </td><td>-1.154412031173706 </td><td>0.6441780986755028 </td><td>-0.8922590613365173</td><td>4907.575 </td><td>-198.6971248106058 </td><td>30.01630300083635 </td><td>-351.19374833757604</td><td>-16.347192784692755</td></tr>\n",
       "<tr><td><i style='opacity: 0.6'>777,894</i></td><td>9.305075645446777</td><td>-0.2378266155719757 </td><td>-1.3668785095214844</td><td>0.2941742241382599 </td><td>70.200386 </td><td>0.0    </td><td>18.892857581483856</td><td>-0.8195078372955322 </td><td>38.245415</td><td>142.49573 </td><td>4.7318344</td><td>-1.1140830516815186</td><td>8.137574 </td><td>6.9666467 </td><td>7.28515   </td><td>10.156084 </td><td>6.7273517</td><td>6.8209777</td><td>0.1101942   </td><td>0.5803311 </td><td>-1.0573344230651855</td><td>1.4815284</td><td>0.47588304665753617</td><td>-1.0283580486094352</td><td>0.9117409181104664 </td><td>-0.014695702419684986</td><td>-0.6839846968650818</td><td>-0.5307199358940125</td><td>-0.5255457162857056</td><td>9999      </td><td>1       </td><td>0            </td><td>0.016650546167367986</td><td>-37.41843761165779 </td><td>28.716616479039732</td><td>37.17782453568507 </td><td>141.92903</td><td>60.058089983847886</td><td>0      </td><td>-1.154412031173706 </td><td>0.5809858794598144 </td><td>-0.8922590613365173</td><td>4517.1157</td><td>-197.14215133237465</td><td>31.326331154168038</td><td>-351.24829541432905</td><td>-15.631256410584346</td></tr>\n",
       "<tr><td><i style='opacity: 0.6'>777,895</i></td><td>9.305075645446777</td><td>-0.2378266155719757 </td><td>-1.3668785095214844</td><td>0.2941742241382599 </td><td>70.03229  </td><td>0.0    </td><td>18.914749338895525</td><td>-0.8195078372955322 </td><td>38.95083 </td><td>142.23303 </td><td>5.0051317</td><td>-1.1140830516815186</td><td>11.687777</td><td>9.561444  </td><td>10.286666 </td><td>14.835116 </td><td>9.038309 </td><td>9.212344 </td><td>0.01173456  </td><td>0.2918338 </td><td>-1.0573344230651855</td><td>1.4815284</td><td>0.47337230798207713</td><td>-1.016215901402524 </td><td>0.9005970484653106 </td><td>-0.049615394879853336</td><td>-0.6839846968650818</td><td>-0.5307199358940125</td><td>-0.5255457162857056</td><td>9999      </td><td>1       </td><td>0            </td><td>0.016483526559972535</td><td>-37.29584323199879 </td><td>28.895196279664727</td><td>38.13827020558491 </td><td>144.03197</td><td>60.66662958085264 </td><td>0      </td><td>-1.154412031173706 </td><td>0.29268865429898494</td><td>-0.8922590613365173</td><td>3587.3013</td><td>-198.01768115149346</td><td>30.762796268477363</td><td>-351.4725500832793 </td><td>-18.61312955393022 </td></tr>\n",
       "<tr><td><i style='opacity: 0.6'>777,896</i></td><td>9.305075645446777</td><td>-0.2378266155719757 </td><td>-1.3668785095214844</td><td>0.2941742241382599 </td><td>70.4518   </td><td>0.0    </td><td>18.9201425300067  </td><td>-0.8195078372955322 </td><td>38.824177</td><td>141.7025  </td><td>4.719912 </td><td>-1.1140830516815186</td><td>7.7530823</td><td>6.7070622 </td><td>6.98758   </td><td>9.622709  </td><td>6.504435 </td><td>6.5841293</td><td>0.13804834  </td><td>0.60916585</td><td>-1.0573344230651855</td><td>1.4815284</td><td>0.47572080740138795</td><td>-1.0051546518056411</td><td>0.8869505256761573 </td><td>-0.051533323065078684</td><td>-0.6839846968650818</td><td>-0.5307199358940125</td><td>-0.5255457162857056</td><td>9999      </td><td>1       </td><td>0            </td><td>0.016442637943183645</td><td>-37.185002825497264</td><td>29.364309454511247</td><td>38.128469897108786</td><td>144.33638</td><td>60.817491904609724</td><td>0      </td><td>-1.154412031173706 </td><td>0.6094272410447537 </td><td>-0.8922590613365173</td><td>4691.625 </td><td>-199.9817636381648 </td><td>31.278593124775636</td><td>-350.5281646500428 </td><td>-18.52361817852884 </td></tr>\n",
       "<tr><td><i style='opacity: 0.6'>777,897</i></td><td>9.305075645446777</td><td>-0.2378266155719757 </td><td>-1.3668785095214844</td><td>0.2941742241382599 </td><td>70.63348  </td><td>0.0    </td><td>18.91725559532255 </td><td>-0.8195078372955322 </td><td>38.445873</td><td>141.71928 </td><td>5.155351 </td><td>-1.1140830516815186</td><td>14.010173</td><td>11.338973 </td><td>12.46287  </td><td>17.778406 </td><td>10.610271</td><td>10.830129</td><td>0.0027105433</td><td>0.14618951</td><td>-1.0573344230651855</td><td>1.4815284</td><td>0.4797042318427226 </td><td>-1.0139850871819882</td><td>0.8940201751969846 </td><td>-0.0349645195152285  </td><td>-0.6839846968650818</td><td>-0.5307199358940125</td><td>-0.5255457162857056</td><td>9999      </td><td>1       </td><td>0            </td><td>0.016464512681284106</td><td>-37.34073513034435 </td><td>29.4695289161297  </td><td>37.76455821857252 </td><td>143.33943</td><td>60.736689834539796</td><td>0      </td><td>-1.154412031173706 </td><td>0.14633686178285027</td><td>-0.8922590613365173</td><td>3224.7146</td><td>-201.9998022297051 </td><td>32.13415221257028 </td><td>-353.27338736277403</td><td>-17.426025753062383</td></tr>\n",
       "</tbody>\n",
       "</table>"
      ],
      "text/plain": [
       "#        age                alpha                 calcium              carbon               dec         dform    dmod                feh                   glat       glon        grav       helium               lsst_g     lsst_i      lsst_r      lsst_u      lsst_y     lsst_z     lum           mact        magnesium            mtip       mub                  mudec                mul                  mura                   neon                 nitrogen             oxygen               parentid    partid    partitionid    pi                    px                   py                  pz                  ra         rad                 satid    silicon              smass                sulphur              teff       vr                   vx                  vy                   vz\n",
       "0        8.955413818359375  0.039958495646715164  -0.3540340065956116  -0.7935190200805664  -5.998793   0.0      19.18746074617149   -0.47136881947517395  25.249922  11.1257105  4.956889   -0.5525906682014465  11.814668  9.547248    10.4232235  14.944483   8.925199   9.120841   0.0127317635  0.3256295   -0.4314103126525879  2.0520527  0.09922013320288019  -0.5235132414148331  -0.6965451669594975  -0.47005711816658324   -1.0620990991592407  -0.1971900761127472  0.14263589680194855  0           0         0              0.014538106659870565  61.0435431903257     12.004715919509358  29.34133874813846   250.46307  68.78474779389899   0        -0.3710511028766632  0.32685696251341934  -1.074652075767517   3464.6377  -27.746013324103355  5.661607360839843   -230.36080513000488  17.426230163574218\n",
       "1        8.955413818359375  0.039958495646715164  -0.3540340065956116  -0.7935190200805664  -6.078383   0.0      19.17772626957188   -0.47136881947517395  24.917427  11.265445   4.980146   -0.5525906682014465  12.077761  9.762882    10.675743   15.2433195  9.118245   9.318753   0.010647819   0.3004575   -0.4314103126525879  2.0520527  0.09415126050247345  -0.5258483074939286  -0.6950245078461663  -0.46411971122611523   -1.0620990991592407  -0.1971900761127472  0.14263589680194855  0           1         0              0.014603425723734725  60.90639734491615    12.13210424766943   28.850194949269017  250.81175  68.47708331715039   0        -0.3710511028766632  0.3013677440371474   -1.074652075767517   3426.9844  -28.69150289866353   5.927043392012581   -228.8661687232393   15.629805070899277\n",
       "2        8.955413818359375  0.039958495646715164  -0.3540340065956116  -0.7935190200805664  -5.138301   0.0      19.185273899511152  -0.47136881947517395  25.921877  11.775691   5.0514407  -0.5525906682014465  13.179893  10.6199045  11.725874   16.566612   9.868971   10.095454  0.0052974075  0.21518832  -0.4314103126525879  2.0520527  0.10530709674812792  -0.5240214911926598  -0.6986598635487486  -0.4739374229107335    -1.0620990991592407  -0.1971900761127472  0.14263589680194855  0           1         0              0.01455275507266425   60.501423571082206   12.612619399096845  30.03865872017884   250.22798  68.71551091232134   0        -0.3710511028766632  0.21596653094270554  -1.074652075767517   3265.071   -29.111106621620536  6.134445883760534   -231.19801069173772  18.12615024659716\n",
       "3        8.955413818359375  0.039958495646715164  -0.3540340065956116  -0.7935190200805664  -5.5247912  0.0      19.207804068460238  -0.47136881947517395  25.211168  11.783731   5.1080246  -0.5525906682014465  14.2647    11.39878    12.758788   17.946392   10.524056  10.781293  0.0028832862  0.16220216  -0.4314103126525879  2.0520527  0.10019201694127879  -0.5222007225113146  -0.6925051358329714  -0.46573404583476086   -1.0620990991592407  -0.1971900761127472  0.14263589680194855  0           1         0              0.014402543191843609  61.494482012630804   12.828645228710391  29.57503067357209   250.82704  69.432181988964     0        -0.3710511028766632  0.16289241615423433  -1.074652075767517   3105.4434  -29.19541659074254   6.939285760018809   -231.39132574926623  17.400082231397555\n",
       "4        8.955413818359375  0.039958495646715164  -0.3540340065956116  -0.7935190200805664  -6.048622   0.0      19.190335038839063  -0.47136881947517395  25.251888  11.057932   4.6053805  -0.5525906682014465  5.749734   5.2037826   5.327181    6.9090657   5.164723   5.177592   0.55535775    0.8556554   -0.4314103126525879  2.0520527  0.09358150080456794  -0.5262251517519901  -0.696352107848041   -0.46556507929616836   -1.0620990991592407  -0.1971900761127472  0.14263589680194855  0           1         0              0.014518875869908207  61.13758569650298    11.948107439766392  29.382339057002177  250.42711  68.87585574531965   0        -0.3710511028766632  0.8556553660362554   -1.074652075767517   5715.7837  -28.338640849684552  5.660935252278124   -230.55651408402534  15.545731299267977\n",
       "...      ...                ...                   ...                  ...                  ...         ...      ...                 ...                   ...        ...         ...        ...                  ...        ...         ...         ...         ...        ...        ...           ...         ...                  ...        ...                  ...                  ...                  ...                    ...                  ...                  ...                  ...         ...       ...            ...                   ...                  ...                 ...                 ...        ...                 ...      ...                  ...                  ...                  ...        ...                  ...                 ...                  ...\n",
       "777,893  9.305075645446777  -0.2378266155719757   -1.3668785095214844  0.2941742241382599   70.55955    0.0      18.927475012344452  -0.8195078372955322   38.706028  141.63245   4.7050757  -1.1140830516815186  7.307274   6.40013     6.6385884   8.992604    6.2399406  6.3021703  0.18078534    0.64411825  -1.0573344230651855  1.4815284  0.4779909044292243   -1.0068936884689574  0.8874503452300331   -0.04699462580168923   -0.6839846968650818  -0.5307199358940125  -0.5255457162857056  9999        1         0              0.016387209183320785  -37.3364989686334    29.558139099760353  38.159318878052055  144.11754  61.023203451739604  0        -1.154412031173706   0.6441780986755028   -0.8922590613365173  4907.575   -198.6971248106058   30.01630300083635   -351.19374833757604  -16.347192784692755\n",
       "777,894  9.305075645446777  -0.2378266155719757   -1.3668785095214844  0.2941742241382599   70.200386   0.0      18.892857581483856  -0.8195078372955322   38.245415  142.49573   4.7318344  -1.1140830516815186  8.137574   6.9666467   7.28515     10.156084   6.7273517  6.8209777  0.1101942     0.5803311   -1.0573344230651855  1.4815284  0.47588304665753617  -1.0283580486094352  0.9117409181104664   -0.014695702419684986  -0.6839846968650818  -0.5307199358940125  -0.5255457162857056  9999        1         0              0.016650546167367986  -37.41843761165779   28.716616479039732  37.17782453568507   141.92903  60.058089983847886  0        -1.154412031173706   0.5809858794598144   -0.8922590613365173  4517.1157  -197.14215133237465  31.326331154168038  -351.24829541432905  -15.631256410584346\n",
       "777,895  9.305075645446777  -0.2378266155719757   -1.3668785095214844  0.2941742241382599   70.03229    0.0      18.914749338895525  -0.8195078372955322   38.95083   142.23303   5.0051317  -1.1140830516815186  11.687777  9.561444    10.286666   14.835116   9.038309   9.212344   0.01173456    0.2918338   -1.0573344230651855  1.4815284  0.47337230798207713  -1.016215901402524   0.9005970484653106   -0.049615394879853336  -0.6839846968650818  -0.5307199358940125  -0.5255457162857056  9999        1         0              0.016483526559972535  -37.29584323199879   28.895196279664727  38.13827020558491   144.03197  60.66662958085264   0        -1.154412031173706   0.29268865429898494  -0.8922590613365173  3587.3013  -198.01768115149346  30.762796268477363  -351.4725500832793   -18.61312955393022\n",
       "777,896  9.305075645446777  -0.2378266155719757   -1.3668785095214844  0.2941742241382599   70.4518     0.0      18.9201425300067    -0.8195078372955322   38.824177  141.7025    4.719912   -1.1140830516815186  7.7530823  6.7070622   6.98758     9.622709    6.504435   6.5841293  0.13804834    0.60916585  -1.0573344230651855  1.4815284  0.47572080740138795  -1.0051546518056411  0.8869505256761573   -0.051533323065078684  -0.6839846968650818  -0.5307199358940125  -0.5255457162857056  9999        1         0              0.016442637943183645  -37.185002825497264  29.364309454511247  38.128469897108786  144.33638  60.817491904609724  0        -1.154412031173706   0.6094272410447537   -0.8922590613365173  4691.625   -199.9817636381648   31.278593124775636  -350.5281646500428   -18.52361817852884\n",
       "777,897  9.305075645446777  -0.2378266155719757   -1.3668785095214844  0.2941742241382599   70.63348    0.0      18.91725559532255   -0.8195078372955322   38.445873  141.71928   5.155351   -1.1140830516815186  14.010173  11.338973   12.46287    17.778406   10.610271  10.830129  0.0027105433  0.14618951  -1.0573344230651855  1.4815284  0.4797042318427226   -1.0139850871819882  0.8940201751969846   -0.0349645195152285    -0.6839846968650818  -0.5307199358940125  -0.5255457162857056  9999        1         0              0.016464512681284106  -37.34073513034435   29.4695289161297    37.76455821857252   143.33943  60.736689834539796  0        -1.154412031173706   0.14633686178285027  -0.8922590613365173  3224.7146  -201.9998022297051   32.13415221257028   -353.27338736277403  -17.426025753062383"
      ]
     },
     "execution_count": 4,
     "metadata": {},
     "output_type": "execute_result"
    }
   ],
   "source": [
    "output = Galaxia_ananke.make_survey_from_particles(p, rho_pos, rho_vel, fsample=0.01, photo_sys='padova/LSST', cmd_magnames='r,g-r')#, simname='sim', surveyname='survey', fsample=1, ngb=64, **kwargs):\n",
    "output"
   ]
  }
 ],
 "metadata": {
  "kernelspec": {
   "display_name": "base",
   "language": "python",
   "name": "python3"
  },
  "language_info": {
   "codemirror_mode": {
    "name": "ipython",
    "version": 3
   },
   "file_extension": ".py",
   "mimetype": "text/x-python",
   "name": "python",
   "nbconvert_exporter": "python",
   "pygments_lexer": "ipython3",
   "version": "3.10.12"
  },
  "vscode": {
   "interpreter": {
    "hash": "93aa337d3be5595eae1049f286a1f242db5cd4d40fd613efbe29fb4c796799bf"
   }
  }
 },
 "nbformat": 4,
 "nbformat_minor": 5
}
