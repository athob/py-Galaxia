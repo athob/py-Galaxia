{
 "cells": [
  {
   "cell_type": "markdown",
   "id": "b88f245d",
   "metadata": {},
   "source": [
    "# Testing Notebook"
   ]
  },
  {
   "cell_type": "code",
   "execution_count": 1,
   "id": "f130bf6c",
   "metadata": {},
   "outputs": [
    {
     "data": {
      "text/plain": [
       "'0.4.0+40.gad36768'"
      ]
     },
     "execution_count": 1,
     "metadata": {},
     "output_type": "execute_result"
    }
   ],
   "source": [
    "import numpy as np\n",
    "import Galaxia_ananke\n",
    "Galaxia_ananke.__version__"
   ]
  },
  {
   "cell_type": "code",
   "execution_count": 2,
   "id": "fa0e3b78",
   "metadata": {},
   "outputs": [],
   "source": [
    "np.random.seed(0)\n",
    "n_parts = 10000\n",
    "\n",
    "p = Galaxia_ananke.make_dummy_particles_input(n_parts)\n",
    "rho_pos, rho_vel = Galaxia_ananke.make_dummy_densities_input(n_parts)"
   ]
  },
  {
   "attachments": {},
   "cell_type": "markdown",
   "id": "44249eee",
   "metadata": {},
   "source": [
    "Using default photometric system"
   ]
  },
  {
   "cell_type": "code",
   "execution_count": 3,
   "id": "1c60e7b4",
   "metadata": {},
   "outputs": [
    {
     "name": "stdout",
     "output_type": "stream",
     "text": [
      "Executing JOB 1/1 = /home/athob/miniconda3/envs/main/.cache/Galaxia_ananke/bin/galaxia -r --hdim=6 --nfile=sim_69732b6 --ngen=0 /home/athob/Software/repos/py-ananke/py-Galaxia-ananke/jupyter/survey_6de5044_params\n",
      "JOB 1/1 | CODEDATAPATH=/home/athob/miniconda3/envs/main/.cache/Galaxia_ananke/GalaxiaData/\n",
      "JOB 1/1 | Reading Parameter file-             /home/athob/Software/repos/py-ananke/py-Galaxia-ananke/jupyter/survey_6de5044_params\n",
      "JOB 1/1 | --------------------------------------------------------\n",
      "JOB 1/1 | outputFile               survey_6de5044          \n",
      "JOB 1/1 | outputDir                /home/athob/Software/repos/py-ananke/py-Galaxia-ananke/jupyter\n",
      "JOB 1/1 | photoCateg               padova                  \n",
      "JOB 1/1 | photoSys                 GAIA__DR2               \n",
      "JOB 1/1 | magcolorNames            G,Gbp-Grp               \n",
      "JOB 1/1 | appMagLimits[0]          -1000                   \n",
      "JOB 1/1 | appMagLimits[1]          1000                    \n",
      "JOB 1/1 | absMagLimits[0]          -1000                   \n",
      "JOB 1/1 | absMagLimits[1]          20                      \n",
      "JOB 1/1 | colorLimits[0]           -1000                   \n",
      "JOB 1/1 | colorLimits[1]           1000                    \n",
      "JOB 1/1 | geometryOption           0                       \n",
      "JOB 1/1 | surveyArea               207.455                 \n",
      "JOB 1/1 | fSample                  0.01                    \n",
      "JOB 1/1 | popID                    10                      \n",
      "JOB 1/1 | warpFlareOn              0                       \n",
      "JOB 1/1 | longitude                76.273                  \n",
      "JOB 1/1 | latitude                 13.4725                 \n",
      "JOB 1/1 | starType                 0                       \n",
      "JOB 1/1 | photoError               0                       \n",
      "JOB 1/1 | seed                     17052                   \n",
      "JOB 1/1 | r_max                    500                     \n",
      "JOB 1/1 | r_min                    0                       \n",
      "JOB 1/1 | nres                     64                      \n",
      "JOB 1/1 | nstart                   0                       \n",
      "JOB 1/1 | rSun[0]                  -8.121973366106948      \n",
      "JOB 1/1 | rSun[1]                  -1.4729444519452402e-11 \n",
      "JOB 1/1 | rSun[2]                  0.020800000030482345    \n",
      "JOB 1/1 | vSun[0]                  12.9                    \n",
      "JOB 1/1 | vSun[1]                  245.6                   \n",
      "JOB 1/1 | vSun[2]                  7.78                    \n",
      "JOB 1/1 | --------------------------------------------------------\n",
      "JOB 1/1 | Reading Halo Sat File=/home/athob/miniconda3/envs/main/.cache/Galaxia_ananke/GalaxiaData/nbody1/filenames/sim_69732b6.txt\n",
      "JOB 1/1 | nbody1/sim_69732b6/\n",
      "JOB 1/1 | \n",
      "JOB 1/1 | \t1\t1\n",
      "JOB 1/1 | \n",
      "JOB 1/1 | path nbody1/sim_69732b6/ sats 1 x[0] 1\n",
      "JOB 1/1 | Halo 1 Sat 0 fname nbody1/sim_69732b6/sim_69732b6.ebf 0\n",
      "JOB 1/1 | nbody1/sim_69732b6/sim_69732b6.ebf 0\n",
      "JOB 1/1 | No of Satellites   =1\n",
      "JOB 1/1 | Generating catalog. Max allowed stars is 18446744073709551615\n",
      "JOB 1/1 | Source numbering will start at 0\n",
      "JOB 1/1 | Writing to /home/athob/Software/repos/py-ananke/py-Galaxia-ananke/jupyter/survey_6de5044.sim_69732b6.0.ebf\n",
      "JOB 1/1 | Using geometry:                     All Sky\n",
      "JOB 1/1 | setting center to -8.12197 -1.47294e-11 0.0208 12.9 245.6 7.78\n",
      "JOB 1/1 | Reading Isochrones from dir-        /home/athob/miniconda3/envs/main/.cache/Galaxia_ananke/GalaxiaData/Isochrones/padova/GAIA__DR2\n",
      "JOB 1/1 | Isochrone Grid Size:                (Age bins=71,Feh bins=34,Alpha bins=1)\n",
      "JOB 1/1 | Time Isochrone Reading              1.75195     \n",
      "JOB 1/1 | ------------------------------\n",
      "JOB 1/1 | nbody1/sim_69732b6/sim_69732b6.ebf  Sat No=0\n",
      "JOB 1/1 | Particles=10000\n",
      "JOB 1/1 | Satellite Info\n",
      "JOB 1/1 | Particles=10000 Mass=5.49088e+07 0.379706\n",
      "JOB 1/1 | Total Stars=780391 accepted=777151 rejected=3240\n",
      "JOB 1/1 | -----------Done---------------\n",
      "JOB 1/1 | Total stars written                 777151                  \n",
      "JOB 1/1 | 31\n",
      "JOB 1/1 | File written-                       /home/athob/Software/repos/py-ananke/py-Galaxia-ananke/jupyter/survey_6de5044.sim_69732b6.0.ebf\n",
      "JOB 1/1 | Calculating magnitudes in GAIA__DR2 system................\n",
      "JOB 1/1 | initializing isochrone data\n",
      "JOB 1/1 | interpolating on isochrone tables\n",
      "JOB 1/1 | Total Time=                         2.669       \n",
      "Exported the following quantities from /home/athob/Software/repos/py-ananke/py-Galaxia-ananke/jupyter/survey_6de5044.sim_69732b6.0.ebf to /home/athob/Software/repos/py-ananke/py-Galaxia-ananke/jupyter/survey_6de5044.sim_69732b6.0.h5 for partition 0\n",
      "['age', 'alpha', 'calcium', 'carbon', 'dform', 'dmod', 'feh', 'gaia__dr2_g', 'gaia__dr2_gbp', 'gaia__dr2_grp', 'grav', 'helium', 'lum', 'mact', 'magnesium', 'mtip', 'neon', 'nitrogen', 'oxygen', 'parentid', 'partid', 'partitionid', 'px', 'py', 'pz', 'rad', 'satid', 'silicon', 'smass', 'sulphur', 'teff', 'vx', 'vy', 'vz']\n",
      "Running convert_cartesian_to_galactic post-processing pipeline\n",
      "Exported the following quantities to /home/athob/Software/repos/py-ananke/py-Galaxia-ananke/jupyter/survey_6de5044.sim_69732b6.0.h5\n",
      "['glat', 'mub', 'mul', 'vr', 'glon']\n",
      "Overwritten the following quantities to /home/athob/Software/repos/py-ananke/py-Galaxia-ananke/jupyter/survey_6de5044.sim_69732b6.0.h5\n",
      "['rad']\n",
      "Running convert_galactic_to_icrs post-processing pipeline\n",
      "Exported the following quantities to /home/athob/Software/repos/py-ananke/py-Galaxia-ananke/jupyter/survey_6de5044.sim_69732b6.0.h5\n",
      "['mudec', 'ra', 'dec', 'mura']\n",
      "Exported the following quantities to /home/athob/Software/repos/py-ananke/py-Galaxia-ananke/jupyter/survey_6de5044.sim_69732b6.0.h5\n",
      "['pi']\n",
      "Overwritten the following quantities to /home/athob/Software/repos/py-ananke/py-Galaxia-ananke/jupyter/survey_6de5044.sim_69732b6.0.h5\n",
      "['lum', 'teff']\n"
     ]
    },
    {
     "data": {
      "text/html": [
       "<pre style=\"white-space:pre;overflow-x:auto;line-height:normal;font-family:Menlo,'DejaVu Sans Mono',consolas,'Courier New',monospace\"><span style=\"color: #7fbfbf; text-decoration-color: #7fbfbf\">[12/13/24 01:19:44] </span><span style=\"color: #800000; text-decoration-color: #800000\">WARNING </span> could not close memmap for column                                   <a href=\"file:///home/athob/miniconda3/envs/main/lib/python3.10/site-packages/vaex/dataset_mmap.py\" target=\"_blank\"><span style=\"color: #7f7f7f; text-decoration-color: #7f7f7f\">dataset_mmap.py</span></a><span style=\"color: #7f7f7f; text-decoration-color: #7f7f7f\">:</span><a href=\"file:///home/athob/miniconda3/envs/main/lib/python3.10/site-packages/vaex/dataset_mmap.py#94\" target=\"_blank\"><span style=\"color: #7f7f7f; text-decoration-color: #7f7f7f\">94</span></a>\n",
       "<span style=\"color: #7fbfbf; text-decoration-color: #7fbfbf\">                    </span>         <span style=\"color: #800080; text-decoration-color: #800080\">/home/athob/Software/repos/py-ananke/py-Galaxia-ananke/jupyter/</span><span style=\"color: #ff00ff; text-decoration-color: #ff00ff\">surv</span> <span style=\"color: #7f7f7f; text-decoration-color: #7f7f7f\">                  </span>\n",
       "<span style=\"color: #7fbfbf; text-decoration-color: #7fbfbf\">                    </span>         <span style=\"color: #ff00ff; text-decoration-color: #ff00ff\">ey_6de5044.sim_69732b6.0.h5</span>                                         <span style=\"color: #7f7f7f; text-decoration-color: #7f7f7f\">                  </span>\n",
       "</pre>\n"
      ],
      "text/plain": [
       "\u001b[2;36m[12/13/24 01:19:44]\u001b[0m\u001b[2;36m \u001b[0m\u001b[31mWARNING \u001b[0m could not close memmap for column                                   \u001b]8;id=774202;file:///home/athob/miniconda3/envs/main/lib/python3.10/site-packages/vaex/dataset_mmap.py\u001b\\\u001b[2mdataset_mmap.py\u001b[0m\u001b]8;;\u001b\\\u001b[2m:\u001b[0m\u001b]8;id=66766;file:///home/athob/miniconda3/envs/main/lib/python3.10/site-packages/vaex/dataset_mmap.py#94\u001b\\\u001b[2m94\u001b[0m\u001b]8;;\u001b\\\n",
       "\u001b[2;36m                    \u001b[0m         \u001b[35m/home/athob/Software/repos/py-ananke/py-Galaxia-ananke/jupyter/\u001b[0m\u001b[95msurv\u001b[0m \u001b[2m                  \u001b[0m\n",
       "\u001b[2;36m                    \u001b[0m         \u001b[95mey_6de5044.sim_69732b6.0.h5\u001b[0m                                         \u001b[2m                  \u001b[0m\n"
      ]
     },
     "metadata": {},
     "output_type": "display_data"
    },
    {
     "name": "stdout",
     "output_type": "stream",
     "text": [
      "Running last_conversions post-processing pipeline\n"
     ]
    },
    {
     "data": {
      "text/html": [
       "<style>.vaex-description pre {\n",
       "          max-width : 450px;\n",
       "          white-space : nowrap;\n",
       "          overflow : hidden;\n",
       "          text-overflow: ellipsis;\n",
       "        }\n",
       "\n",
       "        .vex-description pre:hover {\n",
       "          max-width : initial;\n",
       "          white-space: pre;\n",
       "        }</style>"
      ],
      "text/plain": [
       "<IPython.core.display.HTML object>"
      ]
     },
     "metadata": {},
     "output_type": "display_data"
    },
    {
     "data": {
      "text/html": [
       "<table>\n",
       "<thead>\n",
       "<tr><th>#                                  </th><th>age              </th><th>alpha               </th><th>calcium            </th><th>carbon             </th><th>dec               </th><th>dform  </th><th>dmod              </th><th>feh                 </th><th>gaia__dr2_g  </th><th>gaia__dr2_gbp  </th><th>gaia__dr2_grp  </th><th>glat              </th><th>glon              </th><th>grav     </th><th>helium             </th><th>lum         </th><th>mact      </th><th>magnesium          </th><th>mtip     </th><th>mub                </th><th>mudec              </th><th>mul                </th><th>mura                 </th><th>neon               </th><th>nitrogen           </th><th>oxygen             </th><th>parentid  </th><th>partid  </th><th>partitionid  </th><th>pi                  </th><th>px                 </th><th>py                </th><th>pz                </th><th>ra                </th><th>rad               </th><th>satid  </th><th>silicon            </th><th>smass              </th><th>sulphur            </th><th>teff     </th><th>vr                 </th><th>vx                </th><th>vy                 </th><th>vz                 </th></tr>\n",
       "</thead>\n",
       "<tbody>\n",
       "<tr><td><i style='opacity: 0.6'>0</i>      </td><td>8.955413818359375</td><td>0.039958495646715164</td><td>-0.3540340065956116</td><td>-0.7935190200805664</td><td>-5.998792887017205</td><td>0.0    </td><td>19.18746074617149 </td><td>-0.47136881947517395</td><td>10.04198     </td><td>11.126908      </td><td>9.054153       </td><td>25.249922231154617</td><td>11.125710294666277</td><td>4.9589286</td><td>-0.5525906682014465</td><td>0.013361397 </td><td>0.32670912</td><td>-0.4314103126525879</td><td>2.025267 </td><td>0.09922013320288019</td><td>-0.5235132378898534</td><td>-0.6965451669594975</td><td>-0.47005711802026073 </td><td>-1.0620990991592407</td><td>-0.1971900761127472</td><td>0.14263589680194855</td><td>0         </td><td>0       </td><td>0            </td><td>0.014538106659870565</td><td>61.0435431903257   </td><td>12.004715919509358</td><td>29.34133874813846 </td><td>250.46307071631102</td><td>68.78474779389899 </td><td>0      </td><td>-0.3710511028766632</td><td>0.32651486763693804</td><td>-1.074652075767517 </td><td>3509.403 </td><td>-27.746013324103355</td><td>5.661607360839843 </td><td>-230.36080513000488</td><td>17.426230163574218 </td></tr>\n",
       "<tr><td><i style='opacity: 0.6'>1</i>      </td><td>8.955413818359375</td><td>0.039958495646715164</td><td>-0.3540340065956116</td><td>-0.7935190200805664</td><td>-6.078382777325507</td><td>0.0    </td><td>19.17772626957188 </td><td>-0.47136881947517395</td><td>10.270541    </td><td>11.386944      </td><td>9.270209       </td><td>24.91742699976654 </td><td>11.265444763667034</td><td>4.9820805</td><td>-0.5525906682014465</td><td>0.011113583 </td><td>0.30133697</td><td>-0.4314103126525879</td><td>2.025267 </td><td>0.09415126050247345</td><td>-0.5258482940785928</td><td>-0.6950245078461663</td><td>-0.4641197022058473  </td><td>-1.0620990991592407</td><td>-0.1971900761127472</td><td>0.14263589680194855</td><td>0         </td><td>1       </td><td>0            </td><td>0.014603425723734725</td><td>60.90639734491615  </td><td>12.13210424766943 </td><td>28.850194949269017</td><td>250.81175453104717</td><td>68.47708331715039 </td><td>0      </td><td>-0.3710511028766632</td><td>0.30107596208136506</td><td>-1.074652075767517 </td><td>3471.3394</td><td>-28.69150289866353 </td><td>5.927043392012581 </td><td>-228.8661687232393 </td><td>15.629805070899277 </td></tr>\n",
       "<tr><td><i style='opacity: 0.6'>2</i>      </td><td>8.955413818359375</td><td>0.039958495646715164</td><td>-0.3540340065956116</td><td>-0.7935190200805664</td><td>-5.138299267849359</td><td>0.0    </td><td>19.185273899511152</td><td>-0.47136881947517395</td><td>11.133261    </td><td>12.395295      </td><td>10.079496      </td><td>25.92187778271555 </td><td>11.775691439163865</td><td>5.056068 </td><td>-0.5525906682014465</td><td>0.0056239846</td><td>0.21602225</td><td>-0.4314103126525879</td><td>2.025267 </td><td>0.10530709674812792</td><td>-0.5240214830221089</td><td>-0.6986598635487486</td><td>-0.47393741663935496 </td><td>-1.0620990991592407</td><td>-0.1971900761127472</td><td>0.14263589680194855</td><td>0         </td><td>1       </td><td>0            </td><td>0.01455275507266425 </td><td>60.501423571082206 </td><td>12.612619399096845</td><td>30.03865872017884 </td><td>250.22797440201435</td><td>68.71551091232134 </td><td>0      </td><td>-0.3710511028766632</td><td>0.21582281895266564</td><td>-1.074652075767517 </td><td>3318.9275</td><td>-29.111106621620536</td><td>6.134445883760534 </td><td>-231.19801069173772</td><td>18.12615024659716  </td></tr>\n",
       "<tr><td><i style='opacity: 0.6'>3</i>      </td><td>8.955413818359375</td><td>0.039958495646715164</td><td>-0.3540340065956116</td><td>-0.7935190200805664</td><td>-5.524790577991773</td><td>0.0    </td><td>19.207804068460238</td><td>-0.47136881947517395</td><td>11.936295    </td><td>13.407313      </td><td>10.819105      </td><td>25.21116836639392 </td><td>11.783731726053816</td><td>5.112755 </td><td>-0.5525906682014465</td><td>0.0030702134</td><td>0.16282208</td><td>-0.4314103126525879</td><td>2.025267 </td><td>0.10019201694127879</td><td>-0.5222007247094822</td><td>-0.6925051358329714</td><td>-0.4657340512853823  </td><td>-1.0620990991592407</td><td>-0.1971900761127472</td><td>0.14263589680194855</td><td>0         </td><td>1       </td><td>0            </td><td>0.014402543191843609</td><td>61.494482012630804 </td><td>12.828645228710391</td><td>29.57503067357209 </td><td>250.82704446121193</td><td>69.432181988964   </td><td>0      </td><td>-0.3710511028766632</td><td>0.16282207913433552</td><td>-1.074652075767517 </td><td>3160.5525</td><td>-29.19541659074254 </td><td>6.939285760018809 </td><td>-231.39132574926623</td><td>17.400082231397555 </td></tr>\n",
       "<tr><td><i style='opacity: 0.6'>4</i>      </td><td>8.955413818359375</td><td>0.039958495646715164</td><td>-0.3540340065956116</td><td>-0.7935190200805664</td><td>-6.048622238606991</td><td>0.0    </td><td>19.190335038839063</td><td>-0.47136881947517395</td><td>5.2810493    </td><td>5.585426       </td><td>4.808673       </td><td>25.251887393526133</td><td>11.057931890034865</td><td>4.6080256</td><td>-0.5525906682014465</td><td>0.5804881   </td><td>0.8526108 </td><td>-0.4314103126525879</td><td>2.025267 </td><td>0.09358150080456794</td><td>-0.526225154483346 </td><td>-0.696352107848041 </td><td>-0.46556507835771355 </td><td>-1.0620990991592407</td><td>-0.1971900761127472</td><td>0.14263589680194855</td><td>0         </td><td>1       </td><td>0            </td><td>0.014518875869908207</td><td>61.13758569650298  </td><td>11.948107439766392</td><td>29.382339057002177</td><td>250.4271112763156 </td><td>68.87585574531965 </td><td>0      </td><td>-0.3710511028766632</td><td>0.852659319186179  </td><td>-1.074652075767517 </td><td>5789.82  </td><td>-28.338640849684552</td><td>5.660935252278124 </td><td>-230.55651408402534</td><td>15.545731299267977 </td></tr>\n",
       "<tr><td>...                                </td><td>...              </td><td>...                 </td><td>...                </td><td>...                </td><td>...               </td><td>...    </td><td>...               </td><td>...                 </td><td>...          </td><td>...            </td><td>...            </td><td>...               </td><td>...               </td><td>...      </td><td>...                </td><td>...         </td><td>...       </td><td>...                </td><td>...      </td><td>...                </td><td>...                </td><td>...                </td><td>...                  </td><td>...                </td><td>...                </td><td>...                </td><td>...       </td><td>...     </td><td>...          </td><td>...                 </td><td>...                </td><td>...               </td><td>...               </td><td>...               </td><td>...               </td><td>...    </td><td>...                </td><td>...                </td><td>...                </td><td>...      </td><td>...                </td><td>...               </td><td>...                </td><td>...                </td></tr>\n",
       "<tr><td><i style='opacity: 0.6'>777,146</i></td><td>9.305075645446777</td><td>-0.2378266155719757 </td><td>-1.3668785095214844</td><td>0.2941742241382599 </td><td>70.56519849262621 </td><td>0.0    </td><td>18.905539166113332</td><td>-0.8195078372955322 </td><td>11.073721    </td><td>12.1922655     </td><td>10.075045      </td><td>38.174399389576706</td><td>142.01590439173344</td><td>5.1007876</td><td>-1.1140830516815186</td><td>0.005276722 </td><td>0.19162184</td><td>-1.0573344230651855</td><td>1.4649662</td><td>0.4806212229205568 </td><td>-1.021058139501096 </td><td>0.9010219027521454 </td><td>-0.016658478901347862</td><td>-0.6839846968650818</td><td>-0.5307199358940125</td><td>-0.5255457162857056</td><td>9999      </td><td>1       </td><td>0            </td><td>0.016553588948185365</td><td>-37.43089705565979 </td><td>29.22749300196278 </td><td>37.336749327938946</td><td>142.28269889053968</td><td>60.40986055230167 </td><td>0      </td><td>-1.154412031173706 </td><td>0.19195532240250276</td><td>-0.8922590613365173</td><td>3449.1748</td><td>-200.13428851540533</td><td>32.253911182110826</td><td>-352.5546832588768 </td><td>-15.49417409133802 </td></tr>\n",
       "<tr><td><i style='opacity: 0.6'>777,147</i></td><td>9.305075645446777</td><td>-0.2378266155719757 </td><td>-1.3668785095214844</td><td>0.2941742241382599 </td><td>70.66097545137306 </td><td>0.0    </td><td>18.907904310551615</td><td>-0.8195078372955322 </td><td>4.393872     </td><td>4.6041417      </td><td>4.026057       </td><td>38.50047387085574 </td><td>141.6377853253263 </td><td>4.4860845</td><td>-1.1140830516815186</td><td>1.3439367   </td><td>0.94891524</td><td>-1.0573344230651855</td><td>1.4649662</td><td>0.47813559996380667</td><td>-1.008763894357925 </td><td>0.8890948834759035 </td><td>-0.03871394084321317 </td><td>-0.6839846968650818</td><td>-0.5307199358940125</td><td>-0.5255457162857056</td><td>9999      </td><td>1       </td><td>0            </td><td>0.016535568772273822</td><td>-37.110383847149464</td><td>29.37350088207083 </td><td>37.647396218047405</td><td>143.57886806363783</td><td>60.47569417005842 </td><td>0      </td><td>-1.154412031173706 </td><td>0.9495150184794279 </td><td>-0.8922590613365173</td><td>6483.3794</td><td>-200.09362607405026</td><td>31.502375682636362</td><td>-350.00500778962873</td><td>-17.288400858986158</td></tr>\n",
       "<tr><td><i style='opacity: 0.6'>777,148</i></td><td>9.305075645446777</td><td>-0.2378266155719757 </td><td>-1.3668785095214844</td><td>0.2941742241382599 </td><td>71.1050520542163  </td><td>0.0    </td><td>18.899549828215044</td><td>-0.8195078372955322 </td><td>4.956447     </td><td>5.206221       </td><td>4.5379314      </td><td>38.18114495702475 </td><td>141.22033018387302</td><td>4.5750318</td><td>-1.1140830516815186</td><td>0.79509866  </td><td>0.85796845</td><td>-1.0573344230651855</td><td>1.4649662</td><td>0.486975638107543  </td><td>-1.017801605224483 </td><td>0.8943417752665164 </td><td>-0.032747144907260106</td><td>-0.6839846968650818</td><td>-0.5307199358940125</td><td>-0.5255457162857056</td><td>9999      </td><td>1       </td><td>0            </td><td>0.01659930994999401 </td><td>-36.91607743462919 </td><td>29.65972780789169 </td><td>37.239484769229335</td><td>143.24473627762688</td><td>60.243468132864216</td><td>0      </td><td>-1.154412031173706 </td><td>0.8590452870743728 </td><td>-0.8922590613365173</td><td>6137.8506</td><td>-204.0695516156158 </td><td>32.09742563371837 </td><td>-353.4194373022688 </td><td>-16.826821610885297</td></tr>\n",
       "<tr><td><i style='opacity: 0.6'>777,149</i></td><td>9.305075645446777</td><td>-0.2378266155719757 </td><td>-1.3668785095214844</td><td>0.2941742241382599 </td><td>70.8656698451947  </td><td>0.0    </td><td>18.900867667826716</td><td>-0.8195078372955322 </td><td>10.594621    </td><td>11.641227      </td><td>9.625136       </td><td>37.806210470816644</td><td>141.83704180967246</td><td>5.0599203</td><td>-1.1140830516815186</td><td>0.0077322163</td><td>0.23107986</td><td>-1.0573344230651855</td><td>1.4649662</td><td>0.4694111194943752 </td><td>-1.009608505442287 </td><td>0.8939290461074749 </td><td>-0.012108027014031186</td><td>-0.6839846968650818</td><td>-0.5307199358940125</td><td>-0.5255457162857056</td><td>9999      </td><td>1       </td><td>0            </td><td>0.01658923909138059 </td><td>-37.44670246349908 </td><td>29.428468126206724</td><td>36.95122447011347 </td><td>141.50980611922816</td><td>60.28004024124159 </td><td>0      </td><td>-1.154412031173706 </td><td>0.23218923880617048</td><td>-0.8922590613365173</td><td>3538.73  </td><td>-200.482753833522  </td><td>31.352517274239283</td><td>-349.5272617134373 </td><td>-16.914411127046478</td></tr>\n",
       "<tr><td><i style='opacity: 0.6'>777,150</i></td><td>9.305075645446777</td><td>-0.2378266155719757 </td><td>-1.3668785095214844</td><td>0.2941742241382599 </td><td>70.51618004110837 </td><td>0.0    </td><td>18.913987375631113</td><td>-0.8195078372955322 </td><td>13.286392    </td><td>15.205669      </td><td>12.079199      </td><td>38.36688007978604 </td><td>141.94989307113045</td><td>5.266395 </td><td>-1.1140830516815186</td><td>0.0010423646</td><td>0.10471569</td><td>-1.0573344230651855</td><td>1.4649662</td><td>0.4670634795860015 </td><td>-1.0104137254759011</td><td>0.8967397675022918 </td><td>-0.03680499902128176 </td><td>-0.6839846968650818</td><td>-0.5307199358940125</td><td>-0.5255457162857056</td><td>9999      </td><td>1       </td><td>0            </td><td>0.016489311595746015</td><td>-37.44360842290449 </td><td>29.30692287247164 </td><td>37.642242225974094</td><td>142.8626860130212 </td><td>60.64534557391616 </td><td>0      </td><td>-1.154412031173706 </td><td>0.10482157189458133</td><td>-0.8922590613365173</td><td>2941.8228</td><td>-200.31967986369412</td><td>30.41606528867469 </td><td>-351.1850412115929 </td><td>-19.058802371405672</td></tr>\n",
       "</tbody>\n",
       "</table>"
      ],
      "text/plain": [
       "#        age                alpha                 calcium              carbon               dec                 dform    dmod                feh                   gaia__dr2_g    gaia__dr2_gbp    gaia__dr2_grp    glat                glon                grav       helium               lum           mact        magnesium            mtip       mub                  mudec                mul                  mura                   neon                 nitrogen             oxygen               parentid    partid    partitionid    pi                    px                   py                  pz                  ra                  rad                 satid    silicon              smass                sulphur              teff       vr                   vx                  vy                   vz\n",
       "0        8.955413818359375  0.039958495646715164  -0.3540340065956116  -0.7935190200805664  -5.998792887017205  0.0      19.18746074617149   -0.47136881947517395  10.04198       11.126908        9.054153         25.249922231154617  11.125710294666277  4.9589286  -0.5525906682014465  0.013361397   0.32670912  -0.4314103126525879  2.025267   0.09922013320288019  -0.5235132378898534  -0.6965451669594975  -0.47005711802026073   -1.0620990991592407  -0.1971900761127472  0.14263589680194855  0           0         0              0.014538106659870565  61.0435431903257     12.004715919509358  29.34133874813846   250.46307071631102  68.78474779389899   0        -0.3710511028766632  0.32651486763693804  -1.074652075767517   3509.403   -27.746013324103355  5.661607360839843   -230.36080513000488  17.426230163574218\n",
       "1        8.955413818359375  0.039958495646715164  -0.3540340065956116  -0.7935190200805664  -6.078382777325507  0.0      19.17772626957188   -0.47136881947517395  10.270541      11.386944        9.270209         24.91742699976654   11.265444763667034  4.9820805  -0.5525906682014465  0.011113583   0.30133697  -0.4314103126525879  2.025267   0.09415126050247345  -0.5258482940785928  -0.6950245078461663  -0.4641197022058473    -1.0620990991592407  -0.1971900761127472  0.14263589680194855  0           1         0              0.014603425723734725  60.90639734491615    12.13210424766943   28.850194949269017  250.81175453104717  68.47708331715039   0        -0.3710511028766632  0.30107596208136506  -1.074652075767517   3471.3394  -28.69150289866353   5.927043392012581   -228.8661687232393   15.629805070899277\n",
       "2        8.955413818359375  0.039958495646715164  -0.3540340065956116  -0.7935190200805664  -5.138299267849359  0.0      19.185273899511152  -0.47136881947517395  11.133261      12.395295        10.079496        25.92187778271555   11.775691439163865  5.056068   -0.5525906682014465  0.0056239846  0.21602225  -0.4314103126525879  2.025267   0.10530709674812792  -0.5240214830221089  -0.6986598635487486  -0.47393741663935496   -1.0620990991592407  -0.1971900761127472  0.14263589680194855  0           1         0              0.01455275507266425   60.501423571082206   12.612619399096845  30.03865872017884   250.22797440201435  68.71551091232134   0        -0.3710511028766632  0.21582281895266564  -1.074652075767517   3318.9275  -29.111106621620536  6.134445883760534   -231.19801069173772  18.12615024659716\n",
       "3        8.955413818359375  0.039958495646715164  -0.3540340065956116  -0.7935190200805664  -5.524790577991773  0.0      19.207804068460238  -0.47136881947517395  11.936295      13.407313        10.819105        25.21116836639392   11.783731726053816  5.112755   -0.5525906682014465  0.0030702134  0.16282208  -0.4314103126525879  2.025267   0.10019201694127879  -0.5222007247094822  -0.6925051358329714  -0.4657340512853823    -1.0620990991592407  -0.1971900761127472  0.14263589680194855  0           1         0              0.014402543191843609  61.494482012630804   12.828645228710391  29.57503067357209   250.82704446121193  69.432181988964     0        -0.3710511028766632  0.16282207913433552  -1.074652075767517   3160.5525  -29.19541659074254   6.939285760018809   -231.39132574926623  17.400082231397555\n",
       "4        8.955413818359375  0.039958495646715164  -0.3540340065956116  -0.7935190200805664  -6.048622238606991  0.0      19.190335038839063  -0.47136881947517395  5.2810493      5.585426         4.808673         25.251887393526133  11.057931890034865  4.6080256  -0.5525906682014465  0.5804881     0.8526108   -0.4314103126525879  2.025267   0.09358150080456794  -0.526225154483346   -0.696352107848041   -0.46556507835771355   -1.0620990991592407  -0.1971900761127472  0.14263589680194855  0           1         0              0.014518875869908207  61.13758569650298    11.948107439766392  29.382339057002177  250.4271112763156   68.87585574531965   0        -0.3710511028766632  0.852659319186179    -1.074652075767517   5789.82    -28.338640849684552  5.660935252278124   -230.55651408402534  15.545731299267977\n",
       "...      ...                ...                   ...                  ...                  ...                 ...      ...                 ...                   ...            ...              ...              ...                 ...                 ...        ...                  ...           ...         ...                  ...        ...                  ...                  ...                  ...                    ...                  ...                  ...                  ...         ...       ...            ...                   ...                  ...                 ...                 ...                 ...                 ...      ...                  ...                  ...                  ...        ...                  ...                 ...                  ...\n",
       "777,146  9.305075645446777  -0.2378266155719757   -1.3668785095214844  0.2941742241382599   70.56519849262621   0.0      18.905539166113332  -0.8195078372955322   11.073721      12.1922655       10.075045        38.174399389576706  142.01590439173344  5.1007876  -1.1140830516815186  0.005276722   0.19162184  -1.0573344230651855  1.4649662  0.4806212229205568   -1.021058139501096   0.9010219027521454   -0.016658478901347862  -0.6839846968650818  -0.5307199358940125  -0.5255457162857056  9999        1         0              0.016553588948185365  -37.43089705565979   29.22749300196278   37.336749327938946  142.28269889053968  60.40986055230167   0        -1.154412031173706   0.19195532240250276  -0.8922590613365173  3449.1748  -200.13428851540533  32.253911182110826  -352.5546832588768   -15.49417409133802\n",
       "777,147  9.305075645446777  -0.2378266155719757   -1.3668785095214844  0.2941742241382599   70.66097545137306   0.0      18.907904310551615  -0.8195078372955322   4.393872       4.6041417        4.026057         38.50047387085574   141.6377853253263   4.4860845  -1.1140830516815186  1.3439367     0.94891524  -1.0573344230651855  1.4649662  0.47813559996380667  -1.008763894357925   0.8890948834759035   -0.03871394084321317   -0.6839846968650818  -0.5307199358940125  -0.5255457162857056  9999        1         0              0.016535568772273822  -37.110383847149464  29.37350088207083   37.647396218047405  143.57886806363783  60.47569417005842   0        -1.154412031173706   0.9495150184794279   -0.8922590613365173  6483.3794  -200.09362607405026  31.502375682636362  -350.00500778962873  -17.288400858986158\n",
       "777,148  9.305075645446777  -0.2378266155719757   -1.3668785095214844  0.2941742241382599   71.1050520542163    0.0      18.899549828215044  -0.8195078372955322   4.956447       5.206221         4.5379314        38.18114495702475   141.22033018387302  4.5750318  -1.1140830516815186  0.79509866    0.85796845  -1.0573344230651855  1.4649662  0.486975638107543    -1.017801605224483   0.8943417752665164   -0.032747144907260106  -0.6839846968650818  -0.5307199358940125  -0.5255457162857056  9999        1         0              0.01659930994999401   -36.91607743462919   29.65972780789169   37.239484769229335  143.24473627762688  60.243468132864216  0        -1.154412031173706   0.8590452870743728   -0.8922590613365173  6137.8506  -204.0695516156158   32.09742563371837   -353.4194373022688   -16.826821610885297\n",
       "777,149  9.305075645446777  -0.2378266155719757   -1.3668785095214844  0.2941742241382599   70.8656698451947    0.0      18.900867667826716  -0.8195078372955322   10.594621      11.641227        9.625136         37.806210470816644  141.83704180967246  5.0599203  -1.1140830516815186  0.0077322163  0.23107986  -1.0573344230651855  1.4649662  0.4694111194943752   -1.009608505442287   0.8939290461074749   -0.012108027014031186  -0.6839846968650818  -0.5307199358940125  -0.5255457162857056  9999        1         0              0.01658923909138059   -37.44670246349908   29.428468126206724  36.95122447011347   141.50980611922816  60.28004024124159   0        -1.154412031173706   0.23218923880617048  -0.8922590613365173  3538.73    -200.482753833522    31.352517274239283  -349.5272617134373   -16.914411127046478\n",
       "777,150  9.305075645446777  -0.2378266155719757   -1.3668785095214844  0.2941742241382599   70.51618004110837   0.0      18.913987375631113  -0.8195078372955322   13.286392      15.205669        12.079199        38.36688007978604   141.94989307113045  5.266395   -1.1140830516815186  0.0010423646  0.10471569  -1.0573344230651855  1.4649662  0.4670634795860015   -1.0104137254759011  0.8967397675022918   -0.03680499902128176   -0.6839846968650818  -0.5307199358940125  -0.5255457162857056  9999        1         0              0.016489311595746015  -37.44360842290449   29.30692287247164   37.642242225974094  142.8626860130212   60.64534557391616   0        -1.154412031173706   0.10482157189458133  -0.8922590613365173  2941.8228  -200.31967986369412  30.41606528867469   -351.1850412115929   -19.058802371405672"
      ]
     },
     "execution_count": 3,
     "metadata": {},
     "output_type": "execute_result"
    }
   ],
   "source": [
    "output = Galaxia_ananke.make_survey_from_particles(p, rho_pos, rho_vel, fsample=0.01, caching=True)#, simname='sim', surveyname='survey', fsample=1, ngb=64, **kwargs):\n",
    "output"
   ]
  },
  {
   "attachments": {},
   "cell_type": "markdown",
   "id": "5744efd0",
   "metadata": {},
   "source": [
    "Using LSST photometric system"
   ]
  },
  {
   "cell_type": "code",
   "execution_count": 4,
   "id": "3e04243e",
   "metadata": {},
   "outputs": [
    {
     "name": "stdout",
     "output_type": "stream",
     "text": [
      "Executing JOB 1/1 = /home/athob/miniconda3/envs/main/.cache/Galaxia_ananke/bin/galaxia -r --hdim=6 --nfile=sim_69732b6 --ngen=0 /home/athob/Software/repos/py-ananke/py-Galaxia-ananke/jupyter/survey_066bf41_params\n",
      "JOB 1/1 | CODEDATAPATH=/home/athob/miniconda3/envs/main/.cache/Galaxia_ananke/GalaxiaData/\n",
      "JOB 1/1 | Reading Parameter file-             /home/athob/Software/repos/py-ananke/py-Galaxia-ananke/jupyter/survey_066bf41_params\n",
      "JOB 1/1 | --------------------------------------------------------\n",
      "JOB 1/1 | outputFile               survey_066bf41          \n",
      "JOB 1/1 | outputDir                /home/athob/Software/repos/py-ananke/py-Galaxia-ananke/jupyter\n",
      "JOB 1/1 | photoCateg               padova                  \n",
      "JOB 1/1 | photoSys                 LSST                    \n",
      "JOB 1/1 | magcolorNames            r,g-r                   \n",
      "JOB 1/1 | appMagLimits[0]          -1000                   \n",
      "JOB 1/1 | appMagLimits[1]          1000                    \n",
      "JOB 1/1 | absMagLimits[0]          -1000                   \n",
      "JOB 1/1 | absMagLimits[1]          20                      \n",
      "JOB 1/1 | colorLimits[0]           -1000                   \n",
      "JOB 1/1 | colorLimits[1]           1000                    \n",
      "JOB 1/1 | geometryOption           0                       \n",
      "JOB 1/1 | surveyArea               207.455                 \n",
      "JOB 1/1 | fSample                  0.01                    \n",
      "JOB 1/1 | popID                    10                      \n",
      "JOB 1/1 | warpFlareOn              0                       \n",
      "JOB 1/1 | longitude                76.273                  \n",
      "JOB 1/1 | latitude                 13.4725                 \n",
      "JOB 1/1 | starType                 0                       \n",
      "JOB 1/1 | photoError               0                       \n",
      "JOB 1/1 | seed                     17052                   \n",
      "JOB 1/1 | r_max                    500                     \n",
      "JOB 1/1 | r_min                    0                       \n",
      "JOB 1/1 | nres                     64                      \n",
      "JOB 1/1 | nstart                   0                       \n",
      "JOB 1/1 | rSun[0]                  -8.121973366106948      \n",
      "JOB 1/1 | rSun[1]                  -1.4729444519452402e-11 \n",
      "JOB 1/1 | rSun[2]                  0.020800000030482345    \n",
      "JOB 1/1 | vSun[0]                  12.9                    \n",
      "JOB 1/1 | vSun[1]                  245.6                   \n",
      "JOB 1/1 | vSun[2]                  7.78                    \n",
      "JOB 1/1 | --------------------------------------------------------\n",
      "JOB 1/1 | Reading Halo Sat File=/home/athob/miniconda3/envs/main/.cache/Galaxia_ananke/GalaxiaData/nbody1/filenames/sim_69732b6.txt\n",
      "JOB 1/1 | nbody1/sim_69732b6/\n",
      "JOB 1/1 | \n",
      "JOB 1/1 | \t1\t1\n",
      "JOB 1/1 | \n",
      "JOB 1/1 | path nbody1/sim_69732b6/ sats 1 x[0] 1\n",
      "JOB 1/1 | Halo 1 Sat 0 fname nbody1/sim_69732b6/sim_69732b6.ebf 0\n",
      "JOB 1/1 | nbody1/sim_69732b6/sim_69732b6.ebf 0\n",
      "JOB 1/1 | No of Satellites   =1\n",
      "JOB 1/1 | Generating catalog. Max allowed stars is 18446744073709551615\n",
      "JOB 1/1 | Source numbering will start at 0\n",
      "JOB 1/1 | Writing to /home/athob/Software/repos/py-ananke/py-Galaxia-ananke/jupyter/survey_066bf41.sim_69732b6.0.ebf\n",
      "JOB 1/1 | Using geometry:                     All Sky\n",
      "JOB 1/1 | setting center to -8.12197 -1.47294e-11 0.0208 12.9 245.6 7.78\n",
      "JOB 1/1 | Reading Isochrones from dir-        /home/athob/miniconda3/envs/main/.cache/Galaxia_ananke/GalaxiaData/Isochrones/padova/LSST\n",
      "JOB 1/1 | Isochrone Grid Size:                (Age bins=71,Feh bins=34,Alpha bins=1)\n",
      "JOB 1/1 | Time Isochrone Reading              1.28916     \n",
      "JOB 1/1 | ------------------------------\n",
      "JOB 1/1 | nbody1/sim_69732b6/sim_69732b6.ebf  Sat No=0\n",
      "JOB 1/1 | Particles=10000\n",
      "JOB 1/1 | Satellite Info\n",
      "JOB 1/1 | Particles=10000 Mass=5.49088e+07 0.379706\n",
      "JOB 1/1 | Total Stars=781084 accepted=777873 rejected=3211\n",
      "JOB 1/1 | -----------Done---------------\n",
      "JOB 1/1 | Total stars written                 777873                  \n",
      "JOB 1/1 | 31\n",
      "JOB 1/1 | File written-                       /home/athob/Software/repos/py-ananke/py-Galaxia-ananke/jupyter/survey_066bf41.sim_69732b6.0.ebf\n",
      "JOB 1/1 | Calculating magnitudes in LSST system................\n",
      "JOB 1/1 | initializing isochrone data\n",
      "JOB 1/1 | interpolating on isochrone tables\n",
      "JOB 1/1 | Total Time=                         2.24403     \n",
      "Running convert_cartesian_to_galactic post-processing pipeline\n",
      "Running convert_galactic_to_icrs post-processing pipeline\n",
      "Running last_conversions post-processing pipeline\n"
     ]
    },
    {
     "name": "stdout",
     "output_type": "stream",
     "text": [
      "Exported the following quantities from /home/athob/Software/repos/py-ananke/py-Galaxia-ananke/jupyter/survey_066bf41.sim_69732b6.0.ebf to /home/athob/Software/repos/py-ananke/py-Galaxia-ananke/jupyter/survey_066bf41.sim_69732b6.0.h5 for partition 0\n",
      "['age', 'alpha', 'calcium', 'carbon', 'dform', 'dmod', 'feh', 'grav', 'helium', 'lsst_g', 'lsst_i', 'lsst_r', 'lsst_u', 'lsst_y', 'lsst_z', 'lum', 'mact', 'magnesium', 'mtip', 'neon', 'nitrogen', 'oxygen', 'parentid', 'partid', 'partitionid', 'px', 'py', 'pz', 'rad', 'satid', 'silicon', 'smass', 'sulphur', 'teff', 'vx', 'vy', 'vz']\n",
      "Exported the following quantities to /home/athob/Software/repos/py-ananke/py-Galaxia-ananke/jupyter/survey_066bf41.sim_69732b6.0.h5\n",
      "['glat', 'mub', 'mul', 'vr', 'glon']\n",
      "Overwritten the following quantities to /home/athob/Software/repos/py-ananke/py-Galaxia-ananke/jupyter/survey_066bf41.sim_69732b6.0.h5\n",
      "['rad']\n",
      "Exported the following quantities to /home/athob/Software/repos/py-ananke/py-Galaxia-ananke/jupyter/survey_066bf41.sim_69732b6.0.h5\n",
      "['mudec', 'ra', 'dec', 'mura']\n",
      "Exported the following quantities to /home/athob/Software/repos/py-ananke/py-Galaxia-ananke/jupyter/survey_066bf41.sim_69732b6.0.h5\n",
      "['pi']\n",
      "Overwritten the following quantities to /home/athob/Software/repos/py-ananke/py-Galaxia-ananke/jupyter/survey_066bf41.sim_69732b6.0.h5\n",
      "['lum', 'teff']\n"
     ]
    },
    {
     "data": {
      "text/html": [
       "<pre style=\"white-space:pre;overflow-x:auto;line-height:normal;font-family:Menlo,'DejaVu Sans Mono',consolas,'Courier New',monospace\"><span style=\"color: #7fbfbf; text-decoration-color: #7fbfbf\">[12/13/24 01:19:47] </span><span style=\"color: #800000; text-decoration-color: #800000\">WARNING </span> could not close memmap for column                                   <a href=\"file:///home/athob/miniconda3/envs/main/lib/python3.10/site-packages/vaex/dataset_mmap.py\" target=\"_blank\"><span style=\"color: #7f7f7f; text-decoration-color: #7f7f7f\">dataset_mmap.py</span></a><span style=\"color: #7f7f7f; text-decoration-color: #7f7f7f\">:</span><a href=\"file:///home/athob/miniconda3/envs/main/lib/python3.10/site-packages/vaex/dataset_mmap.py#94\" target=\"_blank\"><span style=\"color: #7f7f7f; text-decoration-color: #7f7f7f\">94</span></a>\n",
       "<span style=\"color: #7fbfbf; text-decoration-color: #7fbfbf\">                    </span>         <span style=\"color: #800080; text-decoration-color: #800080\">/home/athob/Software/repos/py-ananke/py-Galaxia-ananke/jupyter/</span><span style=\"color: #ff00ff; text-decoration-color: #ff00ff\">surv</span> <span style=\"color: #7f7f7f; text-decoration-color: #7f7f7f\">                  </span>\n",
       "<span style=\"color: #7fbfbf; text-decoration-color: #7fbfbf\">                    </span>         <span style=\"color: #ff00ff; text-decoration-color: #ff00ff\">ey_066bf41.sim_69732b6.0.h5</span>                                         <span style=\"color: #7f7f7f; text-decoration-color: #7f7f7f\">                  </span>\n",
       "</pre>\n"
      ],
      "text/plain": [
       "\u001b[2;36m[12/13/24 01:19:47]\u001b[0m\u001b[2;36m \u001b[0m\u001b[31mWARNING \u001b[0m could not close memmap for column                                   \u001b]8;id=707265;file:///home/athob/miniconda3/envs/main/lib/python3.10/site-packages/vaex/dataset_mmap.py\u001b\\\u001b[2mdataset_mmap.py\u001b[0m\u001b]8;;\u001b\\\u001b[2m:\u001b[0m\u001b]8;id=793081;file:///home/athob/miniconda3/envs/main/lib/python3.10/site-packages/vaex/dataset_mmap.py#94\u001b\\\u001b[2m94\u001b[0m\u001b]8;;\u001b\\\n",
       "\u001b[2;36m                    \u001b[0m         \u001b[35m/home/athob/Software/repos/py-ananke/py-Galaxia-ananke/jupyter/\u001b[0m\u001b[95msurv\u001b[0m \u001b[2m                  \u001b[0m\n",
       "\u001b[2;36m                    \u001b[0m         \u001b[95mey_066bf41.sim_69732b6.0.h5\u001b[0m                                         \u001b[2m                  \u001b[0m\n"
      ]
     },
     "metadata": {},
     "output_type": "display_data"
    },
    {
     "data": {
      "text/html": [
       "<style>.vaex-description pre {\n",
       "          max-width : 450px;\n",
       "          white-space : nowrap;\n",
       "          overflow : hidden;\n",
       "          text-overflow: ellipsis;\n",
       "        }\n",
       "\n",
       "        .vex-description pre:hover {\n",
       "          max-width : initial;\n",
       "          white-space: pre;\n",
       "        }</style>"
      ],
      "text/plain": [
       "<IPython.core.display.HTML object>"
      ]
     },
     "metadata": {},
     "output_type": "display_data"
    },
    {
     "data": {
      "text/html": [
       "<table>\n",
       "<thead>\n",
       "<tr><th>#                                  </th><th>age              </th><th>alpha               </th><th>calcium            </th><th>carbon             </th><th>dec               </th><th>dform  </th><th>dmod              </th><th>feh                 </th><th>glat              </th><th>glon              </th><th>grav     </th><th>helium             </th><th>lsst_g   </th><th>lsst_i    </th><th>lsst_r    </th><th>lsst_u    </th><th>lsst_y   </th><th>lsst_z   </th><th>lum         </th><th>mact      </th><th>magnesium          </th><th>mtip     </th><th>mub                </th><th>mudec              </th><th>mul                </th><th>mura                 </th><th>neon               </th><th>nitrogen           </th><th>oxygen             </th><th>parentid  </th><th>partid  </th><th>partitionid  </th><th>pi                  </th><th>px                 </th><th>py                </th><th>pz                </th><th>ra                </th><th>rad               </th><th>satid  </th><th>silicon            </th><th>smass              </th><th>sulphur            </th><th>teff     </th><th>vr                 </th><th>vx                </th><th>vy                 </th><th>vz                 </th></tr>\n",
       "</thead>\n",
       "<tbody>\n",
       "<tr><td><i style='opacity: 0.6'>0</i>      </td><td>8.955413818359375</td><td>0.039958495646715164</td><td>-0.3540340065956116</td><td>-0.7935190200805664</td><td>-5.998792887017205</td><td>0.0    </td><td>19.18746074617149 </td><td>-0.47136881947517395</td><td>25.249922231154617</td><td>11.125710294666277</td><td>4.956889 </td><td>-0.5525906682014465</td><td>11.814668</td><td>9.547248  </td><td>10.4232235</td><td>14.944483 </td><td>8.925199 </td><td>9.120841 </td><td>0.0127317635</td><td>0.3256295 </td><td>-0.4314103126525879</td><td>2.0520527</td><td>0.09922013320288019</td><td>-0.5235132378898534</td><td>-0.6965451669594975</td><td>-0.47005711802026073 </td><td>-1.0620990991592407</td><td>-0.1971900761127472</td><td>0.14263589680194855</td><td>0         </td><td>0       </td><td>0            </td><td>0.014538106659870565</td><td>61.0435431903257   </td><td>12.004715919509358</td><td>29.34133874813846 </td><td>250.46307071631102</td><td>68.78474779389899 </td><td>0      </td><td>-0.3710511028766632</td><td>0.32685696251341934</td><td>-1.074652075767517 </td><td>3464.6377</td><td>-27.746013324103355</td><td>5.661607360839843 </td><td>-230.36080513000488</td><td>17.426230163574218 </td></tr>\n",
       "<tr><td><i style='opacity: 0.6'>1</i>      </td><td>8.955413818359375</td><td>0.039958495646715164</td><td>-0.3540340065956116</td><td>-0.7935190200805664</td><td>-6.078382777325507</td><td>0.0    </td><td>19.17772626957188 </td><td>-0.47136881947517395</td><td>24.91742699976654 </td><td>11.265444763667034</td><td>4.980146 </td><td>-0.5525906682014465</td><td>12.077761</td><td>9.762882  </td><td>10.675743 </td><td>15.2433195</td><td>9.118245 </td><td>9.318753 </td><td>0.010647819 </td><td>0.3004575 </td><td>-0.4314103126525879</td><td>2.0520527</td><td>0.09415126050247345</td><td>-0.5258482940785928</td><td>-0.6950245078461663</td><td>-0.4641197022058473  </td><td>-1.0620990991592407</td><td>-0.1971900761127472</td><td>0.14263589680194855</td><td>0         </td><td>1       </td><td>0            </td><td>0.014603425723734725</td><td>60.90639734491615  </td><td>12.13210424766943 </td><td>28.850194949269017</td><td>250.81175453104717</td><td>68.47708331715039 </td><td>0      </td><td>-0.3710511028766632</td><td>0.3013677440371474 </td><td>-1.074652075767517 </td><td>3426.9844</td><td>-28.69150289866353 </td><td>5.927043392012581 </td><td>-228.8661687232393 </td><td>15.629805070899277 </td></tr>\n",
       "<tr><td><i style='opacity: 0.6'>2</i>      </td><td>8.955413818359375</td><td>0.039958495646715164</td><td>-0.3540340065956116</td><td>-0.7935190200805664</td><td>-5.138299267849359</td><td>0.0    </td><td>19.185273899511152</td><td>-0.47136881947517395</td><td>25.92187778271555 </td><td>11.775691439163865</td><td>5.0514407</td><td>-0.5525906682014465</td><td>13.179893</td><td>10.6199045</td><td>11.725874 </td><td>16.566612 </td><td>9.868971 </td><td>10.095454</td><td>0.0052974075</td><td>0.21518832</td><td>-0.4314103126525879</td><td>2.0520527</td><td>0.10530709674812792</td><td>-0.5240214830221089</td><td>-0.6986598635487486</td><td>-0.47393741663935496 </td><td>-1.0620990991592407</td><td>-0.1971900761127472</td><td>0.14263589680194855</td><td>0         </td><td>1       </td><td>0            </td><td>0.01455275507266425 </td><td>60.501423571082206 </td><td>12.612619399096845</td><td>30.03865872017884 </td><td>250.22797440201435</td><td>68.71551091232134 </td><td>0      </td><td>-0.3710511028766632</td><td>0.21596653094270554</td><td>-1.074652075767517 </td><td>3265.071 </td><td>-29.111106621620536</td><td>6.134445883760534 </td><td>-231.19801069173772</td><td>18.12615024659716  </td></tr>\n",
       "<tr><td><i style='opacity: 0.6'>3</i>      </td><td>8.955413818359375</td><td>0.039958495646715164</td><td>-0.3540340065956116</td><td>-0.7935190200805664</td><td>-5.524790577991773</td><td>0.0    </td><td>19.207804068460238</td><td>-0.47136881947517395</td><td>25.21116836639392 </td><td>11.783731726053816</td><td>5.1080246</td><td>-0.5525906682014465</td><td>14.2647  </td><td>11.39878  </td><td>12.758788 </td><td>17.946392 </td><td>10.524056</td><td>10.781293</td><td>0.0028832862</td><td>0.16220216</td><td>-0.4314103126525879</td><td>2.0520527</td><td>0.10019201694127879</td><td>-0.5222007247094822</td><td>-0.6925051358329714</td><td>-0.4657340512853823  </td><td>-1.0620990991592407</td><td>-0.1971900761127472</td><td>0.14263589680194855</td><td>0         </td><td>1       </td><td>0            </td><td>0.014402543191843609</td><td>61.494482012630804 </td><td>12.828645228710391</td><td>29.57503067357209 </td><td>250.82704446121193</td><td>69.432181988964   </td><td>0      </td><td>-0.3710511028766632</td><td>0.16289241615423433</td><td>-1.074652075767517 </td><td>3105.4434</td><td>-29.19541659074254 </td><td>6.939285760018809 </td><td>-231.39132574926623</td><td>17.400082231397555 </td></tr>\n",
       "<tr><td><i style='opacity: 0.6'>4</i>      </td><td>8.955413818359375</td><td>0.039958495646715164</td><td>-0.3540340065956116</td><td>-0.7935190200805664</td><td>-6.048622238606991</td><td>0.0    </td><td>19.190335038839063</td><td>-0.47136881947517395</td><td>25.251887393526133</td><td>11.057931890034865</td><td>4.6053805</td><td>-0.5525906682014465</td><td>5.749734 </td><td>5.2037826 </td><td>5.327181  </td><td>6.9090657 </td><td>5.164723 </td><td>5.177592 </td><td>0.55535775  </td><td>0.8556554 </td><td>-0.4314103126525879</td><td>2.0520527</td><td>0.09358150080456794</td><td>-0.526225154483346 </td><td>-0.696352107848041 </td><td>-0.46556507835771355 </td><td>-1.0620990991592407</td><td>-0.1971900761127472</td><td>0.14263589680194855</td><td>0         </td><td>1       </td><td>0            </td><td>0.014518875869908207</td><td>61.13758569650298  </td><td>11.948107439766392</td><td>29.382339057002177</td><td>250.4271112763156 </td><td>68.87585574531965 </td><td>0      </td><td>-0.3710511028766632</td><td>0.8556553660362554 </td><td>-1.074652075767517 </td><td>5715.7837</td><td>-28.338640849684552</td><td>5.660935252278124 </td><td>-230.55651408402534</td><td>15.545731299267977 </td></tr>\n",
       "<tr><td>...                                </td><td>...              </td><td>...                 </td><td>...                </td><td>...                </td><td>...               </td><td>...    </td><td>...               </td><td>...                 </td><td>...               </td><td>...               </td><td>...      </td><td>...                </td><td>...      </td><td>...       </td><td>...       </td><td>...       </td><td>...      </td><td>...      </td><td>...         </td><td>...       </td><td>...                </td><td>...      </td><td>...                </td><td>...                </td><td>...                </td><td>...                  </td><td>...                </td><td>...                </td><td>...                </td><td>...       </td><td>...     </td><td>...          </td><td>...                 </td><td>...                </td><td>...               </td><td>...               </td><td>...               </td><td>...               </td><td>...    </td><td>...                </td><td>...                </td><td>...                </td><td>...      </td><td>...                </td><td>...               </td><td>...                </td><td>...                </td></tr>\n",
       "<tr><td><i style='opacity: 0.6'>777,868</i></td><td>9.305075645446777</td><td>-0.2378266155719757 </td><td>-1.3668785095214844</td><td>0.2941742241382599 </td><td>71.14916416192828 </td><td>0.0    </td><td>18.915389348359312</td><td>-0.8195078372955322 </td><td>38.08879309196555 </td><td>141.22396745814407</td><td>5.077728 </td><td>-1.1140830516815186</td><td>12.706178</td><td>10.378463 </td><td>11.242583 </td><td>16.069689 </td><td>9.774469 </td><td>9.967869 </td><td>0.0058978247</td><td>0.20727257</td><td>-1.0573344230651855</td><td>1.4815284</td><td>0.47981042191404777</td><td>-1.0057106829659042</td><td>0.8843734523066897 </td><td>-0.029672652231349128</td><td>-0.6839846968650818</td><td>-0.5307199358940125</td><td>-0.5255457162857056</td><td>9999      </td><td>1       </td><td>0            </td><td>0.016478668999531026</td><td>-37.23532715551288 </td><td>29.912335278865868</td><td>37.435180042567325</td><td>142.9937509767387 </td><td>60.68451281037682 </td><td>0      </td><td>-1.154412031173706 </td><td>0.20739775222749632</td><td>-0.8922590613365173</td><td>3433.1682</td><td>-203.03329089858252</td><td>31.62815218836498 </td><td>-351.7425503388868 </td><td>-16.611397357315703</td></tr>\n",
       "<tr><td><i style='opacity: 0.6'>777,869</i></td><td>9.305075645446777</td><td>-0.2378266155719757 </td><td>-1.3668785095214844</td><td>0.2941742241382599 </td><td>70.64778001539143 </td><td>0.0    </td><td>18.91784291525392 </td><td>-0.8195078372955322 </td><td>38.31614351884711 </td><td>141.7936403409327 </td><td>5.1705804</td><td>-1.1140830516815186</td><td>14.293644</td><td>11.533323 </td><td>12.72888  </td><td>18.164074 </td><td>10.773575</td><td>11.000347</td><td>0.0023242047</td><td>0.1373017 </td><td>-1.0573344230651855</td><td>1.4815284</td><td>0.4789051242302819 </td><td>-1.009508688115502 </td><td>0.8890415528219286 </td><td>-0.025243004523341828</td><td>-0.6839846968650818</td><td>-0.5307199358940125</td><td>-0.5255457162857056</td><td>9999      </td><td>1       </td><td>0            </td><td>0.01646006011314849 </td><td>-37.456169630530034</td><td>29.48183168252376 </td><td>37.66694165159224 </td><td>142.91256116463876</td><td>60.75311955885193 </td><td>0      </td><td>-1.154412031173706 </td><td>0.13758898350959411</td><td>-0.8922590613365173</td><td>3179.7869</td><td>-200.4608245526819 </td><td>32.42407627057767 </td><td>-351.3626823452032 </td><td>-16.0704122248319  </td></tr>\n",
       "<tr><td><i style='opacity: 0.6'>777,870</i></td><td>9.305075645446777</td><td>-0.2378266155719757 </td><td>-1.3668785095214844</td><td>0.2941742241382599 </td><td>70.79679481987783 </td><td>0.0    </td><td>18.91941844632534 </td><td>-0.8195078372955322 </td><td>38.04480171760756 </td><td>141.77069756627645</td><td>4.9155803</td><td>-1.1140830516815186</td><td>10.867679</td><td>8.871194  </td><td>9.514845  </td><td>13.866657 </td><td>8.400629 </td><td>8.562502 </td><td>0.02127748  </td><td>0.37615186</td><td>-1.0573344230651855</td><td>1.4815284</td><td>0.4681306326169223 </td><td>-0.9987048904559559</td><td>0.8824252503356436 </td><td>-0.020227540720500647</td><td>-0.6839846968650818</td><td>-0.5307199358940125</td><td>-0.5255457162857056</td><td>9999      </td><td>1       </td><td>0            </td><td>0.01644812170203812 </td><td>-37.611347622281606</td><td>29.628371391225148</td><td>37.4679536883425  </td><td>142.22353289834294</td><td>60.797215518905595</td><td>0      </td><td>-1.154412031173706 </td><td>0.3765257616246644 </td><td>-0.8922590613365173</td><td>3714.0078</td><td>-201.8773850764592 </td><td>32.82750763111112 </td><td>-349.6133944779095 </td><td>-18.160068161743702</td></tr>\n",
       "<tr><td><i style='opacity: 0.6'>777,871</i></td><td>9.305075645446777</td><td>-0.2378266155719757 </td><td>-1.3668785095214844</td><td>0.2941742241382599 </td><td>70.45727296692665 </td><td>0.0    </td><td>18.90581209256463 </td><td>-0.8195078372955322 </td><td>38.21004226359997 </td><td>142.14774441588455</td><td>4.6833525</td><td>-1.1140830516815186</td><td>6.7504525</td><td>5.9996624 </td><td>6.1906996 </td><td>8.175334  </td><td>5.889955 </td><td>5.929972 </td><td>0.26113397  </td><td>0.6946221 </td><td>-1.0573344230651855</td><td>1.4815284</td><td>0.4762834318613521 </td><td>-1.0220547095190178</td><td>0.9045105693706629 </td><td>-0.019734444984923216</td><td>-0.6839846968650818</td><td>-0.5307199358940125</td><td>-0.5255457162857056</td><td>9999      </td><td>1       </td><td>0            </td><td>0.016551508503433714</td><td>-37.48441570586588 </td><td>29.130688594717252</td><td>37.37098182385439 </td><td>142.22588399674345</td><td>60.41745378027288 </td><td>0      </td><td>-1.154412031173706 </td><td>0.6949526272233599 </td><td>-0.8922590613365173</td><td>5213.6787</td><td>-200.98401163128855</td><td>32.35325576361895 </td><td>-353.23285969726294</td><td>-17.133157233626516</td></tr>\n",
       "<tr><td><i style='opacity: 0.6'>777,872</i></td><td>9.305075645446777</td><td>-0.2378266155719757 </td><td>-1.3668785095214844</td><td>0.2941742241382599 </td><td>70.1409583912195  </td><td>0.0    </td><td>18.910773300011982</td><td>-0.8195078372955322 </td><td>38.338846093944476</td><td>142.51729031279788</td><td>4.5944324</td><td>-1.1140830516815186</td><td>5.4918895</td><td>5.05174   </td><td>5.1494565 </td><td>6.4501815 </td><td>5.040024 </td><td>5.040453 </td><td>0.6707489   </td><td>0.83971   </td><td>-1.0573344230651855</td><td>1.4815284</td><td>0.4669553358403041 </td><td>-1.0172834372867383</td><td>0.9040552376790462 </td><td>-0.02230620242724418 </td><td>-0.6839846968650818</td><td>-0.5307199358940125</td><td>-0.5255457162857056</td><td>9999      </td><td>1       </td><td>0            </td><td>0.016513736099396947</td><td>-37.690774557680776</td><td>28.90308170785773 </td><td>37.563332601583895</td><td>142.1473497158053 </td><td>60.55564858133577 </td><td>0      </td><td>-1.154412031173706 </td><td>0.8402825702069926 </td><td>-0.8922590613365173</td><td>5979.9644</td><td>-198.8113280263578 </td><td>31.801936918984524</td><td>-351.42950686646566</td><td>-18.185647550860555</td></tr>\n",
       "</tbody>\n",
       "</table>"
      ],
      "text/plain": [
       "#        age                alpha                 calcium              carbon               dec                 dform    dmod                feh                   glat                glon                grav       helium               lsst_g     lsst_i      lsst_r      lsst_u      lsst_y     lsst_z     lum           mact        magnesium            mtip       mub                  mudec                mul                  mura                   neon                 nitrogen             oxygen               parentid    partid    partitionid    pi                    px                   py                  pz                  ra                  rad                 satid    silicon              smass                sulphur              teff       vr                   vx                  vy                   vz\n",
       "0        8.955413818359375  0.039958495646715164  -0.3540340065956116  -0.7935190200805664  -5.998792887017205  0.0      19.18746074617149   -0.47136881947517395  25.249922231154617  11.125710294666277  4.956889   -0.5525906682014465  11.814668  9.547248    10.4232235  14.944483   8.925199   9.120841   0.0127317635  0.3256295   -0.4314103126525879  2.0520527  0.09922013320288019  -0.5235132378898534  -0.6965451669594975  -0.47005711802026073   -1.0620990991592407  -0.1971900761127472  0.14263589680194855  0           0         0              0.014538106659870565  61.0435431903257     12.004715919509358  29.34133874813846   250.46307071631102  68.78474779389899   0        -0.3710511028766632  0.32685696251341934  -1.074652075767517   3464.6377  -27.746013324103355  5.661607360839843   -230.36080513000488  17.426230163574218\n",
       "1        8.955413818359375  0.039958495646715164  -0.3540340065956116  -0.7935190200805664  -6.078382777325507  0.0      19.17772626957188   -0.47136881947517395  24.91742699976654   11.265444763667034  4.980146   -0.5525906682014465  12.077761  9.762882    10.675743   15.2433195  9.118245   9.318753   0.010647819   0.3004575   -0.4314103126525879  2.0520527  0.09415126050247345  -0.5258482940785928  -0.6950245078461663  -0.4641197022058473    -1.0620990991592407  -0.1971900761127472  0.14263589680194855  0           1         0              0.014603425723734725  60.90639734491615    12.13210424766943   28.850194949269017  250.81175453104717  68.47708331715039   0        -0.3710511028766632  0.3013677440371474   -1.074652075767517   3426.9844  -28.69150289866353   5.927043392012581   -228.8661687232393   15.629805070899277\n",
       "2        8.955413818359375  0.039958495646715164  -0.3540340065956116  -0.7935190200805664  -5.138299267849359  0.0      19.185273899511152  -0.47136881947517395  25.92187778271555   11.775691439163865  5.0514407  -0.5525906682014465  13.179893  10.6199045  11.725874   16.566612   9.868971   10.095454  0.0052974075  0.21518832  -0.4314103126525879  2.0520527  0.10530709674812792  -0.5240214830221089  -0.6986598635487486  -0.47393741663935496   -1.0620990991592407  -0.1971900761127472  0.14263589680194855  0           1         0              0.01455275507266425   60.501423571082206   12.612619399096845  30.03865872017884   250.22797440201435  68.71551091232134   0        -0.3710511028766632  0.21596653094270554  -1.074652075767517   3265.071   -29.111106621620536  6.134445883760534   -231.19801069173772  18.12615024659716\n",
       "3        8.955413818359375  0.039958495646715164  -0.3540340065956116  -0.7935190200805664  -5.524790577991773  0.0      19.207804068460238  -0.47136881947517395  25.21116836639392   11.783731726053816  5.1080246  -0.5525906682014465  14.2647    11.39878    12.758788   17.946392   10.524056  10.781293  0.0028832862  0.16220216  -0.4314103126525879  2.0520527  0.10019201694127879  -0.5222007247094822  -0.6925051358329714  -0.4657340512853823    -1.0620990991592407  -0.1971900761127472  0.14263589680194855  0           1         0              0.014402543191843609  61.494482012630804   12.828645228710391  29.57503067357209   250.82704446121193  69.432181988964     0        -0.3710511028766632  0.16289241615423433  -1.074652075767517   3105.4434  -29.19541659074254   6.939285760018809   -231.39132574926623  17.400082231397555\n",
       "4        8.955413818359375  0.039958495646715164  -0.3540340065956116  -0.7935190200805664  -6.048622238606991  0.0      19.190335038839063  -0.47136881947517395  25.251887393526133  11.057931890034865  4.6053805  -0.5525906682014465  5.749734   5.2037826   5.327181    6.9090657   5.164723   5.177592   0.55535775    0.8556554   -0.4314103126525879  2.0520527  0.09358150080456794  -0.526225154483346   -0.696352107848041   -0.46556507835771355   -1.0620990991592407  -0.1971900761127472  0.14263589680194855  0           1         0              0.014518875869908207  61.13758569650298    11.948107439766392  29.382339057002177  250.4271112763156   68.87585574531965   0        -0.3710511028766632  0.8556553660362554   -1.074652075767517   5715.7837  -28.338640849684552  5.660935252278124   -230.55651408402534  15.545731299267977\n",
       "...      ...                ...                   ...                  ...                  ...                 ...      ...                 ...                   ...                 ...                 ...        ...                  ...        ...         ...         ...         ...        ...        ...           ...         ...                  ...        ...                  ...                  ...                  ...                    ...                  ...                  ...                  ...         ...       ...            ...                   ...                  ...                 ...                 ...                 ...                 ...      ...                  ...                  ...                  ...        ...                  ...                 ...                  ...\n",
       "777,868  9.305075645446777  -0.2378266155719757   -1.3668785095214844  0.2941742241382599   71.14916416192828   0.0      18.915389348359312  -0.8195078372955322   38.08879309196555   141.22396745814407  5.077728   -1.1140830516815186  12.706178  10.378463   11.242583   16.069689   9.774469   9.967869   0.0058978247  0.20727257  -1.0573344230651855  1.4815284  0.47981042191404777  -1.0057106829659042  0.8843734523066897   -0.029672652231349128  -0.6839846968650818  -0.5307199358940125  -0.5255457162857056  9999        1         0              0.016478668999531026  -37.23532715551288   29.912335278865868  37.435180042567325  142.9937509767387   60.68451281037682   0        -1.154412031173706   0.20739775222749632  -0.8922590613365173  3433.1682  -203.03329089858252  31.62815218836498   -351.7425503388868   -16.611397357315703\n",
       "777,869  9.305075645446777  -0.2378266155719757   -1.3668785095214844  0.2941742241382599   70.64778001539143   0.0      18.91784291525392   -0.8195078372955322   38.31614351884711   141.7936403409327   5.1705804  -1.1140830516815186  14.293644  11.533323   12.72888    18.164074   10.773575  11.000347  0.0023242047  0.1373017   -1.0573344230651855  1.4815284  0.4789051242302819   -1.009508688115502   0.8890415528219286   -0.025243004523341828  -0.6839846968650818  -0.5307199358940125  -0.5255457162857056  9999        1         0              0.01646006011314849   -37.456169630530034  29.48183168252376   37.66694165159224   142.91256116463876  60.75311955885193   0        -1.154412031173706   0.13758898350959411  -0.8922590613365173  3179.7869  -200.4608245526819   32.42407627057767   -351.3626823452032   -16.0704122248319\n",
       "777,870  9.305075645446777  -0.2378266155719757   -1.3668785095214844  0.2941742241382599   70.79679481987783   0.0      18.91941844632534   -0.8195078372955322   38.04480171760756   141.77069756627645  4.9155803  -1.1140830516815186  10.867679  8.871194    9.514845    13.866657   8.400629   8.562502   0.02127748    0.37615186  -1.0573344230651855  1.4815284  0.4681306326169223   -0.9987048904559559  0.8824252503356436   -0.020227540720500647  -0.6839846968650818  -0.5307199358940125  -0.5255457162857056  9999        1         0              0.01644812170203812   -37.611347622281606  29.628371391225148  37.4679536883425    142.22353289834294  60.797215518905595  0        -1.154412031173706   0.3765257616246644   -0.8922590613365173  3714.0078  -201.8773850764592   32.82750763111112   -349.6133944779095   -18.160068161743702\n",
       "777,871  9.305075645446777  -0.2378266155719757   -1.3668785095214844  0.2941742241382599   70.45727296692665   0.0      18.90581209256463   -0.8195078372955322   38.21004226359997   142.14774441588455  4.6833525  -1.1140830516815186  6.7504525  5.9996624   6.1906996   8.175334    5.889955   5.929972   0.26113397    0.6946221   -1.0573344230651855  1.4815284  0.4762834318613521   -1.0220547095190178  0.9045105693706629   -0.019734444984923216  -0.6839846968650818  -0.5307199358940125  -0.5255457162857056  9999        1         0              0.016551508503433714  -37.48441570586588   29.130688594717252  37.37098182385439   142.22588399674345  60.41745378027288   0        -1.154412031173706   0.6949526272233599   -0.8922590613365173  5213.6787  -200.98401163128855  32.35325576361895   -353.23285969726294  -17.133157233626516\n",
       "777,872  9.305075645446777  -0.2378266155719757   -1.3668785095214844  0.2941742241382599   70.1409583912195    0.0      18.910773300011982  -0.8195078372955322   38.338846093944476  142.51729031279788  4.5944324  -1.1140830516815186  5.4918895  5.05174     5.1494565   6.4501815   5.040024   5.040453   0.6707489     0.83971     -1.0573344230651855  1.4815284  0.4669553358403041   -1.0172834372867383  0.9040552376790462   -0.02230620242724418   -0.6839846968650818  -0.5307199358940125  -0.5255457162857056  9999        1         0              0.016513736099396947  -37.690774557680776  28.90308170785773   37.563332601583895  142.1473497158053   60.55564858133577   0        -1.154412031173706   0.8402825702069926   -0.8922590613365173  5979.9644  -198.8113280263578   31.801936918984524  -351.42950686646566  -18.185647550860555"
      ]
     },
     "execution_count": 4,
     "metadata": {},
     "output_type": "execute_result"
    }
   ],
   "source": [
    "output = Galaxia_ananke.make_survey_from_particles(p, rho_pos, rho_vel, fsample=0.01, photo_sys='padova/LSST', cmd_magnames='r,g-r', caching=True)#, simname='sim', surveyname='survey', fsample=1, ngb=64, **kwargs):\n",
    "output"
   ]
  }
 ],
 "metadata": {
  "kernelspec": {
   "display_name": "main",
   "language": "python",
   "name": "python3"
  },
  "language_info": {
   "codemirror_mode": {
    "name": "ipython",
    "version": 3
   },
   "file_extension": ".py",
   "mimetype": "text/x-python",
   "name": "python",
   "nbconvert_exporter": "python",
   "pygments_lexer": "ipython3",
   "version": "3.10.13"
  }
 },
 "nbformat": 4,
 "nbformat_minor": 5
}
