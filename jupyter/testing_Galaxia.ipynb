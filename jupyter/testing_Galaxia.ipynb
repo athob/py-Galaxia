{
 "cells": [
  {
   "cell_type": "code",
   "execution_count": null,
   "id": "f130bf6c",
   "metadata": {},
   "outputs": [],
   "source": [
    "import numpy as np\n",
    "import Galaxia"
   ]
  },
  {
   "cell_type": "code",
   "execution_count": null,
   "id": "fa0e3b78",
   "metadata": {},
   "outputs": [],
   "source": [
    "np.random.seed(0)\n",
    "n_parts = 100000\n",
    "el_list = ['helium', 'carbon', 'nitrogen', 'oxygen', 'neon', 'magnesium', 'silicon', 'sulphur', 'calcium']\n",
    "\n",
    "p = {}\n",
    "p['pos3'] = 30*np.random.randn(n_parts, 3)  # position in kpc\n",
    "p['vel3'] = 50*np.random.randn(n_parts, 3)  # velocity in km/s\n",
    "p['mass'] = 5500 + 700*np.random.randn(n_parts)  # mass in solar masses\n",
    "p['age'] = 9.7 + 0.4*np.random.randn(n_parts)  # log age in Gyr (also needed for isochrone sampling)\n",
    "p['feh'] = -0.7 + 0.4*np.random.randn(n_parts)  # [Fe/H]\n",
    "for el in el_list:  # other abundances in the list as [X/H]\n",
    "    p[el] = -0.6 + 0.4*np.random.randn(n_parts)\n",
    "p['alpha'] = p['magnesium'] - p['feh']  # [Mg/Fe]\n",
    "\n",
    "p['parentid'] = np.arange(n_parts)  # indices of parent particles in snapshot\n",
    "p['dform'] = np.zeros(n_parts, dtype='float32')  # dummy variable for now\n",
    "\n",
    "\n",
    "rho = {'pos': np.exp(-2.9 + 1.1*np.random.randn(n_parts)), 'vel': np.exp(-4.4 + 1.1*np.random.randn(n_parts))}"
   ]
  },
  {
   "attachments": {},
   "cell_type": "markdown",
   "id": "44249eee",
   "metadata": {},
   "source": [
    "Using default photometric system"
   ]
  },
  {
   "cell_type": "code",
   "execution_count": null,
   "id": "1c60e7b4",
   "metadata": {},
   "outputs": [],
   "source": [
    "output = Galaxia.make_survey_from_particles(p, rho['pos'], rho['vel'], fsample=0.01)#, simname='sim', surveyname='survey', fsample=1, ngb=64, knorm=0.596831, **kwargs):\n",
    "output"
   ]
  },
  {
   "attachments": {},
   "cell_type": "markdown",
   "id": "5744efd0",
   "metadata": {},
   "source": [
    "Using LSST photometric system"
   ]
  },
  {
   "cell_type": "code",
   "execution_count": null,
   "id": "3e04243e",
   "metadata": {},
   "outputs": [],
   "source": [
    "output = Galaxia.make_survey_from_particles(p, rho['pos'], rho['vel'], fsample=0.01, photo_sys='padova/LSST', cmd_magnames='rmag,gmag-rmag')#, simname='sim', surveyname='survey', fsample=1, ngb=64, knorm=0.596831, **kwargs):\n",
    "output"
   ]
  }
 ],
 "metadata": {
  "kernelspec": {
   "display_name": "base",
   "language": "python",
   "name": "python3"
  },
  "language_info": {
   "codemirror_mode": {
    "name": "ipython",
    "version": 3
   },
   "file_extension": ".py",
   "mimetype": "text/x-python",
   "name": "python",
   "nbconvert_exporter": "python",
   "pygments_lexer": "ipython3",
   "version": "3.10.8"
  },
  "vscode": {
   "interpreter": {
    "hash": "93aa337d3be5595eae1049f286a1f242db5cd4d40fd613efbe29fb4c796799bf"
   }
  }
 },
 "nbformat": 4,
 "nbformat_minor": 5
}
