{
 "cells": [
  {
   "cell_type": "code",
   "execution_count": null,
   "metadata": {},
   "outputs": [],
   "source": [
    "import Galaxia"
   ]
  },
  {
   "cell_type": "code",
   "execution_count": null,
   "metadata": {},
   "outputs": [],
   "source": [
    "iso = Galaxia.photometry.available_photo_systems['padova/WFIRST-HST']"
   ]
  },
  {
   "cell_type": "code",
   "execution_count": null,
   "metadata": {},
   "outputs": [],
   "source": [
    "isochrone_data = {i_file.metallicity: i_file.data.to_pandas()[\n",
    "    ['log(age/yr)', 'M_ini', 'M_act', 'logL/Lo', 'logTe', 'logG', 'Z087', 'Y106', 'J129', 'H158', 'F184', 'W149', 'F475W', 'F555W', 'F606W', 'F814W', 'F110W', 'F160W']\n",
    "    ].rename(columns=dict(zip(['log(age/yr)', 'M_ini', 'M_act', 'logL/Lo', 'logTe', 'logG'],['Age','M_ini', 'M_act', 'Lum', 'T_eff', 'Grav'])))\n",
    "    for i_file in iso.isochrone_files}"
   ]
  },
  {
   "cell_type": "code",
   "execution_count": null,
   "metadata": {},
   "outputs": [],
   "source": [
    "Galaxia.photometry.available_photo_systems.add_isochrone('Test', isochrone_data)"
   ]
  },
  {
   "cell_type": "code",
   "execution_count": null,
   "metadata": {},
   "outputs": [],
   "source": [
    "new_iso = Galaxia.photometry.available_photo_systems['py_custom/Test']"
   ]
  },
  {
   "cell_type": "code",
   "execution_count": null,
   "metadata": {},
   "outputs": [],
   "source": []
  }
 ],
 "metadata": {
  "kernelspec": {
   "display_name": "Python 3.7.14 64-bit",
   "language": "python",
   "name": "python3"
  },
  "language_info": {
   "codemirror_mode": {
    "name": "ipython",
    "version": 3
   },
   "file_extension": ".py",
   "mimetype": "text/x-python",
   "name": "python",
   "nbconvert_exporter": "python",
   "pygments_lexer": "ipython3",
   "version": "3.7.14 (default, Sep  8 2022, 00:06:29) \n[GCC 9.4.0]"
  },
  "orig_nbformat": 4,
  "vscode": {
   "interpreter": {
    "hash": "767d51c1340bd893661ea55ea3124f6de3c7a262a8b4abca0554b478b1e2ff90"
   }
  }
 },
 "nbformat": 4,
 "nbformat_minor": 2
}
